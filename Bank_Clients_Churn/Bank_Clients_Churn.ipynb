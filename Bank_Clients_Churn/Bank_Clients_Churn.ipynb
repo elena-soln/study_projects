{
 "cells": [
  {
   "cell_type": "markdown",
   "metadata": {
    "toc": true
   },
   "source": [
    "<h1>Содержание<span class=\"tocSkip\"></span></h1>\n",
    "<div class=\"toc\"><ul class=\"toc-item\"><li><span><a href=\"#Отток-клиентов\" data-toc-modified-id=\"Отток-клиентов-1\"><span class=\"toc-item-num\">1&nbsp;&nbsp;</span>Отток клиентов</a></span></li><li><span><a href=\"#Подготовка-данных\" data-toc-modified-id=\"Подготовка-данных-2\"><span class=\"toc-item-num\">2&nbsp;&nbsp;</span>Подготовка данных</a></span><ul class=\"toc-item\"><li><span><a href=\"#Изучение-данных-из-файла\" data-toc-modified-id=\"Изучение-данных-из-файла-2.1\"><span class=\"toc-item-num\">2.1&nbsp;&nbsp;</span>Изучение данных из файла</a></span></li><li><span><a href=\"#Предобработка-данных\" data-toc-modified-id=\"Предобработка-данных-2.2\"><span class=\"toc-item-num\">2.2&nbsp;&nbsp;</span>Предобработка данных</a></span><ul class=\"toc-item\"><li><span><a href=\"#Замена-типа-данных\" data-toc-modified-id=\"Замена-типа-данных-2.2.1\"><span class=\"toc-item-num\">2.2.1&nbsp;&nbsp;</span>Замена типа данных</a></span></li><li><span><a href=\"#Заполнение-пропусков\" data-toc-modified-id=\"Заполнение-пропусков-2.2.2\"><span class=\"toc-item-num\">2.2.2&nbsp;&nbsp;</span>Заполнение пропусков</a></span></li><li><span><a href=\"#Кодирование-данных\" data-toc-modified-id=\"Кодирование-данных-2.2.3\"><span class=\"toc-item-num\">2.2.3&nbsp;&nbsp;</span>Кодирование данных</a></span></li><li><span><a href=\"#Разделение-на-выборки\" data-toc-modified-id=\"Разделение-на-выборки-2.2.4\"><span class=\"toc-item-num\">2.2.4&nbsp;&nbsp;</span>Разделение на выборки</a></span></li><li><span><a href=\"#Масштабирование-значений\" data-toc-modified-id=\"Масштабирование-значений-2.2.5\"><span class=\"toc-item-num\">2.2.5&nbsp;&nbsp;</span>Масштабирование значений</a></span></li></ul></li><li><span><a href=\"#Вывод\" data-toc-modified-id=\"Вывод-2.3\"><span class=\"toc-item-num\">2.3&nbsp;&nbsp;</span>Вывод</a></span></li></ul></li><li><span><a href=\"#Исследование-задачи\" data-toc-modified-id=\"Исследование-задачи-3\"><span class=\"toc-item-num\">3&nbsp;&nbsp;</span>Исследование задачи</a></span><ul class=\"toc-item\"><li><span><a href=\"#Дерево-решений\" data-toc-modified-id=\"Дерево-решений-3.1\"><span class=\"toc-item-num\">3.1&nbsp;&nbsp;</span>Дерево решений</a></span></li><li><span><a href=\"#Случайный-лес\" data-toc-modified-id=\"Случайный-лес-3.2\"><span class=\"toc-item-num\">3.2&nbsp;&nbsp;</span>Случайный лес</a></span></li><li><span><a href=\"#Логистическая-регрессия\" data-toc-modified-id=\"Логистическая-регрессия-3.3\"><span class=\"toc-item-num\">3.3&nbsp;&nbsp;</span>Логистическая регрессия</a></span></li><li><span><a href=\"#Вывод\" data-toc-modified-id=\"Вывод-3.4\"><span class=\"toc-item-num\">3.4&nbsp;&nbsp;</span>Вывод</a></span></li></ul></li><li><span><a href=\"#Борьба-с-дисбалансом\" data-toc-modified-id=\"Борьба-с-дисбалансом-4\"><span class=\"toc-item-num\">4&nbsp;&nbsp;</span>Борьба с дисбалансом</a></span><ul class=\"toc-item\"><li><span><a href=\"#Взвешивание-классов\" data-toc-modified-id=\"Взвешивание-классов-4.1\"><span class=\"toc-item-num\">4.1&nbsp;&nbsp;</span>Взвешивание классов</a></span><ul class=\"toc-item\"><li><span><a href=\"#Дерево-решений-со-взвешенными-классами\" data-toc-modified-id=\"Дерево-решений-со-взвешенными-классами-4.1.1\"><span class=\"toc-item-num\">4.1.1&nbsp;&nbsp;</span>Дерево решений со взвешенными классами</a></span></li><li><span><a href=\"#Случайный-лес-со-взвешенными-классами\" data-toc-modified-id=\"Случайный-лес-со-взвешенными-классами-4.1.2\"><span class=\"toc-item-num\">4.1.2&nbsp;&nbsp;</span>Случайный лес со взвешенными классами</a></span></li><li><span><a href=\"#Логистическая-регрессия-со-взвешенными-классами\" data-toc-modified-id=\"Логистическая-регрессия-со-взвешенными-классами-4.1.3\"><span class=\"toc-item-num\">4.1.3&nbsp;&nbsp;</span>Логистическая регрессия со взвешенными классами</a></span></li></ul></li><li><span><a href=\"#Увеличение-выборки\" data-toc-modified-id=\"Увеличение-выборки-4.2\"><span class=\"toc-item-num\">4.2&nbsp;&nbsp;</span>Увеличение выборки</a></span><ul class=\"toc-item\"><li><span><a href=\"#Дерево-решений-на-увеличенной-выборке\" data-toc-modified-id=\"Дерево-решений-на-увеличенной-выборке-4.2.1\"><span class=\"toc-item-num\">4.2.1&nbsp;&nbsp;</span>Дерево решений на увеличенной выборке</a></span></li><li><span><a href=\"#Случайный-лес-на-увеличенной-выборке\" data-toc-modified-id=\"Случайный-лес-на-увеличенной-выборке-4.2.2\"><span class=\"toc-item-num\">4.2.2&nbsp;&nbsp;</span>Случайный лес на увеличенной выборке</a></span></li><li><span><a href=\"#Логистическая-регрессия-на-увеличенной-выборке\" data-toc-modified-id=\"Логистическая-регрессия-на-увеличенной-выборке-4.2.3\"><span class=\"toc-item-num\">4.2.3&nbsp;&nbsp;</span>Логистическая регрессия на увеличенной выборке</a></span></li></ul></li><li><span><a href=\"#Уменьшение-выборки\" data-toc-modified-id=\"Уменьшение-выборки-4.3\"><span class=\"toc-item-num\">4.3&nbsp;&nbsp;</span>Уменьшение выборки</a></span><ul class=\"toc-item\"><li><span><a href=\"#Дерево-решений-на-уменьшенной-выборке\" data-toc-modified-id=\"Дерево-решений-на-уменьшенной-выборке-4.3.1\"><span class=\"toc-item-num\">4.3.1&nbsp;&nbsp;</span>Дерево решений на уменьшенной выборке</a></span></li><li><span><a href=\"#Случайный-лес-на-уменьшенной-выборке\" data-toc-modified-id=\"Случайный-лес-на-уменьшенной-выборке-4.3.2\"><span class=\"toc-item-num\">4.3.2&nbsp;&nbsp;</span>Случайный лес на уменьшенной выборке</a></span></li><li><span><a href=\"#Логистическая-регрессия-на-уменьшенной-выборке\" data-toc-modified-id=\"Логистическая-регрессия-на-уменьшенной-выборке-4.3.3\"><span class=\"toc-item-num\">4.3.3&nbsp;&nbsp;</span>Логистическая регрессия на уменьшенной выборке</a></span></li></ul></li><li><span><a href=\"#Вывод\" data-toc-modified-id=\"Вывод-4.4\"><span class=\"toc-item-num\">4.4&nbsp;&nbsp;</span>Вывод</a></span></li></ul></li><li><span><a href=\"#Подбор-гиперпараметров\" data-toc-modified-id=\"Подбор-гиперпараметров-5\"><span class=\"toc-item-num\">5&nbsp;&nbsp;</span>Подбор гиперпараметров</a></span><ul class=\"toc-item\"><li><span><a href=\"#Вывод\" data-toc-modified-id=\"Вывод-5.1\"><span class=\"toc-item-num\">5.1&nbsp;&nbsp;</span>Вывод</a></span></li></ul></li><li><span><a href=\"#Тестирование-модели\" data-toc-modified-id=\"Тестирование-модели-6\"><span class=\"toc-item-num\">6&nbsp;&nbsp;</span>Тестирование модели</a></span><ul class=\"toc-item\"><li><span><a href=\"#Вывод\" data-toc-modified-id=\"Вывод-6.1\"><span class=\"toc-item-num\">6.1&nbsp;&nbsp;</span>Вывод</a></span></li></ul></li><li><span><a href=\"#Общий-вывод\" data-toc-modified-id=\"Общий-вывод-7\"><span class=\"toc-item-num\">7&nbsp;&nbsp;</span>Общий вывод</a></span></li></ul></div>"
   ]
  },
  {
   "cell_type": "markdown",
   "metadata": {},
   "source": [
    "# Отток клиентов"
   ]
  },
  {
   "cell_type": "markdown",
   "metadata": {},
   "source": [
    "Из банка стали уходить клиенты. Нужно спрогнозировать, уйдёт клиент из банка в ближайшее время или нет.\n",
    "\n",
    "Нам предоставлены исторические данные о поведении клиентов и расторжении договоров с банком, содержащие информацию о кредитном рейтинге, стране проживания, поле, возрасте, количестве лет в качестве клиента банка, балансе на счёте, количестве продуктов банка, используемых клиентом, наличии кредитной карты, активности клиента, предполагаемой зарплате.\n",
    "\n",
    "\n",
    "Данные содержат следующие столбцы:\n",
    "* RowNumber — индекс строки в данных\n",
    "* CustomerId — уникальный идентификатор клиента\n",
    "* Surname — фамилия\n",
    "* CreditScore — кредитный рейтинг\n",
    "* Geography — страна проживания\n",
    "* Gender — пол\n",
    "* Age — возраст\n",
    "* Tenure — сколько лет человек является клиентом банка\n",
    "* Balance — баланс на счёте\n",
    "* NumOfProducts — количество продуктов банка, используемых клиентом\n",
    "* HasCrCard — наличие кредитной карты\n",
    "* IsActiveMember — активность клиента\n",
    "* EstimatedSalary — предполагаемая зарплата\n",
    "\n",
    "Построим модель с предельно большим значением *F1*-меры, которая будет прогнозировать уход клиента из банка.\n",
    "\n",
    "Дополнительно измерим *AUC-ROC*, и сравним её значение с *F1*-мерой.\n",
    "\n",
    "Источник данных: [https://www.kaggle.com/barelydedicated/bank-customer-churn-modeling](https://www.kaggle.com/barelydedicated/bank-customer-churn-modeling)"
   ]
  },
  {
   "cell_type": "markdown",
   "metadata": {},
   "source": [
    "# Подготовка данных"
   ]
  },
  {
   "cell_type": "markdown",
   "metadata": {},
   "source": [
    "## Изучение данных из файла"
   ]
  },
  {
   "cell_type": "code",
   "execution_count": 1,
   "metadata": {},
   "outputs": [],
   "source": [
    "import pandas as pd\n",
    "import numpy as np\n",
    "import seaborn as sns\n",
    "import matplotlib.pyplot as plt\n",
    "\n",
    "from sklearn.model_selection import train_test_split\n",
    "from sklearn.preprocessing import StandardScaler\n",
    "\n",
    "from sklearn.tree import DecisionTreeClassifier\n",
    "from sklearn.ensemble import RandomForestClassifier \n",
    "from sklearn.linear_model import LogisticRegression\n",
    "from sklearn.dummy import DummyClassifier\n",
    "from sklearn.model_selection import GridSearchCV\n",
    "\n",
    "from sklearn.metrics import accuracy_score\n",
    "from sklearn.metrics import confusion_matrix\n",
    "from sklearn.metrics import recall_score\n",
    "from sklearn.metrics import precision_score\n",
    "from sklearn.metrics import f1_score\n",
    "from sklearn.metrics import precision_recall_curve\n",
    "from sklearn.metrics import roc_curve\n",
    "from sklearn.metrics import roc_auc_score\n",
    "from sklearn.utils import shuffle\n",
    "\n",
    "import warnings\n",
    "warnings.filterwarnings(\"ignore\")"
   ]
  },
  {
   "cell_type": "code",
   "execution_count": 2,
   "metadata": {},
   "outputs": [],
   "source": [
    "try:\n",
    "    df = pd.read_csv('/datasets/Churn.csv')\n",
    "except:\n",
    "    df = pd.read_csv('Churn.csv')"
   ]
  },
  {
   "cell_type": "code",
   "execution_count": 3,
   "metadata": {},
   "outputs": [],
   "source": [
    "# фиксируем random_state\n",
    "r_state = 10"
   ]
  },
  {
   "cell_type": "code",
   "execution_count": 4,
   "metadata": {},
   "outputs": [
    {
     "name": "stdout",
     "output_type": "stream",
     "text": [
      "<class 'pandas.core.frame.DataFrame'>\n",
      "RangeIndex: 10000 entries, 0 to 9999\n",
      "Data columns (total 14 columns):\n",
      " #   Column           Non-Null Count  Dtype  \n",
      "---  ------           --------------  -----  \n",
      " 0   RowNumber        10000 non-null  int64  \n",
      " 1   CustomerId       10000 non-null  int64  \n",
      " 2   Surname          10000 non-null  object \n",
      " 3   CreditScore      10000 non-null  int64  \n",
      " 4   Geography        10000 non-null  object \n",
      " 5   Gender           10000 non-null  object \n",
      " 6   Age              10000 non-null  int64  \n",
      " 7   Tenure           9091 non-null   float64\n",
      " 8   Balance          10000 non-null  float64\n",
      " 9   NumOfProducts    10000 non-null  int64  \n",
      " 10  HasCrCard        10000 non-null  int64  \n",
      " 11  IsActiveMember   10000 non-null  int64  \n",
      " 12  EstimatedSalary  10000 non-null  float64\n",
      " 13  Exited           10000 non-null  int64  \n",
      "dtypes: float64(3), int64(8), object(3)\n",
      "memory usage: 1.1+ MB\n"
     ]
    }
   ],
   "source": [
    "df.info()"
   ]
  },
  {
   "cell_type": "code",
   "execution_count": 5,
   "metadata": {},
   "outputs": [
    {
     "data": {
      "text/html": [
       "<div>\n",
       "<style scoped>\n",
       "    .dataframe tbody tr th:only-of-type {\n",
       "        vertical-align: middle;\n",
       "    }\n",
       "\n",
       "    .dataframe tbody tr th {\n",
       "        vertical-align: top;\n",
       "    }\n",
       "\n",
       "    .dataframe thead th {\n",
       "        text-align: right;\n",
       "    }\n",
       "</style>\n",
       "<table border=\"1\" class=\"dataframe\">\n",
       "  <thead>\n",
       "    <tr style=\"text-align: right;\">\n",
       "      <th></th>\n",
       "      <th>RowNumber</th>\n",
       "      <th>CustomerId</th>\n",
       "      <th>Surname</th>\n",
       "      <th>CreditScore</th>\n",
       "      <th>Geography</th>\n",
       "      <th>Gender</th>\n",
       "      <th>Age</th>\n",
       "      <th>Tenure</th>\n",
       "      <th>Balance</th>\n",
       "      <th>NumOfProducts</th>\n",
       "      <th>HasCrCard</th>\n",
       "      <th>IsActiveMember</th>\n",
       "      <th>EstimatedSalary</th>\n",
       "      <th>Exited</th>\n",
       "    </tr>\n",
       "  </thead>\n",
       "  <tbody>\n",
       "    <tr>\n",
       "      <th>937</th>\n",
       "      <td>938</td>\n",
       "      <td>15662100</td>\n",
       "      <td>Hsu</td>\n",
       "      <td>850</td>\n",
       "      <td>Germany</td>\n",
       "      <td>Female</td>\n",
       "      <td>44</td>\n",
       "      <td>5.0</td>\n",
       "      <td>128605.32</td>\n",
       "      <td>1</td>\n",
       "      <td>0</td>\n",
       "      <td>1</td>\n",
       "      <td>171096.20</td>\n",
       "      <td>0</td>\n",
       "    </tr>\n",
       "    <tr>\n",
       "      <th>9355</th>\n",
       "      <td>9356</td>\n",
       "      <td>15621870</td>\n",
       "      <td>Hawkins</td>\n",
       "      <td>739</td>\n",
       "      <td>Spain</td>\n",
       "      <td>Female</td>\n",
       "      <td>40</td>\n",
       "      <td>8.0</td>\n",
       "      <td>0.00</td>\n",
       "      <td>1</td>\n",
       "      <td>1</td>\n",
       "      <td>0</td>\n",
       "      <td>167030.51</td>\n",
       "      <td>0</td>\n",
       "    </tr>\n",
       "    <tr>\n",
       "      <th>2293</th>\n",
       "      <td>2294</td>\n",
       "      <td>15801265</td>\n",
       "      <td>Tang</td>\n",
       "      <td>689</td>\n",
       "      <td>Spain</td>\n",
       "      <td>Female</td>\n",
       "      <td>45</td>\n",
       "      <td>0.0</td>\n",
       "      <td>57784.22</td>\n",
       "      <td>1</td>\n",
       "      <td>1</td>\n",
       "      <td>0</td>\n",
       "      <td>197804.00</td>\n",
       "      <td>1</td>\n",
       "    </tr>\n",
       "    <tr>\n",
       "      <th>192</th>\n",
       "      <td>193</td>\n",
       "      <td>15756850</td>\n",
       "      <td>Golovanov</td>\n",
       "      <td>479</td>\n",
       "      <td>France</td>\n",
       "      <td>Male</td>\n",
       "      <td>40</td>\n",
       "      <td>1.0</td>\n",
       "      <td>0.00</td>\n",
       "      <td>2</td>\n",
       "      <td>0</td>\n",
       "      <td>0</td>\n",
       "      <td>114996.43</td>\n",
       "      <td>0</td>\n",
       "    </tr>\n",
       "    <tr>\n",
       "      <th>8675</th>\n",
       "      <td>8676</td>\n",
       "      <td>15639265</td>\n",
       "      <td>Isaacs</td>\n",
       "      <td>714</td>\n",
       "      <td>France</td>\n",
       "      <td>Male</td>\n",
       "      <td>54</td>\n",
       "      <td>7.0</td>\n",
       "      <td>126113.28</td>\n",
       "      <td>1</td>\n",
       "      <td>1</td>\n",
       "      <td>0</td>\n",
       "      <td>112777.38</td>\n",
       "      <td>0</td>\n",
       "    </tr>\n",
       "  </tbody>\n",
       "</table>\n",
       "</div>"
      ],
      "text/plain": [
       "      RowNumber  CustomerId    Surname  CreditScore Geography  Gender  Age  \\\n",
       "937         938    15662100        Hsu          850   Germany  Female   44   \n",
       "9355       9356    15621870    Hawkins          739     Spain  Female   40   \n",
       "2293       2294    15801265       Tang          689     Spain  Female   45   \n",
       "192         193    15756850  Golovanov          479    France    Male   40   \n",
       "8675       8676    15639265     Isaacs          714    France    Male   54   \n",
       "\n",
       "      Tenure    Balance  NumOfProducts  HasCrCard  IsActiveMember  \\\n",
       "937      5.0  128605.32              1          0               1   \n",
       "9355     8.0       0.00              1          1               0   \n",
       "2293     0.0   57784.22              1          1               0   \n",
       "192      1.0       0.00              2          0               0   \n",
       "8675     7.0  126113.28              1          1               0   \n",
       "\n",
       "      EstimatedSalary  Exited  \n",
       "937         171096.20       0  \n",
       "9355        167030.51       0  \n",
       "2293        197804.00       1  \n",
       "192         114996.43       0  \n",
       "8675        112777.38       0  "
      ]
     },
     "execution_count": 5,
     "metadata": {},
     "output_type": "execute_result"
    }
   ],
   "source": [
    "df.sample(5, random_state=r_state)"
   ]
  },
  {
   "cell_type": "code",
   "execution_count": 6,
   "metadata": {},
   "outputs": [
    {
     "data": {
      "text/html": [
       "<div>\n",
       "<style scoped>\n",
       "    .dataframe tbody tr th:only-of-type {\n",
       "        vertical-align: middle;\n",
       "    }\n",
       "\n",
       "    .dataframe tbody tr th {\n",
       "        vertical-align: top;\n",
       "    }\n",
       "\n",
       "    .dataframe thead th {\n",
       "        text-align: right;\n",
       "    }\n",
       "</style>\n",
       "<table border=\"1\" class=\"dataframe\">\n",
       "  <thead>\n",
       "    <tr style=\"text-align: right;\">\n",
       "      <th></th>\n",
       "      <th>count</th>\n",
       "      <th>mean</th>\n",
       "      <th>std</th>\n",
       "      <th>min</th>\n",
       "      <th>25%</th>\n",
       "      <th>50%</th>\n",
       "      <th>75%</th>\n",
       "      <th>max</th>\n",
       "    </tr>\n",
       "  </thead>\n",
       "  <tbody>\n",
       "    <tr>\n",
       "      <th>RowNumber</th>\n",
       "      <td>10000.0</td>\n",
       "      <td>5.000500e+03</td>\n",
       "      <td>2886.895680</td>\n",
       "      <td>1.00</td>\n",
       "      <td>2500.75</td>\n",
       "      <td>5.000500e+03</td>\n",
       "      <td>7.500250e+03</td>\n",
       "      <td>10000.00</td>\n",
       "    </tr>\n",
       "    <tr>\n",
       "      <th>CustomerId</th>\n",
       "      <td>10000.0</td>\n",
       "      <td>1.569094e+07</td>\n",
       "      <td>71936.186123</td>\n",
       "      <td>15565701.00</td>\n",
       "      <td>15628528.25</td>\n",
       "      <td>1.569074e+07</td>\n",
       "      <td>1.575323e+07</td>\n",
       "      <td>15815690.00</td>\n",
       "    </tr>\n",
       "    <tr>\n",
       "      <th>CreditScore</th>\n",
       "      <td>10000.0</td>\n",
       "      <td>6.505288e+02</td>\n",
       "      <td>96.653299</td>\n",
       "      <td>350.00</td>\n",
       "      <td>584.00</td>\n",
       "      <td>6.520000e+02</td>\n",
       "      <td>7.180000e+02</td>\n",
       "      <td>850.00</td>\n",
       "    </tr>\n",
       "    <tr>\n",
       "      <th>Age</th>\n",
       "      <td>10000.0</td>\n",
       "      <td>3.892180e+01</td>\n",
       "      <td>10.487806</td>\n",
       "      <td>18.00</td>\n",
       "      <td>32.00</td>\n",
       "      <td>3.700000e+01</td>\n",
       "      <td>4.400000e+01</td>\n",
       "      <td>92.00</td>\n",
       "    </tr>\n",
       "    <tr>\n",
       "      <th>Tenure</th>\n",
       "      <td>9091.0</td>\n",
       "      <td>4.997690e+00</td>\n",
       "      <td>2.894723</td>\n",
       "      <td>0.00</td>\n",
       "      <td>2.00</td>\n",
       "      <td>5.000000e+00</td>\n",
       "      <td>7.000000e+00</td>\n",
       "      <td>10.00</td>\n",
       "    </tr>\n",
       "    <tr>\n",
       "      <th>Balance</th>\n",
       "      <td>10000.0</td>\n",
       "      <td>7.648589e+04</td>\n",
       "      <td>62397.405202</td>\n",
       "      <td>0.00</td>\n",
       "      <td>0.00</td>\n",
       "      <td>9.719854e+04</td>\n",
       "      <td>1.276442e+05</td>\n",
       "      <td>250898.09</td>\n",
       "    </tr>\n",
       "    <tr>\n",
       "      <th>NumOfProducts</th>\n",
       "      <td>10000.0</td>\n",
       "      <td>1.530200e+00</td>\n",
       "      <td>0.581654</td>\n",
       "      <td>1.00</td>\n",
       "      <td>1.00</td>\n",
       "      <td>1.000000e+00</td>\n",
       "      <td>2.000000e+00</td>\n",
       "      <td>4.00</td>\n",
       "    </tr>\n",
       "    <tr>\n",
       "      <th>HasCrCard</th>\n",
       "      <td>10000.0</td>\n",
       "      <td>7.055000e-01</td>\n",
       "      <td>0.455840</td>\n",
       "      <td>0.00</td>\n",
       "      <td>0.00</td>\n",
       "      <td>1.000000e+00</td>\n",
       "      <td>1.000000e+00</td>\n",
       "      <td>1.00</td>\n",
       "    </tr>\n",
       "    <tr>\n",
       "      <th>IsActiveMember</th>\n",
       "      <td>10000.0</td>\n",
       "      <td>5.151000e-01</td>\n",
       "      <td>0.499797</td>\n",
       "      <td>0.00</td>\n",
       "      <td>0.00</td>\n",
       "      <td>1.000000e+00</td>\n",
       "      <td>1.000000e+00</td>\n",
       "      <td>1.00</td>\n",
       "    </tr>\n",
       "    <tr>\n",
       "      <th>EstimatedSalary</th>\n",
       "      <td>10000.0</td>\n",
       "      <td>1.000902e+05</td>\n",
       "      <td>57510.492818</td>\n",
       "      <td>11.58</td>\n",
       "      <td>51002.11</td>\n",
       "      <td>1.001939e+05</td>\n",
       "      <td>1.493882e+05</td>\n",
       "      <td>199992.48</td>\n",
       "    </tr>\n",
       "    <tr>\n",
       "      <th>Exited</th>\n",
       "      <td>10000.0</td>\n",
       "      <td>2.037000e-01</td>\n",
       "      <td>0.402769</td>\n",
       "      <td>0.00</td>\n",
       "      <td>0.00</td>\n",
       "      <td>0.000000e+00</td>\n",
       "      <td>0.000000e+00</td>\n",
       "      <td>1.00</td>\n",
       "    </tr>\n",
       "  </tbody>\n",
       "</table>\n",
       "</div>"
      ],
      "text/plain": [
       "                   count          mean           std          min  \\\n",
       "RowNumber        10000.0  5.000500e+03   2886.895680         1.00   \n",
       "CustomerId       10000.0  1.569094e+07  71936.186123  15565701.00   \n",
       "CreditScore      10000.0  6.505288e+02     96.653299       350.00   \n",
       "Age              10000.0  3.892180e+01     10.487806        18.00   \n",
       "Tenure            9091.0  4.997690e+00      2.894723         0.00   \n",
       "Balance          10000.0  7.648589e+04  62397.405202         0.00   \n",
       "NumOfProducts    10000.0  1.530200e+00      0.581654         1.00   \n",
       "HasCrCard        10000.0  7.055000e-01      0.455840         0.00   \n",
       "IsActiveMember   10000.0  5.151000e-01      0.499797         0.00   \n",
       "EstimatedSalary  10000.0  1.000902e+05  57510.492818        11.58   \n",
       "Exited           10000.0  2.037000e-01      0.402769         0.00   \n",
       "\n",
       "                         25%           50%           75%          max  \n",
       "RowNumber            2500.75  5.000500e+03  7.500250e+03     10000.00  \n",
       "CustomerId       15628528.25  1.569074e+07  1.575323e+07  15815690.00  \n",
       "CreditScore           584.00  6.520000e+02  7.180000e+02       850.00  \n",
       "Age                    32.00  3.700000e+01  4.400000e+01        92.00  \n",
       "Tenure                  2.00  5.000000e+00  7.000000e+00        10.00  \n",
       "Balance                 0.00  9.719854e+04  1.276442e+05    250898.09  \n",
       "NumOfProducts           1.00  1.000000e+00  2.000000e+00         4.00  \n",
       "HasCrCard               0.00  1.000000e+00  1.000000e+00         1.00  \n",
       "IsActiveMember          0.00  1.000000e+00  1.000000e+00         1.00  \n",
       "EstimatedSalary     51002.11  1.001939e+05  1.493882e+05    199992.48  \n",
       "Exited                  0.00  0.000000e+00  0.000000e+00         1.00  "
      ]
     },
     "execution_count": 6,
     "metadata": {},
     "output_type": "execute_result"
    }
   ],
   "source": [
    "df.describe().T"
   ]
  },
  {
   "cell_type": "code",
   "execution_count": 7,
   "metadata": {
    "scrolled": true
   },
   "outputs": [
    {
     "data": {
      "text/plain": [
       "RowNumber          0.00\n",
       "CustomerId         0.00\n",
       "Surname            0.00\n",
       "CreditScore        0.00\n",
       "Geography          0.00\n",
       "Gender             0.00\n",
       "Age                0.00\n",
       "Tenure             9.09\n",
       "Balance            0.00\n",
       "NumOfProducts      0.00\n",
       "HasCrCard          0.00\n",
       "IsActiveMember     0.00\n",
       "EstimatedSalary    0.00\n",
       "Exited             0.00\n",
       "dtype: float64"
      ]
     },
     "execution_count": 7,
     "metadata": {},
     "output_type": "execute_result"
    }
   ],
   "source": [
    "df.isna().sum()\n",
    "df.isnull().mean()*100"
   ]
  },
  {
   "cell_type": "markdown",
   "metadata": {},
   "source": [
    "Проверим наличие полных дубликатов."
   ]
  },
  {
   "cell_type": "code",
   "execution_count": 8,
   "metadata": {},
   "outputs": [
    {
     "data": {
      "text/plain": [
       "0"
      ]
     },
     "execution_count": 8,
     "metadata": {},
     "output_type": "execute_result"
    }
   ],
   "source": [
    "df.duplicated().sum()"
   ]
  },
  {
   "cell_type": "markdown",
   "metadata": {},
   "source": [
    "## Предобработка данных"
   ]
  },
  {
   "cell_type": "markdown",
   "metadata": {},
   "source": [
    "Переименуем стобцы с нижним подчеркиванием и приведём названия всех столбцов к нижнему регистру."
   ]
  },
  {
   "cell_type": "code",
   "execution_count": 9,
   "metadata": {
    "scrolled": true
   },
   "outputs": [
    {
     "data": {
      "text/plain": [
       "Index(['RowNumber', 'CustomerId', 'Surname', 'CreditScore', 'Geography',\n",
       "       'Gender', 'Age', 'Tenure', 'Balance', 'NumOfProducts', 'HasCrCard',\n",
       "       'IsActiveMember', 'EstimatedSalary', 'Exited'],\n",
       "      dtype='object')"
      ]
     },
     "execution_count": 9,
     "metadata": {},
     "output_type": "execute_result"
    }
   ],
   "source": [
    "df.columns"
   ]
  },
  {
   "cell_type": "code",
   "execution_count": 10,
   "metadata": {},
   "outputs": [
    {
     "data": {
      "text/html": [
       "<div>\n",
       "<style scoped>\n",
       "    .dataframe tbody tr th:only-of-type {\n",
       "        vertical-align: middle;\n",
       "    }\n",
       "\n",
       "    .dataframe tbody tr th {\n",
       "        vertical-align: top;\n",
       "    }\n",
       "\n",
       "    .dataframe thead th {\n",
       "        text-align: right;\n",
       "    }\n",
       "</style>\n",
       "<table border=\"1\" class=\"dataframe\">\n",
       "  <thead>\n",
       "    <tr style=\"text-align: right;\">\n",
       "      <th></th>\n",
       "      <th>row_number</th>\n",
       "      <th>customer_id</th>\n",
       "      <th>surname</th>\n",
       "      <th>credit_score</th>\n",
       "      <th>geography</th>\n",
       "      <th>gender</th>\n",
       "      <th>age</th>\n",
       "      <th>tenure</th>\n",
       "      <th>balance</th>\n",
       "      <th>num_of_products</th>\n",
       "      <th>has_cr_card</th>\n",
       "      <th>is_active_member</th>\n",
       "      <th>estimated_salary</th>\n",
       "      <th>exited</th>\n",
       "    </tr>\n",
       "  </thead>\n",
       "  <tbody>\n",
       "    <tr>\n",
       "      <th>0</th>\n",
       "      <td>1</td>\n",
       "      <td>15634602</td>\n",
       "      <td>Hargrave</td>\n",
       "      <td>619</td>\n",
       "      <td>France</td>\n",
       "      <td>Female</td>\n",
       "      <td>42</td>\n",
       "      <td>2.0</td>\n",
       "      <td>0.00</td>\n",
       "      <td>1</td>\n",
       "      <td>1</td>\n",
       "      <td>1</td>\n",
       "      <td>101348.88</td>\n",
       "      <td>1</td>\n",
       "    </tr>\n",
       "    <tr>\n",
       "      <th>1</th>\n",
       "      <td>2</td>\n",
       "      <td>15647311</td>\n",
       "      <td>Hill</td>\n",
       "      <td>608</td>\n",
       "      <td>Spain</td>\n",
       "      <td>Female</td>\n",
       "      <td>41</td>\n",
       "      <td>1.0</td>\n",
       "      <td>83807.86</td>\n",
       "      <td>1</td>\n",
       "      <td>0</td>\n",
       "      <td>1</td>\n",
       "      <td>112542.58</td>\n",
       "      <td>0</td>\n",
       "    </tr>\n",
       "    <tr>\n",
       "      <th>2</th>\n",
       "      <td>3</td>\n",
       "      <td>15619304</td>\n",
       "      <td>Onio</td>\n",
       "      <td>502</td>\n",
       "      <td>France</td>\n",
       "      <td>Female</td>\n",
       "      <td>42</td>\n",
       "      <td>8.0</td>\n",
       "      <td>159660.80</td>\n",
       "      <td>3</td>\n",
       "      <td>1</td>\n",
       "      <td>0</td>\n",
       "      <td>113931.57</td>\n",
       "      <td>1</td>\n",
       "    </tr>\n",
       "    <tr>\n",
       "      <th>3</th>\n",
       "      <td>4</td>\n",
       "      <td>15701354</td>\n",
       "      <td>Boni</td>\n",
       "      <td>699</td>\n",
       "      <td>France</td>\n",
       "      <td>Female</td>\n",
       "      <td>39</td>\n",
       "      <td>1.0</td>\n",
       "      <td>0.00</td>\n",
       "      <td>2</td>\n",
       "      <td>0</td>\n",
       "      <td>0</td>\n",
       "      <td>93826.63</td>\n",
       "      <td>0</td>\n",
       "    </tr>\n",
       "    <tr>\n",
       "      <th>4</th>\n",
       "      <td>5</td>\n",
       "      <td>15737888</td>\n",
       "      <td>Mitchell</td>\n",
       "      <td>850</td>\n",
       "      <td>Spain</td>\n",
       "      <td>Female</td>\n",
       "      <td>43</td>\n",
       "      <td>2.0</td>\n",
       "      <td>125510.82</td>\n",
       "      <td>1</td>\n",
       "      <td>1</td>\n",
       "      <td>1</td>\n",
       "      <td>79084.10</td>\n",
       "      <td>0</td>\n",
       "    </tr>\n",
       "  </tbody>\n",
       "</table>\n",
       "</div>"
      ],
      "text/plain": [
       "   row_number  customer_id   surname  credit_score geography  gender  age  \\\n",
       "0           1     15634602  Hargrave           619    France  Female   42   \n",
       "1           2     15647311      Hill           608     Spain  Female   41   \n",
       "2           3     15619304      Onio           502    France  Female   42   \n",
       "3           4     15701354      Boni           699    France  Female   39   \n",
       "4           5     15737888  Mitchell           850     Spain  Female   43   \n",
       "\n",
       "   tenure    balance  num_of_products  has_cr_card  is_active_member  \\\n",
       "0     2.0       0.00                1            1                 1   \n",
       "1     1.0   83807.86                1            0                 1   \n",
       "2     8.0  159660.80                3            1                 0   \n",
       "3     1.0       0.00                2            0                 0   \n",
       "4     2.0  125510.82                1            1                 1   \n",
       "\n",
       "   estimated_salary  exited  \n",
       "0         101348.88       1  \n",
       "1         112542.58       0  \n",
       "2         113931.57       1  \n",
       "3          93826.63       0  \n",
       "4          79084.10       0  "
      ]
     },
     "execution_count": 10,
     "metadata": {},
     "output_type": "execute_result"
    }
   ],
   "source": [
    "new_names = ['Row_Number', 'Customer_Id', 'Surname', 'Credit_Score', 'Geography',\n",
    "       'Gender', 'Age', 'Tenure', 'Balance', 'Num_Of_Products', 'Has_Cr_Card',\n",
    "       'Is_Active_Member', 'Estimated_Salary', 'Exited']\n",
    "df.set_axis(new_names, axis='columns', inplace=True)\n",
    "df.columns = df.columns.str.lower()\n",
    "df.head()"
   ]
  },
  {
   "cell_type": "markdown",
   "metadata": {},
   "source": [
    "Проверим распределение числовых признаков."
   ]
  },
  {
   "cell_type": "code",
   "execution_count": 71,
   "metadata": {
    "scrolled": false
   },
   "outputs": [
    {
     "data": {
      "image/png": "[encoded data removed]",
      "text/plain": [
       "<Figure size 1440x720 with 4 Axes>"
      ]
     },
     "metadata": {
      "needs_background": "light"
     },
     "output_type": "display_data"
    }
   ],
   "source": [
    "fig, axs = plt.subplots(2, 2)\n",
    "\n",
    "axs[0, 0].boxplot(df['estimated_salary'], autorange=True)\n",
    "axs[0, 0].set_title('estimated_salary')\n",
    "axs[0, 1].boxplot(df['balance'], autorange=True)\n",
    "axs[0, 1].set_title('balance')\n",
    "axs[1, 0].boxplot(df['tenure'], autorange=True) \n",
    "axs[1, 0].set_title('tenure')\n",
    "axs[1, 1].boxplot(df['credit_score'], autorange=True)\n",
    "axs[1, 1].set_title('credit_score')\n",
    "\n",
    "plt.gcf().set_size_inches(20, 10)\n",
    "plt.show()"
   ]
  },
  {
   "cell_type": "markdown",
   "metadata": {},
   "source": [
    "Явные выбросы в данных отсутсвуют, но данные по балансу смещены к нулю. Имеющиеся выбросы около нуля в кредитном рейтинге могут быть интерпретированы как начало банковской кредитной истории клиента."
   ]
  },
  {
   "cell_type": "code",
   "execution_count": 12,
   "metadata": {
    "scrolled": false
   },
   "outputs": [
    {
     "data": {
      "image/png": "[encoded data removed]",
      "text/plain": [
       "<Figure size 720x288 with 1 Axes>"
      ]
     },
     "metadata": {
      "needs_background": "light"
     },
     "output_type": "display_data"
    },
    {
     "data": {
      "image/png": "[encoded data removed]",
      "text/plain": [
       "<Figure size 720x288 with 1 Axes>"
      ]
     },
     "metadata": {
      "needs_background": "light"
     },
     "output_type": "display_data"
    },
    {
     "data": {
      "image/png": "[encoded data removed]",
      "text/plain": [
       "<Figure size 720x288 with 1 Axes>"
      ]
     },
     "metadata": {
      "needs_background": "light"
     },
     "output_type": "display_data"
    },
    {
     "data": {
      "image/png": "[encoded data removed]",
      "text/plain": [
       "<Figure size 720x288 with 1 Axes>"
      ]
     },
     "metadata": {
      "needs_background": "light"
     },
     "output_type": "display_data"
    }
   ],
   "source": [
    "plot_columns = ['estimated_salary', 'balance', 'tenure',  'credit_score']\n",
    "for column in plot_columns:\n",
    "    plt.figure(figsize=(10, 4))\n",
    "    sns.histplot(df[column], kde=False, color='olivedrab')\n",
    "    plt.show()"
   ]
  },
  {
   "cell_type": "markdown",
   "metadata": {},
   "source": [
    "Признаки имеют нормальное распределение, за исключением резкого роста около нуля в признаке с денежным балансом, а также роста в кредитном рейтинге со значением выше 800.\n",
    "\n",
    "Нулевой баланс может свидетельствовать о том, что клиент почти не пользуется данным счетом."
   ]
  },
  {
   "cell_type": "markdown",
   "metadata": {},
   "source": [
    "Проверим аномалии в кредитном рейтинге."
   ]
  },
  {
   "cell_type": "code",
   "execution_count": 13,
   "metadata": {},
   "outputs": [
    {
     "data": {
      "text/plain": [
       "credit_score\n",
       "831      6\n",
       "832      6\n",
       "833      9\n",
       "834     11\n",
       "835     12\n",
       "836      5\n",
       "837      8\n",
       "838      8\n",
       "839      3\n",
       "840      5\n",
       "841     12\n",
       "842      7\n",
       "843      2\n",
       "844      7\n",
       "845      6\n",
       "846      5\n",
       "847      6\n",
       "848      5\n",
       "849      8\n",
       "850    233\n",
       "Name: credit_score, dtype: int64"
      ]
     },
     "execution_count": 13,
     "metadata": {},
     "output_type": "execute_result"
    }
   ],
   "source": [
    "df.loc[df['credit_score'] > 830].groupby('credit_score')['credit_score'].count()"
   ]
  },
  {
   "cell_type": "code",
   "execution_count": null,
   "metadata": {},
   "outputs": [],
   "source": []
  },
  {
   "cell_type": "markdown",
   "metadata": {},
   "source": [
    "Значения кредитного рейтинга заканчиваются на отметке 850, можно предположить, что это максимальный кредитный рейтинг в данном случае, поэтому здесь наблюдается повышение количества клиентов."
   ]
  },
  {
   "cell_type": "markdown",
   "metadata": {},
   "source": [
    "----------------------------------------------------------"
   ]
  },
  {
   "cell_type": "markdown",
   "metadata": {},
   "source": [
    "Проверим коэффициенты корреляции между признаками."
   ]
  },
  {
   "cell_type": "code",
   "execution_count": 14,
   "metadata": {},
   "outputs": [
    {
     "data": {
      "text/plain": [
       "<AxesSubplot:>"
      ]
     },
     "execution_count": 14,
     "metadata": {},
     "output_type": "execute_result"
    },
    {
     "data": {
      "image/png": "[encoded data removed]",
      "text/plain": [
       "<Figure size 720x504 with 2 Axes>"
      ]
     },
     "metadata": {
      "needs_background": "light"
     },
     "output_type": "display_data"
    }
   ],
   "source": [
    "fig, ax = plt.subplots(figsize=(10,7))    \n",
    "sns.heatmap(df.corr(), annot=True, ax=ax)"
   ]
  },
  {
   "cell_type": "markdown",
   "metadata": {},
   "source": [
    "Коэффициенты корреляции довольно низкие, а значит явной прямой зависимости между парами признаков нет."
   ]
  },
  {
   "cell_type": "markdown",
   "metadata": {},
   "source": [
    "Удалим незначимые для обучения модели столбцы, которые содержат индексы строк, идентификационные номера клиента и фамилии."
   ]
  },
  {
   "cell_type": "code",
   "execution_count": 15,
   "metadata": {},
   "outputs": [],
   "source": [
    "df = df.drop(['row_number','customer_id', 'surname'], axis=1)"
   ]
  },
  {
   "cell_type": "markdown",
   "metadata": {},
   "source": [
    "### Замена типа данных"
   ]
  },
  {
   "cell_type": "code",
   "execution_count": 16,
   "metadata": {},
   "outputs": [],
   "source": [
    "df['credit_score'] = df['credit_score'].astype('Int16')\n",
    "df['age'] = df['age'].astype('Int8')\n",
    "df['tenure'] = df['tenure'].astype('Int8')\n",
    "df['balance'] = df['balance'].round().astype('Int64')\n",
    "df['num_of_products'] = df['num_of_products'].astype('Int8')\n",
    "df['is_active_member'] = df['is_active_member'].astype('bool')\n",
    "df['estimated_salary'] = df['estimated_salary'].round().astype('Int32')\n",
    "df['exited'] = df['exited'].astype('bool')"
   ]
  },
  {
   "cell_type": "code",
   "execution_count": 17,
   "metadata": {},
   "outputs": [
    {
     "name": "stdout",
     "output_type": "stream",
     "text": [
      "<class 'pandas.core.frame.DataFrame'>\n",
      "RangeIndex: 10000 entries, 0 to 9999\n",
      "Data columns (total 11 columns):\n",
      " #   Column            Non-Null Count  Dtype \n",
      "---  ------            --------------  ----- \n",
      " 0   credit_score      10000 non-null  Int16 \n",
      " 1   geography         10000 non-null  object\n",
      " 2   gender            10000 non-null  object\n",
      " 3   age               10000 non-null  Int8  \n",
      " 4   tenure            9091 non-null   Int8  \n",
      " 5   balance           10000 non-null  Int64 \n",
      " 6   num_of_products   10000 non-null  Int8  \n",
      " 7   has_cr_card       10000 non-null  int64 \n",
      " 8   is_active_member  10000 non-null  bool  \n",
      " 9   estimated_salary  10000 non-null  Int32 \n",
      " 10  exited            10000 non-null  bool  \n",
      "dtypes: Int16(1), Int32(1), Int64(1), Int8(3), bool(2), int64(1), object(2)\n",
      "memory usage: 478.6+ KB\n"
     ]
    }
   ],
   "source": [
    "df.info()"
   ]
  },
  {
   "cell_type": "markdown",
   "metadata": {},
   "source": [
    "### Заполнение пропусков"
   ]
  },
  {
   "cell_type": "markdown",
   "metadata": {},
   "source": [
    "Заполним пропуски в столбце \"tenure\" (сколько лет является клиентом банка) медианой, т.к. пропуски составляют менее 10% от общего количества, а значит это не сильно исказит результаты."
   ]
  },
  {
   "cell_type": "code",
   "execution_count": 18,
   "metadata": {},
   "outputs": [
    {
     "data": {
      "text/plain": [
       "1     952\n",
       "2     950\n",
       "8     933\n",
       "3     928\n",
       "5     927\n",
       "7     925\n",
       "4     885\n",
       "9     882\n",
       "6     881\n",
       "10    446\n",
       "0     382\n",
       "Name: tenure, dtype: Int64"
      ]
     },
     "execution_count": 18,
     "metadata": {},
     "output_type": "execute_result"
    }
   ],
   "source": [
    "df['tenure'].value_counts()"
   ]
  },
  {
   "cell_type": "code",
   "execution_count": 19,
   "metadata": {},
   "outputs": [
    {
     "data": {
      "text/plain": [
       "0"
      ]
     },
     "execution_count": 19,
     "metadata": {},
     "output_type": "execute_result"
    }
   ],
   "source": [
    "df['tenure'] = df['tenure'].fillna(df['tenure'].median())\n",
    "df['tenure'].isna().sum()"
   ]
  },
  {
   "cell_type": "markdown",
   "metadata": {},
   "source": [
    "### Кодирование данных"
   ]
  },
  {
   "cell_type": "markdown",
   "metadata": {},
   "source": [
    "Кодируем данные с помощью прямого кодирования для работы с логистической регрессией."
   ]
  },
  {
   "cell_type": "code",
   "execution_count": 20,
   "metadata": {
    "scrolled": true
   },
   "outputs": [
    {
     "data": {
      "text/plain": [
       "(10000, 12)"
      ]
     },
     "execution_count": 20,
     "metadata": {},
     "output_type": "execute_result"
    }
   ],
   "source": [
    "df_ohe = pd.get_dummies(df, drop_first=True)\n",
    "df_ohe.shape"
   ]
  },
  {
   "cell_type": "markdown",
   "metadata": {},
   "source": [
    "### Разделение на выборки"
   ]
  },
  {
   "cell_type": "markdown",
   "metadata": {},
   "source": [
    "Выделяем целевой признак в отдельный список."
   ]
  },
  {
   "cell_type": "code",
   "execution_count": 21,
   "metadata": {},
   "outputs": [],
   "source": [
    "features = df_ohe.drop('exited', axis=1)\n",
    "target =df_ohe['exited']"
   ]
  },
  {
   "cell_type": "code",
   "execution_count": 22,
   "metadata": {},
   "outputs": [
    {
     "data": {
      "text/html": [
       "<div>\n",
       "<style scoped>\n",
       "    .dataframe tbody tr th:only-of-type {\n",
       "        vertical-align: middle;\n",
       "    }\n",
       "\n",
       "    .dataframe tbody tr th {\n",
       "        vertical-align: top;\n",
       "    }\n",
       "\n",
       "    .dataframe thead th {\n",
       "        text-align: right;\n",
       "    }\n",
       "</style>\n",
       "<table border=\"1\" class=\"dataframe\">\n",
       "  <thead>\n",
       "    <tr style=\"text-align: right;\">\n",
       "      <th></th>\n",
       "      <th>credit_score</th>\n",
       "      <th>age</th>\n",
       "      <th>tenure</th>\n",
       "      <th>balance</th>\n",
       "      <th>num_of_products</th>\n",
       "      <th>has_cr_card</th>\n",
       "      <th>is_active_member</th>\n",
       "      <th>estimated_salary</th>\n",
       "      <th>exited</th>\n",
       "      <th>geography_Germany</th>\n",
       "      <th>geography_Spain</th>\n",
       "      <th>gender_Male</th>\n",
       "    </tr>\n",
       "  </thead>\n",
       "  <tbody>\n",
       "    <tr>\n",
       "      <th>0</th>\n",
       "      <td>619</td>\n",
       "      <td>42</td>\n",
       "      <td>2</td>\n",
       "      <td>0</td>\n",
       "      <td>1</td>\n",
       "      <td>1</td>\n",
       "      <td>True</td>\n",
       "      <td>101349</td>\n",
       "      <td>True</td>\n",
       "      <td>0</td>\n",
       "      <td>0</td>\n",
       "      <td>0</td>\n",
       "    </tr>\n",
       "    <tr>\n",
       "      <th>1</th>\n",
       "      <td>608</td>\n",
       "      <td>41</td>\n",
       "      <td>1</td>\n",
       "      <td>83808</td>\n",
       "      <td>1</td>\n",
       "      <td>0</td>\n",
       "      <td>True</td>\n",
       "      <td>112543</td>\n",
       "      <td>False</td>\n",
       "      <td>0</td>\n",
       "      <td>1</td>\n",
       "      <td>0</td>\n",
       "    </tr>\n",
       "    <tr>\n",
       "      <th>2</th>\n",
       "      <td>502</td>\n",
       "      <td>42</td>\n",
       "      <td>8</td>\n",
       "      <td>159661</td>\n",
       "      <td>3</td>\n",
       "      <td>1</td>\n",
       "      <td>False</td>\n",
       "      <td>113932</td>\n",
       "      <td>True</td>\n",
       "      <td>0</td>\n",
       "      <td>0</td>\n",
       "      <td>0</td>\n",
       "    </tr>\n",
       "    <tr>\n",
       "      <th>3</th>\n",
       "      <td>699</td>\n",
       "      <td>39</td>\n",
       "      <td>1</td>\n",
       "      <td>0</td>\n",
       "      <td>2</td>\n",
       "      <td>0</td>\n",
       "      <td>False</td>\n",
       "      <td>93827</td>\n",
       "      <td>False</td>\n",
       "      <td>0</td>\n",
       "      <td>0</td>\n",
       "      <td>0</td>\n",
       "    </tr>\n",
       "    <tr>\n",
       "      <th>4</th>\n",
       "      <td>850</td>\n",
       "      <td>43</td>\n",
       "      <td>2</td>\n",
       "      <td>125511</td>\n",
       "      <td>1</td>\n",
       "      <td>1</td>\n",
       "      <td>True</td>\n",
       "      <td>79084</td>\n",
       "      <td>False</td>\n",
       "      <td>0</td>\n",
       "      <td>1</td>\n",
       "      <td>0</td>\n",
       "    </tr>\n",
       "  </tbody>\n",
       "</table>\n",
       "</div>"
      ],
      "text/plain": [
       "   credit_score  age  tenure  balance  num_of_products  has_cr_card  \\\n",
       "0           619   42       2        0                1            1   \n",
       "1           608   41       1    83808                1            0   \n",
       "2           502   42       8   159661                3            1   \n",
       "3           699   39       1        0                2            0   \n",
       "4           850   43       2   125511                1            1   \n",
       "\n",
       "   is_active_member  estimated_salary  exited  geography_Germany  \\\n",
       "0              True            101349    True                  0   \n",
       "1              True            112543   False                  0   \n",
       "2             False            113932    True                  0   \n",
       "3             False             93827   False                  0   \n",
       "4              True             79084   False                  0   \n",
       "\n",
       "   geography_Spain  gender_Male  \n",
       "0                0            0  \n",
       "1                1            0  \n",
       "2                0            0  \n",
       "3                0            0  \n",
       "4                1            0  "
      ]
     },
     "execution_count": 22,
     "metadata": {},
     "output_type": "execute_result"
    }
   ],
   "source": [
    "df_ohe.head()"
   ]
  },
  {
   "cell_type": "markdown",
   "metadata": {},
   "source": [
    "Разделим данные на три выборки."
   ]
  },
  {
   "cell_type": "code",
   "execution_count": 23,
   "metadata": {},
   "outputs": [],
   "source": [
    "# сначала делим данные на две выборки: временная  и тестовая\n",
    "features_80, features_test, target_80, target_test = train_test_split(features, target, test_size=0.2, \n",
    "random_state=r_state, stratify=target) \n",
    "\n",
    "# разделяем итоговую обучающую на две выборки: первичная обучающая и валидационная\n",
    "features_train, features_valid, target_train, target_valid = train_test_split(features_80, target_80, test_size=0.25, \n",
    "random_state=r_state, stratify=target_80)"
   ]
  },
  {
   "cell_type": "markdown",
   "metadata": {},
   "source": [
    "### Масштабирование значений"
   ]
  },
  {
   "cell_type": "markdown",
   "metadata": {},
   "source": [
    "Масштабируем числовые значения для корректной работы алгоритма обучения.\n"
   ]
  },
  {
   "cell_type": "code",
   "execution_count": 24,
   "metadata": {},
   "outputs": [
    {
     "data": {
      "text/plain": [
       "Index(['credit_score', 'geography', 'gender', 'age', 'tenure', 'balance',\n",
       "       'num_of_products', 'has_cr_card', 'is_active_member',\n",
       "       'estimated_salary', 'exited'],\n",
       "      dtype='object')"
      ]
     },
     "execution_count": 24,
     "metadata": {},
     "output_type": "execute_result"
    }
   ],
   "source": [
    "df.columns"
   ]
  },
  {
   "cell_type": "code",
   "execution_count": 25,
   "metadata": {},
   "outputs": [],
   "source": [
    "numeric = ['credit_score',\n",
    "        'age', \n",
    "        'balance', \n",
    "        'estimated_salary',\n",
    "        'tenure',\n",
    "        'num_of_products'\n",
    "          ]\n",
    "scaler = StandardScaler()\n",
    "pd.options.mode.chained_assignment = None\n",
    "scaler.fit(features_train[numeric])\n",
    "features_train[numeric] = scaler.transform(features_train[numeric])\n",
    "features_valid[numeric] = scaler.transform(features_valid[numeric])\n",
    "features_test[numeric] = scaler.transform(features_test[numeric])"
   ]
  },
  {
   "cell_type": "code",
   "execution_count": 26,
   "metadata": {
    "scrolled": true
   },
   "outputs": [
    {
     "data": {
      "text/plain": [
       "(6000, 11)"
      ]
     },
     "execution_count": 26,
     "metadata": {},
     "output_type": "execute_result"
    }
   ],
   "source": [
    "features_train.shape"
   ]
  },
  {
   "cell_type": "code",
   "execution_count": 27,
   "metadata": {},
   "outputs": [
    {
     "data": {
      "text/html": [
       "<div>\n",
       "<style scoped>\n",
       "    .dataframe tbody tr th:only-of-type {\n",
       "        vertical-align: middle;\n",
       "    }\n",
       "\n",
       "    .dataframe tbody tr th {\n",
       "        vertical-align: top;\n",
       "    }\n",
       "\n",
       "    .dataframe thead th {\n",
       "        text-align: right;\n",
       "    }\n",
       "</style>\n",
       "<table border=\"1\" class=\"dataframe\">\n",
       "  <thead>\n",
       "    <tr style=\"text-align: right;\">\n",
       "      <th></th>\n",
       "      <th>credit_score</th>\n",
       "      <th>age</th>\n",
       "      <th>tenure</th>\n",
       "      <th>balance</th>\n",
       "      <th>num_of_products</th>\n",
       "      <th>has_cr_card</th>\n",
       "      <th>is_active_member</th>\n",
       "      <th>estimated_salary</th>\n",
       "      <th>geography_Germany</th>\n",
       "      <th>geography_Spain</th>\n",
       "      <th>gender_Male</th>\n",
       "    </tr>\n",
       "  </thead>\n",
       "  <tbody>\n",
       "    <tr>\n",
       "      <th>1064</th>\n",
       "      <td>0.752252</td>\n",
       "      <td>-1.797700</td>\n",
       "      <td>-0.349863</td>\n",
       "      <td>-1.205534</td>\n",
       "      <td>0.81922</td>\n",
       "      <td>1</td>\n",
       "      <td>True</td>\n",
       "      <td>0.709668</td>\n",
       "      <td>0</td>\n",
       "      <td>0</td>\n",
       "      <td>0</td>\n",
       "    </tr>\n",
       "    <tr>\n",
       "      <th>6112</th>\n",
       "      <td>-1.949216</td>\n",
       "      <td>-0.471846</td>\n",
       "      <td>-1.438084</td>\n",
       "      <td>0.302718</td>\n",
       "      <td>0.81922</td>\n",
       "      <td>1</td>\n",
       "      <td>False</td>\n",
       "      <td>0.676442</td>\n",
       "      <td>1</td>\n",
       "      <td>0</td>\n",
       "      <td>1</td>\n",
       "    </tr>\n",
       "    <tr>\n",
       "      <th>9392</th>\n",
       "      <td>-1.224684</td>\n",
       "      <td>0.001673</td>\n",
       "      <td>-1.800825</td>\n",
       "      <td>-1.205534</td>\n",
       "      <td>0.81922</td>\n",
       "      <td>1</td>\n",
       "      <td>False</td>\n",
       "      <td>-0.081502</td>\n",
       "      <td>0</td>\n",
       "      <td>1</td>\n",
       "      <td>0</td>\n",
       "    </tr>\n",
       "    <tr>\n",
       "      <th>1837</th>\n",
       "      <td>-0.924521</td>\n",
       "      <td>1.611639</td>\n",
       "      <td>0.738358</td>\n",
       "      <td>1.227839</td>\n",
       "      <td>0.81922</td>\n",
       "      <td>1</td>\n",
       "      <td>False</td>\n",
       "      <td>0.583905</td>\n",
       "      <td>0</td>\n",
       "      <td>0</td>\n",
       "      <td>1</td>\n",
       "    </tr>\n",
       "    <tr>\n",
       "      <th>8997</th>\n",
       "      <td>0.617696</td>\n",
       "      <td>-0.566550</td>\n",
       "      <td>0.012877</td>\n",
       "      <td>-1.205534</td>\n",
       "      <td>0.81922</td>\n",
       "      <td>1</td>\n",
       "      <td>False</td>\n",
       "      <td>-0.465378</td>\n",
       "      <td>0</td>\n",
       "      <td>0</td>\n",
       "      <td>0</td>\n",
       "    </tr>\n",
       "  </tbody>\n",
       "</table>\n",
       "</div>"
      ],
      "text/plain": [
       "      credit_score       age    tenure   balance  num_of_products  \\\n",
       "1064      0.752252 -1.797700 -0.349863 -1.205534          0.81922   \n",
       "6112     -1.949216 -0.471846 -1.438084  0.302718          0.81922   \n",
       "9392     -1.224684  0.001673 -1.800825 -1.205534          0.81922   \n",
       "1837     -0.924521  1.611639  0.738358  1.227839          0.81922   \n",
       "8997      0.617696 -0.566550  0.012877 -1.205534          0.81922   \n",
       "\n",
       "      has_cr_card  is_active_member  estimated_salary  geography_Germany  \\\n",
       "1064            1              True          0.709668                  0   \n",
       "6112            1             False          0.676442                  1   \n",
       "9392            1             False         -0.081502                  0   \n",
       "1837            1             False          0.583905                  0   \n",
       "8997            1             False         -0.465378                  0   \n",
       "\n",
       "      geography_Spain  gender_Male  \n",
       "1064                0            0  \n",
       "6112                0            1  \n",
       "9392                1            0  \n",
       "1837                0            1  \n",
       "8997                0            0  "
      ]
     },
     "execution_count": 27,
     "metadata": {},
     "output_type": "execute_result"
    }
   ],
   "source": [
    "features_train.head()"
   ]
  },
  {
   "cell_type": "markdown",
   "metadata": {},
   "source": [
    "## Вывод"
   ]
  },
  {
   "cell_type": "markdown",
   "metadata": {},
   "source": [
    "Имеется один набор данных по клиентам банка. В таблице 11 столбцов и 16715 строк.\n",
    "\n",
    "Данные представлены в виде строковых значений, целых и вещественных чисел.\n",
    "\n",
    "Есть пропущенные значения в столбце \"Tenure\" - сколько лет человек является клиентом банка, пропуски составляют менее 10% от общего количества.\n",
    "Полных дубликатов не выявлено.\n",
    "\n",
    "Имеющиеся выбросы около нуля в кредитном рейтинге могут быть интерпретированы как начало банковской кредитной истории клиента.\n",
    "Признаки имеют нормальное распределение, за исключением выбросов около нуля в признаке с денежным балансом, а также выбросов в кредитном рейтинге.\n",
    "Нулевой баланс может свидетельствовать о том, что клиент почти не пользуется данным счетом.\n",
    "Значения кредитного рейтинга заканчиваются на отметке 850, можно предположить, что это максимальный кредитный рейтинг в данном случае, поэтому здесь наблюдается повышение количества клиентов.\n",
    "\n",
    "Были удалены незначимые для обучения модели столбцы: индексы строк, идентификационные номера клиента и фамилии. \n",
    "Названия столбцов приведены к  нижнему регистру.\n",
    "Изменены типы данных на подходящие для обучения модели и менее ресурсо-затратные.\n",
    "Пропуски заполнены медианой, т.к они составляют менее 10% от всех данных.\n",
    "\n",
    "Данные закодированы с помощью OHE, затем разделены на три выборки: обучающую, валидационную и тестовую.\n",
    "Количественные значения масштабированы (обучение на тестовой выборке, затем применено ко всех трем выборкам)."
   ]
  },
  {
   "cell_type": "markdown",
   "metadata": {},
   "source": [
    "# Исследование задачи"
   ]
  },
  {
   "cell_type": "markdown",
   "metadata": {},
   "source": [
    "Проверим баланс классов целевого признака в выборках."
   ]
  },
  {
   "cell_type": "code",
   "execution_count": 28,
   "metadata": {},
   "outputs": [
    {
     "name": "stdout",
     "output_type": "stream",
     "text": [
      "False    0.7963\n",
      "True     0.2037\n",
      "Name: exited, dtype: float64\n"
     ]
    },
    {
     "data": {
      "image/png": "[encoded data removed]",
      "text/plain": [
       "<Figure size 432x288 with 1 Axes>"
      ]
     },
     "metadata": {},
     "output_type": "display_data"
    }
   ],
   "source": [
    "# считаем частотность каждого из значений столбца \"exited\"\n",
    "class_frequency = df['exited'].value_counts(normalize=True) \n",
    "print(class_frequency)\n",
    "\n",
    "class_frequency.plot(kind='pie')\n",
    "plt.show()"
   ]
  },
  {
   "cell_type": "markdown",
   "metadata": {},
   "source": [
    "------------------------------------------------------------"
   ]
  },
  {
   "cell_type": "markdown",
   "metadata": {},
   "source": [
    "Обучим несколько моделей без учета дисбаланса классов."
   ]
  },
  {
   "cell_type": "markdown",
   "metadata": {},
   "source": [
    "## Дерево решений"
   ]
  },
  {
   "cell_type": "markdown",
   "metadata": {},
   "source": [
    "Создадим функцию, которая печатает основные метрики моделей: accuracy, полноту, точность, F1-меру."
   ]
  },
  {
   "cell_type": "code",
   "execution_count": 29,
   "metadata": {},
   "outputs": [],
   "source": [
    "def metrics(target, predicted):\n",
    "    accuracy = accuracy_score(target, predicted).round(2)\n",
    "    precision = precision_score(target, predicted).round(2)\n",
    "    recall = recall_score(target, predicted).round(2)\n",
    "    f1 = f1_score(target, predicted).round(2)\n",
    "    \n",
    "    print(\"Accuracy\", accuracy)\n",
    "    print(\"Полнота:\", recall)\n",
    "    print(\"Точность:\", precision)\n",
    "    print(\"F1-мера:\", f1)"
   ]
  },
  {
   "cell_type": "markdown",
   "metadata": {},
   "source": [
    "Подберем лучшие параметры с помощью перебора в цикле."
   ]
  },
  {
   "cell_type": "code",
   "execution_count": 30,
   "metadata": {},
   "outputs": [
    {
     "name": "stdout",
     "output_type": "stream",
     "text": [
      "max_depth = 3\n",
      "max_features = 5\n",
      "best_f1 = 0.55939\n"
     ]
    }
   ],
   "source": [
    "# цикл для max_depth от 1 до 12\n",
    "# для max_features от 1 до 12\n",
    "\n",
    "best_f1 = -1\n",
    "best_depth = 0\n",
    "best_max_features = 0\n",
    "\n",
    "for depth in range(1, 13):\n",
    "    for features in range(1, 13, 2):\n",
    "        model = DecisionTreeClassifier(max_depth = depth, max_features=features, random_state = r_state)\n",
    "        model.fit(features_train, target_train)\n",
    "        predicted_valid = model.predict(features_valid)\n",
    "        \n",
    "        f1 = f1_score(target_valid, predicted_valid)\n",
    "        if f1 > best_f1:\n",
    "            best_f1 = f1\n",
    "            best_depth = depth\n",
    "            best_max_features = features\n",
    "        \n",
    "print(\"max_depth =\", best_depth)\n",
    "print(\"max_features =\", best_max_features)\n",
    "print(\"best_f1 =\", best_f1.round(5))"
   ]
  },
  {
   "cell_type": "markdown",
   "metadata": {},
   "source": [
    "Сравним найденные параметры с лучшими параметрами, найденными перебором по сетке."
   ]
  },
  {
   "cell_type": "code",
   "execution_count": 31,
   "metadata": {},
   "outputs": [
    {
     "data": {
      "text/plain": [
       "{'max_depth': 7, 'max_features': 11}"
      ]
     },
     "execution_count": 31,
     "metadata": {},
     "output_type": "execute_result"
    }
   ],
   "source": [
    "clf = DecisionTreeClassifier(random_state=r_state)\n",
    "\n",
    "# создаем словарь, в который запишем гиперпараметры для перебора\n",
    "# max_depth – глубина дерева: от 1 до 12 с шагом 2\n",
    "# max_features – максимальное число признаков для предсказания: от 1 до 12 с шагом 2\n",
    "\n",
    "parameters = {'max_depth': range (1, 13),\n",
    "              'max_features': range(1, 13, 2)\n",
    "             }\n",
    "\n",
    "# запускаем перебор по сетке, задаем параметр cv: пятиступенчатая кросс-валидация\n",
    "grid = GridSearchCV(clf, parameters, cv=5, scoring='f1')\n",
    "grid.fit(features_train, target_train)\n",
    "grid.best_params_"
   ]
  },
  {
   "cell_type": "markdown",
   "metadata": {},
   "source": [
    "Исходя из найденных выше параметров, выберем те, которые даёт значение F1 выше."
   ]
  },
  {
   "cell_type": "code",
   "execution_count": 32,
   "metadata": {},
   "outputs": [
    {
     "name": "stdout",
     "output_type": "stream",
     "text": [
      "Accuracy 0.84\n",
      "Полнота: 0.45\n",
      "Точность: 0.68\n",
      "F1-мера: 0.54\n"
     ]
    }
   ],
   "source": [
    "model = DecisionTreeClassifier(max_depth = 8, max_features = 9, random_state=r_state)\n",
    "model.fit(features_train, target_train)\n",
    "predicted_valid = model.predict(features_valid)\n",
    "\n",
    "metrics(target_valid, predicted_valid)"
   ]
  },
  {
   "cell_type": "markdown",
   "metadata": {},
   "source": [
    "## Случайный лес"
   ]
  },
  {
   "cell_type": "code",
   "execution_count": 33,
   "metadata": {},
   "outputs": [
    {
     "name": "stdout",
     "output_type": "stream",
     "text": [
      "Максимальная глубина: 10\n",
      "Количество деревьев: 30\n",
      "F1 наилучшей модели на валидационной выборке: 0.55\n"
     ]
    }
   ],
   "source": [
    "# с помощью цикла находим наилучшие параметры для модели случайного леса\n",
    "best_f1 = -1\n",
    "best_depth = 0\n",
    "best_est = 0\n",
    "for est in range(10, 51, 5):\n",
    "    for depth in range(1, 13, 1):\n",
    "        model = RandomForestClassifier(n_estimators=est, max_depth=depth, random_state=r_state)\n",
    "        model.fit(features_train, target_train)\n",
    "        predictions_valid = model.predict(features_valid)\n",
    "        f1 = f1_score(target_valid, predictions_valid).round(2)\n",
    "        if f1 > best_f1:\n",
    "            best_f1 = f1\n",
    "            best_depth = depth\n",
    "            best_est = est\n",
    "print('Максимальная глубина:', best_depth)\n",
    "print('Количество деревьев:', best_est)\n",
    "print('F1 наилучшей модели на валидационной выборке:', best_f1)"
   ]
  },
  {
   "cell_type": "markdown",
   "metadata": {},
   "source": [
    "Исходя из найденных выше параметров, выберем те, которые даёт значение F1 выше."
   ]
  },
  {
   "cell_type": "code",
   "execution_count": 34,
   "metadata": {},
   "outputs": [
    {
     "name": "stdout",
     "output_type": "stream",
     "text": [
      "Accuracy 0.85\n",
      "Полнота: 0.41\n",
      "Точность: 0.75\n",
      "F1-мера: 0.53\n"
     ]
    }
   ],
   "source": [
    "model = RandomForestClassifier(n_estimators=15, max_depth=11, max_features=3, random_state=r_state)\n",
    "model.fit(features_train, target_train)\n",
    "predicted_valid = model.predict(features_valid)\n",
    "\n",
    "metrics(target_valid, predicted_valid)"
   ]
  },
  {
   "cell_type": "markdown",
   "metadata": {},
   "source": [
    "## Логистическая регрессия"
   ]
  },
  {
   "cell_type": "markdown",
   "metadata": {},
   "source": [
    "Обучим модели логистической регрессии с разными параметрами."
   ]
  },
  {
   "cell_type": "code",
   "execution_count": 35,
   "metadata": {},
   "outputs": [
    {
     "name": "stdout",
     "output_type": "stream",
     "text": [
      "Лучший значение C: 0.26\n",
      "Лучший результат f1: 0.25\n"
     ]
    }
   ],
   "source": [
    "# цикл для поиска оптимального значения C \n",
    "best_f1 = 0\n",
    "best_C = 0.0001\n",
    "for value in np.arange(0.01, 5.0, 0.01):\n",
    "    model = LogisticRegression(random_state=r_state, solver='liblinear', penalty='l2', C=value)\n",
    "    model.fit(features_train, target_train)\n",
    "    predicted_valid = model.predict(features_valid)\n",
    "    f1 = f1_score(target_valid, predicted_valid).round(2)\n",
    "    if f1 > best_f1:\n",
    "        best_f1 = f1\n",
    "        best_C = value\n",
    "\n",
    "print('Лучший значение C:', best_C.round(5))\n",
    "print('Лучший результат f1:', best_f1)"
   ]
  },
  {
   "cell_type": "code",
   "execution_count": 36,
   "metadata": {},
   "outputs": [
    {
     "name": "stdout",
     "output_type": "stream",
     "text": [
      "Accuracy 0.8\n",
      "Полнота: 0.16\n",
      "Точность: 0.53\n",
      "F1-мера: 0.24\n"
     ]
    }
   ],
   "source": [
    "model = LogisticRegression(random_state=r_state, solver='newton-cg', C=best_C, penalty='l2')\n",
    "model.fit(features_train, target_train)\n",
    "predicted_valid = model.predict(features_valid)\n",
    "\n",
    "metrics(target_valid, predicted_valid)"
   ]
  },
  {
   "cell_type": "code",
   "execution_count": 37,
   "metadata": {},
   "outputs": [
    {
     "name": "stdout",
     "output_type": "stream",
     "text": [
      "Accuracy 0.8\n",
      "Полнота: 0.16\n",
      "Точность: 0.54\n",
      "F1-мера: 0.25\n"
     ]
    }
   ],
   "source": [
    "model = LogisticRegression(random_state=r_state, solver='liblinear', penalty='l2', C=best_C)\n",
    "model.fit(features_train, target_train)\n",
    "predicted_valid = model.predict(features_valid)\n",
    "\n",
    "metrics(target_valid, predicted_valid)"
   ]
  },
  {
   "cell_type": "code",
   "execution_count": 38,
   "metadata": {},
   "outputs": [
    {
     "name": "stdout",
     "output_type": "stream",
     "text": [
      "Accuracy 0.8\n",
      "Полнота: 0.16\n",
      "Точность: 0.53\n",
      "F1-мера: 0.24\n"
     ]
    }
   ],
   "source": [
    "model = LogisticRegression(random_state=r_state, solver='sag',  C=best_C, penalty='l2')\n",
    "model.fit(features_train, target_train)\n",
    "predicted_valid = model.predict(features_valid)\n",
    "\n",
    "metrics(target_valid, predicted_valid)"
   ]
  },
  {
   "cell_type": "markdown",
   "metadata": {},
   "source": [
    "## Вывод"
   ]
  },
  {
   "cell_type": "markdown",
   "metadata": {},
   "source": [
    "Положительные значения целевого признака составляют лишь 20% от общего числа.\n",
    "Проведено обучение моделей без учета дисбаланса классов. Для подбора оптимальных гиперпараметров использовался поиск по сетке и цикл.\n",
    "\n",
    "Лучше всего показала себя модель случайного леса, без учета дисбаланса на подобранных гиперпараметрах она имеет показатель F1 равный 0.59."
   ]
  },
  {
   "cell_type": "markdown",
   "metadata": {},
   "source": [
    "# Борьба с дисбалансом"
   ]
  },
  {
   "cell_type": "markdown",
   "metadata": {},
   "source": [
    "## Взвешивание классов"
   ]
  },
  {
   "cell_type": "markdown",
   "metadata": {},
   "source": [
    "### Дерево решений со взвешенными классами"
   ]
  },
  {
   "cell_type": "code",
   "execution_count": 39,
   "metadata": {},
   "outputs": [
    {
     "name": "stdout",
     "output_type": "stream",
     "text": [
      "Accuracy 0.78\n",
      "Полнота: 0.68\n",
      "Точность: 0.48\n",
      "F1-мера: 0.56\n"
     ]
    }
   ],
   "source": [
    "model = DecisionTreeClassifier(max_depth = 8, max_features = 9, class_weight='balanced', random_state=r_state)\n",
    "model.fit(features_train, target_train)\n",
    "predicted_valid = model.predict(features_valid)\n",
    "\n",
    "metrics(target_valid, predicted_valid)"
   ]
  },
  {
   "cell_type": "markdown",
   "metadata": {},
   "source": [
    "### Случайный лес со взвешенными классами"
   ]
  },
  {
   "cell_type": "code",
   "execution_count": 40,
   "metadata": {},
   "outputs": [
    {
     "name": "stdout",
     "output_type": "stream",
     "text": [
      "Accuracy 0.84\n",
      "Полнота: 0.55\n",
      "Точность: 0.62\n",
      "F1-мера: 0.58\n"
     ]
    }
   ],
   "source": [
    "model = RandomForestClassifier(n_estimators=15, max_depth=11, max_features=5, random_state=r_state, class_weight='balanced')\n",
    "model.fit(features_train, target_train)\n",
    "predicted_valid = model.predict(features_valid)\n",
    "\n",
    "metrics(target_valid, predicted_valid)"
   ]
  },
  {
   "cell_type": "markdown",
   "metadata": {},
   "source": [
    "### Логистическая регрессия со взвешенными классами"
   ]
  },
  {
   "cell_type": "code",
   "execution_count": 41,
   "metadata": {},
   "outputs": [
    {
     "name": "stdout",
     "output_type": "stream",
     "text": [
      "Accuracy 0.71\n",
      "Полнота: 0.69\n",
      "Точность: 0.38\n",
      "F1-мера: 0.49\n"
     ]
    }
   ],
   "source": [
    "model = LogisticRegression(random_state=r_state, solver='liblinear', penalty='l2', C=best_C, class_weight='balanced')\n",
    "model.fit(features_train, target_train)\n",
    "predicted_valid = model.predict(features_valid)\n",
    "\n",
    "metrics(target_valid, predicted_valid)"
   ]
  },
  {
   "cell_type": "markdown",
   "metadata": {},
   "source": [
    "## Увеличение выборки"
   ]
  },
  {
   "cell_type": "markdown",
   "metadata": {},
   "source": [
    "Уравновесим классы, увеличив или уменьшив часть положительных или отрицательных значений с помощью upsampling и downsampling."
   ]
  },
  {
   "cell_type": "code",
   "execution_count": 42,
   "metadata": {},
   "outputs": [
    {
     "name": "stdout",
     "output_type": "stream",
     "text": [
      "(4778, 11)\n",
      "(1222, 11)\n",
      "(4778,)\n",
      "(1222,)\n"
     ]
    }
   ],
   "source": [
    "features_zeros = features_train[target_train == 0]\n",
    "features_ones = features_train[target_train == 1]\n",
    "target_zeros = target_train[target_train == 0]\n",
    "target_ones = target_train[target_train == 1]\n",
    "\n",
    "print(features_zeros.shape)\n",
    "print(features_ones.shape)\n",
    "print(target_zeros.shape)\n",
    "print(target_ones.shape)"
   ]
  },
  {
   "cell_type": "code",
   "execution_count": 43,
   "metadata": {},
   "outputs": [],
   "source": [
    "def upsample(features, target, repeat):\n",
    "    features_zeros = features[target == 0]\n",
    "    features_ones = features[target == 1]\n",
    "    target_zeros = target[target == 0]\n",
    "    target_ones = target[target == 1]\n",
    "    features_upsampled = pd.concat([features_zeros] + [features_ones] * repeat)\n",
    "    target_upsampled = pd.concat([target_zeros] + [target_ones] * repeat)\n",
    "\n",
    "    features_upsampled, target_upsampled = shuffle(\n",
    "    features_upsampled, target_upsampled, random_state=r_state)\n",
    "\n",
    "    return features_upsampled, target_upsampled"
   ]
  },
  {
   "cell_type": "code",
   "execution_count": 44,
   "metadata": {},
   "outputs": [],
   "source": [
    "features_upsampled, target_upsampled = upsample(features_train, target_train, 4)"
   ]
  },
  {
   "cell_type": "code",
   "execution_count": 45,
   "metadata": {
    "scrolled": false
   },
   "outputs": [
    {
     "name": "stdout",
     "output_type": "stream",
     "text": [
      "(9666, 11)\n",
      "(9666,)\n"
     ]
    }
   ],
   "source": [
    "print(features_upsampled.shape)\n",
    "print(target_upsampled.shape)"
   ]
  },
  {
   "cell_type": "code",
   "execution_count": 46,
   "metadata": {},
   "outputs": [
    {
     "name": "stdout",
     "output_type": "stream",
     "text": [
      "True     0.50569\n",
      "False    0.49431\n",
      "Name: exited, dtype: float64\n"
     ]
    },
    {
     "data": {
      "image/png": "[encoded data removed]",
      "text/plain": [
       "<Figure size 432x288 with 1 Axes>"
      ]
     },
     "metadata": {},
     "output_type": "display_data"
    }
   ],
   "source": [
    "# считаем частотность каждого из значений столбца \"exited\"\n",
    "class_frequency = target_upsampled.value_counts(normalize=True) \n",
    "print(class_frequency)\n",
    "class_frequency.plot(kind='pie')\n",
    "plt.show()"
   ]
  },
  {
   "cell_type": "markdown",
   "metadata": {},
   "source": [
    "### Дерево решений на увеличенной выборке"
   ]
  },
  {
   "cell_type": "code",
   "execution_count": 47,
   "metadata": {},
   "outputs": [
    {
     "name": "stdout",
     "output_type": "stream",
     "text": [
      "Accuracy 0.79\n",
      "Полнота: 0.68\n",
      "Точность: 0.48\n",
      "F1-мера: 0.56\n"
     ]
    }
   ],
   "source": [
    "model = DecisionTreeClassifier(max_depth = 8, max_features = 9, random_state=r_state)\n",
    "model.fit(features_upsampled, target_upsampled)\n",
    "predicted_valid = model.predict(features_valid)\n",
    "\n",
    "metrics(target_valid, predicted_valid)"
   ]
  },
  {
   "cell_type": "markdown",
   "metadata": {},
   "source": [
    "### Случайный лес на увеличенной выборке"
   ]
  },
  {
   "cell_type": "code",
   "execution_count": 48,
   "metadata": {},
   "outputs": [
    {
     "name": "stdout",
     "output_type": "stream",
     "text": [
      "Accuracy 0.82\n",
      "Полнота: 0.62\n",
      "Точность: 0.55\n",
      "F1-мера: 0.58\n"
     ]
    }
   ],
   "source": [
    "model = RandomForestClassifier(n_estimators=15, max_depth=11, max_features=5, random_state=r_state)\n",
    "model.fit(features_upsampled, target_upsampled)\n",
    "predicted_valid = model.predict(features_valid)\n",
    "\n",
    "metrics(target_valid, predicted_valid)"
   ]
  },
  {
   "cell_type": "markdown",
   "metadata": {},
   "source": [
    "### Логистическая регрессия на увеличенной выборке"
   ]
  },
  {
   "cell_type": "code",
   "execution_count": 49,
   "metadata": {},
   "outputs": [
    {
     "name": "stdout",
     "output_type": "stream",
     "text": [
      "Accuracy 0.71\n",
      "Полнота: 0.71\n",
      "Точность: 0.38\n",
      "F1-мера: 0.5\n"
     ]
    }
   ],
   "source": [
    "model = LogisticRegression(random_state=r_state, solver='liblinear', penalty='l2', C=best_C)\n",
    "model.fit(features_upsampled, target_upsampled)\n",
    "predicted_valid = model.predict(features_valid)\n",
    "\n",
    "metrics(target_valid, predicted_valid)"
   ]
  },
  {
   "cell_type": "markdown",
   "metadata": {},
   "source": [
    "## Уменьшение выборки"
   ]
  },
  {
   "cell_type": "code",
   "execution_count": 50,
   "metadata": {},
   "outputs": [],
   "source": [
    "def downsample(features, target, fraction):\n",
    "    features_zeros = features[target == 0]\n",
    "    features_ones = features[target == 1]\n",
    "    target_zeros = target[target == 0]\n",
    "    target_ones = target[target == 1]\n",
    "\n",
    "    features_downsampled = pd.concat([features_zeros.sample(frac=fraction, random_state=r_state)] + [features_ones])\n",
    "    target_downsampled = pd.concat([target_zeros.sample(frac=fraction, random_state=r_state)] + [target_ones])\n",
    "    \n",
    "    features_downsampled, target_downsampled = shuffle(features_downsampled, target_downsampled, random_state=r_state)\n",
    "    \n",
    "    return features_downsampled, target_downsampled"
   ]
  },
  {
   "cell_type": "code",
   "execution_count": 51,
   "metadata": {
    "scrolled": true
   },
   "outputs": [
    {
     "name": "stdout",
     "output_type": "stream",
     "text": [
      "(2416, 11)\n",
      "(2416,)\n"
     ]
    }
   ],
   "source": [
    "features_downsampled, target_downsampled = downsample(features_train, target_train, 0.25)\n",
    "print(features_downsampled.shape)\n",
    "print(target_downsampled.shape)"
   ]
  },
  {
   "cell_type": "code",
   "execution_count": 52,
   "metadata": {},
   "outputs": [
    {
     "name": "stdout",
     "output_type": "stream",
     "text": [
      "True     0.505795\n",
      "False    0.494205\n",
      "Name: exited, dtype: float64\n"
     ]
    },
    {
     "data": {
      "image/png": "[encoded data removed]",
      "text/plain": [
       "<Figure size 432x288 with 1 Axes>"
      ]
     },
     "metadata": {},
     "output_type": "display_data"
    }
   ],
   "source": [
    "# считаем частотность каждого из значений столбца \"exited\"\n",
    "class_frequency = target_downsampled.value_counts(normalize=True) \n",
    "print(class_frequency)\n",
    "class_frequency.plot(kind='pie')\n",
    "plt.show()"
   ]
  },
  {
   "cell_type": "markdown",
   "metadata": {},
   "source": [
    "### Дерево решений на уменьшенной выборке"
   ]
  },
  {
   "cell_type": "code",
   "execution_count": 53,
   "metadata": {},
   "outputs": [
    {
     "name": "stdout",
     "output_type": "stream",
     "text": [
      "Accuracy 0.76\n",
      "Полнота: 0.7\n",
      "Точность: 0.45\n",
      "F1-мера: 0.55\n"
     ]
    }
   ],
   "source": [
    "model = DecisionTreeClassifier(max_depth = 8, max_features = 9, random_state=r_state)\n",
    "model.fit(features_downsampled, target_downsampled)\n",
    "predicted_valid = model.predict(features_valid)\n",
    "\n",
    "metrics(target_valid, predicted_valid)"
   ]
  },
  {
   "cell_type": "markdown",
   "metadata": {},
   "source": [
    "### Случайный лес на уменьшенной выборке"
   ]
  },
  {
   "cell_type": "code",
   "execution_count": 54,
   "metadata": {},
   "outputs": [
    {
     "name": "stdout",
     "output_type": "stream",
     "text": [
      "Accuracy 0.77\n",
      "Полнота: 0.7\n",
      "Точность: 0.46\n",
      "F1-мера: 0.56\n"
     ]
    }
   ],
   "source": [
    "model = RandomForestClassifier(n_estimators=15, max_depth=11, max_features=5, random_state=r_state)\n",
    "model.fit(features_downsampled, target_downsampled)\n",
    "predicted_valid = model.predict(features_valid)\n",
    "\n",
    "metrics(target_valid, predicted_valid)"
   ]
  },
  {
   "cell_type": "markdown",
   "metadata": {},
   "source": [
    "### Логистическая регрессия на уменьшенной выборке"
   ]
  },
  {
   "cell_type": "code",
   "execution_count": 55,
   "metadata": {},
   "outputs": [
    {
     "name": "stdout",
     "output_type": "stream",
     "text": [
      "Accuracy 0.72\n",
      "Полнота: 0.7\n",
      "Точность: 0.39\n",
      "F1-мера: 0.5\n"
     ]
    }
   ],
   "source": [
    "model = LogisticRegression(random_state=r_state, solver='liblinear', penalty='l2', C=best_C)\n",
    "model.fit(features_downsampled, target_downsampled)\n",
    "predicted_valid = model.predict(features_valid)\n",
    "\n",
    "metrics(target_valid, predicted_valid)"
   ]
  },
  {
   "cell_type": "markdown",
   "metadata": {},
   "source": [
    "## Вывод"
   ]
  },
  {
   "cell_type": "markdown",
   "metadata": {},
   "source": [
    "Были обучены модели с использованием гиперпараметра class_weight='balanced', который позволяет сбалансировать соотношение положительных и отрицательных значений в выборке.\n",
    "\n",
    "Протестированы модели с использованием upsample и downsample.\n",
    "При увеличении класса положительных значений (upsample) значение меры F1 уменьшилось у всех трех типов моделей по сравнению с использованием class_weight='balanced'.\n",
    "При уменьшении класса отрицательных значений (downsample) значение меры F1 становится ещё меньше и лучший результат также у случайного леса.\n",
    "\n",
    "Лучший показатель меры F1 во всех типах нейтрализации дисбаланса дала модель случайного леса.\n",
    "Лучший тип нейтрализации дисбаланса это проведение процедуры по увеличению выборки (upsample) и использование гиперпараметра class_weight='balanced'"
   ]
  },
  {
   "cell_type": "markdown",
   "metadata": {},
   "source": [
    "# Подбор гиперпараметров"
   ]
  },
  {
   "cell_type": "markdown",
   "metadata": {},
   "source": [
    "Попробуем вручную оптимизировать найденные ранее гиперпараметры."
   ]
  },
  {
   "cell_type": "code",
   "execution_count": 56,
   "metadata": {},
   "outputs": [],
   "source": [
    "model = RandomForestClassifier(n_estimators=15, max_depth=11, max_features=5, class_weight='balanced', random_state=r_state)"
   ]
  },
  {
   "cell_type": "code",
   "execution_count": 57,
   "metadata": {},
   "outputs": [
    {
     "name": "stdout",
     "output_type": "stream",
     "text": [
      "Accuracy 0.84\n",
      "Полнота: 0.55\n",
      "Точность: 0.62\n",
      "F1-мера: 0.58\n"
     ]
    }
   ],
   "source": [
    "model.fit(features_train, target_train)\n",
    "predicted_valid = model.predict(features_valid)\n",
    "\n",
    "metrics(target_valid, predicted_valid)"
   ]
  },
  {
   "cell_type": "markdown",
   "metadata": {},
   "source": [
    "Построим график точности и полноты, а затем, используя его пороговые значения, найдём значения порога с лучшим показателем f1."
   ]
  },
  {
   "cell_type": "code",
   "execution_count": 58,
   "metadata": {},
   "outputs": [
    {
     "name": "stdout",
     "output_type": "stream",
     "text": [
      "Порог: 0.4666666666666667\n",
      "Accuracy 0.84\n",
      "Полнота: 0.59\n",
      "Точность: 0.61\n",
      "F1-мера: 0.6\n"
     ]
    }
   ],
   "source": [
    "probabilities_valid = model.predict_proba(features_valid)\n",
    "precision, recall, thresholds = precision_recall_curve(target_valid, probabilities_valid[:, 1])\n",
    "\n",
    "fscores = (2 * precision * recall) / (precision + recall)\n",
    "optimal_idx = np.argmax(fscores)\n",
    "\n",
    "print(\"Порог:\", thresholds[optimal_idx])\n",
    "\n",
    "threshold = thresholds[optimal_idx]\n",
    "predicted_valid = (probabilities_valid[:,1] >= threshold).astype('int')\n",
    "\n",
    "metrics(target_valid, predicted_valid)"
   ]
  },
  {
   "cell_type": "code",
   "execution_count": 59,
   "metadata": {},
   "outputs": [
    {
     "data": {
      "image/png": "[encoded data removed]",
      "text/plain": [
       "<Figure size 432x432 with 1 Axes>"
      ]
     },
     "metadata": {
      "needs_background": "light"
     },
     "output_type": "display_data"
    }
   ],
   "source": [
    "plt.figure(figsize=(6, 6))\n",
    "plt.step(recall, precision, where='post')\n",
    "plt.xlabel('Recall')\n",
    "plt.ylabel('Precision')\n",
    "plt.ylim([0.0, 1.05])\n",
    "plt.xlim([0.0, 1.0])\n",
    "plt.title('Кривая Precision-Recall')\n",
    "plt.show() "
   ]
  },
  {
   "cell_type": "markdown",
   "metadata": {},
   "source": [
    "------------------------------------------------"
   ]
  },
  {
   "cell_type": "markdown",
   "metadata": {},
   "source": [
    "Построим график соотношения долей истинно положительных ответов и полноты с долями ложноположительных ответов и найдём их лучшее соотношение."
   ]
  },
  {
   "cell_type": "code",
   "execution_count": 60,
   "metadata": {},
   "outputs": [
    {
     "name": "stdout",
     "output_type": "stream",
     "text": [
      "Лучшее соотношение долей True Positive Rate и False Positive Rate:\n",
      "\n",
      "Доля истинно положительных ответов: 0.69\n",
      "Доля ложноположительных ответов: 0.17\n",
      "Порог 0.34218144069233103\n"
     ]
    }
   ],
   "source": [
    "probabilities_one_valid = probabilities_valid[:, 1]\n",
    "fpr, tpr, thresholds = roc_curve(target_valid, probabilities_one_valid)\n",
    "\n",
    "optimal_idx = np.argmax(tpr - fpr)\n",
    "tpr_best = tpr[optimal_idx].round(2)\n",
    "fpr_best = fpr[optimal_idx].round(2)\n",
    "\n",
    "print('Лучшее соотношение долей True Positive Rate и False Positive Rate:')\n",
    "print('')\n",
    "print('Доля истинно положительных ответов:', tpr_best)\n",
    "print('Доля ложноположительных ответов:', fpr_best)\n",
    "print('Порог', thresholds[optimal_idx])"
   ]
  },
  {
   "cell_type": "code",
   "execution_count": 61,
   "metadata": {},
   "outputs": [
    {
     "data": {
      "image/png": "[encoded data removed]",
      "text/plain": [
       "<Figure size 432x288 with 1 Axes>"
      ]
     },
     "metadata": {
      "needs_background": "light"
     },
     "output_type": "display_data"
    }
   ],
   "source": [
    "plt.figure()\n",
    "plt.plot(fpr, tpr)\n",
    "# установливаем границы осей от 0 до 1 \n",
    "plt.xlim([0.0, 1.0])\n",
    "plt.ylim([0.0, 1.0])\n",
    "# подписываем оси \n",
    "plt.xlabel(\"False Positive Rate\")\n",
    "plt.ylabel(\"True Positive Rate\")\n",
    "# добавляем к графику заголовок\n",
    "plt.title(\"ROC-кривая\")\n",
    "plt.show()"
   ]
  },
  {
   "cell_type": "markdown",
   "metadata": {},
   "source": [
    "## Вывод"
   ]
  },
  {
   "cell_type": "markdown",
   "metadata": {},
   "source": [
    "С использованием лучшей модели, которая была найдена выше, мы подобрали более оптимальные гиперпараметры для обучения, которые дали значение F1 равное 0.62 на валидационной выборке. \n",
    "\n",
    "С использованием графика точности и полноты было найдено лучшее значение порога (~0.48). При использовании данного порога \n",
    "мера F1 равна 0.63 у лучшей модели на валидационных данных.\n",
    "\n",
    "С использованием графика соотношения долей истинно положительных ответов и полноты с долями ложноположительных ответов были найдено лучшее соотношение TPR и FPR: 0.7 и 0.14 соответственно."
   ]
  },
  {
   "cell_type": "markdown",
   "metadata": {},
   "source": [
    "# Тестирование модели"
   ]
  },
  {
   "cell_type": "markdown",
   "metadata": {},
   "source": [
    "Соединяем обучающую и валидационную выборки для финального обучения модели."
   ]
  },
  {
   "cell_type": "code",
   "execution_count": 62,
   "metadata": {},
   "outputs": [
    {
     "name": "stdout",
     "output_type": "stream",
     "text": [
      "(8000, 11)\n",
      "(8000,)\n"
     ]
    }
   ],
   "source": [
    "final_features_train = pd.concat([features_train, features_valid])\n",
    "final_target_train = pd.concat([target_train, target_valid])\n",
    "print(final_features_train.shape)\n",
    "print(final_target_train.shape)"
   ]
  },
  {
   "cell_type": "markdown",
   "metadata": {},
   "source": [
    "Обучаем модель с использованием лучших гиперпараметров."
   ]
  },
  {
   "cell_type": "code",
   "execution_count": 63,
   "metadata": {},
   "outputs": [],
   "source": [
    "model = RandomForestClassifier(n_estimators=15, max_depth=11, max_features=5, class_weight='balanced', random_state=r_state)"
   ]
  },
  {
   "cell_type": "code",
   "execution_count": 64,
   "metadata": {},
   "outputs": [
    {
     "name": "stdout",
     "output_type": "stream",
     "text": [
      "Accuracy 0.85\n",
      "Полнота: 0.61\n",
      "Точность: 0.63\n",
      "F1-мера: 0.62\n"
     ]
    }
   ],
   "source": [
    "model.fit(final_features_train, final_target_train)\n",
    "predicted_test = model.predict(features_test)\n",
    "\n",
    "metrics(target_test, predicted_test)"
   ]
  },
  {
   "cell_type": "code",
   "execution_count": 65,
   "metadata": {
    "scrolled": true
   },
   "outputs": [
    {
     "name": "stdout",
     "output_type": "stream",
     "text": [
      "Порог: 0.4666666666666667\n",
      "Accuracy 0.84\n",
      "Полнота: 0.64\n",
      "Точность: 0.6\n",
      "F1-мера: 0.62\n"
     ]
    }
   ],
   "source": [
    "probabilities_test = model.predict_proba(features_test)\n",
    "\n",
    "predicted_test = (probabilities_test[:,1] >= threshold).astype('int')\n",
    "\n",
    "print('Порог:', threshold)\n",
    "metrics(target_test, predicted_test)"
   ]
  },
  {
   "cell_type": "code",
   "execution_count": 66,
   "metadata": {},
   "outputs": [
    {
     "name": "stdout",
     "output_type": "stream",
     "text": [
      "AUC-ROC: 0.85\n"
     ]
    }
   ],
   "source": [
    "probabilities_test = model.predict_proba(features_test)\n",
    "auc_roc = roc_auc_score(target_test, probabilities_test[:, 1]).round(2)\n",
    "print(\"AUC-ROC:\", auc_roc)"
   ]
  },
  {
   "cell_type": "markdown",
   "metadata": {},
   "source": [
    "## Вывод"
   ]
  },
  {
   "cell_type": "markdown",
   "metadata": {},
   "source": [
    "Были объединены обучающая и валидационная выборки для финального обучения модели.\n",
    "\n",
    "Итоговое тестирование проведено с использованием случайного леса со взвешенными классами и заданным порогом 0.47. \n",
    "Мера F1 у данной модели на тестовая выборке равна 0.62. \n",
    "\n",
    "Значение AUC_ROC равно 0.85, что является довольно высоким значением, т.к. оно показывает соотношение доли истинно положительных значений к доле ложноположительных значений."
   ]
  },
  {
   "cell_type": "markdown",
   "metadata": {},
   "source": [
    "# Общий вывод"
   ]
  },
  {
   "cell_type": "markdown",
   "metadata": {},
   "source": [
    "Была построена модель для прогнозирования ухода клиентов из банка, исходя из кредитного рейтинга, страны проживания, пола, возраста, количества лет в качестве клиента банка, баланса на счёте, количества продуктов банка, используемых клиентом, наличия кредитной карты, активности клиента, предполагаемой зарплаты.\n",
    "\n",
    "Мера F1 финальной модели составляет 0.62, это позволит довольно точно предсказать уход клиента из банка. В ходе исследования были проверены три типа моделей с разными гиперпараметрами - случайное дерево, случайный лес и логистическая регрессия. Также была проверены метрики случайной модели - они ниже, чем метрики выбранной модели. \n",
    "\n",
    "Наиболее хороший результат даёт модель случайного леса, поэтому она была выбрана для итогового тестирования."
   ]
  },
  {
   "cell_type": "code",
   "execution_count": null,
   "metadata": {},
   "outputs": [],
   "source": []
  }
 ],
 "metadata": {
  "ExecuteTimeLog": [
   {
    "duration": 1643,
    "start_time": "2021-07-10T17:51:42.811Z"
   },
   {
    "duration": 6518,
    "start_time": "2021-07-10T17:51:44.456Z"
   },
   {
    "duration": -1321,
    "start_time": "2021-07-10T17:51:52.301Z"
   },
   {
    "duration": -1328,
    "start_time": "2021-07-10T17:51:52.309Z"
   },
   {
    "duration": -1330,
    "start_time": "2021-07-10T17:51:52.313Z"
   },
   {
    "duration": -1332,
    "start_time": "2021-07-10T17:51:52.316Z"
   },
   {
    "duration": -1334,
    "start_time": "2021-07-10T17:51:52.320Z"
   },
   {
    "duration": -1336,
    "start_time": "2021-07-10T17:51:52.323Z"
   },
   {
    "duration": -1339,
    "start_time": "2021-07-10T17:51:52.327Z"
   },
   {
    "duration": -1340,
    "start_time": "2021-07-10T17:51:52.330Z"
   },
   {
    "duration": -1349,
    "start_time": "2021-07-10T17:51:52.340Z"
   },
   {
    "duration": -1352,
    "start_time": "2021-07-10T17:51:52.345Z"
   },
   {
    "duration": -1356,
    "start_time": "2021-07-10T17:51:52.350Z"
   },
   {
    "duration": -1358,
    "start_time": "2021-07-10T17:51:52.353Z"
   },
   {
    "duration": -1358,
    "start_time": "2021-07-10T17:51:52.355Z"
   },
   {
    "duration": -1360,
    "start_time": "2021-07-10T17:51:52.358Z"
   },
   {
    "duration": -1360,
    "start_time": "2021-07-10T17:51:52.360Z"
   },
   {
    "duration": -1362,
    "start_time": "2021-07-10T17:51:52.363Z"
   },
   {
    "duration": -1364,
    "start_time": "2021-07-10T17:51:52.366Z"
   },
   {
    "duration": -1366,
    "start_time": "2021-07-10T17:51:52.369Z"
   },
   {
    "duration": -1368,
    "start_time": "2021-07-10T17:51:52.373Z"
   },
   {
    "duration": -1369,
    "start_time": "2021-07-10T17:51:52.375Z"
   },
   {
    "duration": -1371,
    "start_time": "2021-07-10T17:51:52.378Z"
   },
   {
    "duration": -1372,
    "start_time": "2021-07-10T17:51:52.381Z"
   },
   {
    "duration": -1376,
    "start_time": "2021-07-10T17:51:52.386Z"
   },
   {
    "duration": -1378,
    "start_time": "2021-07-10T17:51:52.389Z"
   },
   {
    "duration": -1380,
    "start_time": "2021-07-10T17:51:52.393Z"
   },
   {
    "duration": -1383,
    "start_time": "2021-07-10T17:51:52.397Z"
   },
   {
    "duration": -1386,
    "start_time": "2021-07-10T17:51:52.402Z"
   },
   {
    "duration": -1338,
    "start_time": "2021-07-10T17:51:52.405Z"
   },
   {
    "duration": -1339,
    "start_time": "2021-07-10T17:51:52.408Z"
   },
   {
    "duration": -1353,
    "start_time": "2021-07-10T17:51:52.423Z"
   },
   {
    "duration": -1356,
    "start_time": "2021-07-10T17:51:52.428Z"
   },
   {
    "duration": -1358,
    "start_time": "2021-07-10T17:51:52.431Z"
   },
   {
    "duration": -1361,
    "start_time": "2021-07-10T17:51:52.436Z"
   },
   {
    "duration": -1364,
    "start_time": "2021-07-10T17:51:52.440Z"
   },
   {
    "duration": -1365,
    "start_time": "2021-07-10T17:51:52.443Z"
   },
   {
    "duration": -1391,
    "start_time": "2021-07-10T17:51:52.470Z"
   },
   {
    "duration": -1413,
    "start_time": "2021-07-10T17:51:52.494Z"
   },
   {
    "duration": -1437,
    "start_time": "2021-07-10T17:51:52.519Z"
   },
   {
    "duration": -1451,
    "start_time": "2021-07-10T17:51:52.534Z"
   },
   {
    "duration": -1452,
    "start_time": "2021-07-10T17:51:52.537Z"
   },
   {
    "duration": -1454,
    "start_time": "2021-07-10T17:51:52.540Z"
   },
   {
    "duration": -1464,
    "start_time": "2021-07-10T17:51:52.552Z"
   },
   {
    "duration": -1466,
    "start_time": "2021-07-10T17:51:52.555Z"
   },
   {
    "duration": -1473,
    "start_time": "2021-07-10T17:51:52.563Z"
   },
   {
    "duration": -1480,
    "start_time": "2021-07-10T17:51:52.572Z"
   },
   {
    "duration": -1482,
    "start_time": "2021-07-10T17:51:52.575Z"
   },
   {
    "duration": -1483,
    "start_time": "2021-07-10T17:51:52.577Z"
   },
   {
    "duration": -1484,
    "start_time": "2021-07-10T17:51:52.580Z"
   },
   {
    "duration": -1490,
    "start_time": "2021-07-10T17:51:52.587Z"
   },
   {
    "duration": -1491,
    "start_time": "2021-07-10T17:51:52.589Z"
   },
   {
    "duration": -1492,
    "start_time": "2021-07-10T17:51:52.591Z"
   },
   {
    "duration": -1508,
    "start_time": "2021-07-10T17:51:52.609Z"
   },
   {
    "duration": -1517,
    "start_time": "2021-07-10T17:51:52.619Z"
   },
   {
    "duration": -1520,
    "start_time": "2021-07-10T17:51:52.623Z"
   },
   {
    "duration": -1522,
    "start_time": "2021-07-10T17:51:52.627Z"
   },
   {
    "duration": -1542,
    "start_time": "2021-07-10T17:51:52.648Z"
   },
   {
    "duration": 35,
    "start_time": "2021-07-10T17:52:11.545Z"
   },
   {
    "duration": 35,
    "start_time": "2021-07-10T17:52:16.832Z"
   },
   {
    "duration": 12,
    "start_time": "2021-07-10T17:52:16.870Z"
   },
   {
    "duration": 22,
    "start_time": "2021-07-10T17:52:16.885Z"
   },
   {
    "duration": 104,
    "start_time": "2021-07-10T17:52:16.910Z"
   },
   {
    "duration": 23,
    "start_time": "2021-07-10T17:52:17.017Z"
   },
   {
    "duration": 18,
    "start_time": "2021-07-10T17:52:17.067Z"
   },
   {
    "duration": 6,
    "start_time": "2021-07-10T17:52:17.087Z"
   },
   {
    "duration": 22,
    "start_time": "2021-07-10T17:52:17.096Z"
   },
   {
    "duration": 55,
    "start_time": "2021-07-10T17:52:17.121Z"
   },
   {
    "duration": 16,
    "start_time": "2021-07-10T17:52:17.178Z"
   },
   {
    "duration": 13,
    "start_time": "2021-07-10T17:52:17.197Z"
   },
   {
    "duration": 11,
    "start_time": "2021-07-10T17:52:17.213Z"
   },
   {
    "duration": 357,
    "start_time": "2021-07-10T17:52:17.227Z"
   },
   {
    "duration": 93,
    "start_time": "2021-07-10T17:52:17.587Z"
   },
   {
    "duration": 31,
    "start_time": "2021-07-10T17:52:17.683Z"
   },
   {
    "duration": 436,
    "start_time": "2021-07-10T17:52:17.717Z"
   },
   {
    "duration": 13,
    "start_time": "2021-07-10T17:52:18.156Z"
   },
   {
    "duration": 95,
    "start_time": "2021-07-10T17:52:18.172Z"
   },
   {
    "duration": 5,
    "start_time": "2021-07-10T17:52:18.269Z"
   },
   {
    "duration": 29,
    "start_time": "2021-07-10T17:52:18.276Z"
   },
   {
    "duration": 33,
    "start_time": "2021-07-10T17:52:18.307Z"
   },
   {
    "duration": 248,
    "start_time": "2021-07-10T17:52:18.368Z"
   },
   {
    "duration": 738218,
    "start_time": "2021-07-10T17:52:18.621Z"
   },
   {
    "duration": 6,
    "start_time": "2021-07-10T18:04:36.842Z"
   },
   {
    "duration": 459,
    "start_time": "2021-07-10T18:04:36.850Z"
   },
   {
    "duration": 1592,
    "start_time": "2021-07-12T17:16:44.076Z"
   },
   {
    "duration": 33,
    "start_time": "2021-07-12T17:16:45.670Z"
   },
   {
    "duration": 12,
    "start_time": "2021-07-12T17:16:45.706Z"
   },
   {
    "duration": 22,
    "start_time": "2021-07-12T17:16:45.721Z"
   },
   {
    "duration": 89,
    "start_time": "2021-07-12T17:16:45.746Z"
   },
   {
    "duration": 14,
    "start_time": "2021-07-12T17:16:45.837Z"
   },
   {
    "duration": 16,
    "start_time": "2021-07-12T17:16:45.853Z"
   },
   {
    "duration": 5,
    "start_time": "2021-07-12T17:16:45.872Z"
   },
   {
    "duration": 20,
    "start_time": "2021-07-12T17:16:45.909Z"
   },
   {
    "duration": 29,
    "start_time": "2021-07-12T17:16:45.931Z"
   },
   {
    "duration": 5,
    "start_time": "2021-07-12T17:16:45.962Z"
   },
   {
    "duration": 52,
    "start_time": "2021-07-12T17:16:45.969Z"
   },
   {
    "duration": 15,
    "start_time": "2021-07-12T17:16:46.024Z"
   },
   {
    "duration": 9,
    "start_time": "2021-07-12T17:16:46.042Z"
   },
   {
    "duration": 8,
    "start_time": "2021-07-12T17:16:46.053Z"
   },
   {
    "duration": 63,
    "start_time": "2021-07-12T17:16:46.063Z"
   },
   {
    "duration": 6,
    "start_time": "2021-07-12T17:16:46.129Z"
   },
   {
    "duration": 19,
    "start_time": "2021-07-12T17:16:46.137Z"
   },
   {
    "duration": 66,
    "start_time": "2021-07-12T17:16:46.158Z"
   },
   {
    "duration": 5,
    "start_time": "2021-07-12T17:16:46.226Z"
   },
   {
    "duration": 51,
    "start_time": "2021-07-12T17:16:46.235Z"
   },
   {
    "duration": 22,
    "start_time": "2021-07-12T17:16:46.288Z"
   },
   {
    "duration": 18,
    "start_time": "2021-07-12T17:16:46.319Z"
   },
   {
    "duration": 262,
    "start_time": "2021-07-12T17:16:46.341Z"
   },
   {
    "duration": 5,
    "start_time": "2021-07-12T17:16:46.609Z"
   },
   {
    "duration": 1575,
    "start_time": "2021-07-12T17:16:46.617Z"
   },
   {
    "duration": 7366,
    "start_time": "2021-07-12T17:16:48.194Z"
   },
   {
    "duration": 54,
    "start_time": "2021-07-12T17:16:55.562Z"
   },
   {
    "duration": 505170,
    "start_time": "2021-07-12T17:16:55.619Z"
   },
   {
    "duration": 489,
    "start_time": "2021-07-12T17:25:20.791Z"
   },
   {
    "duration": 99727,
    "start_time": "2021-07-12T17:25:21.283Z"
   },
   {
    "duration": 606,
    "start_time": "2021-07-12T17:27:01.014Z"
   },
   {
    "duration": 102,
    "start_time": "2021-07-12T17:27:01.710Z"
   },
   {
    "duration": 294,
    "start_time": "2021-07-12T17:27:01.815Z"
   },
   {
    "duration": 44,
    "start_time": "2021-07-12T17:27:02.111Z"
   },
   {
    "duration": 512,
    "start_time": "2021-07-12T17:27:02.157Z"
   },
   {
    "duration": 140,
    "start_time": "2021-07-12T17:27:02.671Z"
   },
   {
    "duration": 102,
    "start_time": "2021-07-12T17:27:02.815Z"
   },
   {
    "duration": 6,
    "start_time": "2021-07-12T17:27:02.920Z"
   },
   {
    "duration": 29,
    "start_time": "2021-07-12T17:27:02.929Z"
   },
   {
    "duration": 5,
    "start_time": "2021-07-12T17:27:02.960Z"
   },
   {
    "duration": 257,
    "start_time": "2021-07-12T17:27:02.968Z"
   },
   {
    "duration": 52,
    "start_time": "2021-07-12T17:27:03.228Z"
   },
   {
    "duration": 708,
    "start_time": "2021-07-12T17:27:03.283Z"
   },
   {
    "duration": 120,
    "start_time": "2021-07-12T17:27:03.994Z"
   },
   {
    "duration": 93,
    "start_time": "2021-07-12T17:27:04.117Z"
   },
   {
    "duration": 23,
    "start_time": "2021-07-12T17:27:04.212Z"
   },
   {
    "duration": 264,
    "start_time": "2021-07-12T17:27:04.237Z"
   },
   {
    "duration": 28,
    "start_time": "2021-07-12T17:27:04.510Z"
   },
   {
    "duration": 304,
    "start_time": "2021-07-12T17:27:04.540Z"
   },
   {
    "duration": 76,
    "start_time": "2021-07-12T17:27:04.846Z"
   },
   {
    "duration": 4,
    "start_time": "2021-07-12T17:27:05.010Z"
   },
   {
    "duration": 1251,
    "start_time": "2021-07-12T17:27:05.016Z"
   },
   {
    "duration": 69,
    "start_time": "2021-07-12T17:27:06.269Z"
   },
   {
    "duration": 304,
    "start_time": "2021-07-12T17:27:06.340Z"
   },
   {
    "duration": 10,
    "start_time": "2021-07-12T17:27:06.646Z"
   },
   {
    "duration": 282,
    "start_time": "2021-07-12T17:27:06.658Z"
   },
   {
    "duration": 7,
    "start_time": "2021-07-12T17:27:06.943Z"
   },
   {
    "duration": 9,
    "start_time": "2021-07-12T17:27:06.952Z"
   },
   {
    "duration": 1585,
    "start_time": "2021-07-12T17:27:06.963Z"
   },
   {
    "duration": 64,
    "start_time": "2021-07-12T17:27:08.551Z"
   },
   {
    "duration": 48,
    "start_time": "2021-07-12T17:27:08.618Z"
   },
   {
    "duration": 74,
    "start_time": "2021-07-12T17:27:08.668Z"
   },
   {
    "duration": 65,
    "start_time": "2021-07-12T17:27:08.745Z"
   },
   {
    "duration": 352,
    "start_time": "2021-07-12T17:27:08.814Z"
   },
   {
    "duration": 454,
    "start_time": "2021-07-12T17:30:40.956Z"
   },
   {
    "duration": 28450,
    "start_time": "2021-07-12T17:31:49.064Z"
   },
   {
    "duration": 446,
    "start_time": "2021-07-12T17:32:59.094Z"
   },
   {
    "duration": 55,
    "start_time": "2021-07-12T17:33:31.304Z"
   },
   {
    "duration": 57,
    "start_time": "2021-07-12T17:33:36.756Z"
   },
   {
    "duration": 53,
    "start_time": "2021-07-12T17:33:39.304Z"
   },
   {
    "duration": 56,
    "start_time": "2021-07-12T17:34:13.307Z"
   },
   {
    "duration": 55,
    "start_time": "2021-07-12T17:36:13.781Z"
   },
   {
    "duration": 55,
    "start_time": "2021-07-12T17:36:18.165Z"
   },
   {
    "duration": 570,
    "start_time": "2021-07-12T17:36:48.352Z"
   },
   {
    "duration": 356,
    "start_time": "2021-07-12T17:37:05.894Z"
   },
   {
    "duration": 5,
    "start_time": "2021-07-12T17:39:51.184Z"
   },
   {
    "duration": 294,
    "start_time": "2021-07-12T17:39:51.883Z"
   },
   {
    "duration": 4,
    "start_time": "2021-07-12T17:39:59.309Z"
   },
   {
    "duration": 1569,
    "start_time": "2021-07-12T17:39:59.693Z"
   },
   {
    "duration": 388,
    "start_time": "2021-07-12T17:43:13.200Z"
   },
   {
    "duration": 508,
    "start_time": "2021-07-12T17:43:19.782Z"
   },
   {
    "duration": 612,
    "start_time": "2021-07-12T17:43:23.459Z"
   },
   {
    "duration": 383,
    "start_time": "2021-07-12T17:43:27.747Z"
   },
   {
    "duration": 656,
    "start_time": "2021-07-12T17:43:34.468Z"
   },
   {
    "duration": 609,
    "start_time": "2021-07-12T17:43:38.976Z"
   },
   {
    "duration": 808,
    "start_time": "2021-07-12T17:43:43.263Z"
   },
   {
    "duration": 608,
    "start_time": "2021-07-12T17:43:48.804Z"
   },
   {
    "duration": 2945,
    "start_time": "2021-07-12T17:43:52.632Z"
   },
   {
    "duration": 4931,
    "start_time": "2021-07-12T17:44:00.411Z"
   },
   {
    "duration": 517,
    "start_time": "2021-07-12T17:44:11.566Z"
   },
   {
    "duration": 715,
    "start_time": "2021-07-12T17:44:34.320Z"
   },
   {
    "duration": 420,
    "start_time": "2021-07-12T17:44:40.531Z"
   },
   {
    "duration": 520,
    "start_time": "2021-07-12T17:44:45.144Z"
   },
   {
    "duration": 564,
    "start_time": "2021-07-12T17:44:55.064Z"
   },
   {
    "duration": 454,
    "start_time": "2021-07-12T17:44:59.710Z"
   },
   {
    "duration": 455,
    "start_time": "2021-07-12T17:45:38.736Z"
   },
   {
    "duration": 419,
    "start_time": "2021-07-12T17:45:45.246Z"
   },
   {
    "duration": 358,
    "start_time": "2021-07-12T17:45:48.748Z"
   },
   {
    "duration": 318,
    "start_time": "2021-07-12T17:45:52.310Z"
   },
   {
    "duration": 284,
    "start_time": "2021-07-12T17:45:56.141Z"
   },
   {
    "duration": 494,
    "start_time": "2021-07-12T17:46:09.047Z"
   },
   {
    "duration": 251,
    "start_time": "2021-07-12T17:46:19.270Z"
   },
   {
    "duration": 365,
    "start_time": "2021-07-12T17:46:22.437Z"
   },
   {
    "duration": 382,
    "start_time": "2021-07-12T17:46:26.045Z"
   },
   {
    "duration": 353,
    "start_time": "2021-07-12T17:46:30.829Z"
   },
   {
    "duration": 289,
    "start_time": "2021-07-12T17:46:42.201Z"
   },
   {
    "duration": 467,
    "start_time": "2021-07-12T17:46:48.912Z"
   },
   {
    "duration": 281,
    "start_time": "2021-07-12T17:46:52.965Z"
   },
   {
    "duration": 319,
    "start_time": "2021-07-12T17:47:21.146Z"
   },
   {
    "duration": 282,
    "start_time": "2021-07-12T17:47:26.012Z"
   },
   {
    "duration": 360,
    "start_time": "2021-07-12T17:47:30.952Z"
   },
   {
    "duration": 284457,
    "start_time": "2021-07-12T17:47:36.077Z"
   },
   {
    "duration": 18548,
    "start_time": "2021-07-12T17:52:26.522Z"
   },
   {
    "duration": 21729,
    "start_time": "2021-07-12T17:52:53.014Z"
   },
   {
    "duration": 274,
    "start_time": "2021-07-12T17:53:23.487Z"
   },
   {
    "duration": 317,
    "start_time": "2021-07-12T17:53:29.337Z"
   },
   {
    "duration": 349,
    "start_time": "2021-07-12T17:53:33.080Z"
   },
   {
    "duration": 358,
    "start_time": "2021-07-12T17:53:36.193Z"
   },
   {
    "duration": 354,
    "start_time": "2021-07-12T17:53:39.931Z"
   },
   {
    "duration": 177,
    "start_time": "2021-07-12T17:53:45.175Z"
   },
   {
    "duration": 159,
    "start_time": "2021-07-12T17:53:48.308Z"
   },
   {
    "duration": 206,
    "start_time": "2021-07-12T17:53:50.967Z"
   },
   {
    "duration": 174,
    "start_time": "2021-07-12T17:53:53.893Z"
   },
   {
    "duration": 199,
    "start_time": "2021-07-12T17:53:56.166Z"
   },
   {
    "duration": 158,
    "start_time": "2021-07-12T17:53:58.643Z"
   },
   {
    "duration": 232,
    "start_time": "2021-07-12T17:54:12.643Z"
   },
   {
    "duration": 92,
    "start_time": "2021-07-12T17:54:28.558Z"
   },
   {
    "duration": 145,
    "start_time": "2021-07-12T17:54:35.070Z"
   },
   {
    "duration": 110,
    "start_time": "2021-07-12T17:54:37.715Z"
   },
   {
    "duration": 204,
    "start_time": "2021-07-12T17:54:45.114Z"
   },
   {
    "duration": 418,
    "start_time": "2021-07-12T17:54:53.217Z"
   },
   {
    "duration": 292,
    "start_time": "2021-07-12T17:55:04.943Z"
   },
   {
    "duration": 5,
    "start_time": "2021-07-12T17:55:25.201Z"
   },
   {
    "duration": 154,
    "start_time": "2021-07-12T17:55:26.913Z"
   },
   {
    "duration": 4,
    "start_time": "2021-07-12T17:55:29.721Z"
   },
   {
    "duration": 4,
    "start_time": "2021-07-12T17:55:38.297Z"
   },
   {
    "duration": 1192,
    "start_time": "2021-07-12T17:55:39.640Z"
   },
   {
    "duration": 5,
    "start_time": "2021-07-12T17:55:52.405Z"
   },
   {
    "duration": 1561,
    "start_time": "2021-07-12T17:55:52.741Z"
   },
   {
    "duration": 4,
    "start_time": "2021-07-12T17:56:25.358Z"
   },
   {
    "duration": 252,
    "start_time": "2021-07-12T17:56:25.696Z"
   },
   {
    "duration": 4,
    "start_time": "2021-07-12T17:56:34.281Z"
   },
   {
    "duration": 185,
    "start_time": "2021-07-12T17:56:34.621Z"
   },
   {
    "duration": 4,
    "start_time": "2021-07-12T17:56:38.841Z"
   },
   {
    "duration": 374,
    "start_time": "2021-07-12T17:56:40.971Z"
   },
   {
    "duration": 4,
    "start_time": "2021-07-12T17:56:53.075Z"
   },
   {
    "duration": 442,
    "start_time": "2021-07-12T17:56:53.133Z"
   },
   {
    "duration": 4,
    "start_time": "2021-07-12T17:56:57.433Z"
   },
   {
    "duration": 414,
    "start_time": "2021-07-12T17:56:57.711Z"
   },
   {
    "duration": 4,
    "start_time": "2021-07-12T17:57:01.767Z"
   },
   {
    "duration": 329,
    "start_time": "2021-07-12T17:57:02.045Z"
   },
   {
    "duration": 4,
    "start_time": "2021-07-12T17:57:06.533Z"
   },
   {
    "duration": 260,
    "start_time": "2021-07-12T17:57:06.806Z"
   },
   {
    "duration": 4,
    "start_time": "2021-07-12T17:57:22.435Z"
   },
   {
    "duration": 208,
    "start_time": "2021-07-12T17:57:22.731Z"
   },
   {
    "duration": 28,
    "start_time": "2021-07-12T17:57:28.126Z"
   },
   {
    "duration": 11,
    "start_time": "2021-07-12T17:57:36.189Z"
   },
   {
    "duration": 29,
    "start_time": "2021-07-12T17:58:50.362Z"
   },
   {
    "duration": 24,
    "start_time": "2021-07-12T17:58:53.589Z"
   }
  ],
  "kernelspec": {
   "display_name": "Python 3",
   "language": "python",
   "name": "python3"
  },
  "language_info": {
   "codemirror_mode": {
    "name": "ipython",
    "version": 3
   },
   "file_extension": ".py",
   "mimetype": "text/x-python",
   "name": "python",
   "nbconvert_exporter": "python",
   "pygments_lexer": "ipython3",
   "version": "3.8.8"
  },
  "toc": {
   "base_numbering": 1,
   "nav_menu": {},
   "number_sections": true,
   "sideBar": true,
   "skip_h1_title": false,
   "title_cell": "Содержание",
   "title_sidebar": "Содержание",
   "toc_cell": true,
   "toc_position": {
    "height": "calc(100% - 180px)",
    "left": "10px",
    "top": "150px",
    "width": "266.447px"
   },
   "toc_section_display": true,
   "toc_window_display": false
  }
 },
 "nbformat": 4,
 "nbformat_minor": 2
}
