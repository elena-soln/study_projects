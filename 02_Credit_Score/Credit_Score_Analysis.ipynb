{
 "cells": [
  {
   "cell_type": "markdown",
   "metadata": {},
   "source": [
    "# Исследование надёжности заёмщиков\n",
    "\n",
    "Заказчик — кредитный отдел банка. Нужно выяснить, влияет ли семейное положение и количество детей клиента на факт погашения кредита в срок. Входные данные от банка — статистика о платёжеспособности клиентов.\n",
    "\n",
    "Результаты исследования будут учтены при построении модели **кредитного скоринга** — специальной системы, которая оценивает способность потенциального заёмщика вернуть кредит банку."
   ]
  },
  {
   "cell_type": "markdown",
   "metadata": {},
   "source": [
    "## Общая информация"
   ]
  },
  {
   "cell_type": "code",
   "execution_count": 1,
   "metadata": {},
   "outputs": [],
   "source": [
    "import pandas as pd\n",
    "import numpy as np\n",
    "\n",
    "from pymystem3 import Mystem\n",
    "\n",
    "# visualization\n",
    "import matplotlib.pyplot as plt\n",
    "import plotly.express as px\n",
    "import seaborn as sns\n",
    "#Q-Q-plot\n",
    "import statsmodels.api as sm\n",
    "\n",
    "import warnings\n",
    "warnings.filterwarnings(\"ignore\")"
   ]
  },
  {
   "cell_type": "code",
   "execution_count": 2,
   "metadata": {},
   "outputs": [],
   "source": [
    "STATE = 2222"
   ]
  },
  {
   "cell_type": "code",
   "execution_count": 3,
   "metadata": {},
   "outputs": [],
   "source": [
    "def first_glance(directory, title, **kwargs):\n",
    "    '''\n",
    "    Загружает данные; \n",
    "    Печатает: \n",
    "            Общая информация, \n",
    "            5 случайных строк, \n",
    "            Количество дубликатов, \n",
    "            Количество и процентное соотношение пропусков.\n",
    "    \n",
    "    Параметры\n",
    "    ----------\n",
    "    directory: str\n",
    "        Расположение csv файла\n",
    "    title: str\n",
    "        Название файла\n",
    "        \n",
    "    Возвращает \n",
    "    ----------\n",
    "    DataFrame\n",
    "    \n",
    "    '''\n",
    "    data = pd.read_csv(directory, **kwargs)\n",
    "    display(title)\n",
    "    print('-------------Общая информация---------------')\n",
    "    display(data.info())\n",
    "\n",
    "    print('------------5 случайных строк---------------') \n",
    "    display(data.sample(5, random_state=STATE))\n",
    "    print()\n",
    "    \n",
    "    if data.duplicated().sum().sum() != 0:\n",
    "        display('-------Количество дубликатов---------', \n",
    "        data.duplicated().sum())\n",
    "    else:\n",
    "        print('Полные дубликаты отсутствуют')\n",
    "\n",
    "    if data.isna().sum().sum() != 0:\n",
    "        # создает датафрейм с количеством пропусков в каждой колонке\n",
    "        na_values = data.isna().sum().to_frame().rename(columns = {0: 'пропуски'})\n",
    "        # добавляет новую колонку с процентом пропусков\n",
    "        na_values['% от общего количества'] = (na_values['пропуски'] / data.shape[0]).round(2)\n",
    "        # сортирует таблицу по убыванию количества пропусков\n",
    "        display('--Количество и процентное соотношение пропусков--',\n",
    "                na_values.sort_values(by = 'пропуски', ascending = False))\n",
    "    else:\n",
    "        print('Пропуски отсутствуют')\n",
    "\n",
    "    print()\n",
    "    \n",
    "    print('----------Описательная статистика----------')\n",
    "    display(data.describe().T)\n",
    "    \n",
    "    return data"
   ]
  },
  {
   "cell_type": "code",
   "execution_count": 4,
   "metadata": {
    "scrolled": false
   },
   "outputs": [
    {
     "data": {
      "text/plain": [
       "'Data'"
      ]
     },
     "metadata": {},
     "output_type": "display_data"
    },
    {
     "name": "stdout",
     "output_type": "stream",
     "text": [
      "-------------Общая информация---------------\n",
      "<class 'pandas.core.frame.DataFrame'>\n",
      "RangeIndex: 21525 entries, 0 to 21524\n",
      "Data columns (total 12 columns):\n",
      "children            21525 non-null int64\n",
      "days_employed       19351 non-null float64\n",
      "dob_years           21525 non-null int64\n",
      "education           21525 non-null object\n",
      "education_id        21525 non-null int64\n",
      "family_status       21525 non-null object\n",
      "family_status_id    21525 non-null int64\n",
      "gender              21525 non-null object\n",
      "income_type         21525 non-null object\n",
      "debt                21525 non-null int64\n",
      "total_income        19351 non-null float64\n",
      "purpose             21525 non-null object\n",
      "dtypes: float64(2), int64(5), object(5)\n",
      "memory usage: 2.0+ MB\n"
     ]
    },
    {
     "data": {
      "text/plain": [
       "None"
      ]
     },
     "metadata": {},
     "output_type": "display_data"
    },
    {
     "name": "stdout",
     "output_type": "stream",
     "text": [
      "------------5 случайных строк---------------\n"
     ]
    },
    {
     "data": {
      "text/html": [
       "<div>\n",
       "<style scoped>\n",
       "    .dataframe tbody tr th:only-of-type {\n",
       "        vertical-align: middle;\n",
       "    }\n",
       "\n",
       "    .dataframe tbody tr th {\n",
       "        vertical-align: top;\n",
       "    }\n",
       "\n",
       "    .dataframe thead th {\n",
       "        text-align: right;\n",
       "    }\n",
       "</style>\n",
       "<table border=\"1\" class=\"dataframe\">\n",
       "  <thead>\n",
       "    <tr style=\"text-align: right;\">\n",
       "      <th></th>\n",
       "      <th>children</th>\n",
       "      <th>days_employed</th>\n",
       "      <th>dob_years</th>\n",
       "      <th>education</th>\n",
       "      <th>education_id</th>\n",
       "      <th>family_status</th>\n",
       "      <th>family_status_id</th>\n",
       "      <th>gender</th>\n",
       "      <th>income_type</th>\n",
       "      <th>debt</th>\n",
       "      <th>total_income</th>\n",
       "      <th>purpose</th>\n",
       "    </tr>\n",
       "  </thead>\n",
       "  <tbody>\n",
       "    <tr>\n",
       "      <td>18069</td>\n",
       "      <td>0</td>\n",
       "      <td>-517.793930</td>\n",
       "      <td>25</td>\n",
       "      <td>высшее</td>\n",
       "      <td>0</td>\n",
       "      <td>женат / замужем</td>\n",
       "      <td>0</td>\n",
       "      <td>M</td>\n",
       "      <td>сотрудник</td>\n",
       "      <td>0</td>\n",
       "      <td>184147.739600</td>\n",
       "      <td>жилье</td>\n",
       "    </tr>\n",
       "    <tr>\n",
       "      <td>4636</td>\n",
       "      <td>1</td>\n",
       "      <td>-347.842965</td>\n",
       "      <td>37</td>\n",
       "      <td>среднее</td>\n",
       "      <td>1</td>\n",
       "      <td>женат / замужем</td>\n",
       "      <td>0</td>\n",
       "      <td>F</td>\n",
       "      <td>компаньон</td>\n",
       "      <td>0</td>\n",
       "      <td>115999.432111</td>\n",
       "      <td>получение высшего образования</td>\n",
       "    </tr>\n",
       "    <tr>\n",
       "      <td>6605</td>\n",
       "      <td>0</td>\n",
       "      <td>-3617.168602</td>\n",
       "      <td>48</td>\n",
       "      <td>среднее</td>\n",
       "      <td>1</td>\n",
       "      <td>Не женат / не замужем</td>\n",
       "      <td>4</td>\n",
       "      <td>M</td>\n",
       "      <td>сотрудник</td>\n",
       "      <td>1</td>\n",
       "      <td>214785.654014</td>\n",
       "      <td>получение высшего образования</td>\n",
       "    </tr>\n",
       "    <tr>\n",
       "      <td>7978</td>\n",
       "      <td>0</td>\n",
       "      <td>-6587.968666</td>\n",
       "      <td>46</td>\n",
       "      <td>среднее</td>\n",
       "      <td>1</td>\n",
       "      <td>женат / замужем</td>\n",
       "      <td>0</td>\n",
       "      <td>M</td>\n",
       "      <td>сотрудник</td>\n",
       "      <td>0</td>\n",
       "      <td>222998.487872</td>\n",
       "      <td>строительство собственной недвижимости</td>\n",
       "    </tr>\n",
       "    <tr>\n",
       "      <td>20042</td>\n",
       "      <td>0</td>\n",
       "      <td>348803.565280</td>\n",
       "      <td>51</td>\n",
       "      <td>неоконченное высшее</td>\n",
       "      <td>2</td>\n",
       "      <td>женат / замужем</td>\n",
       "      <td>0</td>\n",
       "      <td>F</td>\n",
       "      <td>пенсионер</td>\n",
       "      <td>0</td>\n",
       "      <td>119218.444568</td>\n",
       "      <td>недвижимость</td>\n",
       "    </tr>\n",
       "  </tbody>\n",
       "</table>\n",
       "</div>"
      ],
      "text/plain": [
       "       children  days_employed  dob_years            education  education_id  \\\n",
       "18069         0    -517.793930         25               высшее             0   \n",
       "4636          1    -347.842965         37              среднее             1   \n",
       "6605          0   -3617.168602         48              среднее             1   \n",
       "7978          0   -6587.968666         46              среднее             1   \n",
       "20042         0  348803.565280         51  неоконченное высшее             2   \n",
       "\n",
       "               family_status  family_status_id gender income_type  debt  \\\n",
       "18069        женат / замужем                 0      M   сотрудник     0   \n",
       "4636         женат / замужем                 0      F   компаньон     0   \n",
       "6605   Не женат / не замужем                 4      M   сотрудник     1   \n",
       "7978         женат / замужем                 0      M   сотрудник     0   \n",
       "20042        женат / замужем                 0      F   пенсионер     0   \n",
       "\n",
       "        total_income                                 purpose  \n",
       "18069  184147.739600                                   жилье  \n",
       "4636   115999.432111           получение высшего образования  \n",
       "6605   214785.654014           получение высшего образования  \n",
       "7978   222998.487872  строительство собственной недвижимости  \n",
       "20042  119218.444568                            недвижимость  "
      ]
     },
     "metadata": {},
     "output_type": "display_data"
    },
    {
     "name": "stdout",
     "output_type": "stream",
     "text": [
      "\n"
     ]
    },
    {
     "data": {
      "text/plain": [
       "'-------Количество дубликатов---------'"
      ]
     },
     "metadata": {},
     "output_type": "display_data"
    },
    {
     "data": {
      "text/plain": [
       "54"
      ]
     },
     "metadata": {},
     "output_type": "display_data"
    },
    {
     "data": {
      "text/plain": [
       "'--Количество и процентное соотношение пропусков--'"
      ]
     },
     "metadata": {},
     "output_type": "display_data"
    },
    {
     "data": {
      "text/html": [
       "<div>\n",
       "<style scoped>\n",
       "    .dataframe tbody tr th:only-of-type {\n",
       "        vertical-align: middle;\n",
       "    }\n",
       "\n",
       "    .dataframe tbody tr th {\n",
       "        vertical-align: top;\n",
       "    }\n",
       "\n",
       "    .dataframe thead th {\n",
       "        text-align: right;\n",
       "    }\n",
       "</style>\n",
       "<table border=\"1\" class=\"dataframe\">\n",
       "  <thead>\n",
       "    <tr style=\"text-align: right;\">\n",
       "      <th></th>\n",
       "      <th>пропуски</th>\n",
       "      <th>% от общего количества</th>\n",
       "    </tr>\n",
       "  </thead>\n",
       "  <tbody>\n",
       "    <tr>\n",
       "      <td>days_employed</td>\n",
       "      <td>2174</td>\n",
       "      <td>0.1</td>\n",
       "    </tr>\n",
       "    <tr>\n",
       "      <td>total_income</td>\n",
       "      <td>2174</td>\n",
       "      <td>0.1</td>\n",
       "    </tr>\n",
       "    <tr>\n",
       "      <td>children</td>\n",
       "      <td>0</td>\n",
       "      <td>0.0</td>\n",
       "    </tr>\n",
       "    <tr>\n",
       "      <td>dob_years</td>\n",
       "      <td>0</td>\n",
       "      <td>0.0</td>\n",
       "    </tr>\n",
       "    <tr>\n",
       "      <td>education</td>\n",
       "      <td>0</td>\n",
       "      <td>0.0</td>\n",
       "    </tr>\n",
       "    <tr>\n",
       "      <td>education_id</td>\n",
       "      <td>0</td>\n",
       "      <td>0.0</td>\n",
       "    </tr>\n",
       "    <tr>\n",
       "      <td>family_status</td>\n",
       "      <td>0</td>\n",
       "      <td>0.0</td>\n",
       "    </tr>\n",
       "    <tr>\n",
       "      <td>family_status_id</td>\n",
       "      <td>0</td>\n",
       "      <td>0.0</td>\n",
       "    </tr>\n",
       "    <tr>\n",
       "      <td>gender</td>\n",
       "      <td>0</td>\n",
       "      <td>0.0</td>\n",
       "    </tr>\n",
       "    <tr>\n",
       "      <td>income_type</td>\n",
       "      <td>0</td>\n",
       "      <td>0.0</td>\n",
       "    </tr>\n",
       "    <tr>\n",
       "      <td>debt</td>\n",
       "      <td>0</td>\n",
       "      <td>0.0</td>\n",
       "    </tr>\n",
       "    <tr>\n",
       "      <td>purpose</td>\n",
       "      <td>0</td>\n",
       "      <td>0.0</td>\n",
       "    </tr>\n",
       "  </tbody>\n",
       "</table>\n",
       "</div>"
      ],
      "text/plain": [
       "                  пропуски  % от общего количества\n",
       "days_employed         2174                     0.1\n",
       "total_income          2174                     0.1\n",
       "children                 0                     0.0\n",
       "dob_years                0                     0.0\n",
       "education                0                     0.0\n",
       "education_id             0                     0.0\n",
       "family_status            0                     0.0\n",
       "family_status_id         0                     0.0\n",
       "gender                   0                     0.0\n",
       "income_type              0                     0.0\n",
       "debt                     0                     0.0\n",
       "purpose                  0                     0.0"
      ]
     },
     "metadata": {},
     "output_type": "display_data"
    },
    {
     "name": "stdout",
     "output_type": "stream",
     "text": [
      "\n",
      "----------Описательная статистика----------\n"
     ]
    },
    {
     "data": {
      "text/html": [
       "<div>\n",
       "<style scoped>\n",
       "    .dataframe tbody tr th:only-of-type {\n",
       "        vertical-align: middle;\n",
       "    }\n",
       "\n",
       "    .dataframe tbody tr th {\n",
       "        vertical-align: top;\n",
       "    }\n",
       "\n",
       "    .dataframe thead th {\n",
       "        text-align: right;\n",
       "    }\n",
       "</style>\n",
       "<table border=\"1\" class=\"dataframe\">\n",
       "  <thead>\n",
       "    <tr style=\"text-align: right;\">\n",
       "      <th></th>\n",
       "      <th>count</th>\n",
       "      <th>mean</th>\n",
       "      <th>std</th>\n",
       "      <th>min</th>\n",
       "      <th>25%</th>\n",
       "      <th>50%</th>\n",
       "      <th>75%</th>\n",
       "      <th>max</th>\n",
       "    </tr>\n",
       "  </thead>\n",
       "  <tbody>\n",
       "    <tr>\n",
       "      <td>children</td>\n",
       "      <td>21525.0</td>\n",
       "      <td>0.538908</td>\n",
       "      <td>1.381587</td>\n",
       "      <td>-1.000000</td>\n",
       "      <td>0.000000</td>\n",
       "      <td>0.000000</td>\n",
       "      <td>1.000000</td>\n",
       "      <td>2.000000e+01</td>\n",
       "    </tr>\n",
       "    <tr>\n",
       "      <td>days_employed</td>\n",
       "      <td>19351.0</td>\n",
       "      <td>63046.497661</td>\n",
       "      <td>140827.311974</td>\n",
       "      <td>-18388.949901</td>\n",
       "      <td>-2747.423625</td>\n",
       "      <td>-1203.369529</td>\n",
       "      <td>-291.095954</td>\n",
       "      <td>4.017554e+05</td>\n",
       "    </tr>\n",
       "    <tr>\n",
       "      <td>dob_years</td>\n",
       "      <td>21525.0</td>\n",
       "      <td>43.293380</td>\n",
       "      <td>12.574584</td>\n",
       "      <td>0.000000</td>\n",
       "      <td>33.000000</td>\n",
       "      <td>42.000000</td>\n",
       "      <td>53.000000</td>\n",
       "      <td>7.500000e+01</td>\n",
       "    </tr>\n",
       "    <tr>\n",
       "      <td>education_id</td>\n",
       "      <td>21525.0</td>\n",
       "      <td>0.817236</td>\n",
       "      <td>0.548138</td>\n",
       "      <td>0.000000</td>\n",
       "      <td>1.000000</td>\n",
       "      <td>1.000000</td>\n",
       "      <td>1.000000</td>\n",
       "      <td>4.000000e+00</td>\n",
       "    </tr>\n",
       "    <tr>\n",
       "      <td>family_status_id</td>\n",
       "      <td>21525.0</td>\n",
       "      <td>0.972544</td>\n",
       "      <td>1.420324</td>\n",
       "      <td>0.000000</td>\n",
       "      <td>0.000000</td>\n",
       "      <td>0.000000</td>\n",
       "      <td>1.000000</td>\n",
       "      <td>4.000000e+00</td>\n",
       "    </tr>\n",
       "    <tr>\n",
       "      <td>debt</td>\n",
       "      <td>21525.0</td>\n",
       "      <td>0.080883</td>\n",
       "      <td>0.272661</td>\n",
       "      <td>0.000000</td>\n",
       "      <td>0.000000</td>\n",
       "      <td>0.000000</td>\n",
       "      <td>0.000000</td>\n",
       "      <td>1.000000e+00</td>\n",
       "    </tr>\n",
       "    <tr>\n",
       "      <td>total_income</td>\n",
       "      <td>19351.0</td>\n",
       "      <td>167422.302208</td>\n",
       "      <td>102971.566448</td>\n",
       "      <td>20667.263793</td>\n",
       "      <td>103053.152913</td>\n",
       "      <td>145017.937533</td>\n",
       "      <td>203435.067663</td>\n",
       "      <td>2.265604e+06</td>\n",
       "    </tr>\n",
       "  </tbody>\n",
       "</table>\n",
       "</div>"
      ],
      "text/plain": [
       "                    count           mean            std           min  \\\n",
       "children          21525.0       0.538908       1.381587     -1.000000   \n",
       "days_employed     19351.0   63046.497661  140827.311974 -18388.949901   \n",
       "dob_years         21525.0      43.293380      12.574584      0.000000   \n",
       "education_id      21525.0       0.817236       0.548138      0.000000   \n",
       "family_status_id  21525.0       0.972544       1.420324      0.000000   \n",
       "debt              21525.0       0.080883       0.272661      0.000000   \n",
       "total_income      19351.0  167422.302208  102971.566448  20667.263793   \n",
       "\n",
       "                            25%            50%            75%           max  \n",
       "children               0.000000       0.000000       1.000000  2.000000e+01  \n",
       "days_employed      -2747.423625   -1203.369529    -291.095954  4.017554e+05  \n",
       "dob_years             33.000000      42.000000      53.000000  7.500000e+01  \n",
       "education_id           1.000000       1.000000       1.000000  4.000000e+00  \n",
       "family_status_id       0.000000       0.000000       1.000000  4.000000e+00  \n",
       "debt                   0.000000       0.000000       0.000000  1.000000e+00  \n",
       "total_income      103053.152913  145017.937533  203435.067663  2.265604e+06  "
      ]
     },
     "metadata": {},
     "output_type": "display_data"
    }
   ],
   "source": [
    "data = first_glance('/datasets/data.csv', 'Data')"
   ]
  },
  {
   "cell_type": "code",
   "execution_count": 5,
   "metadata": {},
   "outputs": [],
   "source": [
    "# группировка колонок по двум типам: числовые и категориальные\n",
    "def group_columns(df):\n",
    "    numeric_columns = []\n",
    "    categorical_columns = []\n",
    "\n",
    "    for column in df.columns:\n",
    "        if df[column].dtype.name in ['int64', 'float64', 'bool']:\n",
    "            numeric_columns.append(column)\n",
    "        if df[column].dtype.name in ['object', 'category', 'datetime64']:\n",
    "            categorical_columns.append(column)  \n",
    "            \n",
    "    return categorical_columns, numeric_columns"
   ]
  },
  {
   "cell_type": "code",
   "execution_count": 6,
   "metadata": {},
   "outputs": [],
   "source": [
    "cat_columns, num_columns = group_columns(data)"
   ]
  },
  {
   "cell_type": "code",
   "execution_count": 7,
   "metadata": {},
   "outputs": [],
   "source": [
    "def visualize_info(df, columns):\n",
    "    '''\n",
    "    В виде подграфиков:\n",
    "        Выводит информацию describe;\n",
    "        Строит графики:\n",
    "            диаграмма размаха;\n",
    "            гистограмма;\n",
    "            график квантиль-квантиль.\n",
    "    \n",
    "     Параметры\n",
    "     ----------\n",
    "     df: DataFrame\n",
    "         таблица для графика\n",
    "     columns: str\n",
    "         названия колонок с численными данными\n",
    "    '''\n",
    "    fig, ax = plt.subplots(len(columns), 4, gridspec_kw={'wspace': 0.5, 'hspace': 0.3})\n",
    "    fig.set_figheight(5 * len(columns))\n",
    "    fig.set_figwidth(17)\n",
    "    \n",
    "    for i, column in enumerate(columns):\n",
    "        ax_plot = [ax[i,0], ax[i,1], ax[i,2], ax[i,3]]\n",
    "\n",
    "        # describe info\n",
    "        describe_series = round(df[column].describe())\n",
    "        # создание таблицы на основе перевернутой series.describe() \n",
    "        describe_table = ax_plot[0].table(\n",
    "            cellText=describe_series.values.reshape(describe_series.shape[0],1),\n",
    "            rowLabels=list(describe_series.index),\n",
    "            colLabels=[column],\n",
    "            colWidths = [0.9],\n",
    "            loc = 'center'\n",
    "                                         )\n",
    "        ax_plot[0].grid(False)\n",
    "        ax_plot[0].axis('off')\n",
    "        describe_table.scale(1, 2)\n",
    "        describe_table.auto_set_font_size(False)\n",
    "        describe_table.set_fontsize(15)\n",
    "        \n",
    "        # violin plot\n",
    "        sns.violinplot(data=df[column], ax=ax_plot[1], color='lightseagreen')\n",
    "        ax_plot[1].set_xlabel(column, fontsize = 15)\n",
    "        \n",
    "        # density plot\n",
    "        sns.distplot(a=df[column], kde=True, ax=ax_plot[2], color='olive')\n",
    "        ax_plot[2].set_xlabel(column, fontsize = 15)\n",
    "        ax_plot[2].set_ylabel('Density', fontsize = 14)\n",
    "        \n",
    "        # qq-plot\n",
    "        sm.qqplot(df[column].astype(np.float64), ax=ax_plot[3], fit=True, line='45')\n",
    "        ax_plot[3].set_xlabel('Theoretical Quantiles', fontsize = 15)\n",
    "        ax_plot[3].set_ylabel('Sample Quantiles', fontsize = 15)"
   ]
  },
  {
   "cell_type": "code",
   "execution_count": 8,
   "metadata": {
    "scrolled": false
   },
   "outputs": [
    {
     "data": {
      "image/png": "[encoded data removed]",
      "text/plain": [
       "<Figure size 1224x2520 with 28 Axes>"
      ]
     },
     "metadata": {
      "needs_background": "light"
     },
     "output_type": "display_data"
    }
   ],
   "source": [
    "visualize_info(data.dropna(), num_columns)"
   ]
  },
  {
   "cell_type": "code",
   "execution_count": 9,
   "metadata": {},
   "outputs": [
    {
     "data": {
      "image/png": "[encoded data removed]",
      "text/plain": [
       "<Figure size 504x360 with 2 Axes>"
      ]
     },
     "metadata": {
      "needs_background": "light"
     },
     "output_type": "display_data"
    }
   ],
   "source": [
    "plt.figure(figsize=(7, 5))\n",
    "ax = plt.axes()\n",
    "sns.heatmap(data.corr(), annot=True, ax = ax)\n",
    "ax.set_title(\"Коэффициент корреляции Пирсона\")\n",
    "plt.show()"
   ]
  },
  {
   "cell_type": "markdown",
   "metadata": {},
   "source": [
    "**Вывод**"
   ]
  },
  {
   "cell_type": "markdown",
   "metadata": {},
   "source": [
    "Данные имеют 12 столбцов и 21525 строк, из которых два столбца имеют пропуски или значения других типов, два столбца имеют значения вещественного типа, пять столбцов имеют значения целого типа, остальные - строковые значения. "
   ]
  },
  {
   "cell_type": "markdown",
   "metadata": {},
   "source": [
    "Данные содержат пропущенные значения в столбцах со стажем и размером ежемесячного дохода.\n",
    "В столбцах с информацией о детях имеются подозрительно большие значения при довольно небольшом возрасте и отрицательные значения.\n",
    "\n",
    "Также имеются полные дубликаты.\n",
    "\n",
    "Данные о стаже (в днях) имеют аномально высокие значения и отрицательные значения, а также имеют вещественный тип.\n",
    "\n",
    "Колонка с образованием требует приведения к единому стилю наименований. \n",
    "Колонка с целями требует категоризации.\n",
    "Таблица состоит из 12 столбцов и не очень удобна для просмотра и оценки. "
   ]
  },
  {
   "cell_type": "markdown",
   "metadata": {},
   "source": [
    "## Предобработка данных"
   ]
  },
  {
   "cell_type": "markdown",
   "metadata": {},
   "source": [
    "### Обработка дубликатов"
   ]
  },
  {
   "cell_type": "code",
   "execution_count": 10,
   "metadata": {},
   "outputs": [
    {
     "data": {
      "text/plain": [
       "54"
      ]
     },
     "execution_count": 10,
     "metadata": {},
     "output_type": "execute_result"
    }
   ],
   "source": [
    "data.duplicated().sum()"
   ]
  },
  {
   "cell_type": "markdown",
   "metadata": {},
   "source": [
    "Из 21525 строк всего 54 являются полными дубликатами, удалим их и обновим индексы для удобства дальнейшей обработки."
   ]
  },
  {
   "cell_type": "code",
   "execution_count": 11,
   "metadata": {},
   "outputs": [
    {
     "data": {
      "text/plain": [
       "0"
      ]
     },
     "execution_count": 11,
     "metadata": {},
     "output_type": "execute_result"
    }
   ],
   "source": [
    "data = data.drop_duplicates().reset_index(drop=True)\n",
    "data.duplicated().sum()"
   ]
  },
  {
   "cell_type": "markdown",
   "metadata": {},
   "source": [
    "Проверим есть ли неявные дубликаты в данных с помощью подсчёта уникальных значений и приведением всех значений к нижнему регистру для категоризации и во избежании ошибок при наименовании их в условиях."
   ]
  },
  {
   "cell_type": "code",
   "execution_count": 12,
   "metadata": {},
   "outputs": [
    {
     "data": {
      "text/plain": [
       "среднее                13705\n",
       "высшее                  4710\n",
       "СРЕДНЕЕ                  772\n",
       "Среднее                  711\n",
       "неоконченное высшее      668\n",
       "ВЫСШЕЕ                   273\n",
       "Высшее                   268\n",
       "начальное                250\n",
       "Неоконченное высшее       47\n",
       "НЕОКОНЧЕННОЕ ВЫСШЕЕ       29\n",
       "НАЧАЛЬНОЕ                 17\n",
       "Начальное                 15\n",
       "ученая степень             4\n",
       "УЧЕНАЯ СТЕПЕНЬ             1\n",
       "Ученая степень             1\n",
       "Name: education, dtype: int64"
      ]
     },
     "execution_count": 12,
     "metadata": {},
     "output_type": "execute_result"
    }
   ],
   "source": [
    "data['education'].value_counts()"
   ]
  },
  {
   "cell_type": "code",
   "execution_count": 13,
   "metadata": {},
   "outputs": [
    {
     "data": {
      "text/plain": [
       "среднее                15188\n",
       "высшее                  5251\n",
       "неоконченное высшее      744\n",
       "начальное                282\n",
       "ученая степень             6\n",
       "Name: education, dtype: int64"
      ]
     },
     "execution_count": 13,
     "metadata": {},
     "output_type": "execute_result"
    }
   ],
   "source": [
    "data['education'] = data['education'].str.lower()\n",
    "data['education'].value_counts()"
   ]
  },
  {
   "cell_type": "code",
   "execution_count": 14,
   "metadata": {},
   "outputs": [
    {
     "data": {
      "text/plain": [
       "женат / замужем          12344\n",
       "гражданский брак          4163\n",
       "Не женат / не замужем     2810\n",
       "в разводе                 1195\n",
       "вдовец / вдова             959\n",
       "Name: family_status, dtype: int64"
      ]
     },
     "execution_count": 14,
     "metadata": {},
     "output_type": "execute_result"
    }
   ],
   "source": [
    "data['family_status'].value_counts()"
   ]
  },
  {
   "cell_type": "code",
   "execution_count": 15,
   "metadata": {},
   "outputs": [
    {
     "data": {
      "text/plain": [
       "женат / замужем          12344\n",
       "гражданский брак          4163\n",
       "не женат / не замужем     2810\n",
       "в разводе                 1195\n",
       "вдовец / вдова             959\n",
       "Name: family_status, dtype: int64"
      ]
     },
     "execution_count": 15,
     "metadata": {},
     "output_type": "execute_result"
    }
   ],
   "source": [
    "data['family_status'] = data['family_status'].str.lower()\n",
    "data['family_status'].value_counts()"
   ]
  },
  {
   "cell_type": "code",
   "execution_count": 16,
   "metadata": {
    "scrolled": true
   },
   "outputs": [
    {
     "data": {
      "text/plain": [
       "сотрудник          11091\n",
       "компаньон           5080\n",
       "пенсионер           3837\n",
       "госслужащий         1457\n",
       "предприниматель        2\n",
       "безработный            2\n",
       "в декрете              1\n",
       "студент                1\n",
       "Name: income_type, dtype: int64"
      ]
     },
     "execution_count": 16,
     "metadata": {},
     "output_type": "execute_result"
    }
   ],
   "source": [
    "data['income_type'].value_counts()"
   ]
  },
  {
   "cell_type": "markdown",
   "metadata": {},
   "source": [
    "В типах занятости есть пересекающиеся названия, объединим их в одну группу для корректной категоризации в дальнейшем и создадим для них отдельный столбец."
   ]
  },
  {
   "cell_type": "code",
   "execution_count": 17,
   "metadata": {},
   "outputs": [
    {
     "data": {
      "text/plain": [
       "income_type_edited\n",
       "безработный            4\n",
       "пенсионер           3837\n",
       "предприниматель     5082\n",
       "сотрудник          12548\n",
       "Name: income_type_edited, dtype: int64"
      ]
     },
     "execution_count": 17,
     "metadata": {},
     "output_type": "execute_result"
    }
   ],
   "source": [
    "data.loc[data['income_type'] == 'сотрудник', 'income_type_edited'] = 'сотрудник'\n",
    "data.loc[data['income_type'] == 'госслужащий', 'income_type_edited'] = 'сотрудник'\n",
    "data.loc[data['income_type'] == 'безработный', 'income_type_edited'] = 'безработный'\n",
    "data.loc[data['income_type'] == 'студент', 'income_type_edited'] = 'безработный'\n",
    "data.loc[data['income_type'] == 'в декрете', 'income_type_edited'] = 'безработный'\n",
    "data.loc[data['income_type'] == 'компаньон', 'income_type_edited'] = 'предприниматель'\n",
    "data.loc[data['income_type'] == 'пенсионер', 'income_type_edited'] = 'пенсионер'\n",
    "data.loc[data['income_type'] == 'предприниматель', 'income_type_edited'] = 'предприниматель'\n",
    "\n",
    "data.groupby('income_type_edited')['income_type_edited'].count()\n"
   ]
  },
  {
   "cell_type": "code",
   "execution_count": 18,
   "metadata": {},
   "outputs": [
    {
     "data": {
      "text/plain": [
       "0"
      ]
     },
     "execution_count": 18,
     "metadata": {},
     "output_type": "execute_result"
    }
   ],
   "source": [
    "#проверка корректного создания новых значений во всех строках\n",
    "data['income_type_edited'].isna().sum()"
   ]
  },
  {
   "cell_type": "markdown",
   "metadata": {},
   "source": [
    "Проверим корректность замены, сравнив общее количество в друх столбцах."
   ]
  },
  {
   "cell_type": "code",
   "execution_count": 19,
   "metadata": {},
   "outputs": [
    {
     "data": {
      "text/plain": [
       "17"
      ]
     },
     "execution_count": 19,
     "metadata": {},
     "output_type": "execute_result"
    }
   ],
   "source": [
    "data.duplicated().sum()"
   ]
  },
  {
   "cell_type": "markdown",
   "metadata": {},
   "source": [
    "Появились новые дубликаты, удалим их и сбросим индекс для дальнейшей работы."
   ]
  },
  {
   "cell_type": "code",
   "execution_count": 20,
   "metadata": {},
   "outputs": [
    {
     "data": {
      "text/plain": [
       "0"
      ]
     },
     "execution_count": 20,
     "metadata": {},
     "output_type": "execute_result"
    }
   ],
   "source": [
    "data = data.drop_duplicates().reset_index(drop=True)\n",
    "data.duplicated().sum()"
   ]
  },
  {
   "cell_type": "markdown",
   "metadata": {},
   "source": [
    "**Вывод**"
   ]
  },
  {
   "cell_type": "markdown",
   "metadata": {},
   "source": [
    "Дубликаты могли появиться в результате некорректной загрузки данных, сбоя в записи данных.\n",
    "\n",
    "Удаление дубликатов позволит более корректно рассчитать среднее значение и медиану для заполнения пропущенных и нулевых значений."
   ]
  },
  {
   "cell_type": "markdown",
   "metadata": {},
   "source": [
    "### Обработка пропусков"
   ]
  },
  {
   "cell_type": "markdown",
   "metadata": {},
   "source": [
    "**Переведем все отрицательные значения в столбце со стажем и количеством детей в положительные**"
   ]
  },
  {
   "cell_type": "markdown",
   "metadata": {},
   "source": [
    "Чтобы заполнить пропуски в столбцах со стажем и доходом, избавимся от отрицательных и нулевых значений в стобцах со стажем и возрастом."
   ]
  },
  {
   "cell_type": "code",
   "execution_count": 21,
   "metadata": {},
   "outputs": [],
   "source": [
    "for index in data.index:\n",
    "    if data.loc[index, 'days_employed'] < 0:\n",
    "        data.loc[index, 'days_employed'] = data.loc[index, 'days_employed'] * -1"
   ]
  },
  {
   "cell_type": "markdown",
   "metadata": {},
   "source": [
    "Проверим наличие отрицательных значений"
   ]
  },
  {
   "cell_type": "code",
   "execution_count": 22,
   "metadata": {
    "scrolled": true
   },
   "outputs": [
    {
     "data": {
      "text/plain": [
       "0"
      ]
     },
     "execution_count": 22,
     "metadata": {},
     "output_type": "execute_result"
    }
   ],
   "source": [
    "data.loc[data['days_employed'] < 0]['days_employed'].count()"
   ]
  },
  {
   "cell_type": "markdown",
   "metadata": {},
   "source": [
    "Избавимся от отрицательных значений в столбце о количестве детей."
   ]
  },
  {
   "cell_type": "code",
   "execution_count": 23,
   "metadata": {},
   "outputs": [],
   "source": [
    "def children_positive(row): \n",
    "    if row['children'] < 0: \n",
    "        row['children'] = row['children'] * -1 \n",
    "    return row['children']\n",
    "\n",
    "data['children'] = data.apply(children_positive, axis=1)"
   ]
  },
  {
   "cell_type": "markdown",
   "metadata": {},
   "source": [
    "Проверим наличие отрицательных значений."
   ]
  },
  {
   "cell_type": "code",
   "execution_count": 24,
   "metadata": {},
   "outputs": [
    {
     "data": {
      "text/plain": [
       "0"
      ]
     },
     "execution_count": 24,
     "metadata": {},
     "output_type": "execute_result"
    }
   ],
   "source": [
    "data.loc[data['children'] < 0]['children'].count()"
   ]
  },
  {
   "cell_type": "code",
   "execution_count": 25,
   "metadata": {},
   "outputs": [
    {
     "data": {
      "text/plain": [
       "children\n",
       "0     14091\n",
       "1      4855\n",
       "2      2052\n",
       "3       330\n",
       "4        41\n",
       "5         9\n",
       "20       76\n",
       "Name: children, dtype: int64"
      ]
     },
     "execution_count": 25,
     "metadata": {},
     "output_type": "execute_result"
    }
   ],
   "source": [
    "data.groupby('children')['children'].count()"
   ]
  },
  {
   "cell_type": "markdown",
   "metadata": {},
   "source": [
    "Так как максимальное количество детей равно 20 и таких значений много, можно предположить, что это было вызвано ошибкой в сборе данных. Возможно изначально было указано двое детей, а ноль оказался там случайно.\n",
    "\n",
    "Поэтому необходимо обработать данные значения для получения корректных результатов анализа."
   ]
  },
  {
   "cell_type": "code",
   "execution_count": 26,
   "metadata": {},
   "outputs": [],
   "source": [
    "data.loc[data['children'] == 20, 'children'] = 2"
   ]
  },
  {
   "cell_type": "code",
   "execution_count": 27,
   "metadata": {},
   "outputs": [
    {
     "data": {
      "text/plain": [
       "children\n",
       "0    14091\n",
       "1     4855\n",
       "2     2128\n",
       "3      330\n",
       "4       41\n",
       "5        9\n",
       "Name: children, dtype: int64"
      ]
     },
     "execution_count": 27,
     "metadata": {},
     "output_type": "execute_result"
    }
   ],
   "source": [
    "data.groupby('children')['children'].count()"
   ]
  },
  {
   "cell_type": "markdown",
   "metadata": {},
   "source": [
    "Проверим, в скольких строках возраст равен нулю."
   ]
  },
  {
   "cell_type": "code",
   "execution_count": 28,
   "metadata": {},
   "outputs": [
    {
     "data": {
      "text/plain": [
       "101"
      ]
     },
     "execution_count": 28,
     "metadata": {},
     "output_type": "execute_result"
    }
   ],
   "source": [
    "data.loc[data['dob_years'] == 0]['dob_years'].count()"
   ]
  },
  {
   "cell_type": "markdown",
   "metadata": {},
   "source": [
    "Так как строк с нулевым возрастом немного, заменим их на среднее значение."
   ]
  },
  {
   "cell_type": "code",
   "execution_count": 29,
   "metadata": {
    "scrolled": true
   },
   "outputs": [
    {
     "data": {
      "text/plain": [
       "43.271231471986574"
      ]
     },
     "execution_count": 29,
     "metadata": {},
     "output_type": "execute_result"
    }
   ],
   "source": [
    "mean_age = data['dob_years'].mean()\n",
    "mean_age"
   ]
  },
  {
   "cell_type": "code",
   "execution_count": 30,
   "metadata": {},
   "outputs": [],
   "source": [
    "data.loc[data['dob_years'] == 0, 'dob_years'] = mean_age"
   ]
  },
  {
   "cell_type": "markdown",
   "metadata": {},
   "source": [
    "Проверяем, остались ли нулевые значения в колонке с возрастом."
   ]
  },
  {
   "cell_type": "code",
   "execution_count": 31,
   "metadata": {},
   "outputs": [
    {
     "data": {
      "text/plain": [
       "0"
      ]
     },
     "execution_count": 31,
     "metadata": {},
     "output_type": "execute_result"
    }
   ],
   "source": [
    "data.loc[data['dob_years'] == 0]['dob_years'].count()"
   ]
  },
  {
   "cell_type": "markdown",
   "metadata": {},
   "source": [
    "Заполняем пропущенные значения о стаже."
   ]
  },
  {
   "cell_type": "code",
   "execution_count": 32,
   "metadata": {},
   "outputs": [],
   "source": [
    "# фукнция рассчитывает стаж в зависимости от возраста \n",
    "# и заполняет пропущенные значения стажа по каждой строке таблицы с помощью .index\n",
    "\n",
    "def days_employed_nan(data):\n",
    "    for index in data.index:\n",
    "        age = data.loc[index, 'dob_years']\n",
    "        days_result = (age - 18) * 365\n",
    "\n",
    "        if pd.isna(data.loc[index, 'days_employed']) == True and age > 18:\n",
    "            data.loc[index, 'days_employed'] = days_result\n",
    "        elif pd.isna(data.loc[index, 'days_employed']) == True and age <= 18:\n",
    "            data.loc[index, 'days_employed'] = 0\n",
    "    return data"
   ]
  },
  {
   "cell_type": "code",
   "execution_count": 33,
   "metadata": {
    "scrolled": false
   },
   "outputs": [
    {
     "data": {
      "text/plain": [
       "0"
      ]
     },
     "execution_count": 33,
     "metadata": {},
     "output_type": "execute_result"
    }
   ],
   "source": [
    "days_employed_nan(data)\n",
    "data['days_employed'].isna().sum()"
   ]
  },
  {
   "cell_type": "markdown",
   "metadata": {},
   "source": [
    "**Корректировка значений стажа**"
   ]
  },
  {
   "cell_type": "markdown",
   "metadata": {},
   "source": [
    "В столбце со стажем ниже есть аномально большие значения, если стаж больше максимально возможного для данного возраста, предположим, что данные в этих строках исчисляются в часах, а не днях и разделим такие значения на 24."
   ]
  },
  {
   "cell_type": "code",
   "execution_count": 34,
   "metadata": {},
   "outputs": [
    {
     "data": {
      "text/html": [
       "<div>\n",
       "<style scoped>\n",
       "    .dataframe tbody tr th:only-of-type {\n",
       "        vertical-align: middle;\n",
       "    }\n",
       "\n",
       "    .dataframe tbody tr th {\n",
       "        vertical-align: top;\n",
       "    }\n",
       "\n",
       "    .dataframe thead th {\n",
       "        text-align: right;\n",
       "    }\n",
       "</style>\n",
       "<table border=\"1\" class=\"dataframe\">\n",
       "  <thead>\n",
       "    <tr style=\"text-align: right;\">\n",
       "      <th></th>\n",
       "      <th>children</th>\n",
       "      <th>days_employed</th>\n",
       "      <th>dob_years</th>\n",
       "      <th>education</th>\n",
       "      <th>education_id</th>\n",
       "      <th>family_status</th>\n",
       "      <th>family_status_id</th>\n",
       "      <th>gender</th>\n",
       "      <th>income_type</th>\n",
       "      <th>debt</th>\n",
       "      <th>total_income</th>\n",
       "      <th>purpose</th>\n",
       "      <th>income_type_edited</th>\n",
       "    </tr>\n",
       "  </thead>\n",
       "  <tbody>\n",
       "    <tr>\n",
       "      <td>7788</td>\n",
       "      <td>0</td>\n",
       "      <td>401663.850046</td>\n",
       "      <td>61.0</td>\n",
       "      <td>среднее</td>\n",
       "      <td>1</td>\n",
       "      <td>гражданский брак</td>\n",
       "      <td>1</td>\n",
       "      <td>F</td>\n",
       "      <td>пенсионер</td>\n",
       "      <td>0</td>\n",
       "      <td>48286.441362</td>\n",
       "      <td>свадьба</td>\n",
       "      <td>пенсионер</td>\n",
       "    </tr>\n",
       "    <tr>\n",
       "      <td>2156</td>\n",
       "      <td>0</td>\n",
       "      <td>401674.466633</td>\n",
       "      <td>60.0</td>\n",
       "      <td>среднее</td>\n",
       "      <td>1</td>\n",
       "      <td>женат / замужем</td>\n",
       "      <td>0</td>\n",
       "      <td>M</td>\n",
       "      <td>пенсионер</td>\n",
       "      <td>0</td>\n",
       "      <td>325395.724541</td>\n",
       "      <td>автомобили</td>\n",
       "      <td>пенсионер</td>\n",
       "    </tr>\n",
       "    <tr>\n",
       "      <td>7658</td>\n",
       "      <td>1</td>\n",
       "      <td>401675.093434</td>\n",
       "      <td>61.0</td>\n",
       "      <td>среднее</td>\n",
       "      <td>1</td>\n",
       "      <td>женат / замужем</td>\n",
       "      <td>0</td>\n",
       "      <td>F</td>\n",
       "      <td>пенсионер</td>\n",
       "      <td>0</td>\n",
       "      <td>126214.519212</td>\n",
       "      <td>операции с жильем</td>\n",
       "      <td>пенсионер</td>\n",
       "    </tr>\n",
       "    <tr>\n",
       "      <td>9991</td>\n",
       "      <td>0</td>\n",
       "      <td>401715.811749</td>\n",
       "      <td>69.0</td>\n",
       "      <td>высшее</td>\n",
       "      <td>0</td>\n",
       "      <td>не женат / не замужем</td>\n",
       "      <td>4</td>\n",
       "      <td>F</td>\n",
       "      <td>пенсионер</td>\n",
       "      <td>0</td>\n",
       "      <td>57390.256908</td>\n",
       "      <td>получение образования</td>\n",
       "      <td>пенсионер</td>\n",
       "    </tr>\n",
       "    <tr>\n",
       "      <td>6948</td>\n",
       "      <td>0</td>\n",
       "      <td>401755.400475</td>\n",
       "      <td>56.0</td>\n",
       "      <td>среднее</td>\n",
       "      <td>1</td>\n",
       "      <td>вдовец / вдова</td>\n",
       "      <td>2</td>\n",
       "      <td>F</td>\n",
       "      <td>пенсионер</td>\n",
       "      <td>0</td>\n",
       "      <td>176278.441171</td>\n",
       "      <td>ремонт жилью</td>\n",
       "      <td>пенсионер</td>\n",
       "    </tr>\n",
       "  </tbody>\n",
       "</table>\n",
       "</div>"
      ],
      "text/plain": [
       "      children  days_employed  dob_years education  education_id  \\\n",
       "7788         0  401663.850046       61.0   среднее             1   \n",
       "2156         0  401674.466633       60.0   среднее             1   \n",
       "7658         1  401675.093434       61.0   среднее             1   \n",
       "9991         0  401715.811749       69.0    высшее             0   \n",
       "6948         0  401755.400475       56.0   среднее             1   \n",
       "\n",
       "              family_status  family_status_id gender income_type  debt  \\\n",
       "7788       гражданский брак                 1      F   пенсионер     0   \n",
       "2156        женат / замужем                 0      M   пенсионер     0   \n",
       "7658        женат / замужем                 0      F   пенсионер     0   \n",
       "9991  не женат / не замужем                 4      F   пенсионер     0   \n",
       "6948         вдовец / вдова                 2      F   пенсионер     0   \n",
       "\n",
       "       total_income                purpose income_type_edited  \n",
       "7788   48286.441362                свадьба          пенсионер  \n",
       "2156  325395.724541             автомобили          пенсионер  \n",
       "7658  126214.519212      операции с жильем          пенсионер  \n",
       "9991   57390.256908  получение образования          пенсионер  \n",
       "6948  176278.441171           ремонт жилью          пенсионер  "
      ]
     },
     "execution_count": 34,
     "metadata": {},
     "output_type": "execute_result"
    }
   ],
   "source": [
    "data.sort_values(by='days_employed').tail()"
   ]
  },
  {
   "cell_type": "code",
   "execution_count": 35,
   "metadata": {},
   "outputs": [],
   "source": [
    "# для условия возьмем 366 дней в году, чтобы не делить нормальные значения в днях\n",
    "# все значения, которые выходят за рамки максимально возможного стажа для данного возраста, \n",
    "# предположим, что они даны в часах и разделим их на 24\n",
    "\n",
    "def days_employed_anomaly(data):\n",
    "    for index in data.index:\n",
    "        age = data.loc[index, 'dob_years']\n",
    "        days_result = (age - 18) * 366\n",
    "\n",
    "        if data.loc[index, 'days_employed'] > days_result:\n",
    "            data.loc[index, 'days_employed'] = data.loc[index, 'days_employed'] / 24\n",
    "    return data"
   ]
  },
  {
   "cell_type": "code",
   "execution_count": 36,
   "metadata": {},
   "outputs": [
    {
     "data": {
      "text/html": [
       "<div>\n",
       "<style scoped>\n",
       "    .dataframe tbody tr th:only-of-type {\n",
       "        vertical-align: middle;\n",
       "    }\n",
       "\n",
       "    .dataframe tbody tr th {\n",
       "        vertical-align: top;\n",
       "    }\n",
       "\n",
       "    .dataframe thead th {\n",
       "        text-align: right;\n",
       "    }\n",
       "</style>\n",
       "<table border=\"1\" class=\"dataframe\">\n",
       "  <thead>\n",
       "    <tr style=\"text-align: right;\">\n",
       "      <th></th>\n",
       "      <th>children</th>\n",
       "      <th>days_employed</th>\n",
       "      <th>dob_years</th>\n",
       "      <th>education</th>\n",
       "      <th>education_id</th>\n",
       "      <th>family_status</th>\n",
       "      <th>family_status_id</th>\n",
       "      <th>gender</th>\n",
       "      <th>income_type</th>\n",
       "      <th>debt</th>\n",
       "      <th>total_income</th>\n",
       "      <th>purpose</th>\n",
       "      <th>income_type_edited</th>\n",
       "    </tr>\n",
       "  </thead>\n",
       "  <tbody>\n",
       "    <tr>\n",
       "      <td>18614</td>\n",
       "      <td>1</td>\n",
       "      <td>20075.000000</td>\n",
       "      <td>73.0</td>\n",
       "      <td>среднее</td>\n",
       "      <td>1</td>\n",
       "      <td>женат / замужем</td>\n",
       "      <td>0</td>\n",
       "      <td>F</td>\n",
       "      <td>пенсионер</td>\n",
       "      <td>0</td>\n",
       "      <td>NaN</td>\n",
       "      <td>дополнительное образование</td>\n",
       "      <td>пенсионер</td>\n",
       "    </tr>\n",
       "    <tr>\n",
       "      <td>10547</td>\n",
       "      <td>0</td>\n",
       "      <td>19710.000000</td>\n",
       "      <td>72.0</td>\n",
       "      <td>среднее</td>\n",
       "      <td>1</td>\n",
       "      <td>не женат / не замужем</td>\n",
       "      <td>4</td>\n",
       "      <td>F</td>\n",
       "      <td>пенсионер</td>\n",
       "      <td>1</td>\n",
       "      <td>NaN</td>\n",
       "      <td>приобретение автомобиля</td>\n",
       "      <td>пенсионер</td>\n",
       "    </tr>\n",
       "    <tr>\n",
       "      <td>13838</td>\n",
       "      <td>0</td>\n",
       "      <td>19710.000000</td>\n",
       "      <td>72.0</td>\n",
       "      <td>среднее</td>\n",
       "      <td>1</td>\n",
       "      <td>женат / замужем</td>\n",
       "      <td>0</td>\n",
       "      <td>F</td>\n",
       "      <td>компаньон</td>\n",
       "      <td>0</td>\n",
       "      <td>NaN</td>\n",
       "      <td>сделка с автомобилем</td>\n",
       "      <td>предприниматель</td>\n",
       "    </tr>\n",
       "    <tr>\n",
       "      <td>8447</td>\n",
       "      <td>0</td>\n",
       "      <td>19345.000000</td>\n",
       "      <td>71.0</td>\n",
       "      <td>среднее</td>\n",
       "      <td>1</td>\n",
       "      <td>женат / замужем</td>\n",
       "      <td>0</td>\n",
       "      <td>M</td>\n",
       "      <td>пенсионер</td>\n",
       "      <td>0</td>\n",
       "      <td>NaN</td>\n",
       "      <td>операции с коммерческой недвижимостью</td>\n",
       "      <td>пенсионер</td>\n",
       "    </tr>\n",
       "    <tr>\n",
       "      <td>11529</td>\n",
       "      <td>0</td>\n",
       "      <td>19345.000000</td>\n",
       "      <td>71.0</td>\n",
       "      <td>среднее</td>\n",
       "      <td>1</td>\n",
       "      <td>женат / замужем</td>\n",
       "      <td>0</td>\n",
       "      <td>M</td>\n",
       "      <td>пенсионер</td>\n",
       "      <td>0</td>\n",
       "      <td>NaN</td>\n",
       "      <td>покупка жилой недвижимости</td>\n",
       "      <td>пенсионер</td>\n",
       "    </tr>\n",
       "    <tr>\n",
       "      <td>...</td>\n",
       "      <td>...</td>\n",
       "      <td>...</td>\n",
       "      <td>...</td>\n",
       "      <td>...</td>\n",
       "      <td>...</td>\n",
       "      <td>...</td>\n",
       "      <td>...</td>\n",
       "      <td>...</td>\n",
       "      <td>...</td>\n",
       "      <td>...</td>\n",
       "      <td>...</td>\n",
       "      <td>...</td>\n",
       "      <td>...</td>\n",
       "    </tr>\n",
       "    <tr>\n",
       "      <td>12998</td>\n",
       "      <td>0</td>\n",
       "      <td>28.998706</td>\n",
       "      <td>19.0</td>\n",
       "      <td>неоконченное высшее</td>\n",
       "      <td>2</td>\n",
       "      <td>не женат / не замужем</td>\n",
       "      <td>4</td>\n",
       "      <td>F</td>\n",
       "      <td>компаньон</td>\n",
       "      <td>0</td>\n",
       "      <td>165269.027482</td>\n",
       "      <td>автомобили</td>\n",
       "      <td>предприниматель</td>\n",
       "    </tr>\n",
       "    <tr>\n",
       "      <td>8327</td>\n",
       "      <td>0</td>\n",
       "      <td>24.240695</td>\n",
       "      <td>32.0</td>\n",
       "      <td>высшее</td>\n",
       "      <td>0</td>\n",
       "      <td>не женат / не замужем</td>\n",
       "      <td>4</td>\n",
       "      <td>M</td>\n",
       "      <td>сотрудник</td>\n",
       "      <td>0</td>\n",
       "      <td>124115.373655</td>\n",
       "      <td>получение дополнительного образования</td>\n",
       "      <td>сотрудник</td>\n",
       "    </tr>\n",
       "    <tr>\n",
       "      <td>17394</td>\n",
       "      <td>1</td>\n",
       "      <td>24.141633</td>\n",
       "      <td>31.0</td>\n",
       "      <td>среднее</td>\n",
       "      <td>1</td>\n",
       "      <td>женат / замужем</td>\n",
       "      <td>0</td>\n",
       "      <td>F</td>\n",
       "      <td>сотрудник</td>\n",
       "      <td>1</td>\n",
       "      <td>166952.415427</td>\n",
       "      <td>высшее образование</td>\n",
       "      <td>сотрудник</td>\n",
       "    </tr>\n",
       "    <tr>\n",
       "      <td>8307</td>\n",
       "      <td>0</td>\n",
       "      <td>23.170355</td>\n",
       "      <td>19.0</td>\n",
       "      <td>среднее</td>\n",
       "      <td>1</td>\n",
       "      <td>не женат / не замужем</td>\n",
       "      <td>4</td>\n",
       "      <td>F</td>\n",
       "      <td>сотрудник</td>\n",
       "      <td>0</td>\n",
       "      <td>68524.106035</td>\n",
       "      <td>высшее образование</td>\n",
       "      <td>сотрудник</td>\n",
       "    </tr>\n",
       "    <tr>\n",
       "      <td>20166</td>\n",
       "      <td>0</td>\n",
       "      <td>21.248747</td>\n",
       "      <td>19.0</td>\n",
       "      <td>неоконченное высшее</td>\n",
       "      <td>2</td>\n",
       "      <td>не женат / не замужем</td>\n",
       "      <td>4</td>\n",
       "      <td>F</td>\n",
       "      <td>госслужащий</td>\n",
       "      <td>0</td>\n",
       "      <td>75787.415536</td>\n",
       "      <td>покупка коммерческой недвижимости</td>\n",
       "      <td>сотрудник</td>\n",
       "    </tr>\n",
       "  </tbody>\n",
       "</table>\n",
       "<p>21454 rows × 13 columns</p>\n",
       "</div>"
      ],
      "text/plain": [
       "       children  days_employed  dob_years            education  education_id  \\\n",
       "18614         1   20075.000000       73.0              среднее             1   \n",
       "10547         0   19710.000000       72.0              среднее             1   \n",
       "13838         0   19710.000000       72.0              среднее             1   \n",
       "8447          0   19345.000000       71.0              среднее             1   \n",
       "11529         0   19345.000000       71.0              среднее             1   \n",
       "...         ...            ...        ...                  ...           ...   \n",
       "12998         0      28.998706       19.0  неоконченное высшее             2   \n",
       "8327          0      24.240695       32.0               высшее             0   \n",
       "17394         1      24.141633       31.0              среднее             1   \n",
       "8307          0      23.170355       19.0              среднее             1   \n",
       "20166         0      21.248747       19.0  неоконченное высшее             2   \n",
       "\n",
       "               family_status  family_status_id gender  income_type  debt  \\\n",
       "18614        женат / замужем                 0      F    пенсионер     0   \n",
       "10547  не женат / не замужем                 4      F    пенсионер     1   \n",
       "13838        женат / замужем                 0      F    компаньон     0   \n",
       "8447         женат / замужем                 0      M    пенсионер     0   \n",
       "11529        женат / замужем                 0      M    пенсионер     0   \n",
       "...                      ...               ...    ...          ...   ...   \n",
       "12998  не женат / не замужем                 4      F    компаньон     0   \n",
       "8327   не женат / не замужем                 4      M    сотрудник     0   \n",
       "17394        женат / замужем                 0      F    сотрудник     1   \n",
       "8307   не женат / не замужем                 4      F    сотрудник     0   \n",
       "20166  не женат / не замужем                 4      F  госслужащий     0   \n",
       "\n",
       "        total_income                                purpose income_type_edited  \n",
       "18614            NaN             дополнительное образование          пенсионер  \n",
       "10547            NaN                приобретение автомобиля          пенсионер  \n",
       "13838            NaN                   сделка с автомобилем    предприниматель  \n",
       "8447             NaN  операции с коммерческой недвижимостью          пенсионер  \n",
       "11529            NaN             покупка жилой недвижимости          пенсионер  \n",
       "...              ...                                    ...                ...  \n",
       "12998  165269.027482                             автомобили    предприниматель  \n",
       "8327   124115.373655  получение дополнительного образования          сотрудник  \n",
       "17394  166952.415427                     высшее образование          сотрудник  \n",
       "8307    68524.106035                     высшее образование          сотрудник  \n",
       "20166   75787.415536      покупка коммерческой недвижимости          сотрудник  \n",
       "\n",
       "[21454 rows x 13 columns]"
      ]
     },
     "execution_count": 36,
     "metadata": {},
     "output_type": "execute_result"
    }
   ],
   "source": [
    "days_employed_anomaly(data)\n",
    "data.sort_values(by='days_employed', ascending=False)"
   ]
  },
  {
   "cell_type": "code",
   "execution_count": 37,
   "metadata": {},
   "outputs": [
    {
     "data": {
      "text/html": [
       "<div>\n",
       "<style scoped>\n",
       "    .dataframe tbody tr th:only-of-type {\n",
       "        vertical-align: middle;\n",
       "    }\n",
       "\n",
       "    .dataframe tbody tr th {\n",
       "        vertical-align: top;\n",
       "    }\n",
       "\n",
       "    .dataframe thead th {\n",
       "        text-align: right;\n",
       "    }\n",
       "</style>\n",
       "<table border=\"1\" class=\"dataframe\">\n",
       "  <thead>\n",
       "    <tr style=\"text-align: right;\">\n",
       "      <th></th>\n",
       "      <th>children</th>\n",
       "      <th>days_employed</th>\n",
       "      <th>dob_years</th>\n",
       "      <th>education</th>\n",
       "      <th>education_id</th>\n",
       "      <th>family_status</th>\n",
       "      <th>family_status_id</th>\n",
       "      <th>gender</th>\n",
       "      <th>income_type</th>\n",
       "      <th>debt</th>\n",
       "      <th>total_income</th>\n",
       "      <th>purpose</th>\n",
       "      <th>income_type_edited</th>\n",
       "    </tr>\n",
       "  </thead>\n",
       "  <tbody>\n",
       "    <tr>\n",
       "      <td>328</td>\n",
       "      <td>0</td>\n",
       "      <td>18615.0</td>\n",
       "      <td>69.0</td>\n",
       "      <td>среднее</td>\n",
       "      <td>1</td>\n",
       "      <td>вдовец / вдова</td>\n",
       "      <td>2</td>\n",
       "      <td>F</td>\n",
       "      <td>сотрудник</td>\n",
       "      <td>0</td>\n",
       "      <td>NaN</td>\n",
       "      <td>приобретение автомобиля</td>\n",
       "      <td>сотрудник</td>\n",
       "    </tr>\n",
       "    <tr>\n",
       "      <td>11691</td>\n",
       "      <td>0</td>\n",
       "      <td>18980.0</td>\n",
       "      <td>70.0</td>\n",
       "      <td>высшее</td>\n",
       "      <td>0</td>\n",
       "      <td>женат / замужем</td>\n",
       "      <td>0</td>\n",
       "      <td>F</td>\n",
       "      <td>пенсионер</td>\n",
       "      <td>0</td>\n",
       "      <td>NaN</td>\n",
       "      <td>операции с коммерческой недвижимостью</td>\n",
       "      <td>пенсионер</td>\n",
       "    </tr>\n",
       "    <tr>\n",
       "      <td>1303</td>\n",
       "      <td>1</td>\n",
       "      <td>18980.0</td>\n",
       "      <td>70.0</td>\n",
       "      <td>начальное</td>\n",
       "      <td>3</td>\n",
       "      <td>гражданский брак</td>\n",
       "      <td>1</td>\n",
       "      <td>F</td>\n",
       "      <td>сотрудник</td>\n",
       "      <td>0</td>\n",
       "      <td>NaN</td>\n",
       "      <td>операции с коммерческой недвижимостью</td>\n",
       "      <td>сотрудник</td>\n",
       "    </tr>\n",
       "    <tr>\n",
       "      <td>13966</td>\n",
       "      <td>0</td>\n",
       "      <td>18980.0</td>\n",
       "      <td>70.0</td>\n",
       "      <td>среднее</td>\n",
       "      <td>1</td>\n",
       "      <td>женат / замужем</td>\n",
       "      <td>0</td>\n",
       "      <td>F</td>\n",
       "      <td>пенсионер</td>\n",
       "      <td>0</td>\n",
       "      <td>NaN</td>\n",
       "      <td>приобретение автомобиля</td>\n",
       "      <td>пенсионер</td>\n",
       "    </tr>\n",
       "    <tr>\n",
       "      <td>11529</td>\n",
       "      <td>0</td>\n",
       "      <td>19345.0</td>\n",
       "      <td>71.0</td>\n",
       "      <td>среднее</td>\n",
       "      <td>1</td>\n",
       "      <td>женат / замужем</td>\n",
       "      <td>0</td>\n",
       "      <td>M</td>\n",
       "      <td>пенсионер</td>\n",
       "      <td>0</td>\n",
       "      <td>NaN</td>\n",
       "      <td>покупка жилой недвижимости</td>\n",
       "      <td>пенсионер</td>\n",
       "    </tr>\n",
       "    <tr>\n",
       "      <td>6531</td>\n",
       "      <td>0</td>\n",
       "      <td>19345.0</td>\n",
       "      <td>71.0</td>\n",
       "      <td>среднее</td>\n",
       "      <td>1</td>\n",
       "      <td>гражданский брак</td>\n",
       "      <td>1</td>\n",
       "      <td>F</td>\n",
       "      <td>пенсионер</td>\n",
       "      <td>0</td>\n",
       "      <td>NaN</td>\n",
       "      <td>на проведение свадьбы</td>\n",
       "      <td>пенсионер</td>\n",
       "    </tr>\n",
       "    <tr>\n",
       "      <td>8447</td>\n",
       "      <td>0</td>\n",
       "      <td>19345.0</td>\n",
       "      <td>71.0</td>\n",
       "      <td>среднее</td>\n",
       "      <td>1</td>\n",
       "      <td>женат / замужем</td>\n",
       "      <td>0</td>\n",
       "      <td>M</td>\n",
       "      <td>пенсионер</td>\n",
       "      <td>0</td>\n",
       "      <td>NaN</td>\n",
       "      <td>операции с коммерческой недвижимостью</td>\n",
       "      <td>пенсионер</td>\n",
       "    </tr>\n",
       "    <tr>\n",
       "      <td>13838</td>\n",
       "      <td>0</td>\n",
       "      <td>19710.0</td>\n",
       "      <td>72.0</td>\n",
       "      <td>среднее</td>\n",
       "      <td>1</td>\n",
       "      <td>женат / замужем</td>\n",
       "      <td>0</td>\n",
       "      <td>F</td>\n",
       "      <td>компаньон</td>\n",
       "      <td>0</td>\n",
       "      <td>NaN</td>\n",
       "      <td>сделка с автомобилем</td>\n",
       "      <td>предприниматель</td>\n",
       "    </tr>\n",
       "    <tr>\n",
       "      <td>10547</td>\n",
       "      <td>0</td>\n",
       "      <td>19710.0</td>\n",
       "      <td>72.0</td>\n",
       "      <td>среднее</td>\n",
       "      <td>1</td>\n",
       "      <td>не женат / не замужем</td>\n",
       "      <td>4</td>\n",
       "      <td>F</td>\n",
       "      <td>пенсионер</td>\n",
       "      <td>1</td>\n",
       "      <td>NaN</td>\n",
       "      <td>приобретение автомобиля</td>\n",
       "      <td>пенсионер</td>\n",
       "    </tr>\n",
       "    <tr>\n",
       "      <td>18614</td>\n",
       "      <td>1</td>\n",
       "      <td>20075.0</td>\n",
       "      <td>73.0</td>\n",
       "      <td>среднее</td>\n",
       "      <td>1</td>\n",
       "      <td>женат / замужем</td>\n",
       "      <td>0</td>\n",
       "      <td>F</td>\n",
       "      <td>пенсионер</td>\n",
       "      <td>0</td>\n",
       "      <td>NaN</td>\n",
       "      <td>дополнительное образование</td>\n",
       "      <td>пенсионер</td>\n",
       "    </tr>\n",
       "  </tbody>\n",
       "</table>\n",
       "</div>"
      ],
      "text/plain": [
       "       children  days_employed  dob_years  education  education_id  \\\n",
       "328           0        18615.0       69.0    среднее             1   \n",
       "11691         0        18980.0       70.0     высшее             0   \n",
       "1303          1        18980.0       70.0  начальное             3   \n",
       "13966         0        18980.0       70.0    среднее             1   \n",
       "11529         0        19345.0       71.0    среднее             1   \n",
       "6531          0        19345.0       71.0    среднее             1   \n",
       "8447          0        19345.0       71.0    среднее             1   \n",
       "13838         0        19710.0       72.0    среднее             1   \n",
       "10547         0        19710.0       72.0    среднее             1   \n",
       "18614         1        20075.0       73.0    среднее             1   \n",
       "\n",
       "               family_status  family_status_id gender income_type  debt  \\\n",
       "328           вдовец / вдова                 2      F   сотрудник     0   \n",
       "11691        женат / замужем                 0      F   пенсионер     0   \n",
       "1303        гражданский брак                 1      F   сотрудник     0   \n",
       "13966        женат / замужем                 0      F   пенсионер     0   \n",
       "11529        женат / замужем                 0      M   пенсионер     0   \n",
       "6531        гражданский брак                 1      F   пенсионер     0   \n",
       "8447         женат / замужем                 0      M   пенсионер     0   \n",
       "13838        женат / замужем                 0      F   компаньон     0   \n",
       "10547  не женат / не замужем                 4      F   пенсионер     1   \n",
       "18614        женат / замужем                 0      F   пенсионер     0   \n",
       "\n",
       "       total_income                                purpose income_type_edited  \n",
       "328             NaN                приобретение автомобиля          сотрудник  \n",
       "11691           NaN  операции с коммерческой недвижимостью          пенсионер  \n",
       "1303            NaN  операции с коммерческой недвижимостью          сотрудник  \n",
       "13966           NaN                приобретение автомобиля          пенсионер  \n",
       "11529           NaN             покупка жилой недвижимости          пенсионер  \n",
       "6531            NaN                  на проведение свадьбы          пенсионер  \n",
       "8447            NaN  операции с коммерческой недвижимостью          пенсионер  \n",
       "13838           NaN                   сделка с автомобилем    предприниматель  \n",
       "10547           NaN                приобретение автомобиля          пенсионер  \n",
       "18614           NaN             дополнительное образование          пенсионер  "
      ]
     },
     "execution_count": 37,
     "metadata": {},
     "output_type": "execute_result"
    }
   ],
   "source": [
    "data.sort_values(by='days_employed').tail(10)"
   ]
  },
  {
   "cell_type": "code",
   "execution_count": 38,
   "metadata": {},
   "outputs": [
    {
     "name": "stdout",
     "output_type": "stream",
     "text": [
      "<class 'pandas.core.frame.DataFrame'>\n",
      "RangeIndex: 21454 entries, 0 to 21453\n",
      "Data columns (total 13 columns):\n",
      "children              21454 non-null int64\n",
      "days_employed         21454 non-null float64\n",
      "dob_years             21454 non-null float64\n",
      "education             21454 non-null object\n",
      "education_id          21454 non-null int64\n",
      "family_status         21454 non-null object\n",
      "family_status_id      21454 non-null int64\n",
      "gender                21454 non-null object\n",
      "income_type           21454 non-null object\n",
      "debt                  21454 non-null int64\n",
      "total_income          19351 non-null float64\n",
      "purpose               21454 non-null object\n",
      "income_type_edited    21454 non-null object\n",
      "dtypes: float64(3), int64(4), object(6)\n",
      "memory usage: 2.1+ MB\n"
     ]
    }
   ],
   "source": [
    "data.info()"
   ]
  },
  {
   "cell_type": "markdown",
   "metadata": {},
   "source": [
    "**Заполнение пропусков в стобце с доходом**"
   ]
  },
  {
   "cell_type": "code",
   "execution_count": 39,
   "metadata": {},
   "outputs": [
    {
     "data": {
      "text/plain": [
       "income_type_edited\n",
       "безработный            4\n",
       "пенсионер           3829\n",
       "предприниматель     5080\n",
       "сотрудник          12541\n",
       "Name: income_type_edited, dtype: int64"
      ]
     },
     "execution_count": 39,
     "metadata": {},
     "output_type": "execute_result"
    }
   ],
   "source": [
    "# сгруппируем данные по типу занятости и посмотрим на размер этих групп\n",
    "data.groupby('income_type_edited')['income_type_edited'].count()"
   ]
  },
  {
   "cell_type": "code",
   "execution_count": 40,
   "metadata": {},
   "outputs": [],
   "source": [
    "# выберем строки с отсутсвующими значениями в столбце о доходах\n",
    "nan_income = data.loc[data['total_income'].isna() == True]"
   ]
  },
  {
   "cell_type": "markdown",
   "metadata": {},
   "source": [
    "Заполним пропущенные значения дохода медианой для указанной группы по типу занятости. Среднее значение не используем, чтобы не возникло завышенных значений дохода."
   ]
  },
  {
   "cell_type": "code",
   "execution_count": 41,
   "metadata": {},
   "outputs": [],
   "source": [
    "#создаем переменные по медиане зарплаты\n",
    "median_salary_grouped = data.groupby('income_type')['total_income'].transform('median')\n",
    "\n",
    "#заменяем пропуски медианой по каждой группе\n",
    "data['total_income'] = data['total_income'].fillna(median_salary_grouped)"
   ]
  },
  {
   "cell_type": "code",
   "execution_count": 42,
   "metadata": {
    "scrolled": true
   },
   "outputs": [
    {
     "data": {
      "text/plain": [
       "0"
      ]
     },
     "execution_count": 42,
     "metadata": {},
     "output_type": "execute_result"
    }
   ],
   "source": [
    "data['total_income'].isna().sum()"
   ]
  },
  {
   "cell_type": "code",
   "execution_count": 43,
   "metadata": {},
   "outputs": [
    {
     "data": {
      "text/plain": [
       "income_type_edited\n",
       "безработный         79079.308649\n",
       "пенсионер          118514.486412\n",
       "предприниматель    172357.950966\n",
       "сотрудник          142594.396847\n",
       "Name: total_income, dtype: float64"
      ]
     },
     "execution_count": 43,
     "metadata": {},
     "output_type": "execute_result"
    }
   ],
   "source": [
    "data.groupby('income_type_edited')['total_income'].median()"
   ]
  },
  {
   "cell_type": "markdown",
   "metadata": {},
   "source": [
    "**Корректировка пропущенных значения пола**"
   ]
  },
  {
   "cell_type": "code",
   "execution_count": 44,
   "metadata": {
    "scrolled": false
   },
   "outputs": [
    {
     "data": {
      "text/plain": [
       "gender\n",
       "F      14174\n",
       "M       7279\n",
       "XNA        1\n",
       "Name: gender, dtype: int64"
      ]
     },
     "execution_count": 44,
     "metadata": {},
     "output_type": "execute_result"
    }
   ],
   "source": [
    "data.groupby('gender')['gender'].count()"
   ]
  },
  {
   "cell_type": "markdown",
   "metadata": {},
   "source": [
    "Так как в столбце с полом есть пропущенные значение XNA, заменим его на значения пола большинства, т.е 'F'"
   ]
  },
  {
   "cell_type": "code",
   "execution_count": 45,
   "metadata": {},
   "outputs": [
    {
     "data": {
      "text/plain": [
       "gender\n",
       "F    14175\n",
       "M     7279\n",
       "Name: gender, dtype: int64"
      ]
     },
     "execution_count": 45,
     "metadata": {},
     "output_type": "execute_result"
    }
   ],
   "source": [
    "data.loc[data['gender'] == 'XNA', 'gender'] = 'F'\n",
    "data.groupby('gender')['gender'].count()"
   ]
  },
  {
   "cell_type": "markdown",
   "metadata": {},
   "source": [
    "**Вывод**"
   ]
  },
  {
   "cell_type": "markdown",
   "metadata": {},
   "source": [
    "В столбцах со стажем, доходом и полом были пропущенные значения, которые могли возникнуть в результате разного сбора данных, например данные поля были необязательными для заполнения, или совсем отсутствовали."
   ]
  },
  {
   "cell_type": "markdown",
   "metadata": {},
   "source": [
    "### Замена типа данных"
   ]
  },
  {
   "cell_type": "markdown",
   "metadata": {},
   "source": [
    "Стаж в таблице указан в днях, поэтому целесообразнее привести данные значения к целым числам для удобства обработки и наглядности, то же самое необходимо сделать с доходом."
   ]
  },
  {
   "cell_type": "code",
   "execution_count": 46,
   "metadata": {},
   "outputs": [],
   "source": [
    "data['days_employed'] = data['days_employed'].astype(int)\n",
    "data['dob_years'] = data['dob_years'].astype(int)"
   ]
  },
  {
   "cell_type": "markdown",
   "metadata": {},
   "source": [
    "Данные о долге даны в целых числах, если 1 - была задолженность по кредиту, 0 - не было задолженности, а значит их можно привести к типу boolean(True/False), чтобы нагляднее и логичнее записать условия для категоризации."
   ]
  },
  {
   "cell_type": "code",
   "execution_count": 47,
   "metadata": {},
   "outputs": [],
   "source": [
    "data.groupby('debt')['debt'].count()\n",
    "data['debt'] = data['debt'].astype(bool)"
   ]
  },
  {
   "cell_type": "code",
   "execution_count": 48,
   "metadata": {},
   "outputs": [
    {
     "name": "stdout",
     "output_type": "stream",
     "text": [
      "<class 'pandas.core.frame.DataFrame'>\n",
      "RangeIndex: 21454 entries, 0 to 21453\n",
      "Data columns (total 13 columns):\n",
      "children              21454 non-null int64\n",
      "days_employed         21454 non-null int64\n",
      "dob_years             21454 non-null int64\n",
      "education             21454 non-null object\n",
      "education_id          21454 non-null int64\n",
      "family_status         21454 non-null object\n",
      "family_status_id      21454 non-null int64\n",
      "gender                21454 non-null object\n",
      "income_type           21454 non-null object\n",
      "debt                  21454 non-null bool\n",
      "total_income          21454 non-null int64\n",
      "purpose               21454 non-null object\n",
      "income_type_edited    21454 non-null object\n",
      "dtypes: bool(1), int64(6), object(6)\n",
      "memory usage: 2.0+ MB\n"
     ]
    }
   ],
   "source": [
    "data['total_income'] = data['total_income'].astype(int)\n",
    "data.info()"
   ]
  },
  {
   "cell_type": "markdown",
   "metadata": {},
   "source": [
    "**Вывод**"
   ]
  },
  {
   "cell_type": "markdown",
   "metadata": {},
   "source": [
    "Теперь количественные данные пригодны для дальнейшей работы с ними, в том числе группировки и категоризации."
   ]
  },
  {
   "cell_type": "markdown",
   "metadata": {},
   "source": [
    "### Лемматизация"
   ]
  },
  {
   "cell_type": "code",
   "execution_count": 49,
   "metadata": {},
   "outputs": [],
   "source": [
    "m = Mystem()"
   ]
  },
  {
   "cell_type": "markdown",
   "metadata": {},
   "source": [
    "Посмотрим на группы, имеющихся целей, чтобы выяснить по каким ключевым словам их категоризировать далее."
   ]
  },
  {
   "cell_type": "code",
   "execution_count": 50,
   "metadata": {},
   "outputs": [
    {
     "data": {
      "text/plain": [
       "purpose\n",
       "автомобили                                478\n",
       "автомобиль                                494\n",
       "высшее образование                        452\n",
       "дополнительное образование                460\n",
       "жилье                                     646\n",
       "заняться высшим образованием              496\n",
       "заняться образованием                     408\n",
       "на покупку автомобиля                     471\n",
       "на покупку подержанного автомобиля        478\n",
       "на покупку своего автомобиля              505\n",
       "на проведение свадьбы                     768\n",
       "недвижимость                              633\n",
       "образование                               447\n",
       "операции с жильем                         652\n",
       "операции с коммерческой недвижимостью     650\n",
       "операции с недвижимостью                  675\n",
       "операции со своей недвижимостью           627\n",
       "покупка жилой недвижимости                606\n",
       "покупка жилья                             646\n",
       "покупка жилья для сдачи                   651\n",
       "покупка жилья для семьи                   638\n",
       "покупка коммерческой недвижимости         661\n",
       "покупка недвижимости                      621\n",
       "покупка своего жилья                      620\n",
       "получение высшего образования             426\n",
       "получение дополнительного образования     446\n",
       "получение образования                     442\n",
       "приобретение автомобиля                   461\n",
       "профильное образование                    436\n",
       "ремонт жилью                              607\n",
       "свадьба                                   791\n",
       "свой автомобиль                           478\n",
       "сделка с автомобилем                      455\n",
       "сделка с подержанным автомобилем          486\n",
       "строительство жилой недвижимости          624\n",
       "строительство недвижимости                619\n",
       "строительство собственной недвижимости    635\n",
       "сыграть свадьбу                           765\n",
       "Name: purpose, dtype: int64"
      ]
     },
     "execution_count": 50,
     "metadata": {},
     "output_type": "execute_result"
    }
   ],
   "source": [
    "data.groupby('purpose')['purpose'].count()"
   ]
  },
  {
   "cell_type": "markdown",
   "metadata": {},
   "source": [
    "Так как по списку выше можно проследить лишь четыре основные категории для целей получения кредита, присвоим им соответсвующие названия категорий в новом столбце."
   ]
  },
  {
   "cell_type": "code",
   "execution_count": 51,
   "metadata": {},
   "outputs": [],
   "source": [
    "# проводится лемматизация столбца с целями по каждой строке в столбце 'purpose' \n",
    "# т.к лемматизация возвращает значения в виде списка, \n",
    "# сразу применяем метод join() для преобразования списка в сроку, \n",
    "# чтобы воспользоваться условием if in\n",
    "\n",
    "# функия ищет подходящее название категории \n",
    "# в исходном столбце с целями и возвращает новую категорию\n",
    "\n",
    "def lemmas_purpose(row):\n",
    "    purpose_lemma = ' '.join(m.lemmatize(row['purpose']))\n",
    "\n",
    "    if 'автомобиль' in purpose_lemma:\n",
    "        return 'автомобиль'\n",
    "    elif 'недвижимость' in purpose_lemma or 'жил' in purpose_lemma:\n",
    "        return'недвижимость'\n",
    "    elif 'образование' in purpose_lemma:\n",
    "        return 'образование'\n",
    "    else:\n",
    "        return 'свадьба'"
   ]
  },
  {
   "cell_type": "code",
   "execution_count": 52,
   "metadata": {},
   "outputs": [],
   "source": [
    "# добавим новые категории в отдельный столбец таблицы\n",
    "data['purpose_category'] = data.loc[10:20].apply(lemmas_purpose, axis=1)"
   ]
  },
  {
   "cell_type": "code",
   "execution_count": 53,
   "metadata": {
    "scrolled": true
   },
   "outputs": [
    {
     "data": {
      "text/plain": [
       "10    недвижимость\n",
       "11    недвижимость\n",
       "12         свадьба\n",
       "13      автомобиль\n",
       "14    недвижимость\n",
       "15    недвижимость\n",
       "16    недвижимость\n",
       "17    недвижимость\n",
       "18      автомобиль\n",
       "19      автомобиль\n",
       "20    недвижимость\n",
       "Name: purpose_category, dtype: object"
      ]
     },
     "execution_count": 53,
     "metadata": {},
     "output_type": "execute_result"
    }
   ],
   "source": [
    "data['purpose_category'].loc[10:20]"
   ]
  },
  {
   "cell_type": "code",
   "execution_count": 54,
   "metadata": {},
   "outputs": [
    {
     "data": {
      "text/html": [
       "<div>\n",
       "<style scoped>\n",
       "    .dataframe tbody tr th:only-of-type {\n",
       "        vertical-align: middle;\n",
       "    }\n",
       "\n",
       "    .dataframe tbody tr th {\n",
       "        vertical-align: top;\n",
       "    }\n",
       "\n",
       "    .dataframe thead th {\n",
       "        text-align: right;\n",
       "    }\n",
       "</style>\n",
       "<table border=\"1\" class=\"dataframe\">\n",
       "  <thead>\n",
       "    <tr style=\"text-align: right;\">\n",
       "      <th></th>\n",
       "      <th>children</th>\n",
       "      <th>days_employed</th>\n",
       "      <th>dob_years</th>\n",
       "      <th>education</th>\n",
       "      <th>education_id</th>\n",
       "      <th>family_status</th>\n",
       "      <th>family_status_id</th>\n",
       "      <th>gender</th>\n",
       "      <th>income_type</th>\n",
       "      <th>debt</th>\n",
       "      <th>total_income</th>\n",
       "      <th>purpose</th>\n",
       "      <th>income_type_edited</th>\n",
       "      <th>purpose_category</th>\n",
       "    </tr>\n",
       "  </thead>\n",
       "  <tbody>\n",
       "    <tr>\n",
       "      <td>0</td>\n",
       "      <td>1</td>\n",
       "      <td>8437</td>\n",
       "      <td>42</td>\n",
       "      <td>высшее</td>\n",
       "      <td>0</td>\n",
       "      <td>женат / замужем</td>\n",
       "      <td>0</td>\n",
       "      <td>F</td>\n",
       "      <td>сотрудник</td>\n",
       "      <td>False</td>\n",
       "      <td>253875</td>\n",
       "      <td>покупка жилья</td>\n",
       "      <td>сотрудник</td>\n",
       "      <td>недвижимость</td>\n",
       "    </tr>\n",
       "    <tr>\n",
       "      <td>1</td>\n",
       "      <td>1</td>\n",
       "      <td>4024</td>\n",
       "      <td>36</td>\n",
       "      <td>среднее</td>\n",
       "      <td>1</td>\n",
       "      <td>женат / замужем</td>\n",
       "      <td>0</td>\n",
       "      <td>F</td>\n",
       "      <td>сотрудник</td>\n",
       "      <td>False</td>\n",
       "      <td>112080</td>\n",
       "      <td>приобретение автомобиля</td>\n",
       "      <td>сотрудник</td>\n",
       "      <td>автомобиль</td>\n",
       "    </tr>\n",
       "    <tr>\n",
       "      <td>2</td>\n",
       "      <td>0</td>\n",
       "      <td>234</td>\n",
       "      <td>33</td>\n",
       "      <td>среднее</td>\n",
       "      <td>1</td>\n",
       "      <td>женат / замужем</td>\n",
       "      <td>0</td>\n",
       "      <td>M</td>\n",
       "      <td>сотрудник</td>\n",
       "      <td>False</td>\n",
       "      <td>145885</td>\n",
       "      <td>покупка жилья</td>\n",
       "      <td>сотрудник</td>\n",
       "      <td>недвижимость</td>\n",
       "    </tr>\n",
       "    <tr>\n",
       "      <td>3</td>\n",
       "      <td>3</td>\n",
       "      <td>4124</td>\n",
       "      <td>32</td>\n",
       "      <td>среднее</td>\n",
       "      <td>1</td>\n",
       "      <td>женат / замужем</td>\n",
       "      <td>0</td>\n",
       "      <td>M</td>\n",
       "      <td>сотрудник</td>\n",
       "      <td>False</td>\n",
       "      <td>267628</td>\n",
       "      <td>дополнительное образование</td>\n",
       "      <td>сотрудник</td>\n",
       "      <td>образование</td>\n",
       "    </tr>\n",
       "    <tr>\n",
       "      <td>4</td>\n",
       "      <td>0</td>\n",
       "      <td>14177</td>\n",
       "      <td>53</td>\n",
       "      <td>среднее</td>\n",
       "      <td>1</td>\n",
       "      <td>гражданский брак</td>\n",
       "      <td>1</td>\n",
       "      <td>F</td>\n",
       "      <td>пенсионер</td>\n",
       "      <td>False</td>\n",
       "      <td>158616</td>\n",
       "      <td>сыграть свадьбу</td>\n",
       "      <td>пенсионер</td>\n",
       "      <td>свадьба</td>\n",
       "    </tr>\n",
       "  </tbody>\n",
       "</table>\n",
       "</div>"
      ],
      "text/plain": [
       "   children  days_employed  dob_years education  education_id  \\\n",
       "0         1           8437         42    высшее             0   \n",
       "1         1           4024         36   среднее             1   \n",
       "2         0            234         33   среднее             1   \n",
       "3         3           4124         32   среднее             1   \n",
       "4         0          14177         53   среднее             1   \n",
       "\n",
       "      family_status  family_status_id gender income_type   debt  total_income  \\\n",
       "0   женат / замужем                 0      F   сотрудник  False        253875   \n",
       "1   женат / замужем                 0      F   сотрудник  False        112080   \n",
       "2   женат / замужем                 0      M   сотрудник  False        145885   \n",
       "3   женат / замужем                 0      M   сотрудник  False        267628   \n",
       "4  гражданский брак                 1      F   пенсионер  False        158616   \n",
       "\n",
       "                      purpose income_type_edited purpose_category  \n",
       "0               покупка жилья          сотрудник     недвижимость  \n",
       "1     приобретение автомобиля          сотрудник       автомобиль  \n",
       "2               покупка жилья          сотрудник     недвижимость  \n",
       "3  дополнительное образование          сотрудник      образование  \n",
       "4             сыграть свадьбу          пенсионер          свадьба  "
      ]
     },
     "execution_count": 54,
     "metadata": {},
     "output_type": "execute_result"
    }
   ],
   "source": [
    "data['purpose_category'] = data.apply(lemmas_purpose, axis=1)\n",
    "data.head()"
   ]
  },
  {
   "cell_type": "code",
   "execution_count": 55,
   "metadata": {},
   "outputs": [
    {
     "data": {
      "text/plain": [
       "0"
      ]
     },
     "execution_count": 55,
     "metadata": {},
     "output_type": "execute_result"
    }
   ],
   "source": [
    "data['purpose_category'].isna().sum()"
   ]
  },
  {
   "cell_type": "code",
   "execution_count": 56,
   "metadata": {},
   "outputs": [
    {
     "data": {
      "text/plain": [
       "purpose_category\n",
       "автомобиль       4306\n",
       "недвижимость    10811\n",
       "образование      4013\n",
       "свадьба          2324\n",
       "Name: purpose_category, dtype: int64"
      ]
     },
     "execution_count": 56,
     "metadata": {},
     "output_type": "execute_result"
    }
   ],
   "source": [
    "data.groupby('purpose_category')['purpose_category'].count()"
   ]
  },
  {
   "cell_type": "markdown",
   "metadata": {},
   "source": [
    "**Вывод**"
   ]
  },
  {
   "cell_type": "markdown",
   "metadata": {},
   "source": [
    "Проведённая лемматизация помогла категоризировать данные по целям, что в дальнейшем можно использовать в поиске зависимостей между данной категорией и другими значениями."
   ]
  },
  {
   "cell_type": "markdown",
   "metadata": {},
   "source": [
    "### Категоризация данных"
   ]
  },
  {
   "cell_type": "markdown",
   "metadata": {},
   "source": [
    "**Сгруппируем данные по типам дохода и количеству задолженностей в каждой группе.**"
   ]
  },
  {
   "cell_type": "markdown",
   "metadata": {},
   "source": [
    "Разделим данные на несколько категорий по уровню доходов, чтобы оценить зависимость возвратов кредита в срок для каждой из групп."
   ]
  },
  {
   "cell_type": "code",
   "execution_count": 57,
   "metadata": {},
   "outputs": [
    {
     "data": {
      "image/png": "[encoded data removed]",
      "text/plain": [
       "<Figure size 864x288 with 1 Axes>"
      ]
     },
     "metadata": {
      "needs_background": "light"
     },
     "output_type": "display_data"
    }
   ],
   "source": [
    "plt.figure(figsize=(12, 4))\n",
    "sns.boxplot(data['total_income'], palette=\"husl\")\n",
    "plt.show()"
   ]
  },
  {
   "cell_type": "code",
   "execution_count": 58,
   "metadata": {
    "scrolled": true
   },
   "outputs": [
    {
     "name": "stdout",
     "output_type": "stream",
     "text": [
      "средний          5479\n",
      "высокий          5364\n",
      "низкий           5364\n",
      "выше среднего    5247\n",
      "Name: total_income_category, dtype: int64\n"
     ]
    }
   ],
   "source": [
    "data['total_income_category'] = pd.qcut(data['total_income'], 4, labels=[\"низкий\", \"средний\", \"выше среднего\", \"высокий\"])\n",
    "print(data['total_income_category'].value_counts())"
   ]
  },
  {
   "cell_type": "code",
   "execution_count": 59,
   "metadata": {
    "scrolled": true
   },
   "outputs": [
    {
     "data": {
      "text/plain": [
       "0"
      ]
     },
     "execution_count": 59,
     "metadata": {},
     "output_type": "execute_result"
    }
   ],
   "source": [
    "data['total_income_category'].isna().sum()"
   ]
  },
  {
   "cell_type": "code",
   "execution_count": 60,
   "metadata": {
    "scrolled": true
   },
   "outputs": [
    {
     "data": {
      "text/plain": [
       "total_income_category\n",
       "низкий           5364\n",
       "средний          5479\n",
       "выше среднего    5247\n",
       "высокий          5364\n",
       "Name: total_income_category, dtype: int64"
      ]
     },
     "execution_count": 60,
     "metadata": {},
     "output_type": "execute_result"
    }
   ],
   "source": [
    "total_category_grouped = data.groupby('total_income_category')['total_income_category'].count()\n",
    "total_category_grouped"
   ]
  },
  {
   "cell_type": "code",
   "execution_count": 61,
   "metadata": {},
   "outputs": [
    {
     "data": {
      "text/plain": [
       "total_income_category\n",
       "низкий           427.0\n",
       "средний          483.0\n",
       "выше среднего    448.0\n",
       "высокий          383.0\n",
       "Name: debt, dtype: float64"
      ]
     },
     "execution_count": 61,
     "metadata": {},
     "output_type": "execute_result"
    }
   ],
   "source": [
    "# сгруппируем данные по доходам и долгам в каждой группе\n",
    "total_category_grouped_debt = data.groupby('total_income_category')['debt'].sum()\n",
    "total_category_grouped_debt"
   ]
  },
  {
   "cell_type": "markdown",
   "metadata": {},
   "source": [
    "**Сгруппируем данные по количеству детей и количеству задолженностей в каждой группе.**"
   ]
  },
  {
   "cell_type": "markdown",
   "metadata": {},
   "source": [
    "Для начала, распределим имеющиеся данные на три группы по количеству детей."
   ]
  },
  {
   "cell_type": "code",
   "execution_count": 62,
   "metadata": {},
   "outputs": [],
   "source": [
    "def children_groups(row):\n",
    "    condition = row['children']\n",
    "    if condition == 0:\n",
    "        row['children_category'] = 'без детей'\n",
    "    elif 0 < condition <= 2:\n",
    "        row['children_category'] = 'малодетные'\n",
    "    else:\n",
    "        row['children_category'] = 'многодетные'\n",
    "    return row['children_category']\n",
    "\n",
    "data['children_category'] = data.apply(children_groups, axis=1)"
   ]
  },
  {
   "cell_type": "code",
   "execution_count": 63,
   "metadata": {},
   "outputs": [
    {
     "data": {
      "text/plain": [
       "children_category\n",
       "без детей      14091\n",
       "малодетные      6983\n",
       "многодетные      380\n",
       "Name: children_category, dtype: int64"
      ]
     },
     "execution_count": 63,
     "metadata": {},
     "output_type": "execute_result"
    }
   ],
   "source": [
    "data.groupby('children_category')['children_category'].count()"
   ]
  },
  {
   "cell_type": "markdown",
   "metadata": {},
   "source": [
    "**Сгруппируем данные по семейному статусу и количеству задолженностей в каждой группе.**"
   ]
  },
  {
   "cell_type": "code",
   "execution_count": 64,
   "metadata": {},
   "outputs": [
    {
     "data": {
      "text/plain": [
       "family_status\n",
       "в разводе                 1195\n",
       "вдовец / вдова             959\n",
       "гражданский брак          4151\n",
       "женат / замужем          12339\n",
       "не женат / не замужем     2810\n",
       "Name: family_status, dtype: int64"
      ]
     },
     "execution_count": 64,
     "metadata": {},
     "output_type": "execute_result"
    }
   ],
   "source": [
    "family_status_grouped = data.groupby('family_status')['family_status'].count()\n",
    "family_status_grouped"
   ]
  },
  {
   "cell_type": "markdown",
   "metadata": {},
   "source": [
    "**Сгруппируем данные по  целям получения кредита и количеству задолженностей в каждой группе.**"
   ]
  },
  {
   "cell_type": "code",
   "execution_count": 65,
   "metadata": {},
   "outputs": [
    {
     "data": {
      "text/plain": [
       "purpose_category\n",
       "автомобиль       4306\n",
       "недвижимость    10811\n",
       "образование      4013\n",
       "свадьба          2324\n",
       "Name: purpose_category, dtype: int64"
      ]
     },
     "execution_count": 65,
     "metadata": {},
     "output_type": "execute_result"
    }
   ],
   "source": [
    "purpose_category_grouped = data.groupby('purpose_category')['purpose_category'].count()\n",
    "purpose_category_grouped"
   ]
  },
  {
   "cell_type": "code",
   "execution_count": 66,
   "metadata": {},
   "outputs": [
    {
     "data": {
      "text/plain": [
       "purpose_category\n",
       "автомобиль      403.0\n",
       "недвижимость    782.0\n",
       "образование     370.0\n",
       "свадьба         186.0\n",
       "Name: debt, dtype: float64"
      ]
     },
     "execution_count": 66,
     "metadata": {},
     "output_type": "execute_result"
    }
   ],
   "source": [
    "purpose_category_grouped_debt = data.groupby('purpose_category')['debt'].sum()\n",
    "purpose_category_grouped_debt"
   ]
  },
  {
   "cell_type": "markdown",
   "metadata": {},
   "source": [
    "**Сгруппируем данные по типу занятости и задолженностям в каждой группе.**"
   ]
  },
  {
   "cell_type": "code",
   "execution_count": 67,
   "metadata": {},
   "outputs": [
    {
     "data": {
      "text/plain": [
       "income_type_edited\n",
       "безработный           2.0\n",
       "пенсионер           216.0\n",
       "предприниматель     376.0\n",
       "сотрудник          1147.0\n",
       "Name: debt, dtype: float64"
      ]
     },
     "execution_count": 67,
     "metadata": {},
     "output_type": "execute_result"
    }
   ],
   "source": [
    "income_type_edited_grouped = data.groupby('income_type_edited')['income_type_edited'].count()\n",
    "income_type_edited_grouped_debt = data.groupby('income_type_edited')['debt'].sum()\n",
    "income_type_edited_grouped_debt"
   ]
  },
  {
   "cell_type": "markdown",
   "metadata": {},
   "source": [
    "**Вывод**"
   ]
  },
  {
   "cell_type": "markdown",
   "metadata": {},
   "source": [
    "Данные проверены, категоризированы и готовы к заключительному сравнительному анализу по группам."
   ]
  },
  {
   "cell_type": "markdown",
   "metadata": {},
   "source": [
    "## Корреляции"
   ]
  },
  {
   "cell_type": "code",
   "execution_count": 68,
   "metadata": {},
   "outputs": [],
   "source": [
    "def pivot(data, index):\n",
    "    '''\n",
    "    Строит сводную таблицу:\n",
    "        count - общее число клиентов;\n",
    "        sum - кол-во должников;\n",
    "        mean - процент должников в группе.\n",
    "    \n",
    "    Параметры\n",
    "    ----------\n",
    "    data: DataFrame\n",
    "        Данные для построения сводной таблицы\n",
    "    index: str\n",
    "        Название колонки для использования в качестве индекса сводной таблицы\n",
    "        \n",
    "    Возвращает \n",
    "    ----------\n",
    "    DataFrame\n",
    "    Barplot\n",
    "    \n",
    "    '''\n",
    "    pivot = data.pivot_table(index = index, values = 'debt', aggfunc = ['count', 'sum', 'mean']).reset_index()\n",
    "    pivot.columns = [index, 'Кол-во клиентов', 'Кол-во должников', '% невозврата']\n",
    "    display(pivot.sort_values('% невозврата', ascending = False))\n",
    "    \n",
    "    fig = px.bar(pivot, x = index, y = '% невозврата', color = '% невозврата', title = '% невозврата по ' + index)\n",
    "    fig.show()"
   ]
  },
  {
   "cell_type": "markdown",
   "metadata": {},
   "source": [
    "**Есть ли зависимость между наличием детей и возвратом кредита в срок?**"
   ]
  },
  {
   "cell_type": "markdown",
   "metadata": {},
   "source": [
    "Рассчитаем соотношение количества детей и наличие задолженностей для каждой группы."
   ]
  },
  {
   "cell_type": "code",
   "execution_count": 69,
   "metadata": {},
   "outputs": [],
   "source": [
    "#pivot(data, 'children_category')\n",
    "# работа функции отображена в виде изображения ниже \n",
    "# из-за особенностей отображения графиков Plotly в Github"
   ]
  },
  {
   "attachments": {
    "image.png": {
     "image/png": "[encoded data removed]"
    }
   },
   "cell_type": "markdown",
   "metadata": {},
   "source": [
    "![image.png](attachment:image.png)"
   ]
  },
  {
   "cell_type": "markdown",
   "metadata": {},
   "source": [
    "**Вывод**"
   ]
  },
  {
   "cell_type": "markdown",
   "metadata": {},
   "source": [
    "Существует зависимость между наличием детей и возвратом кредита в срок. По процентному соотношению детей и долгов видна тенденция к увеличению количества задолженностей в малодетных семьях (с одним-двумя детьми), в то же время многодетные семьи имеют меньшее количество задолженностей по сравнению с малодетными.\n",
    "\n",
    "Наименьшее количество задолженностей имеют люди без детей."
   ]
  },
  {
   "cell_type": "markdown",
   "metadata": {},
   "source": [
    "**Есть ли зависимость между семейным положением и возвратом кредита в срок?**"
   ]
  },
  {
   "cell_type": "markdown",
   "metadata": {},
   "source": [
    "Рассчитаем соотношение наличия задолженностей в каждой группе по семейному положению."
   ]
  },
  {
   "cell_type": "code",
   "execution_count": 70,
   "metadata": {},
   "outputs": [],
   "source": [
    "#pivot(data, 'family_status')\n",
    "# работа функции отображена в виде изображения ниже \n",
    "# из-за особенностей отображения графиков Plotly в Github"
   ]
  },
  {
   "attachments": {
    "image.png": {
     "image/png": "[encoded data removed]"
    }
   },
   "cell_type": "markdown",
   "metadata": {},
   "source": [
    "![image.png](attachment:image.png)"
   ]
  },
  {
   "cell_type": "markdown",
   "metadata": {},
   "source": [
    "**Вывод**"
   ]
  },
  {
   "cell_type": "markdown",
   "metadata": {},
   "source": [
    "Существует зависимость между семейным положением и возвратом кредита в срок. Заметна тенденция к задолжностям у людей, которые указывают свой семейный статус как \"гражданский брак\", а также \"не женат/замужем\".\n",
    "\n",
    "Наименьшее количество задолженностей имели люди со статусом \"вдова/вдовец\". Оставшиеся две категории практически не имеют различий.\n"
   ]
  },
  {
   "cell_type": "markdown",
   "metadata": {},
   "source": [
    "**Есть ли зависимость между уровнем дохода и возвратом кредита в срок?**"
   ]
  },
  {
   "cell_type": "markdown",
   "metadata": {},
   "source": [
    "Рассчитаем соотношение уровня дохода и наличие задолженностей для каждой группы."
   ]
  },
  {
   "cell_type": "code",
   "execution_count": 71,
   "metadata": {},
   "outputs": [],
   "source": [
    "#pivot(data, 'total_income_category')\n",
    "# работа функции отображена в виде изображения ниже \n",
    "# из-за особенностей отображения графиков Plotly в Github"
   ]
  },
  {
   "attachments": {
    "image.png": {
     "image/png": "[encoded data removed]"
    }
   },
   "cell_type": "markdown",
   "metadata": {},
   "source": [
    "![image.png](attachment:image.png)"
   ]
  },
  {
   "cell_type": "markdown",
   "metadata": {},
   "source": [
    "**Вывод**"
   ]
  },
  {
   "cell_type": "markdown",
   "metadata": {},
   "source": [
    "Есть некоторая зависимость между уровнем дохода и возвратом кредита в срок. По процентному соотношению доходов и долгов можно увидеть, что максимальное количество задолженностей имеют категории людей со средним и выше среднего доходом, а минимальное - с высоким доходом. "
   ]
  },
  {
   "cell_type": "markdown",
   "metadata": {},
   "source": [
    "**Есть ли зависимость между типом занятости и возвратом кредита в срок?**"
   ]
  },
  {
   "cell_type": "markdown",
   "metadata": {},
   "source": [
    "Соотношение наличия задолжностей и типа занятости."
   ]
  },
  {
   "cell_type": "code",
   "execution_count": 72,
   "metadata": {},
   "outputs": [],
   "source": [
    "#pivot(data, 'income_type_edited')\n",
    "# работа функции отображена в виде изображения ниже \n",
    "# из-за особенностей отображения графиков Plotly в Github"
   ]
  },
  {
   "attachments": {
    "image.png": {
     "image/png": "[encoded data removed]"
    }
   },
   "cell_type": "markdown",
   "metadata": {},
   "source": [
    "![image.png](attachment:image.png)"
   ]
  },
  {
   "cell_type": "markdown",
   "metadata": {},
   "source": [
    "**Вывод**"
   ]
  },
  {
   "cell_type": "markdown",
   "metadata": {},
   "source": [
    "Безработные имеют наибольшее количество задолженностей.\n",
    "\n",
    "Пенсионеры имеют наименьшее количество задолженностей по кредитам, но все три категории (пенсионеры, сотрудники, предприниматели) не имеют явных различий в задолженностях."
   ]
  },
  {
   "cell_type": "markdown",
   "metadata": {},
   "source": [
    "**Как разные цели кредита влияют на его возврат в срок?**"
   ]
  },
  {
   "cell_type": "markdown",
   "metadata": {},
   "source": [
    "Соотношение целей кредита и наличия задолжностей."
   ]
  },
  {
   "cell_type": "code",
   "execution_count": 73,
   "metadata": {
    "scrolled": true
   },
   "outputs": [
    {
     "data": {
      "text/plain": [
       "purpose_category\n",
       "автомобиль      9.359034\n",
       "недвижимость    7.233373\n",
       "образование     9.220035\n",
       "свадьба         8.003442\n",
       "dtype: float64"
      ]
     },
     "execution_count": 73,
     "metadata": {},
     "output_type": "execute_result"
    }
   ],
   "source": [
    "#изменим тип на целочисленный для единого стиля отображения\n",
    "purpose_category_grouped_debt.astype(int)\n",
    "debt_percentage_purpose = purpose_category_grouped_debt / purpose_category_grouped * 100\n",
    "debt_percentage_purpose"
   ]
  },
  {
   "cell_type": "code",
   "execution_count": 74,
   "metadata": {},
   "outputs": [],
   "source": [
    "#pivot(data, 'purpose_category')\n",
    "# работа функции отображена в виде изображения ниже \n",
    "# из-за особенностей отображения графиков Plotly в Github"
   ]
  },
  {
   "attachments": {
    "image.png": {
     "image/png": "[encoded data removed]"
    }
   },
   "cell_type": "markdown",
   "metadata": {},
   "source": [
    "![image.png](attachment:image.png)"
   ]
  },
  {
   "cell_type": "markdown",
   "metadata": {},
   "source": [
    "**Вывод**"
   ]
  },
  {
   "cell_type": "markdown",
   "metadata": {},
   "source": [
    "Наименьшую задолженность имееют люди, которые берут кредит с целью покупки недвижимости, а наибольшую - с целью покупки автомобиля."
   ]
  },
  {
   "cell_type": "markdown",
   "metadata": {},
   "source": [
    "## Общий вывод"
   ]
  },
  {
   "cell_type": "markdown",
   "metadata": {},
   "source": [
    "Результаты показали, что прослеживается прямая завимимость между семейным положением, количеством детей и возвратом кредита в срок. \n",
    "\n",
    "**Люди, имеющие максимальное количество задолженностей:**\n",
    "- с семейным статусом \"не женат/не замужем\"\n",
    "- имеющие один или два ребёнка\n",
    "- безработные\n",
    "- со средним доходом или выше среднего\n",
    "- с целью взятия кредита \"автомобиль\"\n",
    "\n",
    "**Люди, имеющие минимальное количество задолженностей:**\n",
    "\n",
    "- вдовец / вдова\n",
    "- женатые /замужние или в разводе\n",
    "- без детей\n",
    "- пенсионеры\n",
    "- с высоким доходом\n",
    "- с целью взятия кредита \"недвижимость\""
   ]
  }
 ],
 "metadata": {
  "ExecuteTimeLog": [
   {
    "duration": 2589,
    "start_time": "2022-02-24T18:45:08.255Z"
   },
   {
    "duration": 4,
    "start_time": "2022-02-24T18:45:10.847Z"
   },
   {
    "duration": 11,
    "start_time": "2022-02-24T18:45:10.855Z"
   },
   {
    "duration": 3454,
    "start_time": "2022-02-24T18:45:10.869Z"
   },
   {
    "duration": -494,
    "start_time": "2022-02-24T18:45:14.825Z"
   },
   {
    "duration": -498,
    "start_time": "2022-02-24T18:45:14.831Z"
   },
   {
    "duration": -500,
    "start_time": "2022-02-24T18:45:14.836Z"
   },
   {
    "duration": -503,
    "start_time": "2022-02-24T18:45:14.841Z"
   },
   {
    "duration": -505,
    "start_time": "2022-02-24T18:45:14.845Z"
   },
   {
    "duration": -507,
    "start_time": "2022-02-24T18:45:14.849Z"
   },
   {
    "duration": -511,
    "start_time": "2022-02-24T18:45:14.854Z"
   },
   {
    "duration": -513,
    "start_time": "2022-02-24T18:45:14.858Z"
   },
   {
    "duration": -517,
    "start_time": "2022-02-24T18:45:14.863Z"
   },
   {
    "duration": -519,
    "start_time": "2022-02-24T18:45:14.867Z"
   },
   {
    "duration": -521,
    "start_time": "2022-02-24T18:45:14.871Z"
   },
   {
    "duration": -523,
    "start_time": "2022-02-24T18:45:14.875Z"
   },
   {
    "duration": -524,
    "start_time": "2022-02-24T18:45:14.878Z"
   },
   {
    "duration": -527,
    "start_time": "2022-02-24T18:45:14.882Z"
   },
   {
    "duration": -539,
    "start_time": "2022-02-24T18:45:14.896Z"
   },
   {
    "duration": -541,
    "start_time": "2022-02-24T18:45:14.899Z"
   },
   {
    "duration": -543,
    "start_time": "2022-02-24T18:45:14.903Z"
   },
   {
    "duration": -547,
    "start_time": "2022-02-24T18:45:14.909Z"
   },
   {
    "duration": -551,
    "start_time": "2022-02-24T18:45:14.914Z"
   },
   {
    "duration": -553,
    "start_time": "2022-02-24T18:45:14.918Z"
   },
   {
    "duration": -556,
    "start_time": "2022-02-24T18:45:14.923Z"
   },
   {
    "duration": -558,
    "start_time": "2022-02-24T18:45:14.927Z"
   },
   {
    "duration": -560,
    "start_time": "2022-02-24T18:45:14.931Z"
   },
   {
    "duration": -562,
    "start_time": "2022-02-24T18:45:14.934Z"
   },
   {
    "duration": -564,
    "start_time": "2022-02-24T18:45:14.938Z"
   },
   {
    "duration": -565,
    "start_time": "2022-02-24T18:45:14.941Z"
   },
   {
    "duration": -569,
    "start_time": "2022-02-24T18:45:14.946Z"
   },
   {
    "duration": -571,
    "start_time": "2022-02-24T18:45:14.949Z"
   },
   {
    "duration": -573,
    "start_time": "2022-02-24T18:45:14.953Z"
   },
   {
    "duration": -575,
    "start_time": "2022-02-24T18:45:14.956Z"
   },
   {
    "duration": -577,
    "start_time": "2022-02-24T18:45:14.960Z"
   },
   {
    "duration": -579,
    "start_time": "2022-02-24T18:45:14.963Z"
   },
   {
    "duration": -582,
    "start_time": "2022-02-24T18:45:14.967Z"
   },
   {
    "duration": -594,
    "start_time": "2022-02-24T18:45:14.980Z"
   },
   {
    "duration": -597,
    "start_time": "2022-02-24T18:45:14.984Z"
   },
   {
    "duration": -618,
    "start_time": "2022-02-24T18:45:15.007Z"
   },
   {
    "duration": -621,
    "start_time": "2022-02-24T18:45:15.011Z"
   },
   {
    "duration": -623,
    "start_time": "2022-02-24T18:45:15.015Z"
   },
   {
    "duration": -645,
    "start_time": "2022-02-24T18:45:15.038Z"
   },
   {
    "duration": -704,
    "start_time": "2022-02-24T18:45:15.099Z"
   },
   {
    "duration": -707,
    "start_time": "2022-02-24T18:45:15.103Z"
   },
   {
    "duration": -710,
    "start_time": "2022-02-24T18:45:15.107Z"
   },
   {
    "duration": -841,
    "start_time": "2022-02-24T18:45:15.240Z"
   },
   {
    "duration": -813,
    "start_time": "2022-02-24T18:45:15.273Z"
   },
   {
    "duration": -879,
    "start_time": "2022-02-24T18:45:15.341Z"
   },
   {
    "duration": -881,
    "start_time": "2022-02-24T18:45:15.345Z"
   },
   {
    "duration": -884,
    "start_time": "2022-02-24T18:45:15.349Z"
   },
   {
    "duration": -886,
    "start_time": "2022-02-24T18:45:15.353Z"
   },
   {
    "duration": -889,
    "start_time": "2022-02-24T18:45:15.357Z"
   },
   {
    "duration": -890,
    "start_time": "2022-02-24T18:45:15.360Z"
   },
   {
    "duration": -893,
    "start_time": "2022-02-24T18:45:15.364Z"
   },
   {
    "duration": -895,
    "start_time": "2022-02-24T18:45:15.368Z"
   },
   {
    "duration": -897,
    "start_time": "2022-02-24T18:45:15.372Z"
   },
   {
    "duration": -900,
    "start_time": "2022-02-24T18:45:15.376Z"
   },
   {
    "duration": -911,
    "start_time": "2022-02-24T18:45:15.389Z"
   },
   {
    "duration": -914,
    "start_time": "2022-02-24T18:45:15.393Z"
   },
   {
    "duration": -968,
    "start_time": "2022-02-24T18:45:15.449Z"
   },
   {
    "duration": -971,
    "start_time": "2022-02-24T18:45:15.453Z"
   },
   {
    "duration": -973,
    "start_time": "2022-02-24T18:45:15.457Z"
   },
   {
    "duration": -975,
    "start_time": "2022-02-24T18:45:15.460Z"
   },
   {
    "duration": -977,
    "start_time": "2022-02-24T18:45:15.464Z"
   },
   {
    "duration": -979,
    "start_time": "2022-02-24T18:45:15.468Z"
   },
   {
    "duration": -981,
    "start_time": "2022-02-24T18:45:15.471Z"
   },
   {
    "duration": -983,
    "start_time": "2022-02-24T18:45:15.475Z"
   },
   {
    "duration": -1018,
    "start_time": "2022-02-24T18:45:15.511Z"
   },
   {
    "duration": -1034,
    "start_time": "2022-02-24T18:45:15.529Z"
   },
   {
    "duration": -973,
    "start_time": "2022-02-24T18:45:15.533Z"
   },
   {
    "duration": -974,
    "start_time": "2022-02-24T18:45:15.536Z"
   },
   {
    "duration": -985,
    "start_time": "2022-02-24T18:45:15.548Z"
   },
   {
    "duration": -987,
    "start_time": "2022-02-24T18:45:15.552Z"
   },
   {
    "duration": -989,
    "start_time": "2022-02-24T18:45:15.556Z"
   },
   {
    "duration": -991,
    "start_time": "2022-02-24T18:45:15.560Z"
   },
   {
    "duration": -994,
    "start_time": "2022-02-24T18:45:15.564Z"
   },
   {
    "duration": -998,
    "start_time": "2022-02-24T18:45:15.569Z"
   },
   {
    "duration": 2938,
    "start_time": "2022-02-24T18:46:03.291Z"
   },
   {
    "duration": 223,
    "start_time": "2022-02-24T18:46:42.476Z"
   },
   {
    "duration": 2153,
    "start_time": "2022-02-24T18:47:08.800Z"
   },
   {
    "duration": 8,
    "start_time": "2022-02-24T18:47:10.956Z"
   },
   {
    "duration": 11,
    "start_time": "2022-02-24T18:47:10.967Z"
   },
   {
    "duration": 242,
    "start_time": "2022-02-24T18:47:10.981Z"
   },
   {
    "duration": 5,
    "start_time": "2022-02-24T18:47:11.226Z"
   },
   {
    "duration": 28,
    "start_time": "2022-02-24T18:47:11.233Z"
   },
   {
    "duration": 15,
    "start_time": "2022-02-24T18:47:11.264Z"
   },
   {
    "duration": 11950,
    "start_time": "2022-02-24T18:47:11.281Z"
   },
   {
    "duration": 38,
    "start_time": "2022-02-24T18:47:23.235Z"
   },
   {
    "duration": 43,
    "start_time": "2022-02-24T18:47:23.276Z"
   },
   {
    "duration": 11,
    "start_time": "2022-02-24T18:47:23.322Z"
   },
   {
    "duration": 25,
    "start_time": "2022-02-24T18:47:23.362Z"
   },
   {
    "duration": 10,
    "start_time": "2022-02-24T18:47:23.389Z"
   },
   {
    "duration": 63,
    "start_time": "2022-02-24T18:47:23.402Z"
   },
   {
    "duration": 12,
    "start_time": "2022-02-24T18:47:23.467Z"
   },
   {
    "duration": 83,
    "start_time": "2022-02-24T18:47:23.481Z"
   },
   {
    "duration": 6,
    "start_time": "2022-02-24T18:47:23.566Z"
   },
   {
    "duration": 33,
    "start_time": "2022-02-24T18:47:23.574Z"
   },
   {
    "duration": 84,
    "start_time": "2022-02-24T18:47:23.610Z"
   },
   {
    "duration": 10536,
    "start_time": "2022-02-24T18:47:23.697Z"
   },
   {
    "duration": 8,
    "start_time": "2022-02-24T18:47:34.236Z"
   },
   {
    "duration": 630,
    "start_time": "2022-02-24T18:47:34.246Z"
   },
   {
    "duration": 7,
    "start_time": "2022-02-24T18:47:34.878Z"
   },
   {
    "duration": 10,
    "start_time": "2022-02-24T18:47:34.887Z"
   },
   {
    "duration": 8,
    "start_time": "2022-02-24T18:47:34.899Z"
   },
   {
    "duration": 8,
    "start_time": "2022-02-24T18:47:34.909Z"
   },
   {
    "duration": 8,
    "start_time": "2022-02-24T18:47:34.964Z"
   },
   {
    "duration": 8,
    "start_time": "2022-02-24T18:47:34.977Z"
   },
   {
    "duration": 8,
    "start_time": "2022-02-24T18:47:34.988Z"
   },
   {
    "duration": 8,
    "start_time": "2022-02-24T18:47:34.999Z"
   },
   {
    "duration": 52,
    "start_time": "2022-02-24T18:47:35.010Z"
   },
   {
    "duration": 2259,
    "start_time": "2022-02-24T18:47:35.065Z"
   },
   {
    "duration": 42,
    "start_time": "2022-02-24T18:47:37.326Z"
   },
   {
    "duration": 5,
    "start_time": "2022-02-24T18:47:37.371Z"
   },
   {
    "duration": 3370,
    "start_time": "2022-02-24T18:47:37.379Z"
   },
   {
    "duration": 41,
    "start_time": "2022-02-24T18:47:40.751Z"
   },
   {
    "duration": 16,
    "start_time": "2022-02-24T18:47:40.794Z"
   },
   {
    "duration": 12,
    "start_time": "2022-02-24T18:47:40.812Z"
   },
   {
    "duration": 40,
    "start_time": "2022-02-24T18:47:40.827Z"
   },
   {
    "duration": 12,
    "start_time": "2022-02-24T18:47:40.870Z"
   },
   {
    "duration": 27,
    "start_time": "2022-02-24T18:47:40.885Z"
   },
   {
    "duration": 48,
    "start_time": "2022-02-24T18:47:40.914Z"
   },
   {
    "duration": 13,
    "start_time": "2022-02-24T18:47:40.965Z"
   },
   {
    "duration": 12,
    "start_time": "2022-02-24T18:47:40.981Z"
   },
   {
    "duration": 17,
    "start_time": "2022-02-24T18:47:40.996Z"
   },
   {
    "duration": 49,
    "start_time": "2022-02-24T18:47:41.016Z"
   },
   {
    "duration": 9,
    "start_time": "2022-02-24T18:47:41.069Z"
   },
   {
    "duration": 21,
    "start_time": "2022-02-24T18:47:41.081Z"
   },
   {
    "duration": 4,
    "start_time": "2022-02-24T18:47:41.104Z"
   },
   {
    "duration": 61,
    "start_time": "2022-02-24T18:47:41.111Z"
   },
   {
    "duration": 6,
    "start_time": "2022-02-24T18:47:41.175Z"
   },
   {
    "duration": 964,
    "start_time": "2022-02-24T18:47:41.184Z"
   },
   {
    "duration": 12,
    "start_time": "2022-02-24T18:47:42.151Z"
   },
   {
    "duration": 5710,
    "start_time": "2022-02-24T18:47:42.166Z"
   },
   {
    "duration": 7,
    "start_time": "2022-02-24T18:47:47.878Z"
   },
   {
    "duration": 12,
    "start_time": "2022-02-24T18:47:47.887Z"
   },
   {
    "duration": 292,
    "start_time": "2022-02-24T18:47:47.901Z"
   },
   {
    "duration": 16,
    "start_time": "2022-02-24T18:47:48.195Z"
   },
   {
    "duration": 6,
    "start_time": "2022-02-24T18:47:48.213Z"
   },
   {
    "duration": 45,
    "start_time": "2022-02-24T18:47:48.221Z"
   },
   {
    "duration": 9,
    "start_time": "2022-02-24T18:47:48.269Z"
   },
   {
    "duration": 26324,
    "start_time": "2022-02-24T18:47:48.281Z"
   },
   {
    "duration": 14,
    "start_time": "2022-02-24T18:48:14.607Z"
   },
   {
    "duration": 40,
    "start_time": "2022-02-24T18:48:14.623Z"
   },
   {
    "duration": 4,
    "start_time": "2022-02-24T18:48:14.667Z"
   },
   {
    "duration": 17,
    "start_time": "2022-02-24T18:48:14.674Z"
   },
   {
    "duration": 14,
    "start_time": "2022-02-24T18:48:14.694Z"
   },
   {
    "duration": 53,
    "start_time": "2022-02-24T18:48:14.711Z"
   },
   {
    "duration": 13,
    "start_time": "2022-02-24T18:48:14.767Z"
   },
   {
    "duration": 11,
    "start_time": "2022-02-24T18:48:14.782Z"
   },
   {
    "duration": 11,
    "start_time": "2022-02-24T18:48:14.796Z"
   },
   {
    "duration": 59,
    "start_time": "2022-02-24T18:48:14.809Z"
   },
   {
    "duration": 9,
    "start_time": "2022-02-24T18:48:14.871Z"
   },
   {
    "duration": 7,
    "start_time": "2022-02-24T18:48:14.882Z"
   },
   {
    "duration": 9,
    "start_time": "2022-02-24T18:48:14.891Z"
   },
   {
    "duration": 12,
    "start_time": "2022-02-24T18:48:14.902Z"
   },
   {
    "duration": 56,
    "start_time": "2022-02-24T18:48:14.916Z"
   },
   {
    "duration": 1304,
    "start_time": "2022-02-24T18:48:14.975Z"
   },
   {
    "duration": 12,
    "start_time": "2022-02-24T18:53:06.672Z"
   },
   {
    "duration": 821,
    "start_time": "2022-02-24T18:57:19.944Z"
   },
   {
    "duration": 1113,
    "start_time": "2022-02-24T18:57:27.672Z"
   },
   {
    "duration": 804,
    "start_time": "2022-02-24T18:57:34.346Z"
   },
   {
    "duration": 2280,
    "start_time": "2022-02-25T06:41:59.410Z"
   },
   {
    "duration": 2,
    "start_time": "2022-02-25T06:42:01.692Z"
   },
   {
    "duration": 6,
    "start_time": "2022-02-25T06:42:09.055Z"
   },
   {
    "duration": 168,
    "start_time": "2022-02-25T06:42:10.094Z"
   },
   {
    "duration": 1516,
    "start_time": "2022-02-25T06:55:34.035Z"
   },
   {
    "duration": 2,
    "start_time": "2022-02-25T06:55:35.553Z"
   },
   {
    "duration": 13,
    "start_time": "2022-02-25T06:55:35.557Z"
   },
   {
    "duration": 175,
    "start_time": "2022-02-25T06:55:35.572Z"
   },
   {
    "duration": 3,
    "start_time": "2022-02-25T06:55:35.749Z"
   },
   {
    "duration": 21,
    "start_time": "2022-02-25T06:55:35.753Z"
   },
   {
    "duration": 19,
    "start_time": "2022-02-25T06:55:35.775Z"
   },
   {
    "duration": 7544,
    "start_time": "2022-02-25T06:55:35.796Z"
   },
   {
    "duration": 489,
    "start_time": "2022-02-25T06:55:43.346Z"
   },
   {
    "duration": 19,
    "start_time": "2022-02-25T06:55:43.837Z"
   },
   {
    "duration": 27,
    "start_time": "2022-02-25T06:55:43.858Z"
   },
   {
    "duration": 7,
    "start_time": "2022-02-25T06:55:43.887Z"
   },
   {
    "duration": 17,
    "start_time": "2022-02-25T06:55:43.896Z"
   },
   {
    "duration": 32,
    "start_time": "2022-02-25T06:55:43.915Z"
   },
   {
    "duration": 17,
    "start_time": "2022-02-25T06:55:43.949Z"
   },
   {
    "duration": 7,
    "start_time": "2022-02-25T06:55:43.968Z"
   },
   {
    "duration": 36,
    "start_time": "2022-02-25T06:55:43.977Z"
   },
   {
    "duration": 32,
    "start_time": "2022-02-25T06:55:44.014Z"
   },
   {
    "duration": 18,
    "start_time": "2022-02-25T06:55:44.048Z"
   },
   {
    "duration": 30,
    "start_time": "2022-02-25T06:55:44.067Z"
   },
   {
    "duration": 5731,
    "start_time": "2022-02-25T06:55:44.098Z"
   },
   {
    "duration": 5,
    "start_time": "2022-02-25T06:55:49.831Z"
   },
   {
    "duration": 325,
    "start_time": "2022-02-25T06:55:49.837Z"
   },
   {
    "duration": 5,
    "start_time": "2022-02-25T06:55:50.164Z"
   },
   {
    "duration": 9,
    "start_time": "2022-02-25T06:55:50.170Z"
   },
   {
    "duration": 7,
    "start_time": "2022-02-25T06:55:50.181Z"
   },
   {
    "duration": 5,
    "start_time": "2022-02-25T06:55:50.192Z"
   },
   {
    "duration": 6,
    "start_time": "2022-02-25T06:55:50.199Z"
   },
   {
    "duration": 5,
    "start_time": "2022-02-25T06:55:50.206Z"
   },
   {
    "duration": 33,
    "start_time": "2022-02-25T06:55:50.213Z"
   },
   {
    "duration": 6,
    "start_time": "2022-02-25T06:55:50.247Z"
   },
   {
    "duration": 7,
    "start_time": "2022-02-25T06:55:50.254Z"
   },
   {
    "duration": 1168,
    "start_time": "2022-02-25T06:55:50.262Z"
   },
   {
    "duration": 28,
    "start_time": "2022-02-25T06:55:51.432Z"
   },
   {
    "duration": 3,
    "start_time": "2022-02-25T06:55:51.461Z"
   },
   {
    "duration": 1720,
    "start_time": "2022-02-25T06:55:51.466Z"
   },
   {
    "duration": 17,
    "start_time": "2022-02-25T06:55:53.187Z"
   },
   {
    "duration": 9,
    "start_time": "2022-02-25T06:55:53.206Z"
   },
   {
    "duration": 6,
    "start_time": "2022-02-25T06:55:53.217Z"
   },
   {
    "duration": 5,
    "start_time": "2022-02-25T06:55:53.246Z"
   },
   {
    "duration": 15,
    "start_time": "2022-02-25T06:55:53.252Z"
   },
   {
    "duration": 6,
    "start_time": "2022-02-25T06:55:53.268Z"
   },
   {
    "duration": 11,
    "start_time": "2022-02-25T06:55:53.276Z"
   },
   {
    "duration": 9,
    "start_time": "2022-02-25T06:55:53.288Z"
   },
   {
    "duration": 9,
    "start_time": "2022-02-25T06:55:53.299Z"
   },
   {
    "duration": 5,
    "start_time": "2022-02-25T06:55:53.310Z"
   },
   {
    "duration": 8,
    "start_time": "2022-02-25T06:55:53.316Z"
   },
   {
    "duration": 25,
    "start_time": "2022-02-25T06:55:53.325Z"
   },
   {
    "duration": 2,
    "start_time": "2022-02-25T06:55:53.352Z"
   },
   {
    "duration": 11,
    "start_time": "2022-02-25T06:55:53.355Z"
   },
   {
    "duration": 3,
    "start_time": "2022-02-25T06:55:53.368Z"
   },
   {
    "duration": 638,
    "start_time": "2022-02-25T06:55:53.372Z"
   },
   {
    "duration": 5,
    "start_time": "2022-02-25T06:55:54.012Z"
   },
   {
    "duration": 3485,
    "start_time": "2022-02-25T06:55:54.019Z"
   },
   {
    "duration": 4,
    "start_time": "2022-02-25T06:55:57.506Z"
   },
   {
    "duration": 10,
    "start_time": "2022-02-25T06:55:57.512Z"
   },
   {
    "duration": 157,
    "start_time": "2022-02-25T06:55:57.523Z"
   },
   {
    "duration": 9,
    "start_time": "2022-02-25T06:55:57.682Z"
   },
   {
    "duration": 4,
    "start_time": "2022-02-25T06:55:57.693Z"
   },
   {
    "duration": 13,
    "start_time": "2022-02-25T06:55:57.698Z"
   },
   {
    "duration": 5,
    "start_time": "2022-02-25T06:55:57.712Z"
   },
   {
    "duration": 13508,
    "start_time": "2022-02-25T06:55:57.719Z"
   },
   {
    "duration": 17,
    "start_time": "2022-02-25T06:56:11.229Z"
   },
   {
    "duration": 11,
    "start_time": "2022-02-25T06:56:11.248Z"
   },
   {
    "duration": 3,
    "start_time": "2022-02-25T06:56:11.261Z"
   },
   {
    "duration": 9,
    "start_time": "2022-02-25T06:56:11.266Z"
   },
   {
    "duration": 6,
    "start_time": "2022-02-25T06:56:11.277Z"
   },
   {
    "duration": 6,
    "start_time": "2022-02-25T06:56:11.284Z"
   },
   {
    "duration": 6,
    "start_time": "2022-02-25T06:56:11.292Z"
   },
   {
    "duration": 6,
    "start_time": "2022-02-25T06:56:11.299Z"
   },
   {
    "duration": 40,
    "start_time": "2022-02-25T06:56:11.307Z"
   },
   {
    "duration": 9,
    "start_time": "2022-02-25T06:56:11.348Z"
   },
   {
    "duration": 6,
    "start_time": "2022-02-25T06:56:11.359Z"
   },
   {
    "duration": 4,
    "start_time": "2022-02-25T06:56:11.367Z"
   },
   {
    "duration": 11,
    "start_time": "2022-02-25T06:56:11.372Z"
   },
   {
    "duration": 6,
    "start_time": "2022-02-25T06:56:11.384Z"
   },
   {
    "duration": 6,
    "start_time": "2022-02-25T06:56:11.392Z"
   },
   {
    "duration": 783,
    "start_time": "2022-02-25T06:56:11.399Z"
   },
   {
    "duration": 424,
    "start_time": "2022-02-25T06:56:12.183Z"
   },
   {
    "duration": 247,
    "start_time": "2022-02-25T07:07:26.511Z"
   },
   {
    "duration": 243,
    "start_time": "2022-02-25T07:10:53.884Z"
   },
   {
    "duration": 429,
    "start_time": "2022-02-25T07:11:42.378Z"
   },
   {
    "duration": 235,
    "start_time": "2022-02-25T07:12:10.834Z"
   },
   {
    "duration": 1702,
    "start_time": "2022-02-25T07:23:57.525Z"
   },
   {
    "duration": 2,
    "start_time": "2022-02-25T07:23:59.229Z"
   },
   {
    "duration": 18,
    "start_time": "2022-02-25T07:23:59.233Z"
   },
   {
    "duration": 153,
    "start_time": "2022-02-25T07:23:59.253Z"
   },
   {
    "duration": 3,
    "start_time": "2022-02-25T07:23:59.408Z"
   },
   {
    "duration": 26,
    "start_time": "2022-02-25T07:23:59.413Z"
   },
   {
    "duration": 29,
    "start_time": "2022-02-25T07:23:59.440Z"
   },
   {
    "duration": 9398,
    "start_time": "2022-02-25T07:23:59.472Z"
   },
   {
    "duration": 519,
    "start_time": "2022-02-25T07:24:08.872Z"
   },
   {
    "duration": 17,
    "start_time": "2022-02-25T07:24:09.392Z"
   },
   {
    "duration": 45,
    "start_time": "2022-02-25T07:24:09.410Z"
   },
   {
    "duration": 7,
    "start_time": "2022-02-25T07:24:09.457Z"
   },
   {
    "duration": 20,
    "start_time": "2022-02-25T07:24:09.465Z"
   },
   {
    "duration": 7,
    "start_time": "2022-02-25T07:24:09.487Z"
   },
   {
    "duration": 19,
    "start_time": "2022-02-25T07:24:09.496Z"
   },
   {
    "duration": 35,
    "start_time": "2022-02-25T07:24:09.517Z"
   },
   {
    "duration": 44,
    "start_time": "2022-02-25T07:24:09.554Z"
   },
   {
    "duration": 5,
    "start_time": "2022-02-25T07:24:09.600Z"
   },
   {
    "duration": 40,
    "start_time": "2022-02-25T07:24:09.607Z"
   },
   {
    "duration": 34,
    "start_time": "2022-02-25T07:24:09.649Z"
   },
   {
    "duration": 6593,
    "start_time": "2022-02-25T07:24:09.685Z"
   },
   {
    "duration": 5,
    "start_time": "2022-02-25T07:24:16.280Z"
   },
   {
    "duration": 352,
    "start_time": "2022-02-25T07:24:16.289Z"
   },
   {
    "duration": 6,
    "start_time": "2022-02-25T07:24:16.643Z"
   },
   {
    "duration": 8,
    "start_time": "2022-02-25T07:24:16.651Z"
   },
   {
    "duration": 5,
    "start_time": "2022-02-25T07:24:16.661Z"
   },
   {
    "duration": 7,
    "start_time": "2022-02-25T07:24:16.667Z"
   },
   {
    "duration": 6,
    "start_time": "2022-02-25T07:24:16.676Z"
   },
   {
    "duration": 9,
    "start_time": "2022-02-25T07:24:16.683Z"
   },
   {
    "duration": 8,
    "start_time": "2022-02-25T07:24:16.693Z"
   },
   {
    "duration": 7,
    "start_time": "2022-02-25T07:24:16.702Z"
   },
   {
    "duration": 39,
    "start_time": "2022-02-25T07:24:16.711Z"
   },
   {
    "duration": 1463,
    "start_time": "2022-02-25T07:24:16.752Z"
   },
   {
    "duration": 31,
    "start_time": "2022-02-25T07:24:18.216Z"
   },
   {
    "duration": 3,
    "start_time": "2022-02-25T07:24:18.249Z"
   },
   {
    "duration": 1867,
    "start_time": "2022-02-25T07:24:18.254Z"
   },
   {
    "duration": 30,
    "start_time": "2022-02-25T07:24:20.122Z"
   },
   {
    "duration": 12,
    "start_time": "2022-02-25T07:24:20.154Z"
   },
   {
    "duration": 8,
    "start_time": "2022-02-25T07:24:20.168Z"
   },
   {
    "duration": 5,
    "start_time": "2022-02-25T07:24:20.178Z"
   },
   {
    "duration": 9,
    "start_time": "2022-02-25T07:24:20.185Z"
   },
   {
    "duration": 4,
    "start_time": "2022-02-25T07:24:20.196Z"
   },
   {
    "duration": 10,
    "start_time": "2022-02-25T07:24:20.202Z"
   },
   {
    "duration": 39,
    "start_time": "2022-02-25T07:24:20.213Z"
   },
   {
    "duration": 19,
    "start_time": "2022-02-25T07:24:20.254Z"
   },
   {
    "duration": 8,
    "start_time": "2022-02-25T07:24:20.275Z"
   },
   {
    "duration": 14,
    "start_time": "2022-02-25T07:24:20.285Z"
   },
   {
    "duration": 20,
    "start_time": "2022-02-25T07:24:20.300Z"
   },
   {
    "duration": 2,
    "start_time": "2022-02-25T07:24:20.322Z"
   },
   {
    "duration": 22,
    "start_time": "2022-02-25T07:24:20.326Z"
   },
   {
    "duration": 13,
    "start_time": "2022-02-25T07:24:20.350Z"
   },
   {
    "duration": 690,
    "start_time": "2022-02-25T07:24:20.365Z"
   },
   {
    "duration": 6,
    "start_time": "2022-02-25T07:24:21.057Z"
   },
   {
    "duration": 4100,
    "start_time": "2022-02-25T07:24:21.064Z"
   },
   {
    "duration": 6,
    "start_time": "2022-02-25T07:24:25.166Z"
   },
   {
    "duration": 12,
    "start_time": "2022-02-25T07:24:25.174Z"
   },
   {
    "duration": 167,
    "start_time": "2022-02-25T07:24:25.187Z"
   },
   {
    "duration": 9,
    "start_time": "2022-02-25T07:24:25.356Z"
   },
   {
    "duration": 7,
    "start_time": "2022-02-25T07:24:25.367Z"
   },
   {
    "duration": 9,
    "start_time": "2022-02-25T07:24:25.375Z"
   },
   {
    "duration": 6,
    "start_time": "2022-02-25T07:24:25.386Z"
   },
   {
    "duration": 15363,
    "start_time": "2022-02-25T07:24:25.394Z"
   },
   {
    "duration": 9,
    "start_time": "2022-02-25T07:24:40.759Z"
   },
   {
    "duration": 8,
    "start_time": "2022-02-25T07:24:40.771Z"
   },
   {
    "duration": 16,
    "start_time": "2022-02-25T07:24:40.781Z"
   },
   {
    "duration": 8,
    "start_time": "2022-02-25T07:24:40.799Z"
   },
   {
    "duration": 38,
    "start_time": "2022-02-25T07:24:40.809Z"
   },
   {
    "duration": 4,
    "start_time": "2022-02-25T07:24:40.852Z"
   },
   {
    "duration": 797,
    "start_time": "2022-02-25T07:24:40.858Z"
   },
   {
    "duration": 511,
    "start_time": "2022-02-25T07:24:41.657Z"
   },
   {
    "duration": 291,
    "start_time": "2022-02-25T07:24:42.170Z"
   },
   {
    "duration": 440,
    "start_time": "2022-02-25T07:24:42.463Z"
   },
   {
    "duration": 6,
    "start_time": "2022-02-25T07:24:42.905Z"
   },
   {
    "duration": 279,
    "start_time": "2022-02-25T07:24:42.913Z"
   },
   {
    "duration": 1537,
    "start_time": "2022-02-25T07:45:34.731Z"
   },
   {
    "duration": 3,
    "start_time": "2022-02-25T07:45:36.269Z"
   },
   {
    "duration": 6,
    "start_time": "2022-02-25T07:45:36.274Z"
   },
   {
    "duration": 141,
    "start_time": "2022-02-25T07:45:36.282Z"
   },
   {
    "duration": 3,
    "start_time": "2022-02-25T07:45:36.424Z"
   },
   {
    "duration": 5,
    "start_time": "2022-02-25T07:45:36.449Z"
   },
   {
    "duration": 7,
    "start_time": "2022-02-25T07:45:36.456Z"
   },
   {
    "duration": 7930,
    "start_time": "2022-02-25T07:45:36.464Z"
   },
   {
    "duration": 479,
    "start_time": "2022-02-25T07:45:44.397Z"
   },
   {
    "duration": 16,
    "start_time": "2022-02-25T07:45:44.878Z"
   },
   {
    "duration": 31,
    "start_time": "2022-02-25T07:45:44.896Z"
   },
   {
    "duration": 17,
    "start_time": "2022-02-25T07:45:44.929Z"
   },
   {
    "duration": 17,
    "start_time": "2022-02-25T07:45:44.948Z"
   },
   {
    "duration": 11,
    "start_time": "2022-02-25T07:45:44.967Z"
   },
   {
    "duration": 73,
    "start_time": "2022-02-25T07:45:44.980Z"
   },
   {
    "duration": 12,
    "start_time": "2022-02-25T07:45:45.054Z"
   },
   {
    "duration": 41,
    "start_time": "2022-02-25T07:45:45.068Z"
   },
   {
    "duration": 4,
    "start_time": "2022-02-25T07:45:45.111Z"
   },
   {
    "duration": 31,
    "start_time": "2022-02-25T07:45:45.116Z"
   },
   {
    "duration": 35,
    "start_time": "2022-02-25T07:45:45.148Z"
   },
   {
    "duration": 6801,
    "start_time": "2022-02-25T07:45:45.184Z"
   },
   {
    "duration": 5,
    "start_time": "2022-02-25T07:45:51.987Z"
   },
   {
    "duration": 326,
    "start_time": "2022-02-25T07:45:51.993Z"
   },
   {
    "duration": 5,
    "start_time": "2022-02-25T07:45:52.321Z"
   },
   {
    "duration": 7,
    "start_time": "2022-02-25T07:45:52.327Z"
   },
   {
    "duration": 13,
    "start_time": "2022-02-25T07:45:52.336Z"
   },
   {
    "duration": 5,
    "start_time": "2022-02-25T07:45:52.353Z"
   },
   {
    "duration": 6,
    "start_time": "2022-02-25T07:45:52.360Z"
   },
   {
    "duration": 6,
    "start_time": "2022-02-25T07:45:52.367Z"
   },
   {
    "duration": 6,
    "start_time": "2022-02-25T07:45:52.374Z"
   },
   {
    "duration": 10,
    "start_time": "2022-02-25T07:45:52.382Z"
   },
   {
    "duration": 6,
    "start_time": "2022-02-25T07:45:52.393Z"
   },
   {
    "duration": 1201,
    "start_time": "2022-02-25T07:45:52.400Z"
   },
   {
    "duration": 17,
    "start_time": "2022-02-25T07:45:53.603Z"
   },
   {
    "duration": 4,
    "start_time": "2022-02-25T07:45:53.622Z"
   },
   {
    "duration": 1862,
    "start_time": "2022-02-25T07:45:53.645Z"
   },
   {
    "duration": 18,
    "start_time": "2022-02-25T07:45:55.508Z"
   },
   {
    "duration": 23,
    "start_time": "2022-02-25T07:45:55.528Z"
   },
   {
    "duration": 9,
    "start_time": "2022-02-25T07:45:55.552Z"
   },
   {
    "duration": 21,
    "start_time": "2022-02-25T07:45:55.563Z"
   },
   {
    "duration": 29,
    "start_time": "2022-02-25T07:45:55.586Z"
   },
   {
    "duration": 9,
    "start_time": "2022-02-25T07:45:55.616Z"
   },
   {
    "duration": 20,
    "start_time": "2022-02-25T07:45:55.626Z"
   },
   {
    "duration": 23,
    "start_time": "2022-02-25T07:45:55.648Z"
   },
   {
    "duration": 14,
    "start_time": "2022-02-25T07:45:55.673Z"
   },
   {
    "duration": 10,
    "start_time": "2022-02-25T07:45:55.689Z"
   },
   {
    "duration": 16,
    "start_time": "2022-02-25T07:45:55.701Z"
   },
   {
    "duration": 12,
    "start_time": "2022-02-25T07:45:55.719Z"
   },
   {
    "duration": 3,
    "start_time": "2022-02-25T07:45:55.733Z"
   },
   {
    "duration": 14,
    "start_time": "2022-02-25T07:45:55.738Z"
   },
   {
    "duration": 10,
    "start_time": "2022-02-25T07:45:55.753Z"
   },
   {
    "duration": 706,
    "start_time": "2022-02-25T07:45:55.765Z"
   },
   {
    "duration": 5,
    "start_time": "2022-02-25T07:45:56.473Z"
   },
   {
    "duration": 3889,
    "start_time": "2022-02-25T07:45:56.480Z"
   },
   {
    "duration": 8,
    "start_time": "2022-02-25T07:46:00.371Z"
   },
   {
    "duration": 18,
    "start_time": "2022-02-25T07:46:00.380Z"
   },
   {
    "duration": 141,
    "start_time": "2022-02-25T07:46:00.400Z"
   },
   {
    "duration": 14,
    "start_time": "2022-02-25T07:46:00.542Z"
   },
   {
    "duration": 5,
    "start_time": "2022-02-25T07:46:00.558Z"
   },
   {
    "duration": 21,
    "start_time": "2022-02-25T07:46:00.565Z"
   },
   {
    "duration": 7,
    "start_time": "2022-02-25T07:46:00.588Z"
   },
   {
    "duration": 14541,
    "start_time": "2022-02-25T07:46:00.596Z"
   },
   {
    "duration": 8,
    "start_time": "2022-02-25T07:46:15.139Z"
   },
   {
    "duration": 7,
    "start_time": "2022-02-25T07:46:15.149Z"
   },
   {
    "duration": 7,
    "start_time": "2022-02-25T07:46:15.157Z"
   },
   {
    "duration": 6,
    "start_time": "2022-02-25T07:46:15.165Z"
   },
   {
    "duration": 7,
    "start_time": "2022-02-25T07:46:15.173Z"
   },
   {
    "duration": 3,
    "start_time": "2022-02-25T07:46:15.182Z"
   },
   {
    "duration": 7,
    "start_time": "2022-02-25T07:46:15.186Z"
   },
   {
    "duration": 5,
    "start_time": "2022-02-25T07:46:15.194Z"
   },
   {
    "duration": 5,
    "start_time": "2022-02-25T07:46:15.200Z"
   },
   {
    "duration": 7,
    "start_time": "2022-02-25T07:46:15.206Z"
   },
   {
    "duration": 5,
    "start_time": "2022-02-25T07:46:15.246Z"
   },
   {
    "duration": 10,
    "start_time": "2022-02-25T07:46:15.252Z"
   }
  ],
  "kernelspec": {
   "display_name": "Python 3",
   "language": "python",
   "name": "python3"
  },
  "language_info": {
   "codemirror_mode": {
    "name": "ipython",
    "version": 3
   },
   "file_extension": ".py",
   "mimetype": "text/x-python",
   "name": "python",
   "nbconvert_exporter": "python",
   "pygments_lexer": "ipython3",
   "version": "3.8.8"
  },
  "toc": {
   "base_numbering": 1,
   "nav_menu": {},
   "number_sections": true,
   "sideBar": true,
   "skip_h1_title": true,
   "title_cell": "Table of Contents",
   "title_sidebar": "Contents",
   "toc_cell": false,
   "toc_position": {},
   "toc_section_display": true,
   "toc_window_display": false
  }
 },
 "nbformat": 4,
 "nbformat_minor": 2
}
