{
 "cells": [
  {
   "cell_type": "markdown",
   "metadata": {
    "toc": true
   },
   "source": [
    "<h1>Содержание<span class=\"tocSkip\"></span></h1>\n",
    "<div class=\"toc\"><ul class=\"toc-item\"><li><span><a href=\"#Загрузка-данных\" data-toc-modified-id=\"Загрузка-данных-1\"><span class=\"toc-item-num\">1&nbsp;&nbsp;</span>Загрузка данных</a></span></li><li><span><a href=\"#Умножение-матриц\" data-toc-modified-id=\"Умножение-матриц-2\"><span class=\"toc-item-num\">2&nbsp;&nbsp;</span>Умножение матриц</a></span></li><li><span><a href=\"#Алгоритм-преобразования\" data-toc-modified-id=\"Алгоритм-преобразования-3\"><span class=\"toc-item-num\">3&nbsp;&nbsp;</span>Алгоритм преобразования</a></span></li><li><span><a href=\"#Проверка-алгоритма\" data-toc-modified-id=\"Проверка-алгоритма-4\"><span class=\"toc-item-num\">4&nbsp;&nbsp;</span>Проверка алгоритма</a></span></li><li><span><a href=\"#Вывод\" data-toc-modified-id=\"Вывод-5\"><span class=\"toc-item-num\">5&nbsp;&nbsp;</span>Вывод</a></span></li><li><span><a href=\"#Чек-лист-проверки\" data-toc-modified-id=\"Чек-лист-проверки-6\"><span class=\"toc-item-num\">6&nbsp;&nbsp;</span>Чек-лист проверки</a></span></li></ul></div>"
   ]
  },
  {
   "cell_type": "markdown",
   "metadata": {},
   "source": [
    "# Защита персональных данных клиентов"
   ]
  },
  {
   "cell_type": "markdown",
   "metadata": {},
   "source": [
    "Необходимо защитить данные клиентов страховой компании «Хоть потоп». Для этого разработать такой метод преобразования данных, чтобы по ним было сложно восстановить персональную информацию. Также привести обоснование корректности его работы.\n",
    "\n",
    "Нужно защитить данные, чтобы при преобразовании качество моделей машинного обучения не ухудшилось (без подбора наилучшей модели)."
   ]
  },
  {
   "cell_type": "markdown",
   "metadata": {},
   "source": [
    "## Загрузка данных"
   ]
  },
  {
   "cell_type": "code",
   "execution_count": 1,
   "metadata": {},
   "outputs": [],
   "source": [
    "import pandas as pd\n",
    "import numpy as np\n",
    "from sklearn.model_selection import train_test_split\n",
    "from sklearn.linear_model import LinearRegression\n",
    "from sklearn.metrics import r2_score"
   ]
  },
  {
   "cell_type": "code",
   "execution_count": 2,
   "metadata": {},
   "outputs": [],
   "source": [
    "STATE = 1"
   ]
  },
  {
   "cell_type": "code",
   "execution_count": 3,
   "metadata": {},
   "outputs": [],
   "source": [
    "df = pd.read_csv('/datasets/insurance.csv')"
   ]
  },
  {
   "cell_type": "code",
   "execution_count": 4,
   "metadata": {},
   "outputs": [
    {
     "name": "stdout",
     "output_type": "stream",
     "text": [
      "<class 'pandas.core.frame.DataFrame'>\n",
      "RangeIndex: 5000 entries, 0 to 4999\n",
      "Data columns (total 5 columns):\n",
      "Пол                  5000 non-null int64\n",
      "Возраст              5000 non-null float64\n",
      "Зарплата             5000 non-null float64\n",
      "Члены семьи          5000 non-null int64\n",
      "Страховые выплаты    5000 non-null int64\n",
      "dtypes: float64(2), int64(3)\n",
      "memory usage: 195.4 KB\n"
     ]
    }
   ],
   "source": [
    "df.info()"
   ]
  },
  {
   "cell_type": "code",
   "execution_count": 5,
   "metadata": {},
   "outputs": [
    {
     "data": {
      "text/html": [
       "<div>\n",
       "<style scoped>\n",
       "    .dataframe tbody tr th:only-of-type {\n",
       "        vertical-align: middle;\n",
       "    }\n",
       "\n",
       "    .dataframe tbody tr th {\n",
       "        vertical-align: top;\n",
       "    }\n",
       "\n",
       "    .dataframe thead th {\n",
       "        text-align: right;\n",
       "    }\n",
       "</style>\n",
       "<table border=\"1\" class=\"dataframe\">\n",
       "  <thead>\n",
       "    <tr style=\"text-align: right;\">\n",
       "      <th></th>\n",
       "      <th>Пол</th>\n",
       "      <th>Возраст</th>\n",
       "      <th>Зарплата</th>\n",
       "      <th>Члены семьи</th>\n",
       "      <th>Страховые выплаты</th>\n",
       "    </tr>\n",
       "  </thead>\n",
       "  <tbody>\n",
       "    <tr>\n",
       "      <td>2764</td>\n",
       "      <td>0</td>\n",
       "      <td>26.0</td>\n",
       "      <td>24500.0</td>\n",
       "      <td>0</td>\n",
       "      <td>0</td>\n",
       "    </tr>\n",
       "    <tr>\n",
       "      <td>4767</td>\n",
       "      <td>0</td>\n",
       "      <td>24.0</td>\n",
       "      <td>32100.0</td>\n",
       "      <td>1</td>\n",
       "      <td>0</td>\n",
       "    </tr>\n",
       "    <tr>\n",
       "      <td>3814</td>\n",
       "      <td>0</td>\n",
       "      <td>33.0</td>\n",
       "      <td>17800.0</td>\n",
       "      <td>3</td>\n",
       "      <td>0</td>\n",
       "    </tr>\n",
       "    <tr>\n",
       "      <td>3499</td>\n",
       "      <td>1</td>\n",
       "      <td>22.0</td>\n",
       "      <td>65100.0</td>\n",
       "      <td>4</td>\n",
       "      <td>0</td>\n",
       "    </tr>\n",
       "    <tr>\n",
       "      <td>2735</td>\n",
       "      <td>1</td>\n",
       "      <td>22.0</td>\n",
       "      <td>41300.0</td>\n",
       "      <td>1</td>\n",
       "      <td>0</td>\n",
       "    </tr>\n",
       "  </tbody>\n",
       "</table>\n",
       "</div>"
      ],
      "text/plain": [
       "      Пол  Возраст  Зарплата  Члены семьи  Страховые выплаты\n",
       "2764    0     26.0   24500.0            0                  0\n",
       "4767    0     24.0   32100.0            1                  0\n",
       "3814    0     33.0   17800.0            3                  0\n",
       "3499    1     22.0   65100.0            4                  0\n",
       "2735    1     22.0   41300.0            1                  0"
      ]
     },
     "execution_count": 5,
     "metadata": {},
     "output_type": "execute_result"
    }
   ],
   "source": [
    "df.sample(5, random_state=STATE)"
   ]
  },
  {
   "cell_type": "code",
   "execution_count": 6,
   "metadata": {},
   "outputs": [
    {
     "data": {
      "text/html": [
       "<div>\n",
       "<style scoped>\n",
       "    .dataframe tbody tr th:only-of-type {\n",
       "        vertical-align: middle;\n",
       "    }\n",
       "\n",
       "    .dataframe tbody tr th {\n",
       "        vertical-align: top;\n",
       "    }\n",
       "\n",
       "    .dataframe thead th {\n",
       "        text-align: right;\n",
       "    }\n",
       "</style>\n",
       "<table border=\"1\" class=\"dataframe\">\n",
       "  <thead>\n",
       "    <tr style=\"text-align: right;\">\n",
       "      <th></th>\n",
       "      <th>Пол</th>\n",
       "      <th>Возраст</th>\n",
       "      <th>Зарплата</th>\n",
       "      <th>Члены семьи</th>\n",
       "      <th>Страховые выплаты</th>\n",
       "    </tr>\n",
       "  </thead>\n",
       "  <tbody>\n",
       "    <tr>\n",
       "      <td>count</td>\n",
       "      <td>5000.000000</td>\n",
       "      <td>5000.000000</td>\n",
       "      <td>5000.000000</td>\n",
       "      <td>5000.000000</td>\n",
       "      <td>5000.000000</td>\n",
       "    </tr>\n",
       "    <tr>\n",
       "      <td>mean</td>\n",
       "      <td>0.499000</td>\n",
       "      <td>30.952800</td>\n",
       "      <td>39916.360000</td>\n",
       "      <td>1.194200</td>\n",
       "      <td>0.148000</td>\n",
       "    </tr>\n",
       "    <tr>\n",
       "      <td>std</td>\n",
       "      <td>0.500049</td>\n",
       "      <td>8.440807</td>\n",
       "      <td>9900.083569</td>\n",
       "      <td>1.091387</td>\n",
       "      <td>0.463183</td>\n",
       "    </tr>\n",
       "    <tr>\n",
       "      <td>min</td>\n",
       "      <td>0.000000</td>\n",
       "      <td>18.000000</td>\n",
       "      <td>5300.000000</td>\n",
       "      <td>0.000000</td>\n",
       "      <td>0.000000</td>\n",
       "    </tr>\n",
       "    <tr>\n",
       "      <td>25%</td>\n",
       "      <td>0.000000</td>\n",
       "      <td>24.000000</td>\n",
       "      <td>33300.000000</td>\n",
       "      <td>0.000000</td>\n",
       "      <td>0.000000</td>\n",
       "    </tr>\n",
       "    <tr>\n",
       "      <td>50%</td>\n",
       "      <td>0.000000</td>\n",
       "      <td>30.000000</td>\n",
       "      <td>40200.000000</td>\n",
       "      <td>1.000000</td>\n",
       "      <td>0.000000</td>\n",
       "    </tr>\n",
       "    <tr>\n",
       "      <td>75%</td>\n",
       "      <td>1.000000</td>\n",
       "      <td>37.000000</td>\n",
       "      <td>46600.000000</td>\n",
       "      <td>2.000000</td>\n",
       "      <td>0.000000</td>\n",
       "    </tr>\n",
       "    <tr>\n",
       "      <td>max</td>\n",
       "      <td>1.000000</td>\n",
       "      <td>65.000000</td>\n",
       "      <td>79000.000000</td>\n",
       "      <td>6.000000</td>\n",
       "      <td>5.000000</td>\n",
       "    </tr>\n",
       "  </tbody>\n",
       "</table>\n",
       "</div>"
      ],
      "text/plain": [
       "               Пол      Возраст      Зарплата  Члены семьи  Страховые выплаты\n",
       "count  5000.000000  5000.000000   5000.000000  5000.000000        5000.000000\n",
       "mean      0.499000    30.952800  39916.360000     1.194200           0.148000\n",
       "std       0.500049     8.440807   9900.083569     1.091387           0.463183\n",
       "min       0.000000    18.000000   5300.000000     0.000000           0.000000\n",
       "25%       0.000000    24.000000  33300.000000     0.000000           0.000000\n",
       "50%       0.000000    30.000000  40200.000000     1.000000           0.000000\n",
       "75%       1.000000    37.000000  46600.000000     2.000000           0.000000\n",
       "max       1.000000    65.000000  79000.000000     6.000000           5.000000"
      ]
     },
     "execution_count": 6,
     "metadata": {},
     "output_type": "execute_result"
    }
   ],
   "source": [
    "df.describe()"
   ]
  },
  {
   "cell_type": "markdown",
   "metadata": {},
   "source": [
    "## Умножение матриц"
   ]
  },
  {
   "cell_type": "markdown",
   "metadata": {},
   "source": [
    "В этом задании вы можете записывать формулы в *Jupyter Notebook.*\n",
    "\n",
    "Чтобы записать формулу внутри текста, окружите её символами доллара \\\\$; если снаружи —  двойными символами \\\\$\\\\$. Эти формулы записываются на языке вёрстки *LaTeX.* \n",
    "\n",
    "Для примера мы записали формулы линейной регрессии. Можете их скопировать и отредактировать, чтобы решить задачу.\n",
    "\n",
    "Работать в *LaTeX* необязательно."
   ]
  },
  {
   "cell_type": "markdown",
   "metadata": {},
   "source": [
    "Обозначения:\n",
    "\n",
    "- $X$ — матрица признаков (нулевой столбец состоит из единиц)\n",
    "\n",
    "- $y$ — вектор целевого признака\n",
    "\n",
    "- $P$ — матрица, на которую умножаются признаки\n",
    "\n",
    "- $w$ — вектор весов линейной регрессии (нулевой элемент равен сдвигу)"
   ]
  },
  {
   "cell_type": "markdown",
   "metadata": {},
   "source": [
    "Предсказания:\n",
    "\n",
    "$$\n",
    "a = Xw\n",
    "$$\n",
    "\n",
    "Задача обучения:\n",
    "\n",
    "$$\n",
    "w = \\arg\\min_w MSE(Xw, y)\n",
    "$$\n",
    "\n",
    "Формула обучения:\n",
    "\n",
    "$$\n",
    "w = (X^T X)^{-1} X^T y\n",
    "$$"
   ]
  },
  {
   "cell_type": "markdown",
   "metadata": {},
   "source": [
    "**Ответ:** качество предсказаний линейной регрессии не изменится.\n",
    "\n",
    "**Обоснование:**"
   ]
  },
  {
   "cell_type": "markdown",
   "metadata": {},
   "source": [
    "Докажем, что при умножении признаков (исходной матрицы) на любую обратимую матрицу качество предсказаний регрессии не изменится.\n",
    "\n",
    "Для этого приравняем обе части уравнений, взяв за основу формулу предсказаний регресиии."
   ]
  },
  {
   "cell_type": "markdown",
   "metadata": {},
   "source": [
    "Если:\n",
    "$$\n",
    "a = X(X^T X)^{-1} X^T y\n",
    "$$"
   ]
  },
  {
   "cell_type": "markdown",
   "metadata": {},
   "source": [
    "Тогда:"
   ]
  },
  {
   "cell_type": "markdown",
   "metadata": {},
   "source": [
    "$$\n",
    "a' = XP((XP)^T XP)^{-1} (XP)^T y\n",
    "$$"
   ]
  },
  {
   "cell_type": "markdown",
   "metadata": {},
   "source": [
    "Докажем что:"
   ]
  },
  {
   "cell_type": "markdown",
   "metadata": {},
   "source": [
    "$$\n",
    "a = a'\n",
    "$$"
   ]
  },
  {
   "cell_type": "markdown",
   "metadata": {},
   "source": [
    "-----------------------------------------------------------"
   ]
  },
  {
   "cell_type": "markdown",
   "metadata": {},
   "source": [
    "$$\n",
    "a' = XP((XP)^T XP)^{-1} (XP)^T y\n",
    "$$"
   ]
  },
  {
   "cell_type": "markdown",
   "metadata": {},
   "source": [
    "Раскрываем скобки по свойству транспонированных матриц: \n",
    "\n",
    "$$\n",
    "(AB)^T =  B^TA^T\n",
    "$$"
   ]
  },
  {
   "cell_type": "markdown",
   "metadata": {},
   "source": [
    "$$\n",
    "a' = XP(P^TX^T XP)^{-1} P^TX^T y\n",
    "$$"
   ]
  },
  {
   "cell_type": "markdown",
   "metadata": {},
   "source": [
    "Раскрываем скобки по свойству обратных матриц: \n",
    "$$\n",
    "(AB)^{-1}=B^{-1}A^{-1}\n",
    "$$"
   ]
  },
  {
   "cell_type": "markdown",
   "metadata": {},
   "source": [
    "$$\n",
    "a' = XPP^{-1} (X^TX)^{-1} (P^T)^{-1} P^T X^T y\n",
    "$$"
   ]
  },
  {
   "cell_type": "markdown",
   "metadata": {},
   "source": [
    "Далее, по свойству обратной матрицы, заменяем матрицы единичной матрицей E:\n",
    "\n",
    "$$\n",
    "AA^{-1} = E\n",
    "$$"
   ]
  },
  {
   "cell_type": "markdown",
   "metadata": {},
   "source": [
    "По свойству единичной матрицы, сокращаем  E:\n",
    "$$\n",
    "AE = A\n",
    "$$"
   ]
  },
  {
   "cell_type": "markdown",
   "metadata": {},
   "source": [
    "$$\n",
    "a' = XE (X^TX)^{-1} E X^T y\n",
    "$$"
   ]
  },
  {
   "cell_type": "markdown",
   "metadata": {},
   "source": [
    "$$\n",
    "a' = X(X^TX)^{-1}X^T y\n",
    "$$"
   ]
  },
  {
   "cell_type": "markdown",
   "metadata": {},
   "source": [
    "$$\n",
    "a = a'\n",
    "$$"
   ]
  },
  {
   "cell_type": "markdown",
   "metadata": {},
   "source": [
    "## Алгоритм преобразования"
   ]
  },
  {
   "cell_type": "markdown",
   "metadata": {},
   "source": [
    "Разделим целевой признак и признаки для обучения по разным таблицам."
   ]
  },
  {
   "cell_type": "code",
   "execution_count": 8,
   "metadata": {},
   "outputs": [],
   "source": [
    "target = df['Страховые выплаты']"
   ]
  },
  {
   "cell_type": "code",
   "execution_count": 9,
   "metadata": {},
   "outputs": [
    {
     "data": {
      "text/plain": [
       "(5000,)"
      ]
     },
     "execution_count": 9,
     "metadata": {},
     "output_type": "execute_result"
    }
   ],
   "source": [
    "target.shape"
   ]
  },
  {
   "cell_type": "code",
   "execution_count": 10,
   "metadata": {},
   "outputs": [],
   "source": [
    "features = df.drop('Страховые выплаты', axis=1)"
   ]
  },
  {
   "cell_type": "code",
   "execution_count": 11,
   "metadata": {},
   "outputs": [
    {
     "data": {
      "text/plain": [
       "(5000, 4)"
      ]
     },
     "execution_count": 11,
     "metadata": {},
     "output_type": "execute_result"
    }
   ],
   "source": [
    "features.shape"
   ]
  },
  {
   "cell_type": "code",
   "execution_count": 12,
   "metadata": {},
   "outputs": [],
   "source": [
    "features_train, features_test, target_train, target_test = train_test_split(features, target, \n",
    "                                                                            test_size=.25, \n",
    "                                                                            random_state=STATE)"
   ]
  },
  {
   "cell_type": "markdown",
   "metadata": {},
   "source": [
    "**Алгоритм**"
   ]
  },
  {
   "cell_type": "markdown",
   "metadata": {},
   "source": [
    "Для преобразования признаков будем использовать умножение на случайную обратимую матрицу."
   ]
  },
  {
   "cell_type": "code",
   "execution_count": 13,
   "metadata": {},
   "outputs": [],
   "source": [
    "# функкция для проверки обратимости случайной матрицы по её определителю\n",
    "def matrix(n):\n",
    "    random_matrix  = np.random.normal(size=(n, n))\n",
    "    if np.linalg.det(random_matrix ) == 0:\n",
    "        print('Матрица необратима, попробовать другую')\n",
    "    return random_matrix"
   ]
  },
  {
   "cell_type": "code",
   "execution_count": 14,
   "metadata": {},
   "outputs": [
    {
     "data": {
      "text/plain": [
       "(5000, 4)"
      ]
     },
     "execution_count": 14,
     "metadata": {},
     "output_type": "execute_result"
    }
   ],
   "source": [
    "# умножаем признаки на случайную матрицу\n",
    "features_encoded = features @ matrix(4)\n",
    "features_encoded.shape"
   ]
  },
  {
   "cell_type": "code",
   "execution_count": 15,
   "metadata": {},
   "outputs": [],
   "source": [
    "# делаем новое разделение закодированных признаков\n",
    "features_train_en, features_test_en, target_train, target_test = train_test_split(features_encoded, target, \n",
    "                                                                                  test_size=.25, \n",
    "                                                                                  random_state=STATE)"
   ]
  },
  {
   "cell_type": "markdown",
   "metadata": {},
   "source": [
    "## Проверка алгоритма"
   ]
  },
  {
   "cell_type": "markdown",
   "metadata": {},
   "source": [
    "Проверям, что качество регрессии не изменится при применении кодирования с помощью умножения на случайную обратимую матрицу.\n",
    "\n",
    "Для этого обучим две модели - с закодированными признаками и с исходными и посчитаем их метрику R2."
   ]
  },
  {
   "cell_type": "code",
   "execution_count": 16,
   "metadata": {},
   "outputs": [
    {
     "data": {
      "text/plain": [
       "0.3237732279269677"
      ]
     },
     "execution_count": 16,
     "metadata": {},
     "output_type": "execute_result"
    }
   ],
   "source": [
    "model = LinearRegression()\n",
    "model.fit(features_train_en, target_train)\n",
    "predictions = model.predict(features_test_en)\n",
    "r2_encoded = r2_score(target_test, predictions)\n",
    "r2_encoded"
   ]
  },
  {
   "cell_type": "code",
   "execution_count": 17,
   "metadata": {},
   "outputs": [
    {
     "data": {
      "text/plain": [
       "0.3237732279242751"
      ]
     },
     "execution_count": 17,
     "metadata": {},
     "output_type": "execute_result"
    }
   ],
   "source": [
    "model = LinearRegression()\n",
    "model.fit(features_train, target_train)\n",
    "predictions = model.predict(features_test)\n",
    "r2 = r2_score(target_test, predictions)\n",
    "r2"
   ]
  },
  {
   "cell_type": "code",
   "execution_count": 18,
   "metadata": {},
   "outputs": [
    {
     "name": "stdout",
     "output_type": "stream",
     "text": [
      "Метрика R2 на закодированных данных 0.3237732279269677\n",
      "Метрика R2 на исходных данных       0.3237732279242751\n"
     ]
    }
   ],
   "source": [
    "print('Метрика R2 на закодированных данных', r2_encoded)\n",
    "print('Метрика R2 на исходных данных      ', r2)"
   ]
  },
  {
   "cell_type": "markdown",
   "metadata": {},
   "source": [
    "Метрика R2 значимо не различается."
   ]
  },
  {
   "cell_type": "markdown",
   "metadata": {},
   "source": [
    "## Вывод"
   ]
  },
  {
   "cell_type": "markdown",
   "metadata": {},
   "source": [
    "Было доказано, что метрика линейной регрессии не изменится после кодирования данных, т.е. качество предсказаний модели не ухудшится после умножения исходных признаков на случайную обратимую матрицу."
   ]
  }
 ],
 "metadata": {
  "ExecuteTimeLog": [
   {
    "duration": 859,
    "start_time": "2021-10-18T05:21:19.904Z"
   },
   {
    "duration": 24,
    "start_time": "2021-10-18T05:21:50.716Z"
   },
   {
    "duration": 10,
    "start_time": "2021-10-18T05:22:01.266Z"
   },
   {
    "duration": 23,
    "start_time": "2021-10-18T05:22:12.665Z"
   },
   {
    "duration": 3,
    "start_time": "2021-10-18T05:22:37.672Z"
   },
   {
    "duration": 13,
    "start_time": "2021-10-18T05:22:44.680Z"
   },
   {
    "duration": 13,
    "start_time": "2021-10-18T05:22:47.056Z"
   },
   {
    "duration": 13,
    "start_time": "2021-10-18T05:22:50.732Z"
   },
   {
    "duration": 35,
    "start_time": "2021-10-18T05:23:05.363Z"
   },
   {
    "duration": 15,
    "start_time": "2021-10-18T05:23:30.386Z"
   },
   {
    "duration": 1018,
    "start_time": "2021-10-18T12:38:36.553Z"
   },
   {
    "duration": 5,
    "start_time": "2021-10-18T12:38:53.159Z"
   },
   {
    "duration": 17,
    "start_time": "2021-10-18T12:39:00.142Z"
   },
   {
    "duration": 4,
    "start_time": "2021-10-18T12:39:19.908Z"
   },
   {
    "duration": 6,
    "start_time": "2021-10-18T12:39:24.602Z"
   },
   {
    "duration": 5,
    "start_time": "2021-10-18T12:39:28.400Z"
   },
   {
    "duration": 4,
    "start_time": "2021-10-18T12:39:34.667Z"
   },
   {
    "duration": 97,
    "start_time": "2021-10-18T16:49:52.821Z"
   },
   {
    "duration": 548,
    "start_time": "2021-10-18T17:01:39.568Z"
   },
   {
    "duration": 339,
    "start_time": "2021-10-18T17:01:43.738Z"
   },
   {
    "duration": 9,
    "start_time": "2021-10-18T17:02:01.757Z"
   },
   {
    "duration": 6,
    "start_time": "2021-10-18T17:02:09.124Z"
   },
   {
    "duration": 5,
    "start_time": "2021-10-18T17:02:19.568Z"
   },
   {
    "duration": 6,
    "start_time": "2021-10-18T17:02:24.327Z"
   },
   {
    "duration": 10,
    "start_time": "2021-10-18T17:02:45.006Z"
   },
   {
    "duration": 298,
    "start_time": "2021-10-18T17:14:41.723Z"
   },
   {
    "duration": 4,
    "start_time": "2021-10-18T17:15:01.921Z"
   },
   {
    "duration": 296,
    "start_time": "2021-10-18T17:15:52.598Z"
   },
   {
    "duration": 6,
    "start_time": "2021-10-18T17:16:08.676Z"
   },
   {
    "duration": 4,
    "start_time": "2021-10-18T17:17:57.741Z"
   },
   {
    "duration": 772,
    "start_time": "2021-10-18T17:18:11.127Z"
   },
   {
    "duration": 5,
    "start_time": "2021-10-18T17:18:24.390Z"
   },
   {
    "duration": 289,
    "start_time": "2021-10-18T17:18:37.778Z"
   },
   {
    "duration": 7,
    "start_time": "2021-10-18T17:18:43.056Z"
   },
   {
    "duration": 4,
    "start_time": "2021-10-18T17:19:28.966Z"
   },
   {
    "duration": 9,
    "start_time": "2021-10-18T17:20:39.034Z"
   },
   {
    "duration": 22,
    "start_time": "2021-10-18T17:24:21.241Z"
   },
   {
    "duration": 13,
    "start_time": "2021-10-18T17:24:33.069Z"
   },
   {
    "duration": 8,
    "start_time": "2021-10-18T17:29:43.355Z"
   },
   {
    "duration": 10,
    "start_time": "2021-10-18T17:29:53.257Z"
   },
   {
    "duration": 10,
    "start_time": "2021-10-18T17:31:51.067Z"
   },
   {
    "duration": 101,
    "start_time": "2021-10-18T17:32:49.723Z"
   },
   {
    "duration": 8,
    "start_time": "2021-10-18T17:32:53.386Z"
   },
   {
    "duration": 8891,
    "start_time": "2021-10-18T17:34:35.732Z"
   },
   {
    "duration": 7,
    "start_time": "2021-10-18T17:34:52.497Z"
   },
   {
    "duration": 5,
    "start_time": "2021-10-19T04:32:12.465Z"
   },
   {
    "duration": 1564,
    "start_time": "2021-10-19T04:40:29.938Z"
   },
   {
    "duration": 9,
    "start_time": "2021-10-19T04:40:31.506Z"
   },
   {
    "duration": 28,
    "start_time": "2021-10-19T04:40:31.522Z"
   },
   {
    "duration": 11,
    "start_time": "2021-10-19T04:40:31.553Z"
   },
   {
    "duration": 23,
    "start_time": "2021-10-19T04:40:31.567Z"
   },
   {
    "duration": 57,
    "start_time": "2021-10-19T04:40:31.592Z"
   },
   {
    "duration": 13,
    "start_time": "2021-10-19T04:40:31.652Z"
   },
   {
    "duration": 3,
    "start_time": "2021-10-19T04:40:31.668Z"
   },
   {
    "duration": 7,
    "start_time": "2021-10-19T04:40:31.675Z"
   },
   {
    "duration": 40,
    "start_time": "2021-10-19T04:40:31.684Z"
   },
   {
    "duration": 9,
    "start_time": "2021-10-19T04:40:31.726Z"
   },
   {
    "duration": 13,
    "start_time": "2021-10-19T04:40:31.737Z"
   },
   {
    "duration": 5,
    "start_time": "2021-10-19T04:40:31.752Z"
   },
   {
    "duration": 12,
    "start_time": "2021-10-19T04:40:31.759Z"
   },
   {
    "duration": 10,
    "start_time": "2021-10-19T04:40:31.773Z"
   },
   {
    "duration": 41,
    "start_time": "2021-10-19T04:40:31.785Z"
   },
   {
    "duration": 9,
    "start_time": "2021-10-19T04:40:31.829Z"
   },
   {
    "duration": 9,
    "start_time": "2021-10-19T04:40:31.840Z"
   },
   {
    "duration": 4,
    "start_time": "2021-10-19T04:41:03.004Z"
   },
   {
    "duration": 1337,
    "start_time": "2021-10-19T04:41:41.711Z"
   },
   {
    "duration": 3,
    "start_time": "2021-10-19T04:41:43.051Z"
   },
   {
    "duration": 26,
    "start_time": "2021-10-19T04:41:43.056Z"
   },
   {
    "duration": 10,
    "start_time": "2021-10-19T04:41:43.085Z"
   },
   {
    "duration": 35,
    "start_time": "2021-10-19T04:41:43.097Z"
   },
   {
    "duration": 34,
    "start_time": "2021-10-19T04:41:43.134Z"
   },
   {
    "duration": 14,
    "start_time": "2021-10-19T04:41:43.170Z"
   },
   {
    "duration": 3,
    "start_time": "2021-10-19T04:41:43.187Z"
   },
   {
    "duration": 5,
    "start_time": "2021-10-19T04:41:43.224Z"
   },
   {
    "duration": 9,
    "start_time": "2021-10-19T04:41:43.231Z"
   },
   {
    "duration": 10,
    "start_time": "2021-10-19T04:41:43.242Z"
   },
   {
    "duration": 13,
    "start_time": "2021-10-19T04:41:43.254Z"
   },
   {
    "duration": 4,
    "start_time": "2021-10-19T04:41:43.269Z"
   },
   {
    "duration": 20,
    "start_time": "2021-10-19T04:41:43.275Z"
   },
   {
    "duration": 12,
    "start_time": "2021-10-19T04:41:43.321Z"
   },
   {
    "duration": 17,
    "start_time": "2021-10-19T04:41:43.335Z"
   },
   {
    "duration": 18,
    "start_time": "2021-10-19T04:41:43.355Z"
   },
   {
    "duration": 5,
    "start_time": "2021-10-19T04:41:43.377Z"
   },
   {
    "duration": 950,
    "start_time": "2021-10-19T05:04:09.761Z"
   },
   {
    "duration": 3,
    "start_time": "2021-10-19T05:04:10.713Z"
   },
   {
    "duration": 20,
    "start_time": "2021-10-19T05:04:10.718Z"
   },
   {
    "duration": 7,
    "start_time": "2021-10-19T05:04:11.612Z"
   },
   {
    "duration": 15,
    "start_time": "2021-10-19T05:04:11.784Z"
   },
   {
    "duration": 22,
    "start_time": "2021-10-19T05:04:11.949Z"
   }
  ],
  "kernelspec": {
   "display_name": "Python 3",
   "language": "python",
   "name": "python3"
  },
  "language_info": {
   "codemirror_mode": {
    "name": "ipython",
    "version": 3
   },
   "file_extension": ".py",
   "mimetype": "text/x-python",
   "name": "python",
   "nbconvert_exporter": "python",
   "pygments_lexer": "ipython3",
   "version": "3.8.8"
  },
  "toc": {
   "base_numbering": 1,
   "nav_menu": {},
   "number_sections": true,
   "sideBar": true,
   "skip_h1_title": true,
   "title_cell": "Содержание",
   "title_sidebar": "Contents",
   "toc_cell": true,
   "toc_position": {},
   "toc_section_display": true,
   "toc_window_display": false
  }
 },
 "nbformat": 4,
 "nbformat_minor": 2
}
