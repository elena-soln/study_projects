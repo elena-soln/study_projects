{
 "cells": [
  {
   "cell_type": "markdown",
   "metadata": {
    "toc": true
   },
   "source": [
    "<h1>Содержание<span class=\"tocSkip\"></span></h1>\n",
    "<div class=\"toc\"><ul class=\"toc-item\"><li><span><a href=\"#Data-pre-processing\" data-toc-modified-id=\"Data-pre-processing-1\"><span class=\"toc-item-num\">1&nbsp;&nbsp;</span>Data pre-processing</a></span><ul class=\"toc-item\"><li><span><a href=\"#Summary\" data-toc-modified-id=\"Summary-1.1\"><span class=\"toc-item-num\">1.1&nbsp;&nbsp;</span>Summary</a></span></li></ul></li><li><span><a href=\"#Analysis\" data-toc-modified-id=\"Analysis-2\"><span class=\"toc-item-num\">2&nbsp;&nbsp;</span>Analysis</a></span><ul class=\"toc-item\"><li><span><a href=\"#Summary\" data-toc-modified-id=\"Summary-2.1\"><span class=\"toc-item-num\">2.1&nbsp;&nbsp;</span>Summary</a></span></li></ul></li><li><span><a href=\"#Training-models\" data-toc-modified-id=\"Training-models-3\"><span class=\"toc-item-num\">3&nbsp;&nbsp;</span>Training models</a></span><ul class=\"toc-item\"><li><span><a href=\"#Samples-preparation\" data-toc-modified-id=\"Samples-preparation-3.1\"><span class=\"toc-item-num\">3.1&nbsp;&nbsp;</span>Samples preparation</a></span></li><li><span><a href=\"#Hyperparameter-optimization\" data-toc-modified-id=\"Hyperparameter-optimization-3.2\"><span class=\"toc-item-num\">3.2&nbsp;&nbsp;</span>Hyperparameter optimization</a></span></li><li><span><a href=\"#Linear-Regression\" data-toc-modified-id=\"Linear-Regression-3.3\"><span class=\"toc-item-num\">3.3&nbsp;&nbsp;</span>Linear Regression</a></span></li><li><span><a href=\"#Light-GBM-Regressor\" data-toc-modified-id=\"Light-GBM-Regressor-3.4\"><span class=\"toc-item-num\">3.4&nbsp;&nbsp;</span>Light GBM Regressor</a></span></li><li><span><a href=\"#Random-Forest-Regressor\" data-toc-modified-id=\"Random-Forest-Regressor-3.5\"><span class=\"toc-item-num\">3.5&nbsp;&nbsp;</span>Random Forest Regressor</a></span></li><li><span><a href=\"#Constant-Model\" data-toc-modified-id=\"Constant-Model-3.6\"><span class=\"toc-item-num\">3.6&nbsp;&nbsp;</span>Constant Model</a></span></li><li><span><a href=\"#Running-Models\" data-toc-modified-id=\"Running-Models-3.7\"><span class=\"toc-item-num\">3.7&nbsp;&nbsp;</span>Running Models</a></span></li><li><span><a href=\"#Summary\" data-toc-modified-id=\"Summary-3.8\"><span class=\"toc-item-num\">3.8&nbsp;&nbsp;</span>Summary</a></span></li></ul></li><li><span><a href=\"#Models-Evaluation\" data-toc-modified-id=\"Models-Evaluation-4\"><span class=\"toc-item-num\">4&nbsp;&nbsp;</span>Models Evaluation</a></span></li><li><span><a href=\"#Final-Summary\" data-toc-modified-id=\"Final-Summary-5\"><span class=\"toc-item-num\">5&nbsp;&nbsp;</span>Final Summary</a></span></li></ul></div>"
   ]
  },
  {
   "cell_type": "markdown",
   "metadata": {},
   "source": [
    "#  Прогнозирование заказов такси"
   ]
  },
  {
   "cell_type": "markdown",
   "metadata": {},
   "source": [
    "Компания собрала исторические данные о заказах такси в аэропортах. Чтобы привлекать больше водителей в период пиковой нагрузки, нужно спрогнозировать количество заказов такси на следующий час. Нужно построить модель для такого предсказания.\n",
    "\n",
    "Количество заказов находится в столбце `num_orders`."
   ]
  },
  {
   "cell_type": "markdown",
   "metadata": {},
   "source": [
    "## Data pre-processing"
   ]
  },
  {
   "cell_type": "code",
   "execution_count": 1,
   "metadata": {},
   "outputs": [],
   "source": [
    "import pandas as pd\n",
    "import numpy as np\n",
    "\n",
    "# visualization\n",
    "import matplotlib.pyplot as plt\n",
    "import seaborn as sns\n",
    "from statsmodels.tsa.seasonal import seasonal_decompose\n",
    "\n",
    "# features preprosessing\n",
    "from sklearn.preprocessing import StandardScaler\n",
    "from sklearn.model_selection import train_test_split\n",
    "\n",
    "# models\n",
    "from sklearn.linear_model import LinearRegression\n",
    "from sklearn.ensemble import RandomForestRegressor\n",
    "from catboost import CatBoostRegressor\n",
    "from lightgbm import LGBMRegressor\n",
    "from sklearn.dummy import DummyRegressor\n",
    "\n",
    "from sklearn.metrics import mean_squared_error\n",
    "from sklearn.model_selection import TimeSeriesSplit, GridSearchCV\n",
    "\n",
    "import time\n",
    "from timeit import default_timer as timer\n",
    "\n",
    "import warnings\n",
    "warnings.filterwarnings(\"ignore\")"
   ]
  },
  {
   "cell_type": "code",
   "execution_count": 3,
   "metadata": {},
   "outputs": [],
   "source": [
    "STATE = 2222"
   ]
  },
  {
   "cell_type": "code",
   "execution_count": 4,
   "metadata": {},
   "outputs": [],
   "source": [
    "def first_glance(*args, **kwargs):\n",
    "    '''\n",
    "    Загружает данные; \n",
    "    Печатает: \n",
    "            Общая информация, \n",
    "            5 случайных строк, \n",
    "            Количество дубликатов, \n",
    "            Количество и процентное соотношение пропусков.\n",
    "    \n",
    "    Параметры\n",
    "    ----------\n",
    "    directory: str\n",
    "        Расположение csv файла\n",
    "    title: str\n",
    "        Название файла\n",
    "        \n",
    "    Возвращает \n",
    "    ----------\n",
    "    DataFrame\n",
    "    \n",
    "    '''\n",
    "    for directory in args:\n",
    "        try:\n",
    "            data = pd.read_csv(directory, **kwargs)\n",
    "        except:\n",
    "            pass\n",
    "    \n",
    "    print('-------------Общая информация---------------')\n",
    "    display(data.info())\n",
    "\n",
    "    print('------------5 случайных строк---------------') \n",
    "    display(data.sample(5, random_state=STATE))\n",
    "    print()\n",
    "    \n",
    "    if data.duplicated().sum().sum() != 0:\n",
    "        display('-------Количество дубликатов---------', \n",
    "        data.duplicated().sum())\n",
    "    else:\n",
    "        print('Полные дубликаты отсутствуют')\n",
    "\n",
    "    if data.isna().sum().sum() != 0:\n",
    "        # создает датафрейм с количеством пропусков в каждой колонке\n",
    "        na_values = data.isna().sum().to_frame().rename(columns = {0: 'пропуски'})\n",
    "        # добавляет новую колонку с процентом пропусков\n",
    "        na_values['% от общего количества'] = (na_values['пропуски'] / data.shape[0]).round(2)\n",
    "        # сортирует таблицу по убыванию количества пропусков\n",
    "        display('--Количество и процентное соотношение пропусков--',\n",
    "                na_values.sort_values(by = 'пропуски', ascending = False))\n",
    "    else:\n",
    "        print('Пропуски отсутствуют')\n",
    "\n",
    "    print()\n",
    "    \n",
    "    print('----------Описательная статистика----------')\n",
    "    display(data.describe())\n",
    "    \n",
    "    return data"
   ]
  },
  {
   "cell_type": "code",
   "execution_count": 5,
   "metadata": {
    "scrolled": false
   },
   "outputs": [
    {
     "name": "stdout",
     "output_type": "stream",
     "text": [
      "-------------Общая информация---------------\n",
      "<class 'pandas.core.frame.DataFrame'>\n",
      "DatetimeIndex: 26496 entries, 2018-03-01 00:00:00 to 2018-08-31 23:50:00\n",
      "Data columns (total 1 columns):\n",
      " #   Column      Non-Null Count  Dtype\n",
      "---  ------      --------------  -----\n",
      " 0   num_orders  26496 non-null  int64\n",
      "dtypes: int64(1)\n",
      "memory usage: 414.0 KB\n"
     ]
    },
    {
     "data": {
      "text/plain": [
       "None"
      ]
     },
     "metadata": {},
     "output_type": "display_data"
    },
    {
     "name": "stdout",
     "output_type": "stream",
     "text": [
      "------------5 случайных строк---------------\n"
     ]
    },
    {
     "data": {
      "text/html": [
       "<div>\n",
       "<style scoped>\n",
       "    .dataframe tbody tr th:only-of-type {\n",
       "        vertical-align: middle;\n",
       "    }\n",
       "\n",
       "    .dataframe tbody tr th {\n",
       "        vertical-align: top;\n",
       "    }\n",
       "\n",
       "    .dataframe thead th {\n",
       "        text-align: right;\n",
       "    }\n",
       "</style>\n",
       "<table border=\"1\" class=\"dataframe\">\n",
       "  <thead>\n",
       "    <tr style=\"text-align: right;\">\n",
       "      <th></th>\n",
       "      <th>num_orders</th>\n",
       "    </tr>\n",
       "    <tr>\n",
       "      <th>datetime</th>\n",
       "      <th></th>\n",
       "    </tr>\n",
       "  </thead>\n",
       "  <tbody>\n",
       "    <tr>\n",
       "      <th>2018-08-06 02:10:00</th>\n",
       "      <td>22</td>\n",
       "    </tr>\n",
       "    <tr>\n",
       "      <th>2018-06-21 20:50:00</th>\n",
       "      <td>10</td>\n",
       "    </tr>\n",
       "    <tr>\n",
       "      <th>2018-08-22 18:30:00</th>\n",
       "      <td>22</td>\n",
       "    </tr>\n",
       "    <tr>\n",
       "      <th>2018-03-15 10:00:00</th>\n",
       "      <td>10</td>\n",
       "    </tr>\n",
       "    <tr>\n",
       "      <th>2018-05-16 12:20:00</th>\n",
       "      <td>4</td>\n",
       "    </tr>\n",
       "  </tbody>\n",
       "</table>\n",
       "</div>"
      ],
      "text/plain": [
       "                     num_orders\n",
       "datetime                       \n",
       "2018-08-06 02:10:00          22\n",
       "2018-06-21 20:50:00          10\n",
       "2018-08-22 18:30:00          22\n",
       "2018-03-15 10:00:00          10\n",
       "2018-05-16 12:20:00           4"
      ]
     },
     "metadata": {},
     "output_type": "display_data"
    },
    {
     "name": "stdout",
     "output_type": "stream",
     "text": [
      "\n"
     ]
    },
    {
     "data": {
      "text/plain": [
       "'-------Количество дубликатов---------'"
      ]
     },
     "metadata": {},
     "output_type": "display_data"
    },
    {
     "data": {
      "text/plain": [
       "26415"
      ]
     },
     "metadata": {},
     "output_type": "display_data"
    },
    {
     "name": "stdout",
     "output_type": "stream",
     "text": [
      "Пропуски отсутствуют\n",
      "\n",
      "----------Описательная статистика----------\n"
     ]
    },
    {
     "data": {
      "text/html": [
       "<div>\n",
       "<style scoped>\n",
       "    .dataframe tbody tr th:only-of-type {\n",
       "        vertical-align: middle;\n",
       "    }\n",
       "\n",
       "    .dataframe tbody tr th {\n",
       "        vertical-align: top;\n",
       "    }\n",
       "\n",
       "    .dataframe thead th {\n",
       "        text-align: right;\n",
       "    }\n",
       "</style>\n",
       "<table border=\"1\" class=\"dataframe\">\n",
       "  <thead>\n",
       "    <tr style=\"text-align: right;\">\n",
       "      <th></th>\n",
       "      <th>num_orders</th>\n",
       "    </tr>\n",
       "  </thead>\n",
       "  <tbody>\n",
       "    <tr>\n",
       "      <th>count</th>\n",
       "      <td>26496.000000</td>\n",
       "    </tr>\n",
       "    <tr>\n",
       "      <th>mean</th>\n",
       "      <td>14.070463</td>\n",
       "    </tr>\n",
       "    <tr>\n",
       "      <th>std</th>\n",
       "      <td>9.211330</td>\n",
       "    </tr>\n",
       "    <tr>\n",
       "      <th>min</th>\n",
       "      <td>0.000000</td>\n",
       "    </tr>\n",
       "    <tr>\n",
       "      <th>25%</th>\n",
       "      <td>8.000000</td>\n",
       "    </tr>\n",
       "    <tr>\n",
       "      <th>50%</th>\n",
       "      <td>13.000000</td>\n",
       "    </tr>\n",
       "    <tr>\n",
       "      <th>75%</th>\n",
       "      <td>19.000000</td>\n",
       "    </tr>\n",
       "    <tr>\n",
       "      <th>max</th>\n",
       "      <td>119.000000</td>\n",
       "    </tr>\n",
       "  </tbody>\n",
       "</table>\n",
       "</div>"
      ],
      "text/plain": [
       "         num_orders\n",
       "count  26496.000000\n",
       "mean      14.070463\n",
       "std        9.211330\n",
       "min        0.000000\n",
       "25%        8.000000\n",
       "50%       13.000000\n",
       "75%       19.000000\n",
       "max      119.000000"
      ]
     },
     "metadata": {},
     "output_type": "display_data"
    }
   ],
   "source": [
    "data = first_glance('/datasets/taxi.csv', 'taxi.csv', \n",
    "                    parse_dates=[0], \n",
    "                    index_col=[0])\n",
    "display()"
   ]
  },
  {
   "cell_type": "code",
   "execution_count": 6,
   "metadata": {
    "scrolled": false
   },
   "outputs": [
    {
     "data": {
      "text/html": [
       "<div>\n",
       "<style scoped>\n",
       "    .dataframe tbody tr th:only-of-type {\n",
       "        vertical-align: middle;\n",
       "    }\n",
       "\n",
       "    .dataframe tbody tr th {\n",
       "        vertical-align: top;\n",
       "    }\n",
       "\n",
       "    .dataframe thead th {\n",
       "        text-align: right;\n",
       "    }\n",
       "</style>\n",
       "<table border=\"1\" class=\"dataframe\">\n",
       "  <thead>\n",
       "    <tr style=\"text-align: right;\">\n",
       "      <th></th>\n",
       "      <th>num_orders</th>\n",
       "    </tr>\n",
       "    <tr>\n",
       "      <th>datetime</th>\n",
       "      <th></th>\n",
       "    </tr>\n",
       "  </thead>\n",
       "  <tbody>\n",
       "    <tr>\n",
       "      <th>2018-03-01 00:00:00</th>\n",
       "      <td>9</td>\n",
       "    </tr>\n",
       "    <tr>\n",
       "      <th>2018-03-01 00:10:00</th>\n",
       "      <td>14</td>\n",
       "    </tr>\n",
       "    <tr>\n",
       "      <th>2018-03-01 00:20:00</th>\n",
       "      <td>28</td>\n",
       "    </tr>\n",
       "    <tr>\n",
       "      <th>2018-03-01 00:30:00</th>\n",
       "      <td>20</td>\n",
       "    </tr>\n",
       "    <tr>\n",
       "      <th>2018-03-01 00:40:00</th>\n",
       "      <td>32</td>\n",
       "    </tr>\n",
       "  </tbody>\n",
       "</table>\n",
       "</div>"
      ],
      "text/plain": [
       "                     num_orders\n",
       "datetime                       \n",
       "2018-03-01 00:00:00           9\n",
       "2018-03-01 00:10:00          14\n",
       "2018-03-01 00:20:00          28\n",
       "2018-03-01 00:30:00          20\n",
       "2018-03-01 00:40:00          32"
      ]
     },
     "execution_count": 6,
     "metadata": {},
     "output_type": "execute_result"
    }
   ],
   "source": [
    "data.sort_index(inplace=True)\n",
    "data.head()"
   ]
  },
  {
   "cell_type": "code",
   "execution_count": 7,
   "metadata": {},
   "outputs": [
    {
     "data": {
      "text/html": [
       "<div>\n",
       "<style scoped>\n",
       "    .dataframe tbody tr th:only-of-type {\n",
       "        vertical-align: middle;\n",
       "    }\n",
       "\n",
       "    .dataframe tbody tr th {\n",
       "        vertical-align: top;\n",
       "    }\n",
       "\n",
       "    .dataframe thead th {\n",
       "        text-align: right;\n",
       "    }\n",
       "</style>\n",
       "<table border=\"1\" class=\"dataframe\">\n",
       "  <thead>\n",
       "    <tr style=\"text-align: right;\">\n",
       "      <th></th>\n",
       "      <th>num_orders</th>\n",
       "    </tr>\n",
       "    <tr>\n",
       "      <th>datetime</th>\n",
       "      <th></th>\n",
       "    </tr>\n",
       "  </thead>\n",
       "  <tbody>\n",
       "    <tr>\n",
       "      <th>2018-08-31 19:00:00</th>\n",
       "      <td>136</td>\n",
       "    </tr>\n",
       "    <tr>\n",
       "      <th>2018-08-31 20:00:00</th>\n",
       "      <td>154</td>\n",
       "    </tr>\n",
       "    <tr>\n",
       "      <th>2018-08-31 21:00:00</th>\n",
       "      <td>159</td>\n",
       "    </tr>\n",
       "    <tr>\n",
       "      <th>2018-08-31 22:00:00</th>\n",
       "      <td>223</td>\n",
       "    </tr>\n",
       "    <tr>\n",
       "      <th>2018-08-31 23:00:00</th>\n",
       "      <td>205</td>\n",
       "    </tr>\n",
       "  </tbody>\n",
       "</table>\n",
       "</div>"
      ],
      "text/plain": [
       "                     num_orders\n",
       "datetime                       \n",
       "2018-08-31 19:00:00         136\n",
       "2018-08-31 20:00:00         154\n",
       "2018-08-31 21:00:00         159\n",
       "2018-08-31 22:00:00         223\n",
       "2018-08-31 23:00:00         205"
      ]
     },
     "execution_count": 7,
     "metadata": {},
     "output_type": "execute_result"
    }
   ],
   "source": [
    "df_resampled_hours = data.copy().resample('1H').sum()\n",
    "df_resampled_hours.tail()"
   ]
  },
  {
   "cell_type": "markdown",
   "metadata": {},
   "source": [
    "Подберем размер сдвига, наиболее коррелирующего с целевым признаком.\n",
    "\n",
    "В качестве количества сдвигов возьмем примерное количество часов в месяце."
   ]
  },
  {
   "cell_type": "code",
   "execution_count": 8,
   "metadata": {},
   "outputs": [
    {
     "name": "stdout",
     "output_type": "stream",
     "text": [
      "Lag 48 = 0.7248176359153486\n",
      "Lag 72 = 0.7067781565732356\n",
      "Lag 96 = 0.7045262625438968\n",
      "Lag 120 = 0.7162728443125266\n",
      "Lag 168 = 0.8055687597966533\n",
      "Lag 216 = 0.7019459963942483\n",
      "Lag 336 = 0.770626486835754\n",
      "Lag 504 = 0.7469262458020741\n",
      "Lag 672 = 0.7276553552489149\n"
     ]
    }
   ],
   "source": [
    "for i in range(1, 800, 1):\n",
    "    corr = df_resampled_hours['num_orders'].autocorr(lag=i)\n",
    "    if abs(corr) > 0.7:\n",
    "        print(f'Lag {i} = {corr}')"
   ]
  },
  {
   "cell_type": "markdown",
   "metadata": {},
   "source": [
    "Было установлено оптимальное количество сдвигов, при помощи проверки их корреляции с целевым признаком. "
   ]
  },
  {
   "cell_type": "code",
   "execution_count": 9,
   "metadata": {},
   "outputs": [],
   "source": [
    "def add_features(data, lag, rolling_mean_size):\n",
    "    \n",
    "    df = pd.DataFrame(index=data.index)\n",
    "    df['num_orders'] = data['num_orders']\n",
    "    df['year'] = data.index.year\n",
    "    df['month'] = data.index.month\n",
    "    df['day'] = data.index.day\n",
    "    df['dayofweek'] = data.index.dayofweek\n",
    "    \n",
    "    df[f'lag_{lag}'] = data['num_orders'].shift(lag)\n",
    "\n",
    "    df['rolling_mean'] = data['num_orders'].shift().rolling(rolling_mean_size).mean()\n",
    "    \n",
    "    return df"
   ]
  },
  {
   "cell_type": "code",
   "execution_count": 10,
   "metadata": {},
   "outputs": [
    {
     "data": {
      "text/plain": [
       "(4416, 7)"
      ]
     },
     "execution_count": 10,
     "metadata": {},
     "output_type": "execute_result"
    }
   ],
   "source": [
    "df = add_features(df_resampled_hours, 168, 6)\n",
    "df.shape"
   ]
  },
  {
   "cell_type": "code",
   "execution_count": 11,
   "metadata": {},
   "outputs": [],
   "source": [
    "df = df.dropna()"
   ]
  },
  {
   "cell_type": "code",
   "execution_count": 12,
   "metadata": {},
   "outputs": [
    {
     "data": {
      "image/png": "[encoded data removed]",
      "text/plain": [
       "<Figure size 1080x720 with 2 Axes>"
      ]
     },
     "metadata": {
      "needs_background": "light"
     },
     "output_type": "display_data"
    }
   ],
   "source": [
    "plt.figure(figsize=(15, 10))\n",
    "ax = plt.axes()\n",
    "sns.set(font_scale=2)\n",
    "sns.heatmap(df.corr(), annot=True, ax = ax)\n",
    "ax.set_title(\"Pearson correlation coefficient\")\n",
    "ax.tick_params(labelsize=15)\n",
    "plt.show()"
   ]
  },
  {
   "cell_type": "markdown",
   "metadata": {},
   "source": [
    "Мультиколлинеарности не выявлено."
   ]
  },
  {
   "cell_type": "markdown",
   "metadata": {},
   "source": [
    "### Summary"
   ]
  },
  {
   "cell_type": "markdown",
   "metadata": {},
   "source": [
    "Имеется файл с данными, которых содержит 26496 объектов и столбец с количеством заказов и временем. Пропуски отсутствуют.\n",
    "\n",
    "Проведена предобработка данных:\n",
    "* даты и время преобразованы в индексы;\n",
    "* проведен ресемплинг данных по одному часу;\n",
    "* выделены новые признаки: \n",
    "\n",
    "        * год; \n",
    "        * месяц;\n",
    "        * день;\n",
    "        * день недели;\n",
    "        * смещения данных количества заказов \n",
    "        (их количество определено при помощи проверки корреляции с целевым признаком;\n",
    "        * скользящее среднее в заданном диапазоне."
   ]
  },
  {
   "cell_type": "markdown",
   "metadata": {},
   "source": [
    "## Analysis"
   ]
  },
  {
   "cell_type": "markdown",
   "metadata": {},
   "source": [
    "Построим график количества заказов такси относительно времени."
   ]
  },
  {
   "cell_type": "code",
   "execution_count": 12,
   "metadata": {
    "scrolled": false
   },
   "outputs": [
    {
     "data": {
      "image/png": "[encoded data removed]",
      "text/plain": [
       "<Figure size 864x360 with 1 Axes>"
      ]
     },
     "metadata": {},
     "output_type": "display_data"
    }
   ],
   "source": [
    "plt.figure(figsize=(12,5))\n",
    "df['num_orders'].plot()\n",
    "plt.title(\"Количество заказов такси относительно времени (в часах)\", fontsize=20)\n",
    "plt.xlabel('Date Time', fontsize=16)\n",
    "plt.ylabel('The number of orders', fontsize=16)\n",
    "plt.axes().tick_params(labelsize=14)\n",
    "plt.show()"
   ]
  },
  {
   "cell_type": "markdown",
   "metadata": {},
   "source": [
    "Пронализируем разницу количества заказов относительно предыдущего часа, среднее количество заказов и стандартное отклонение в диапазоне 6 часов."
   ]
  },
  {
   "cell_type": "code",
   "execution_count": 13,
   "metadata": {},
   "outputs": [
    {
     "data": {
      "image/png": "[encoded data removed]",
      "text/plain": [
       "<Figure size 864x432 with 1 Axes>"
      ]
     },
     "metadata": {},
     "output_type": "display_data"
    }
   ],
   "source": [
    "data_shifted = df['num_orders'] - df['num_orders'].shift()\n",
    "\n",
    "plt.figure(figsize=(12,6))\n",
    "data_shifted.plot()\n",
    "data_shifted.rolling(6).mean().plot()\n",
    "data_shifted.rolling(6).std().plot()\n",
    "\n",
    "plt.legend(['difference', 'rolling_mean', 'rolling_std'], fontsize=14)\n",
    "plt.title(\"Количество заказов такси относительно времени (в часах)\", fontsize=20)\n",
    "plt.xlabel('Date Time', fontsize=16)\n",
    "plt.ylabel('The number of orders', fontsize=16)\n",
    "plt.axes().tick_params(labelsize=14)\n",
    "\n",
    "plt.show()"
   ]
  },
  {
   "cell_type": "code",
   "execution_count": 22,
   "metadata": {},
   "outputs": [],
   "source": [
    "data_shifted = data_shifted.dropna()"
   ]
  },
  {
   "cell_type": "markdown",
   "metadata": {},
   "source": [
    "Используя метод анализа временных рядов, проверим составляющие \"тренд\", \"сезонность\" и \"остатки\"."
   ]
  },
  {
   "cell_type": "code",
   "execution_count": 23,
   "metadata": {},
   "outputs": [],
   "source": [
    "decomposed = seasonal_decompose(data_shifted)"
   ]
  },
  {
   "cell_type": "code",
   "execution_count": 20,
   "metadata": {},
   "outputs": [],
   "source": [
    "def decompose_plot(decomposed, by_name):\n",
    "    \n",
    "    decomposed = seasonal_decompose(df_period)\n",
    "\n",
    "    fig, ax = plt.subplots(nrows=3, ncols=1, figsize=(15,10))\n",
    "    fig.suptitle(f'Time Series Analysis ({by_name})', fontsize=20)\n",
    "\n",
    "    ax[0].plot(decomposed.trend)\n",
    "    ax[0].set_title('Trend', fontsize=16)\n",
    "    ax[0].tick_params(labelsize=12)\n",
    "\n",
    "    ax[1].plot(decomposed.seasonal)\n",
    "    ax[1].set_title('Seasonal', fontsize=16)\n",
    "    ax[1].tick_params(labelsize=12)\n",
    "\n",
    "    ax[2].plot(decomposed.resid)\n",
    "    ax[2].set_title('Residuals', fontsize=16)\n",
    "    ax[2].tick_params(labelsize=12)\n",
    "\n",
    "    plt.tight_layout(2)\n",
    "\n",
    "    plt.show()    "
   ]
  },
  {
   "cell_type": "code",
   "execution_count": 24,
   "metadata": {},
   "outputs": [
    {
     "data": {
      "image/png": "[encoded data removed]",
      "text/plain": [
       "<Figure size 1080x720 with 3 Axes>"
      ]
     },
     "metadata": {},
     "output_type": "display_data"
    }
   ],
   "source": [
    "decompose_plot(decomposed, 'by hours')"
   ]
  },
  {
   "cell_type": "code",
   "execution_count": 16,
   "metadata": {
    "scrolled": false
   },
   "outputs": [
    {
     "data": {
      "image/png": "[encoded data removed]",
      "text/plain": [
       "<Figure size 1080x720 with 3 Axes>"
      ]
     },
     "metadata": {},
     "output_type": "display_data"
    }
   ],
   "source": [
    "decompose_plot(\n",
    "    df_resampled_hours.loc['2018-03-01':'2018-03-03', 'num_orders'], \n",
    "    'slice by hours')"
   ]
  },
  {
   "cell_type": "markdown",
   "metadata": {},
   "source": [
    "### Summary"
   ]
  },
  {
   "cell_type": "markdown",
   "metadata": {},
   "source": [
    "Разница количества заказов увеличивается относительно времени, также как и средние и стандартные отклонения.\n",
    "\n",
    "Прослеживается явный тренд к увеличению количества заказов в пределах имеющего отрезка времени (с марта по сентябрь).\n",
    "\n",
    "Присутствует выраженная зависимость от времени суток."
   ]
  },
  {
   "cell_type": "markdown",
   "metadata": {},
   "source": [
    "## Training models"
   ]
  },
  {
   "cell_type": "markdown",
   "metadata": {},
   "source": [
    "### Samples preparation"
   ]
  },
  {
   "cell_type": "markdown",
   "metadata": {},
   "source": [
    "Создадим родительский класс, который будет включать в себя подготовку данных для обучения моделей:\n",
    "* выделение целевого признака;\n",
    "* разбиение на выборки;\n",
    "* кодирование данных;\n",
    "* масштабирование данных."
   ]
  },
  {
   "cell_type": "code",
   "execution_count": 19,
   "metadata": {},
   "outputs": [],
   "source": [
    "class Samples_Preparation:\n",
    "    state = 30\n",
    "    \n",
    "    def __init__(self, df, target_col):\n",
    "        self.df = df    \n",
    "        self.name = 'Samples_Preparation'\n",
    "        self.features = self.df.drop(target_col, axis=1)\n",
    "        self.target = self.df[target_col]\n",
    "    \n",
    "    def train_test_split(self):\n",
    "        features_train, features_test, target_train, target_test = train_test_split(\n",
    "                self.features, self.target, \n",
    "                test_size=0.1, shuffle=False)\n",
    "        \n",
    "        self.features_train = features_train\n",
    "        self.target_train = target_train\n",
    "        self.features_test = features_test\n",
    "        self.target_test = target_test\n",
    "        \n",
    "        return features_train, features_test, target_train, target_test   \n",
    "\n",
    "    def scale(self):\n",
    "        scaler = StandardScaler()\n",
    "        pd.options.mode.chained_assignment = None               \n",
    "        \n",
    "        scaler.fit(self.features_train)\n",
    "        self.features_train = scaler.transform(\n",
    "                                 self.features_train)\n",
    "        self.features_test = scaler.transform(\n",
    "                                 self.features_test)\n",
    "        \n",
    "    def info(self):\n",
    "        print(self.features_train.info())\n",
    "        print(self.features_test.info())"
   ]
  },
  {
   "cell_type": "markdown",
   "metadata": {},
   "source": [
    "### Hyperparameter optimization"
   ]
  },
  {
   "cell_type": "markdown",
   "metadata": {},
   "source": [
    "Создадим подкласс, который включает в себя алгоритм поиска по сетке \n",
    "гиперпараметров с обучением модели и тестирование модели.\n",
    "\n",
    "В качестве метрики оценки качества модели будем использовать RMSE."
   ]
  },
  {
   "cell_type": "code",
   "execution_count": 20,
   "metadata": {},
   "outputs": [],
   "source": [
    "class Models(Samples_Preparation):\n",
    "    \n",
    "    def grid_search(self, grid_params, **kwargs):\n",
    "        # используем кросс-валидацию для временных рядов, которая не использует будущие данные для внутреннего обучения\n",
    "        time_series_cv = TimeSeriesSplit(n_splits=8)\n",
    "        \n",
    "        model = self.model_algorithm(**kwargs)\n",
    "        \n",
    "        grid = GridSearchCV(model, grid_params, n_jobs= -1, cv=time_series_cv, \n",
    "                            scoring='neg_mean_squared_error')\n",
    "        self.model_grid = grid.fit(self.features_train, self.target_train)\n",
    "        \n",
    "        return self.model_grid\n",
    "    \n",
    "    def fit_predict(self):\n",
    "        self.predicted_train = self.model_grid.predict(self.features_train)\n",
    "        self.predicted_test = self.model_grid.predict(self.features_test)\n",
    "        \n",
    "        return self.predicted_test\n",
    "    \n",
    "    def rmse(self):\n",
    "        rmse_train = round(mean_squared_error(\n",
    "                                self.target_train, self.predicted_train) ** 0.5)\n",
    "        rmse_test = round(mean_squared_error(\n",
    "                                self.target_test, self.predicted_test) ** 0.5)\n",
    "    \n",
    "        return rmse_train, rmse_test"
   ]
  },
  {
   "cell_type": "markdown",
   "metadata": {},
   "source": [
    "### Linear Regression"
   ]
  },
  {
   "cell_type": "markdown",
   "metadata": {},
   "source": [
    "Подкласс для обучения и тестирования линейной регрессии."
   ]
  },
  {
   "cell_type": "code",
   "execution_count": 21,
   "metadata": {},
   "outputs": [],
   "source": [
    "class Linear_Reg(Models):\n",
    "    def __init__(self, df, target_col):\n",
    "        super().__init__(df, target_col)\n",
    "        self.model_algorithm = LinearRegression\n",
    "        self.name = 'Linear_Regression'\n",
    "    \n",
    "    def grid_search(self):\n",
    "        print('This model does not use GridSearch')\n",
    "        \n",
    "    def fit_predict(self):\n",
    "        model = LinearRegression(fit_intercept=True)\n",
    "        model.fit(self.features_train, self.target_train)\n",
    "        self.predicted_train = model.predict(self.features_train)\n",
    "        self.predicted_test = model.predict(self.features_test)\n",
    "    \n",
    "        return model, self.predicted_test"
   ]
  },
  {
   "cell_type": "markdown",
   "metadata": {},
   "source": [
    "### Light GBM Regressor"
   ]
  },
  {
   "cell_type": "markdown",
   "metadata": {},
   "source": [
    "Подкласс для использования модели LightGBM."
   ]
  },
  {
   "cell_type": "code",
   "execution_count": 22,
   "metadata": {},
   "outputs": [],
   "source": [
    "class LightGBM(Models):\n",
    "    \n",
    "    def __init__(self, df, target_col):\n",
    "        super().__init__(df, target_col)\n",
    "        self.model_algorithm = LGBMRegressor\n",
    "        self.name  = 'LGBM_Regressor'\n",
    "        \n",
    "    def grid_search(self):\n",
    "        \n",
    "        grid_params = {'learning_rate': [0.1, 0.2, 0.3, 0.5],\n",
    "              'max_depth': [2, 4, 6, 8]}\n",
    "             \n",
    "        super().grid_search(grid_params, \n",
    "                            num_iterations=1000,\n",
    "                            random_state=self.state,\n",
    "                            verbose=0)"
   ]
  },
  {
   "cell_type": "markdown",
   "metadata": {},
   "source": [
    "### Random Forest Regressor"
   ]
  },
  {
   "cell_type": "markdown",
   "metadata": {},
   "source": [
    "Подкласс для использования модели случайного леса."
   ]
  },
  {
   "cell_type": "code",
   "execution_count": 23,
   "metadata": {},
   "outputs": [],
   "source": [
    "class Forest_Reg(Models):\n",
    "\n",
    "    def __init__(self, df, target_col):\n",
    "        super().__init__(df, target_col)\n",
    "        self.model_algorithm = RandomForestRegressor\n",
    "        self.name = 'Random_Forest_Regressor'\n",
    "        \n",
    "    def grid_search(self):\n",
    "        \n",
    "        grid_params = {'n_estimators': range (10, 51, 10),\n",
    "              'max_depth': range (1, 13, 2)}\n",
    "             \n",
    "        super().grid_search(grid_params, random_state=self.state)"
   ]
  },
  {
   "cell_type": "markdown",
   "metadata": {},
   "source": [
    "### Constant Model"
   ]
  },
  {
   "cell_type": "markdown",
   "metadata": {},
   "source": [
    "Подкласс для обучения и тестирования константной модели."
   ]
  },
  {
   "cell_type": "code",
   "execution_count": 24,
   "metadata": {},
   "outputs": [],
   "source": [
    "class Constant_Model(Models):\n",
    "    \n",
    "    def __init__(self, df, target_col):\n",
    "        super().__init__(df, target_col)\n",
    "        self.model_algorithm = DummyRegressor\n",
    "        self.name = 'Constant_Model'\n",
    "            \n",
    "    def grid_search(self):\n",
    "        print('This model does not use GridSearch')\n",
    "        \n",
    "    def fit_predict(self):\n",
    "        model = DummyRegressor(strategy='median')\n",
    "        model.fit(self.features_train, self.target_train)\n",
    "        self.predicted_train = model.predict(self.features_train)\n",
    "        self.predicted_test = model.predict(self.features_test)\n",
    "    \n",
    "        return model, self.predicted_test"
   ]
  },
  {
   "cell_type": "markdown",
   "metadata": {},
   "source": [
    "### Running Models"
   ]
  },
  {
   "cell_type": "markdown",
   "metadata": {},
   "source": [
    "Запустим процесс подготовки, обучения и тестирования моделей."
   ]
  },
  {
   "cell_type": "code",
   "execution_count": 25,
   "metadata": {},
   "outputs": [
    {
     "data": {
      "text/plain": [
       "(100, 7)"
      ]
     },
     "execution_count": 25,
     "metadata": {},
     "output_type": "execute_result"
    }
   ],
   "source": [
    "test_df = df.iloc[:100, :]\n",
    "test_df.shape"
   ]
  },
  {
   "cell_type": "code",
   "execution_count": 26,
   "metadata": {},
   "outputs": [
    {
     "name": "stdout",
     "output_type": "stream",
     "text": [
      "--------------------------------------\n",
      "Model <class '__main__.Linear_Reg'>\n",
      "This model does not use GridSearch\n",
      "--------------------------------------\n",
      "Model <class '__main__.LightGBM'>\n",
      "--------------------------------------\n",
      "Model <class '__main__.Forest_Reg'>\n",
      "--------------------------------------\n",
      "Model <class '__main__.Constant_Model'>\n",
      "This model does not use GridSearch\n"
     ]
    }
   ],
   "source": [
    "model_list = [Linear_Reg, LightGBM, Forest_Reg, Constant_Model]\n",
    "time_list = []\n",
    "rmse_list = []\n",
    "model_fitted = []\n",
    "best_params = []\n",
    "\n",
    "for model_element in model_list:\n",
    "    print('--------------------------------------')\n",
    "    print('Model', model_element)\n",
    "    \n",
    "    model = model_element(df, 'num_orders')\n",
    "    model.train_test_split()\n",
    "    model.scale()\n",
    "    \n",
    "    learn_start = timer()\n",
    "    model.grid_search()\n",
    "    learn_end = timer()\n",
    "    \n",
    "    predict_start = timer()\n",
    "    model.fit_predict()\n",
    "    predict_end = timer()\n",
    "\n",
    "    time_list.append([model.name, learn_end - learn_start,  \n",
    "                      predict_end -  predict_start])\n",
    "    \n",
    "    rmse_list.append(model.rmse())\n",
    "    \n",
    "    model_fitted.append(model)\n",
    "    \n",
    "    try:\n",
    "        best_params.append(model.model_grid.best_params_)\n",
    "    except:\n",
    "        pass"
   ]
  },
  {
   "cell_type": "markdown",
   "metadata": {},
   "source": [
    "### Summary"
   ]
  },
  {
   "cell_type": "markdown",
   "metadata": {},
   "source": [
    "Создан класс для подготовки выборок для дальнейшего обучения моделей, включающий:\n",
    "\n",
    "    * выделение целевого признака;\n",
    "    * разбиение на выборки;\n",
    "    * кодирование данных;\n",
    "    * масштабирование данных.\n",
    "   \n",
    "Выстроена структура классов для следующих моделей: \n",
    "\n",
    "    * LightGBM Regressor;\n",
    "    * Random Forest Regressor;\n",
    "    * Linear Regression;\n",
    "    * Константная модель (DummyRegressor).\n",
    "\n",
    "Найдены оптимальные гиперпараметры моделей, проведено обучение и тестирование моделей."
   ]
  },
  {
   "cell_type": "markdown",
   "metadata": {},
   "source": [
    "## Models Evaluation"
   ]
  },
  {
   "cell_type": "code",
   "execution_count": 30,
   "metadata": {},
   "outputs": [
    {
     "data": {
      "text/html": [
       "<div>\n",
       "<style scoped>\n",
       "    .dataframe tbody tr th:only-of-type {\n",
       "        vertical-align: middle;\n",
       "    }\n",
       "\n",
       "    .dataframe tbody tr th {\n",
       "        vertical-align: top;\n",
       "    }\n",
       "\n",
       "    .dataframe thead th {\n",
       "        text-align: right;\n",
       "    }\n",
       "</style>\n",
       "<table border=\"1\" class=\"dataframe\">\n",
       "  <thead>\n",
       "    <tr style=\"text-align: right;\">\n",
       "      <th></th>\n",
       "      <th>learning_rate</th>\n",
       "      <th>max_depth</th>\n",
       "      <th>n_estimators</th>\n",
       "    </tr>\n",
       "  </thead>\n",
       "  <tbody>\n",
       "    <tr>\n",
       "      <td>LGBM_Regressor</td>\n",
       "      <td>0.1</td>\n",
       "      <td>2</td>\n",
       "      <td>NaN</td>\n",
       "    </tr>\n",
       "    <tr>\n",
       "      <td>Random_Forest_Regressor</td>\n",
       "      <td>NaN</td>\n",
       "      <td>5</td>\n",
       "      <td>40.0</td>\n",
       "    </tr>\n",
       "  </tbody>\n",
       "</table>\n",
       "</div>"
      ],
      "text/plain": [
       "                         learning_rate  max_depth  n_estimators\n",
       "LGBM_Regressor                     0.1          2           NaN\n",
       "Random_Forest_Regressor            NaN          5          40.0"
      ]
     },
     "execution_count": 30,
     "metadata": {},
     "output_type": "execute_result"
    }
   ],
   "source": [
    "best_params = pd.DataFrame(data=best_params, index=[model_fitted[1].name,\n",
    "                                                    model_fitted[2].name])\n",
    "best_params"
   ]
  },
  {
   "cell_type": "code",
   "execution_count": 27,
   "metadata": {},
   "outputs": [
    {
     "data": {
      "text/html": [
       "<div>\n",
       "<style scoped>\n",
       "    .dataframe tbody tr th:only-of-type {\n",
       "        vertical-align: middle;\n",
       "    }\n",
       "\n",
       "    .dataframe tbody tr th {\n",
       "        vertical-align: top;\n",
       "    }\n",
       "\n",
       "    .dataframe thead th {\n",
       "        text-align: right;\n",
       "    }\n",
       "</style>\n",
       "<table border=\"1\" class=\"dataframe\">\n",
       "  <thead>\n",
       "    <tr style=\"text-align: right;\">\n",
       "      <th></th>\n",
       "      <th>Models</th>\n",
       "      <th>Learning time with GridSearch</th>\n",
       "      <th>Predictions time</th>\n",
       "    </tr>\n",
       "  </thead>\n",
       "  <tbody>\n",
       "    <tr>\n",
       "      <td>0</td>\n",
       "      <td>Linear_Regression (no GridSearch)</td>\n",
       "      <td>0.000071</td>\n",
       "      <td>0.001739</td>\n",
       "    </tr>\n",
       "    <tr>\n",
       "      <td>1</td>\n",
       "      <td>LGBM_Regressor</td>\n",
       "      <td>697.857481</td>\n",
       "      <td>0.210158</td>\n",
       "    </tr>\n",
       "    <tr>\n",
       "      <td>2</td>\n",
       "      <td>Random_Forest_Regressor</td>\n",
       "      <td>17.563338</td>\n",
       "      <td>0.011311</td>\n",
       "    </tr>\n",
       "    <tr>\n",
       "      <td>3</td>\n",
       "      <td>Constant_Model (no GridSearch)</td>\n",
       "      <td>0.000088</td>\n",
       "      <td>0.000701</td>\n",
       "    </tr>\n",
       "  </tbody>\n",
       "</table>\n",
       "</div>"
      ],
      "text/plain": [
       "                              Models  Learning time with GridSearch  \\\n",
       "0  Linear_Regression (no GridSearch)                       0.000071   \n",
       "1                     LGBM_Regressor                     697.857481   \n",
       "2            Random_Forest_Regressor                      17.563338   \n",
       "3     Constant_Model (no GridSearch)                       0.000088   \n",
       "\n",
       "   Predictions time  \n",
       "0          0.001739  \n",
       "1          0.210158  \n",
       "2          0.011311  \n",
       "3          0.000701  "
      ]
     },
     "execution_count": 27,
     "metadata": {},
     "output_type": "execute_result"
    }
   ],
   "source": [
    "time_results = pd.DataFrame(data=time_list, \n",
    "        columns=['Models', 'Learning time with GridSearch', 'Predictions time'])\n",
    "time_results['Models'][0] = 'Linear_Regression (no GridSearch)'\n",
    "time_results['Models'][3] = 'Constant_Model (no GridSearch)'\n",
    "time_results"
   ]
  },
  {
   "cell_type": "code",
   "execution_count": 28,
   "metadata": {},
   "outputs": [
    {
     "data": {
      "text/html": [
       "<div>\n",
       "<style scoped>\n",
       "    .dataframe tbody tr th:only-of-type {\n",
       "        vertical-align: middle;\n",
       "    }\n",
       "\n",
       "    .dataframe tbody tr th {\n",
       "        vertical-align: top;\n",
       "    }\n",
       "\n",
       "    .dataframe thead th {\n",
       "        text-align: right;\n",
       "    }\n",
       "</style>\n",
       "<table border=\"1\" class=\"dataframe\">\n",
       "  <thead>\n",
       "    <tr style=\"text-align: right;\">\n",
       "      <th></th>\n",
       "      <th>RMSE_train</th>\n",
       "      <th>RMSE_test</th>\n",
       "    </tr>\n",
       "  </thead>\n",
       "  <tbody>\n",
       "    <tr>\n",
       "      <td>Linear_Regression</td>\n",
       "      <td>24</td>\n",
       "      <td>38</td>\n",
       "    </tr>\n",
       "    <tr>\n",
       "      <td>LGBM_Regressor</td>\n",
       "      <td>21</td>\n",
       "      <td>44</td>\n",
       "    </tr>\n",
       "    <tr>\n",
       "      <td>Random_Forest_Regressor</td>\n",
       "      <td>22</td>\n",
       "      <td>44</td>\n",
       "    </tr>\n",
       "    <tr>\n",
       "      <td>Constant_Model</td>\n",
       "      <td>39</td>\n",
       "      <td>87</td>\n",
       "    </tr>\n",
       "  </tbody>\n",
       "</table>\n",
       "</div>"
      ],
      "text/plain": [
       "                         RMSE_train  RMSE_test\n",
       "Linear_Regression                24         38\n",
       "LGBM_Regressor                   21         44\n",
       "Random_Forest_Regressor          22         44\n",
       "Constant_Model                   39         87"
      ]
     },
     "execution_count": 28,
     "metadata": {},
     "output_type": "execute_result"
    }
   ],
   "source": [
    "rmse_results = pd.DataFrame(data=rmse_list, columns=['RMSE_train', 'RMSE_test'],\n",
    "        index=[model_fitted[0].name, model_fitted[1].name, \n",
    "               model_fitted[2].name, model_fitted[3].name])\n",
    "rmse_results"
   ]
  },
  {
   "cell_type": "markdown",
   "metadata": {},
   "source": [
    "## Final Summary"
   ]
  },
  {
   "cell_type": "markdown",
   "metadata": {},
   "source": [
    "Были протестированы несколько моделей: Линейная регрессия, LGBM, Случайный лес и константная модель.\n",
    "\n",
    "По результатам проведенной работы рекомендована следующая модель для дальнейшего внедрения:\n",
    "\n",
    "**модель Linear Regression**:\n",
    "* время предсказания при тестировании:\n",
    "      * ~ 0.002 cекунды\n",
    "* показатель RMSE:\n",
    "      * 38\n",
    "Данные показатели позволяют решить вопрос запрос заказчика в полном объеме, т.к. скорость работы очень мала, что позволит быстро отреагировать на изменение ситуации и допольно точно предсказать объем заказов такси. "
   ]
  }
 ],
 "metadata": {
  "ExecuteTimeLog": [
   {
    "duration": 2471,
    "start_time": "2021-11-12T17:39:11.357Z"
   },
   {
    "duration": 96,
    "start_time": "2021-11-12T17:39:28.924Z"
   },
   {
    "duration": 7,
    "start_time": "2021-11-12T17:40:49.826Z"
   },
   {
    "duration": 777,
    "start_time": "2021-11-12T17:40:51.367Z"
   },
   {
    "duration": 3,
    "start_time": "2021-11-12T17:41:08.335Z"
   },
   {
    "duration": 329,
    "start_time": "2021-11-12T17:41:09.827Z"
   },
   {
    "duration": 8,
    "start_time": "2021-11-12T17:42:20.348Z"
   },
   {
    "duration": 246,
    "start_time": "2021-11-12T17:42:22.736Z"
   },
   {
    "duration": 7,
    "start_time": "2021-11-12T17:42:50.144Z"
   },
   {
    "duration": 363,
    "start_time": "2021-11-12T17:42:50.506Z"
   },
   {
    "duration": 7,
    "start_time": "2021-11-12T17:43:14.782Z"
   },
   {
    "duration": 251,
    "start_time": "2021-11-12T17:43:15.255Z"
   },
   {
    "duration": 87,
    "start_time": "2021-11-12T17:43:44.494Z"
   },
   {
    "duration": 251,
    "start_time": "2021-11-12T17:43:45.142Z"
   },
   {
    "duration": 102,
    "start_time": "2021-11-12T17:43:58.526Z"
   },
   {
    "duration": 352,
    "start_time": "2021-11-12T17:44:00.778Z"
   },
   {
    "duration": 96,
    "start_time": "2021-11-12T17:44:14.296Z"
   },
   {
    "duration": 258,
    "start_time": "2021-11-12T17:44:14.784Z"
   },
   {
    "duration": 101,
    "start_time": "2021-11-12T17:44:34.343Z"
   },
   {
    "duration": 242,
    "start_time": "2021-11-12T17:44:34.717Z"
   },
   {
    "duration": 102,
    "start_time": "2021-11-12T17:45:11.563Z"
   },
   {
    "duration": 255,
    "start_time": "2021-11-12T17:45:11.958Z"
   },
   {
    "duration": 97,
    "start_time": "2021-11-12T17:45:23.143Z"
   },
   {
    "duration": 249,
    "start_time": "2021-11-12T17:45:23.841Z"
   },
   {
    "duration": 94,
    "start_time": "2021-11-12T17:45:31.583Z"
   },
   {
    "duration": 255,
    "start_time": "2021-11-12T17:45:31.936Z"
   },
   {
    "duration": 7,
    "start_time": "2021-11-12T17:45:39.792Z"
   },
   {
    "duration": 241,
    "start_time": "2021-11-12T17:45:40.217Z"
   },
   {
    "duration": 7,
    "start_time": "2021-11-12T17:47:02.148Z"
   },
   {
    "duration": 257,
    "start_time": "2021-11-12T17:47:02.495Z"
   },
   {
    "duration": 7,
    "start_time": "2021-11-12T17:49:28.241Z"
   },
   {
    "duration": 265,
    "start_time": "2021-11-12T17:49:29.249Z"
   },
   {
    "duration": 8,
    "start_time": "2021-11-12T17:50:25.456Z"
   },
   {
    "duration": 271,
    "start_time": "2021-11-12T17:50:25.847Z"
   },
   {
    "duration": 4,
    "start_time": "2021-11-12T17:51:05.196Z"
   },
   {
    "duration": 12,
    "start_time": "2021-11-12T17:51:08.814Z"
   },
   {
    "duration": 9,
    "start_time": "2021-11-12T17:51:23.144Z"
   },
   {
    "duration": 273,
    "start_time": "2021-11-12T17:53:12.244Z"
   },
   {
    "duration": 4,
    "start_time": "2021-11-12T17:53:15.401Z"
   },
   {
    "duration": 22,
    "start_time": "2021-11-12T17:53:16.043Z"
   },
   {
    "duration": 17,
    "start_time": "2021-11-12T17:53:33.724Z"
   },
   {
    "duration": 8,
    "start_time": "2021-11-12T17:53:55.130Z"
   },
   {
    "duration": 11,
    "start_time": "2021-11-12T17:55:02.739Z"
   },
   {
    "duration": 15904,
    "start_time": "2021-11-12T17:55:23.743Z"
   },
   {
    "duration": 442,
    "start_time": "2021-11-12T17:56:29.216Z"
   },
   {
    "duration": 287,
    "start_time": "2021-11-12T17:57:02.289Z"
   },
   {
    "duration": 669,
    "start_time": "2021-11-12T17:57:58.421Z"
   },
   {
    "duration": 584,
    "start_time": "2021-11-12T17:58:30.788Z"
   },
   {
    "duration": 2777,
    "start_time": "2021-11-12T17:58:42.319Z"
   },
   {
    "duration": 548,
    "start_time": "2021-11-12T17:59:26.904Z"
   },
   {
    "duration": 580,
    "start_time": "2021-11-12T17:59:35.024Z"
   },
   {
    "duration": 91,
    "start_time": "2021-11-12T18:01:15.587Z"
   },
   {
    "duration": 7764,
    "start_time": "2021-11-12T18:01:24.162Z"
   },
   {
    "duration": 11,
    "start_time": "2021-11-12T18:02:50.237Z"
   },
   {
    "duration": 572,
    "start_time": "2021-11-12T18:03:04.306Z"
   },
   {
    "duration": 10,
    "start_time": "2021-11-12T18:05:50.181Z"
   },
   {
    "duration": 293,
    "start_time": "2021-11-12T18:10:18.337Z"
   },
   {
    "duration": 6,
    "start_time": "2021-11-12T18:10:32.036Z"
   },
   {
    "duration": 9,
    "start_time": "2021-11-12T18:10:55.702Z"
   },
   {
    "duration": 6,
    "start_time": "2021-11-12T18:10:56.263Z"
   },
   {
    "duration": 6,
    "start_time": "2021-11-12T18:10:56.858Z"
   },
   {
    "duration": 6,
    "start_time": "2021-11-12T18:10:57.106Z"
   },
   {
    "duration": 7,
    "start_time": "2021-11-12T18:10:57.502Z"
   },
   {
    "duration": 6,
    "start_time": "2021-11-12T18:10:57.782Z"
   },
   {
    "duration": 5,
    "start_time": "2021-11-12T18:10:58.152Z"
   },
   {
    "duration": 6,
    "start_time": "2021-11-12T18:10:59.312Z"
   },
   {
    "duration": 866,
    "start_time": "2021-11-12T18:10:59.943Z"
   },
   {
    "duration": 424,
    "start_time": "2021-11-12T18:11:42.811Z"
   },
   {
    "duration": 9,
    "start_time": "2021-11-12T18:15:11.842Z"
   },
   {
    "duration": 6,
    "start_time": "2021-11-12T18:15:12.454Z"
   },
   {
    "duration": 6,
    "start_time": "2021-11-12T18:15:13.105Z"
   },
   {
    "duration": 5,
    "start_time": "2021-11-12T18:15:13.478Z"
   },
   {
    "duration": 6,
    "start_time": "2021-11-12T18:15:13.979Z"
   },
   {
    "duration": 5,
    "start_time": "2021-11-12T18:15:14.284Z"
   },
   {
    "duration": 6,
    "start_time": "2021-11-12T18:15:14.628Z"
   },
   {
    "duration": 6,
    "start_time": "2021-11-12T18:15:15.586Z"
   },
   {
    "duration": 290,
    "start_time": "2021-11-12T18:15:15.957Z"
   },
   {
    "duration": 683,
    "start_time": "2021-11-12T18:15:27.136Z"
   },
   {
    "duration": 9,
    "start_time": "2021-11-12T18:16:38.402Z"
   },
   {
    "duration": 8,
    "start_time": "2021-11-12T18:16:38.892Z"
   },
   {
    "duration": 7,
    "start_time": "2021-11-12T18:16:39.712Z"
   },
   {
    "duration": 7,
    "start_time": "2021-11-12T18:16:40.147Z"
   },
   {
    "duration": 6,
    "start_time": "2021-11-12T18:16:40.466Z"
   },
   {
    "duration": 6,
    "start_time": "2021-11-12T18:16:40.826Z"
   },
   {
    "duration": 6,
    "start_time": "2021-11-12T18:16:41.242Z"
   },
   {
    "duration": 6,
    "start_time": "2021-11-12T18:16:42.186Z"
   },
   {
    "duration": 645,
    "start_time": "2021-11-12T18:16:42.719Z"
   },
   {
    "duration": 9,
    "start_time": "2021-11-12T18:17:18.108Z"
   },
   {
    "duration": 6,
    "start_time": "2021-11-12T18:17:18.496Z"
   },
   {
    "duration": 5,
    "start_time": "2021-11-12T18:17:18.802Z"
   },
   {
    "duration": 5,
    "start_time": "2021-11-12T18:17:19.037Z"
   },
   {
    "duration": 9,
    "start_time": "2021-11-12T18:17:19.298Z"
   },
   {
    "duration": 5,
    "start_time": "2021-11-12T18:17:19.596Z"
   },
   {
    "duration": 6,
    "start_time": "2021-11-12T18:17:19.906Z"
   },
   {
    "duration": 6,
    "start_time": "2021-11-12T18:17:20.598Z"
   },
   {
    "duration": 829,
    "start_time": "2021-11-12T18:17:20.953Z"
   },
   {
    "duration": 7,
    "start_time": "2021-11-12T18:17:45.983Z"
   },
   {
    "duration": -5509,
    "start_time": "2021-11-12T18:20:51.402Z"
   },
   {
    "duration": -5519,
    "start_time": "2021-11-12T18:20:51.414Z"
   },
   {
    "duration": 8,
    "start_time": "2021-11-12T18:21:09.362Z"
   },
   {
    "duration": 2022,
    "start_time": "2021-11-13T06:25:03.780Z"
   },
   {
    "duration": 3,
    "start_time": "2021-11-13T06:25:05.805Z"
   },
   {
    "duration": 7,
    "start_time": "2021-11-13T06:25:05.812Z"
   },
   {
    "duration": 296,
    "start_time": "2021-11-13T06:25:05.822Z"
   },
   {
    "duration": 9,
    "start_time": "2021-11-13T06:25:06.120Z"
   },
   {
    "duration": 7,
    "start_time": "2021-11-13T06:25:06.132Z"
   },
   {
    "duration": 27,
    "start_time": "2021-11-13T06:25:06.142Z"
   },
   {
    "duration": 9,
    "start_time": "2021-11-13T06:25:11.189Z"
   },
   {
    "duration": 8589,
    "start_time": "2021-11-13T06:25:11.726Z"
   },
   {
    "duration": -5736,
    "start_time": "2021-11-13T06:25:26.054Z"
   },
   {
    "duration": 5,
    "start_time": "2021-11-13T06:26:02.706Z"
   },
   {
    "duration": 23,
    "start_time": "2021-11-13T06:26:03.196Z"
   },
   {
    "duration": 11,
    "start_time": "2021-11-13T06:26:05.188Z"
   },
   {
    "duration": 16,
    "start_time": "2021-11-13T06:26:55.464Z"
   },
   {
    "duration": 25,
    "start_time": "2021-11-13T06:26:55.884Z"
   },
   {
    "duration": 9,
    "start_time": "2021-11-13T06:26:56.271Z"
   },
   {
    "duration": 5,
    "start_time": "2021-11-13T06:28:36.998Z"
   },
   {
    "duration": 16,
    "start_time": "2021-11-13T06:28:37.006Z"
   },
   {
    "duration": 5,
    "start_time": "2021-11-13T06:28:37.597Z"
   },
   {
    "duration": 861,
    "start_time": "2021-11-13T06:29:24.789Z"
   },
   {
    "duration": 439,
    "start_time": "2021-11-13T06:29:45.469Z"
   },
   {
    "duration": 14,
    "start_time": "2021-11-13T06:29:51.895Z"
   },
   {
    "duration": 1026,
    "start_time": "2021-11-13T06:29:53.084Z"
   },
   {
    "duration": 9035,
    "start_time": "2021-11-13T06:30:30.115Z"
   },
   {
    "duration": 7659,
    "start_time": "2021-11-13T06:31:20.804Z"
   },
   {
    "duration": 17,
    "start_time": "2021-11-13T06:31:42.696Z"
   },
   {
    "duration": 7,
    "start_time": "2021-11-13T06:32:04.847Z"
   },
   {
    "duration": 21,
    "start_time": "2021-11-13T06:32:08.065Z"
   },
   {
    "duration": 645,
    "start_time": "2021-11-13T06:32:19.900Z"
   },
   {
    "duration": 6,
    "start_time": "2021-11-13T06:50:33.156Z"
   },
   {
    "duration": 6,
    "start_time": "2021-11-13T06:50:59.819Z"
   },
   {
    "duration": 253,
    "start_time": "2021-11-13T06:55:09.620Z"
   },
   {
    "duration": 265,
    "start_time": "2021-11-13T06:55:36.175Z"
   },
   {
    "duration": 6,
    "start_time": "2021-11-13T06:55:40.202Z"
   },
   {
    "duration": 9,
    "start_time": "2021-11-13T06:55:50.786Z"
   },
   {
    "duration": 1765,
    "start_time": "2021-11-13T06:56:09.242Z"
   },
   {
    "duration": 3,
    "start_time": "2021-11-13T06:56:11.010Z"
   },
   {
    "duration": 8,
    "start_time": "2021-11-13T06:56:11.017Z"
   },
   {
    "duration": 254,
    "start_time": "2021-11-13T06:56:11.029Z"
   },
   {
    "duration": 10,
    "start_time": "2021-11-13T06:56:11.285Z"
   },
   {
    "duration": 5,
    "start_time": "2021-11-13T06:56:11.298Z"
   },
   {
    "duration": 39,
    "start_time": "2021-11-13T06:56:11.306Z"
   },
   {
    "duration": 23,
    "start_time": "2021-11-13T06:56:11.348Z"
   },
   {
    "duration": 22,
    "start_time": "2021-11-13T06:56:11.375Z"
   },
   {
    "duration": 8,
    "start_time": "2021-11-13T06:56:11.400Z"
   },
   {
    "duration": 547,
    "start_time": "2021-11-13T06:56:11.410Z"
   },
   {
    "duration": 15,
    "start_time": "2021-11-13T06:56:11.967Z"
   },
   {
    "duration": 602,
    "start_time": "2021-11-13T06:56:11.984Z"
   },
   {
    "duration": 5,
    "start_time": "2021-11-13T06:56:12.588Z"
   },
   {
    "duration": 9,
    "start_time": "2021-11-13T06:56:12.596Z"
   },
   {
    "duration": 7,
    "start_time": "2021-11-13T06:56:12.608Z"
   },
   {
    "duration": 9,
    "start_time": "2021-11-13T06:56:12.618Z"
   },
   {
    "duration": 38,
    "start_time": "2021-11-13T06:56:12.629Z"
   },
   {
    "duration": 24,
    "start_time": "2021-11-13T06:56:12.670Z"
   },
   {
    "duration": 11,
    "start_time": "2021-11-13T06:56:12.697Z"
   },
   {
    "duration": 6,
    "start_time": "2021-11-13T06:56:12.711Z"
   },
   {
    "duration": 11,
    "start_time": "2021-11-13T06:56:12.720Z"
   },
   {
    "duration": 954,
    "start_time": "2021-11-13T06:56:12.733Z"
   },
   {
    "duration": 260,
    "start_time": "2021-11-13T06:57:37.010Z"
   },
   {
    "duration": 249,
    "start_time": "2021-11-13T06:57:41.577Z"
   },
   {
    "duration": 6,
    "start_time": "2021-11-13T06:58:26.160Z"
   },
   {
    "duration": 262,
    "start_time": "2021-11-13T06:58:58.348Z"
   },
   {
    "duration": 696,
    "start_time": "2021-11-13T06:59:08.076Z"
   },
   {
    "duration": 5,
    "start_time": "2021-11-13T06:59:12.357Z"
   },
   {
    "duration": 282,
    "start_time": "2021-11-13T07:01:06.440Z"
   },
   {
    "duration": 5135,
    "start_time": "2021-11-13T07:01:48.858Z"
   },
   {
    "duration": 257,
    "start_time": "2021-11-13T07:02:08.783Z"
   },
   {
    "duration": 6,
    "start_time": "2021-11-13T07:02:19.132Z"
   },
   {
    "duration": 7,
    "start_time": "2021-11-13T07:02:48.589Z"
   },
   {
    "duration": 845,
    "start_time": "2021-11-13T07:02:53.083Z"
   },
   {
    "duration": 6,
    "start_time": "2021-11-13T07:51:08.302Z"
   },
   {
    "duration": 38,
    "start_time": "2021-11-13T07:51:08.717Z"
   },
   {
    "duration": 10,
    "start_time": "2021-11-13T07:51:10.111Z"
   },
   {
    "duration": 549,
    "start_time": "2021-11-13T07:51:24.253Z"
   },
   {
    "duration": 5,
    "start_time": "2021-11-13T07:51:47.966Z"
   },
   {
    "duration": 8,
    "start_time": "2021-11-13T07:51:51.800Z"
   },
   {
    "duration": 6,
    "start_time": "2021-11-13T07:51:52.913Z"
   },
   {
    "duration": 6,
    "start_time": "2021-11-13T07:51:53.699Z"
   },
   {
    "duration": 6,
    "start_time": "2021-11-13T07:51:54.296Z"
   },
   {
    "duration": 6,
    "start_time": "2021-11-13T07:51:55.027Z"
   },
   {
    "duration": 6,
    "start_time": "2021-11-13T07:51:55.841Z"
   },
   {
    "duration": 5,
    "start_time": "2021-11-13T07:51:56.660Z"
   },
   {
    "duration": 7,
    "start_time": "2021-11-13T07:51:57.590Z"
   },
   {
    "duration": 790,
    "start_time": "2021-11-13T07:51:58.521Z"
   },
   {
    "duration": 6,
    "start_time": "2021-11-13T07:54:08.312Z"
   },
   {
    "duration": 836,
    "start_time": "2021-11-13T07:54:17.951Z"
   },
   {
    "duration": 5,
    "start_time": "2021-11-13T07:54:37.661Z"
   },
   {
    "duration": 5,
    "start_time": "2021-11-13T07:54:38.345Z"
   },
   {
    "duration": 5,
    "start_time": "2021-11-13T07:54:38.840Z"
   },
   {
    "duration": 6,
    "start_time": "2021-11-13T07:54:39.423Z"
   },
   {
    "duration": 88718,
    "start_time": "2021-11-13T07:54:39.702Z"
   },
   {
    "duration": 6,
    "start_time": "2021-11-13T08:11:14.416Z"
   },
   {
    "duration": 6,
    "start_time": "2021-11-13T08:11:29.070Z"
   },
   {
    "duration": 480825,
    "start_time": "2021-11-13T08:11:29.542Z"
   },
   {
    "duration": 14,
    "start_time": "2021-11-13T08:23:32.874Z"
   },
   {
    "duration": 10,
    "start_time": "2021-11-13T08:23:34.363Z"
   },
   {
    "duration": 13,
    "start_time": "2021-11-13T09:38:47.798Z"
   },
   {
    "duration": 109,
    "start_time": "2021-11-13T09:39:07.361Z"
   },
   {
    "duration": 97,
    "start_time": "2021-11-13T09:39:14.501Z"
   },
   {
    "duration": 313,
    "start_time": "2021-11-13T09:39:22.318Z"
   },
   {
    "duration": 10,
    "start_time": "2021-11-13T09:39:33.099Z"
   },
   {
    "duration": 23079,
    "start_time": "2021-11-13T09:39:33.670Z"
   },
   {
    "duration": -5631,
    "start_time": "2021-11-13T09:40:02.384Z"
   },
   {
    "duration": 6,
    "start_time": "2021-11-13T09:40:03.943Z"
   },
   {
    "duration": 3491,
    "start_time": "2021-11-13T09:42:57.509Z"
   },
   {
    "duration": 1784,
    "start_time": "2021-11-13T09:43:01.003Z"
   },
   {
    "duration": 11,
    "start_time": "2021-11-13T09:43:02.791Z"
   },
   {
    "duration": 61,
    "start_time": "2021-11-13T09:43:02.806Z"
   },
   {
    "duration": 12,
    "start_time": "2021-11-13T09:43:02.870Z"
   },
   {
    "duration": 316,
    "start_time": "2021-11-13T09:43:02.885Z"
   },
   {
    "duration": 63,
    "start_time": "2021-11-13T09:43:03.204Z"
   },
   {
    "duration": 5,
    "start_time": "2021-11-13T09:43:03.273Z"
   },
   {
    "duration": 27,
    "start_time": "2021-11-13T09:43:03.282Z"
   },
   {
    "duration": 55,
    "start_time": "2021-11-13T09:43:03.312Z"
   },
   {
    "duration": 106,
    "start_time": "2021-11-13T09:43:03.371Z"
   },
   {
    "duration": 12,
    "start_time": "2021-11-13T09:43:03.480Z"
   },
   {
    "duration": 865,
    "start_time": "2021-11-13T09:43:03.496Z"
   },
   {
    "duration": 24,
    "start_time": "2021-11-13T09:43:04.367Z"
   },
   {
    "duration": 677,
    "start_time": "2021-11-13T09:43:04.393Z"
   },
   {
    "duration": 7,
    "start_time": "2021-11-13T09:43:05.073Z"
   },
   {
    "duration": 10,
    "start_time": "2021-11-13T09:43:05.083Z"
   },
   {
    "duration": 9,
    "start_time": "2021-11-13T09:43:05.096Z"
   },
   {
    "duration": 11,
    "start_time": "2021-11-13T09:43:05.107Z"
   },
   {
    "duration": 51,
    "start_time": "2021-11-13T09:43:05.121Z"
   },
   {
    "duration": 8,
    "start_time": "2021-11-13T09:43:05.175Z"
   },
   {
    "duration": 12,
    "start_time": "2021-11-13T09:43:05.186Z"
   },
   {
    "duration": 10,
    "start_time": "2021-11-13T09:43:05.204Z"
   },
   {
    "duration": 1018,
    "start_time": "2021-11-13T09:43:05.217Z"
   },
   {
    "duration": -5647,
    "start_time": "2021-11-13T09:43:11.885Z"
   },
   {
    "duration": -5650,
    "start_time": "2021-11-13T09:43:11.890Z"
   },
   {
    "duration": 7,
    "start_time": "2021-11-13T09:52:17.903Z"
   },
   {
    "duration": 6,
    "start_time": "2021-11-13T09:52:19.176Z"
   },
   {
    "duration": 6,
    "start_time": "2021-11-13T09:52:20.032Z"
   },
   {
    "duration": 5,
    "start_time": "2021-11-13T09:52:20.733Z"
   },
   {
    "duration": 6,
    "start_time": "2021-11-13T09:52:21.749Z"
   },
   {
    "duration": 6,
    "start_time": "2021-11-13T09:52:22.618Z"
   },
   {
    "duration": 769,
    "start_time": "2021-11-13T09:52:23.105Z"
   },
   {
    "duration": 6,
    "start_time": "2021-11-13T09:58:29.176Z"
   },
   {
    "duration": 6,
    "start_time": "2021-11-13T09:58:31.649Z"
   },
   {
    "duration": 5,
    "start_time": "2021-11-13T09:58:32.057Z"
   },
   {
    "duration": 6,
    "start_time": "2021-11-13T09:58:32.446Z"
   },
   {
    "duration": 875,
    "start_time": "2021-11-13T09:58:32.716Z"
   },
   {
    "duration": -5739,
    "start_time": "2021-11-13T09:58:39.333Z"
   },
   {
    "duration": 8,
    "start_time": "2021-11-13T09:59:19.220Z"
   },
   {
    "duration": 7,
    "start_time": "2021-11-13T09:59:32.246Z"
   },
   {
    "duration": 11,
    "start_time": "2021-11-13T09:59:41.920Z"
   },
   {
    "duration": 9,
    "start_time": "2021-11-13T09:59:47.991Z"
   },
   {
    "duration": 9,
    "start_time": "2021-11-13T09:59:48.496Z"
   },
   {
    "duration": 6,
    "start_time": "2021-11-13T09:59:48.881Z"
   },
   {
    "duration": 5,
    "start_time": "2021-11-13T09:59:50.067Z"
   },
   {
    "duration": 5,
    "start_time": "2021-11-13T09:59:50.727Z"
   },
   {
    "duration": 6,
    "start_time": "2021-11-13T09:59:51.465Z"
   },
   {
    "duration": 6,
    "start_time": "2021-11-13T09:59:52.288Z"
   },
   {
    "duration": 238551,
    "start_time": "2021-11-13T09:59:52.606Z"
   },
   {
    "duration": 13,
    "start_time": "2021-11-13T10:06:47.069Z"
   },
   {
    "duration": 10,
    "start_time": "2021-11-13T10:06:47.471Z"
   },
   {
    "duration": 10,
    "start_time": "2021-11-13T10:20:33.619Z"
   },
   {
    "duration": 1565,
    "start_time": "2021-11-13T10:20:53.355Z"
   },
   {
    "duration": 7,
    "start_time": "2021-11-13T10:20:54.923Z"
   },
   {
    "duration": 8,
    "start_time": "2021-11-13T10:20:54.933Z"
   },
   {
    "duration": 255,
    "start_time": "2021-11-13T10:20:54.944Z"
   },
   {
    "duration": 9,
    "start_time": "2021-11-13T10:20:55.201Z"
   },
   {
    "duration": 7,
    "start_time": "2021-11-13T10:20:55.213Z"
   },
   {
    "duration": 47,
    "start_time": "2021-11-13T10:20:55.222Z"
   },
   {
    "duration": 5,
    "start_time": "2021-11-13T10:20:55.273Z"
   },
   {
    "duration": 56,
    "start_time": "2021-11-13T10:20:55.281Z"
   },
   {
    "duration": 459,
    "start_time": "2021-11-13T10:20:55.339Z"
   },
   {
    "duration": 28,
    "start_time": "2021-11-13T10:20:55.800Z"
   },
   {
    "duration": 651,
    "start_time": "2021-11-13T10:20:55.830Z"
   },
   {
    "duration": 6,
    "start_time": "2021-11-13T10:20:56.483Z"
   },
   {
    "duration": 13,
    "start_time": "2021-11-13T10:20:56.491Z"
   },
   {
    "duration": 8,
    "start_time": "2021-11-13T10:20:56.506Z"
   },
   {
    "duration": 11,
    "start_time": "2021-11-13T10:20:56.517Z"
   },
   {
    "duration": 42,
    "start_time": "2021-11-13T10:20:56.530Z"
   },
   {
    "duration": 12,
    "start_time": "2021-11-13T10:20:56.575Z"
   },
   {
    "duration": 19,
    "start_time": "2021-11-13T10:20:56.589Z"
   },
   {
    "duration": 21,
    "start_time": "2021-11-13T10:20:56.610Z"
   },
   {
    "duration": 14,
    "start_time": "2021-11-13T10:20:56.634Z"
   },
   {
    "duration": 276537,
    "start_time": "2021-11-13T10:20:56.651Z"
   },
   {
    "duration": 11,
    "start_time": "2021-11-13T10:25:33.192Z"
   },
   {
    "duration": 44,
    "start_time": "2021-11-13T10:27:10.669Z"
   },
   {
    "duration": 41,
    "start_time": "2021-11-13T10:27:23.074Z"
   },
   {
    "duration": 14,
    "start_time": "2021-11-13T10:27:52.263Z"
   },
   {
    "duration": 11,
    "start_time": "2021-11-13T10:28:01.300Z"
   },
   {
    "duration": 408,
    "start_time": "2021-11-13T10:28:08.960Z"
   },
   {
    "duration": 267,
    "start_time": "2021-11-13T10:28:18.234Z"
   },
   {
    "duration": 8,
    "start_time": "2021-11-13T10:28:28.363Z"
   },
   {
    "duration": 14,
    "start_time": "2021-11-13T10:28:28.374Z"
   },
   {
    "duration": 10,
    "start_time": "2021-11-13T10:28:28.391Z"
   },
   {
    "duration": 250,
    "start_time": "2021-11-13T10:28:28.404Z"
   },
   {
    "duration": 10,
    "start_time": "2021-11-13T10:28:33.835Z"
   },
   {
    "duration": 296,
    "start_time": "2021-11-13T10:28:40.051Z"
   },
   {
    "duration": 6,
    "start_time": "2021-11-13T10:29:07.646Z"
   },
   {
    "duration": 16,
    "start_time": "2021-11-13T10:29:15.477Z"
   },
   {
    "duration": 41,
    "start_time": "2021-11-13T10:29:41.488Z"
   },
   {
    "duration": 12,
    "start_time": "2021-11-13T10:29:59.874Z"
   },
   {
    "duration": 43,
    "start_time": "2021-11-13T10:30:02.199Z"
   },
   {
    "duration": 1702,
    "start_time": "2021-11-13T10:34:22.953Z"
   },
   {
    "duration": 12,
    "start_time": "2021-11-13T10:34:24.658Z"
   },
   {
    "duration": 14,
    "start_time": "2021-11-13T10:34:24.673Z"
   },
   {
    "duration": 253,
    "start_time": "2021-11-13T10:34:24.690Z"
   },
   {
    "duration": 9,
    "start_time": "2021-11-13T10:34:24.945Z"
   },
   {
    "duration": 8,
    "start_time": "2021-11-13T10:34:24.957Z"
   },
   {
    "duration": 26,
    "start_time": "2021-11-13T10:34:24.968Z"
   },
   {
    "duration": 5,
    "start_time": "2021-11-13T10:34:24.998Z"
   },
   {
    "duration": 55,
    "start_time": "2021-11-13T10:34:25.006Z"
   },
   {
    "duration": 463,
    "start_time": "2021-11-13T10:34:25.067Z"
   },
   {
    "duration": 39,
    "start_time": "2021-11-13T10:34:25.533Z"
   },
   {
    "duration": 1014,
    "start_time": "2021-11-13T10:34:25.575Z"
   },
   {
    "duration": 4,
    "start_time": "2021-11-13T10:34:26.592Z"
   },
   {
    "duration": 16,
    "start_time": "2021-11-13T10:34:26.598Z"
   },
   {
    "duration": 8,
    "start_time": "2021-11-13T10:34:26.616Z"
   },
   {
    "duration": 40,
    "start_time": "2021-11-13T10:34:26.627Z"
   },
   {
    "duration": 10,
    "start_time": "2021-11-13T10:34:26.670Z"
   },
   {
    "duration": 8,
    "start_time": "2021-11-13T10:34:26.682Z"
   },
   {
    "duration": 8,
    "start_time": "2021-11-13T10:34:26.693Z"
   },
   {
    "duration": 13,
    "start_time": "2021-11-13T10:34:26.703Z"
   },
   {
    "duration": 9,
    "start_time": "2021-11-13T10:34:26.718Z"
   },
   {
    "duration": 1360442,
    "start_time": "2021-11-13T10:34:26.729Z"
   },
   {
    "duration": 11,
    "start_time": "2021-11-13T10:57:07.175Z"
   },
   {
    "duration": 249,
    "start_time": "2021-11-13T12:58:05.980Z"
   },
   {
    "duration": 179,
    "start_time": "2021-11-13T12:58:23.123Z"
   },
   {
    "duration": 1157,
    "start_time": "2021-11-13T12:59:11.795Z"
   },
   {
    "duration": 5,
    "start_time": "2021-11-13T12:59:12.954Z"
   },
   {
    "duration": 5,
    "start_time": "2021-11-13T12:59:12.961Z"
   },
   {
    "duration": 167,
    "start_time": "2021-11-13T12:59:12.968Z"
   },
   {
    "duration": 7,
    "start_time": "2021-11-13T12:59:13.136Z"
   },
   {
    "duration": 7,
    "start_time": "2021-11-13T12:59:13.144Z"
   },
   {
    "duration": 18,
    "start_time": "2021-11-13T12:59:13.153Z"
   },
   {
    "duration": 3,
    "start_time": "2021-11-13T12:59:13.172Z"
   },
   {
    "duration": 26,
    "start_time": "2021-11-13T12:59:13.177Z"
   },
   {
    "duration": 261,
    "start_time": "2021-11-13T12:59:13.205Z"
   },
   {
    "duration": 24,
    "start_time": "2021-11-13T12:59:13.467Z"
   },
   {
    "duration": 402,
    "start_time": "2021-11-13T12:59:13.493Z"
   },
   {
    "duration": 4,
    "start_time": "2021-11-13T12:59:13.896Z"
   },
   {
    "duration": 10,
    "start_time": "2021-11-13T12:59:13.901Z"
   },
   {
    "duration": 5,
    "start_time": "2021-11-13T12:59:13.912Z"
   },
   {
    "duration": 9,
    "start_time": "2021-11-13T12:59:13.918Z"
   },
   {
    "duration": 11,
    "start_time": "2021-11-13T12:59:13.928Z"
   },
   {
    "duration": 8,
    "start_time": "2021-11-13T12:59:13.940Z"
   },
   {
    "duration": 9,
    "start_time": "2021-11-13T12:59:13.950Z"
   },
   {
    "duration": 11,
    "start_time": "2021-11-13T12:59:13.967Z"
   },
   {
    "duration": 9,
    "start_time": "2021-11-13T12:59:13.980Z"
   },
   {
    "duration": 241,
    "start_time": "2021-11-13T12:59:25.780Z"
   },
   {
    "duration": 184,
    "start_time": "2021-11-13T12:59:32.963Z"
   },
   {
    "duration": 191,
    "start_time": "2021-11-13T13:00:25.083Z"
   },
   {
    "duration": 5,
    "start_time": "2021-11-13T13:19:44.389Z"
   },
   {
    "duration": 191,
    "start_time": "2021-11-13T13:20:05.051Z"
   },
   {
    "duration": 6,
    "start_time": "2021-11-13T13:21:40.454Z"
   },
   {
    "duration": 188,
    "start_time": "2021-11-13T13:21:58.060Z"
   },
   {
    "duration": 5,
    "start_time": "2021-11-13T13:22:22.332Z"
   },
   {
    "duration": 189,
    "start_time": "2021-11-13T13:22:31.475Z"
   },
   {
    "duration": 191,
    "start_time": "2021-11-13T13:22:46.283Z"
   },
   {
    "duration": 178,
    "start_time": "2021-11-13T13:27:51.018Z"
   },
   {
    "duration": 202,
    "start_time": "2021-11-13T13:27:57.952Z"
   },
   {
    "duration": 372,
    "start_time": "2021-11-13T13:28:06.795Z"
   },
   {
    "duration": 194,
    "start_time": "2021-11-13T13:28:53.935Z"
   },
   {
    "duration": 29,
    "start_time": "2021-11-13T13:29:11.688Z"
   },
   {
    "duration": 188,
    "start_time": "2021-11-13T13:29:22.234Z"
   },
   {
    "duration": 6,
    "start_time": "2021-11-13T13:29:56.954Z"
   },
   {
    "duration": 24,
    "start_time": "2021-11-13T13:30:01.949Z"
   },
   {
    "duration": 24,
    "start_time": "2021-11-13T13:31:12.700Z"
   },
   {
    "duration": 23,
    "start_time": "2021-11-13T13:31:17.962Z"
   },
   {
    "duration": 5,
    "start_time": "2021-11-13T13:31:39.424Z"
   },
   {
    "duration": 6,
    "start_time": "2021-11-13T13:31:53.840Z"
   },
   {
    "duration": 5,
    "start_time": "2021-11-13T13:32:09.605Z"
   },
   {
    "duration": 5,
    "start_time": "2021-11-13T13:32:22.096Z"
   },
   {
    "duration": 5,
    "start_time": "2021-11-13T13:32:37.070Z"
   },
   {
    "duration": 6,
    "start_time": "2021-11-13T13:32:48.185Z"
   },
   {
    "duration": 7,
    "start_time": "2021-11-13T13:33:50.760Z"
   },
   {
    "duration": 6,
    "start_time": "2021-11-13T13:34:07.792Z"
   },
   {
    "duration": 5,
    "start_time": "2021-11-13T13:34:30.108Z"
   },
   {
    "duration": 21,
    "start_time": "2021-11-13T13:36:11.735Z"
   },
   {
    "duration": 20,
    "start_time": "2021-11-13T13:36:26.727Z"
   },
   {
    "duration": 23,
    "start_time": "2021-11-13T13:51:03.726Z"
   },
   {
    "duration": 21,
    "start_time": "2021-11-13T13:51:23.334Z"
   },
   {
    "duration": 16,
    "start_time": "2021-11-13T14:18:53.856Z"
   },
   {
    "duration": 17,
    "start_time": "2021-11-13T14:20:38.724Z"
   },
   {
    "duration": 1350,
    "start_time": "2021-11-13T14:26:22.588Z"
   },
   {
    "duration": 1298,
    "start_time": "2021-11-13T14:31:49.421Z"
   },
   {
    "duration": 4311,
    "start_time": "2021-11-13T14:32:35.610Z"
   },
   {
    "duration": 6,
    "start_time": "2021-11-13T14:33:09.670Z"
   },
   {
    "duration": 696,
    "start_time": "2021-11-13T14:33:11.679Z"
   },
   {
    "duration": 650,
    "start_time": "2021-11-13T14:37:03.287Z"
   },
   {
    "duration": 799,
    "start_time": "2021-11-13T14:37:16.445Z"
   },
   {
    "duration": 654,
    "start_time": "2021-11-13T14:37:32.187Z"
   },
   {
    "duration": 752,
    "start_time": "2021-11-13T14:37:51.416Z"
   },
   {
    "duration": 3,
    "start_time": "2021-11-13T14:40:36.858Z"
   },
   {
    "duration": 6,
    "start_time": "2021-11-13T14:40:54.158Z"
   },
   {
    "duration": 187,
    "start_time": "2021-11-13T14:41:19.721Z"
   },
   {
    "duration": 10,
    "start_time": "2021-11-13T14:49:44.085Z"
   },
   {
    "duration": 744,
    "start_time": "2021-11-13T14:49:44.816Z"
   },
   {
    "duration": 660,
    "start_time": "2021-11-13T14:51:17.273Z"
   },
   {
    "duration": 881,
    "start_time": "2021-11-13T14:51:41.423Z"
   },
   {
    "duration": 749,
    "start_time": "2021-11-13T14:52:05.043Z"
   },
   {
    "duration": 8,
    "start_time": "2021-11-13T14:55:32.845Z"
   },
   {
    "duration": 10,
    "start_time": "2021-11-13T14:56:08.634Z"
   },
   {
    "duration": 674,
    "start_time": "2021-11-13T14:56:09.199Z"
   },
   {
    "duration": 199,
    "start_time": "2021-11-13T15:00:19.715Z"
   },
   {
    "duration": 209,
    "start_time": "2021-11-13T15:00:46.932Z"
   },
   {
    "duration": 194,
    "start_time": "2021-11-13T15:01:17.352Z"
   },
   {
    "duration": 11,
    "start_time": "2021-11-13T15:01:30.099Z"
   },
   {
    "duration": 17,
    "start_time": "2021-11-13T15:01:34.487Z"
   },
   {
    "duration": 216,
    "start_time": "2021-11-13T15:01:53.061Z"
   },
   {
    "duration": 5,
    "start_time": "2021-11-13T15:02:21.849Z"
   },
   {
    "duration": 18,
    "start_time": "2021-11-13T15:02:21.856Z"
   },
   {
    "duration": 14,
    "start_time": "2021-11-13T15:02:21.876Z"
   },
   {
    "duration": 183,
    "start_time": "2021-11-13T15:02:21.892Z"
   },
   {
    "duration": 6,
    "start_time": "2021-11-13T15:02:22.077Z"
   },
   {
    "duration": 10,
    "start_time": "2021-11-13T15:02:22.085Z"
   },
   {
    "duration": 31,
    "start_time": "2021-11-13T15:02:22.097Z"
   },
   {
    "duration": 4,
    "start_time": "2021-11-13T15:02:22.130Z"
   },
   {
    "duration": 34,
    "start_time": "2021-11-13T15:02:22.136Z"
   },
   {
    "duration": 265,
    "start_time": "2021-11-13T15:02:22.171Z"
   },
   {
    "duration": 19,
    "start_time": "2021-11-13T15:02:22.437Z"
   },
   {
    "duration": 364,
    "start_time": "2021-11-13T15:02:22.458Z"
   },
   {
    "duration": 180,
    "start_time": "2021-11-13T15:02:22.824Z"
   },
   {
    "duration": -49,
    "start_time": "2021-11-13T15:02:23.055Z"
   },
   {
    "duration": -57,
    "start_time": "2021-11-13T15:02:23.064Z"
   },
   {
    "duration": -65,
    "start_time": "2021-11-13T15:02:23.074Z"
   },
   {
    "duration": -68,
    "start_time": "2021-11-13T15:02:23.078Z"
   },
   {
    "duration": -80,
    "start_time": "2021-11-13T15:02:23.091Z"
   },
   {
    "duration": -83,
    "start_time": "2021-11-13T15:02:23.095Z"
   },
   {
    "duration": -89,
    "start_time": "2021-11-13T15:02:23.102Z"
   },
   {
    "duration": 12,
    "start_time": "2021-11-13T15:02:59.085Z"
   },
   {
    "duration": 10,
    "start_time": "2021-11-13T15:03:15.111Z"
   },
   {
    "duration": 8,
    "start_time": "2021-11-13T15:09:48.030Z"
   },
   {
    "duration": 9,
    "start_time": "2021-11-13T15:09:59.648Z"
   },
   {
    "duration": 8,
    "start_time": "2021-11-13T15:10:00.318Z"
   },
   {
    "duration": 9,
    "start_time": "2021-11-13T15:10:41.588Z"
   },
   {
    "duration": 827,
    "start_time": "2021-11-13T15:10:42.636Z"
   },
   {
    "duration": 752,
    "start_time": "2021-11-13T15:10:43.465Z"
   },
   {
    "duration": 226,
    "start_time": "2021-11-13T15:10:44.219Z"
   },
   {
    "duration": 370,
    "start_time": "2021-11-13T15:10:44.642Z"
   },
   {
    "duration": 4,
    "start_time": "2021-11-13T15:14:39.005Z"
   },
   {
    "duration": 4,
    "start_time": "2021-11-13T15:14:39.927Z"
   },
   {
    "duration": 15,
    "start_time": "2021-11-13T15:14:41.354Z"
   },
   {
    "duration": 6,
    "start_time": "2021-11-13T15:14:57.619Z"
   },
   {
    "duration": 32,
    "start_time": "2021-11-13T15:14:58.265Z"
   },
   {
    "duration": 8,
    "start_time": "2021-11-13T15:15:00.167Z"
   },
   {
    "duration": 10,
    "start_time": "2021-11-13T15:15:00.592Z"
   },
   {
    "duration": 486,
    "start_time": "2021-11-13T15:15:02.672Z"
   },
   {
    "duration": 15,
    "start_time": "2021-11-13T15:15:03.160Z"
   },
   {
    "duration": 347,
    "start_time": "2021-11-13T15:15:03.523Z"
   },
   {
    "duration": 184,
    "start_time": "2021-11-13T15:15:03.872Z"
   },
   {
    "duration": 758,
    "start_time": "2021-11-13T15:15:04.068Z"
   },
   {
    "duration": 715,
    "start_time": "2021-11-13T15:15:04.985Z"
   },
   {
    "duration": 215,
    "start_time": "2021-11-13T15:15:05.702Z"
   },
   {
    "duration": 9,
    "start_time": "2021-11-13T15:28:50.212Z"
   },
   {
    "duration": 8,
    "start_time": "2021-11-13T15:29:14.767Z"
   },
   {
    "duration": 6,
    "start_time": "2021-11-13T15:29:15.445Z"
   },
   {
    "duration": 6,
    "start_time": "2021-11-13T15:29:21.421Z"
   },
   {
    "duration": 755,
    "start_time": "2021-11-13T15:29:21.608Z"
   },
   {
    "duration": 707,
    "start_time": "2021-11-13T15:29:24.887Z"
   },
   {
    "duration": 184,
    "start_time": "2021-11-13T15:29:25.596Z"
   },
   {
    "duration": 364,
    "start_time": "2021-11-13T15:29:26.106Z"
   },
   {
    "duration": -106,
    "start_time": "2021-11-13T15:29:26.578Z"
   },
   {
    "duration": 218,
    "start_time": "2021-11-13T15:29:46.706Z"
   },
   {
    "duration": 5,
    "start_time": "2021-11-13T15:30:34.106Z"
   },
   {
    "duration": 4,
    "start_time": "2021-11-13T15:30:45.997Z"
   },
   {
    "duration": 7,
    "start_time": "2021-11-13T15:38:25.156Z"
   },
   {
    "duration": 4,
    "start_time": "2021-11-13T15:38:51.666Z"
   },
   {
    "duration": 5,
    "start_time": "2021-11-13T15:38:57.295Z"
   },
   {
    "duration": 5592,
    "start_time": "2021-11-13T15:39:30.814Z"
   },
   {
    "duration": 195,
    "start_time": "2021-11-13T15:39:47.682Z"
   },
   {
    "duration": 4655,
    "start_time": "2021-11-13T15:40:15.664Z"
   },
   {
    "duration": 5,
    "start_time": "2021-11-13T15:40:57.308Z"
   },
   {
    "duration": 262,
    "start_time": "2021-11-13T15:41:38.707Z"
   },
   {
    "duration": 178,
    "start_time": "2021-11-13T15:42:09.184Z"
   },
   {
    "duration": 5,
    "start_time": "2021-11-13T15:43:00.305Z"
   },
   {
    "duration": 5,
    "start_time": "2021-11-13T15:43:22.349Z"
   },
   {
    "duration": 8,
    "start_time": "2021-11-13T15:46:52.570Z"
   },
   {
    "duration": 4,
    "start_time": "2021-11-13T15:50:46.600Z"
   },
   {
    "duration": 9,
    "start_time": "2021-11-13T15:51:24.932Z"
   },
   {
    "duration": 12,
    "start_time": "2021-11-13T15:51:47.376Z"
   },
   {
    "duration": 8,
    "start_time": "2021-11-13T15:52:01.654Z"
   },
   {
    "duration": 8,
    "start_time": "2021-11-13T15:52:15.420Z"
   },
   {
    "duration": 504,
    "start_time": "2021-11-13T15:52:44.624Z"
   },
   {
    "duration": 7,
    "start_time": "2021-11-13T15:53:44.027Z"
   },
   {
    "duration": 7,
    "start_time": "2021-11-13T15:54:58.795Z"
   },
   {
    "duration": 470,
    "start_time": "2021-11-13T15:54:59.621Z"
   },
   {
    "duration": 1158,
    "start_time": "2021-11-13T15:59:12.226Z"
   },
   {
    "duration": 5,
    "start_time": "2021-11-13T15:59:13.385Z"
   },
   {
    "duration": 10,
    "start_time": "2021-11-13T15:59:13.392Z"
   },
   {
    "duration": 174,
    "start_time": "2021-11-13T15:59:13.404Z"
   },
   {
    "duration": 7,
    "start_time": "2021-11-13T15:59:13.580Z"
   },
   {
    "duration": 5,
    "start_time": "2021-11-13T15:59:13.589Z"
   },
   {
    "duration": 5,
    "start_time": "2021-11-13T15:59:13.595Z"
   },
   {
    "duration": 13,
    "start_time": "2021-11-13T15:59:13.602Z"
   },
   {
    "duration": 4,
    "start_time": "2021-11-13T15:59:13.618Z"
   },
   {
    "duration": 26,
    "start_time": "2021-11-13T15:59:13.624Z"
   },
   {
    "duration": 8,
    "start_time": "2021-11-13T15:59:13.652Z"
   },
   {
    "duration": 295,
    "start_time": "2021-11-13T15:59:13.662Z"
   },
   {
    "duration": 15,
    "start_time": "2021-11-13T15:59:13.959Z"
   },
   {
    "duration": 18,
    "start_time": "2021-11-13T15:59:13.975Z"
   },
   {
    "duration": 6,
    "start_time": "2021-11-13T15:59:13.995Z"
   },
   {
    "duration": 817,
    "start_time": "2021-11-13T15:59:14.003Z"
   },
   {
    "duration": 678,
    "start_time": "2021-11-13T15:59:14.822Z"
   },
   {
    "duration": 6,
    "start_time": "2021-11-13T15:59:15.502Z"
   },
   {
    "duration": 8,
    "start_time": "2021-11-13T15:59:15.510Z"
   },
   {
    "duration": 7,
    "start_time": "2021-11-13T15:59:15.520Z"
   },
   {
    "duration": 7,
    "start_time": "2021-11-13T15:59:15.529Z"
   },
   {
    "duration": 504,
    "start_time": "2021-11-13T15:59:15.537Z"
   },
   {
    "duration": 6,
    "start_time": "2021-11-13T15:59:16.043Z"
   },
   {
    "duration": 8,
    "start_time": "2021-11-13T15:59:16.051Z"
   },
   {
    "duration": 5,
    "start_time": "2021-11-13T15:59:16.061Z"
   },
   {
    "duration": 7,
    "start_time": "2021-11-13T15:59:16.068Z"
   },
   {
    "duration": 4,
    "start_time": "2021-11-13T15:59:16.094Z"
   },
   {
    "duration": 5,
    "start_time": "2021-11-13T15:59:16.100Z"
   },
   {
    "duration": 9,
    "start_time": "2021-11-13T15:59:16.107Z"
   },
   {
    "duration": 30,
    "start_time": "2021-11-13T15:59:16.118Z"
   },
   {
    "duration": 5,
    "start_time": "2021-11-13T15:59:16.150Z"
   },
   {
    "duration": 7,
    "start_time": "2021-11-13T15:59:16.156Z"
   },
   {
    "duration": 26,
    "start_time": "2021-11-13T15:59:16.165Z"
   },
   {
    "duration": 4,
    "start_time": "2021-11-13T15:59:16.193Z"
   },
   {
    "duration": 14,
    "start_time": "2021-11-13T15:59:16.198Z"
   },
   {
    "duration": 13,
    "start_time": "2021-11-13T15:59:16.213Z"
   },
   {
    "duration": 7,
    "start_time": "2021-11-13T15:59:16.228Z"
   },
   {
    "duration": 277,
    "start_time": "2021-11-13T15:59:16.236Z"
   },
   {
    "duration": 998017,
    "start_time": "2021-11-13T16:02:51.085Z"
   },
   {
    "duration": 7,
    "start_time": "2021-11-13T16:19:29.104Z"
   },
   {
    "duration": 789,
    "start_time": "2021-11-13T16:56:15.852Z"
   },
   {
    "duration": 776,
    "start_time": "2021-11-13T16:57:22.134Z"
   },
   {
    "duration": 4,
    "start_time": "2021-11-13T17:04:14.773Z"
   },
   {
    "duration": 1797,
    "start_time": "2021-11-13T17:04:38.171Z"
   },
   {
    "duration": 6,
    "start_time": "2021-11-13T17:05:39.146Z"
   },
   {
    "duration": 199,
    "start_time": "2021-11-13T17:06:56.914Z"
   },
   {
    "duration": 1180,
    "start_time": "2021-11-14T11:49:18.463Z"
   },
   {
    "duration": 4,
    "start_time": "2021-11-14T11:49:19.645Z"
   },
   {
    "duration": 5,
    "start_time": "2021-11-14T11:49:19.651Z"
   },
   {
    "duration": 214,
    "start_time": "2021-11-14T11:49:19.658Z"
   },
   {
    "duration": 5,
    "start_time": "2021-11-14T11:49:19.874Z"
   },
   {
    "duration": 10,
    "start_time": "2021-11-14T11:49:19.881Z"
   },
   {
    "duration": 5,
    "start_time": "2021-11-14T11:49:19.892Z"
   },
   {
    "duration": 14,
    "start_time": "2021-11-14T11:49:19.898Z"
   },
   {
    "duration": 3,
    "start_time": "2021-11-14T11:49:19.915Z"
   },
   {
    "duration": 27,
    "start_time": "2021-11-14T11:49:19.919Z"
   },
   {
    "duration": 6,
    "start_time": "2021-11-14T11:49:19.948Z"
   },
   {
    "duration": 6,
    "start_time": "2021-11-14T11:49:19.956Z"
   },
   {
    "duration": 286,
    "start_time": "2021-11-14T11:49:19.964Z"
   },
   {
    "duration": 1588,
    "start_time": "2021-11-14T11:49:20.251Z"
   },
   {
    "duration": 5,
    "start_time": "2021-11-14T11:49:21.841Z"
   },
   {
    "duration": 308,
    "start_time": "2021-11-14T12:07:57.324Z"
   },
   {
    "duration": 432,
    "start_time": "2021-11-14T12:08:46.526Z"
   },
   {
    "duration": 381,
    "start_time": "2021-11-14T12:08:58.185Z"
   },
   {
    "duration": 382,
    "start_time": "2021-11-14T12:09:11.378Z"
   },
   {
    "duration": 281,
    "start_time": "2021-11-14T12:09:49.178Z"
   },
   {
    "duration": 274,
    "start_time": "2021-11-14T12:09:57.262Z"
   },
   {
    "duration": 288,
    "start_time": "2021-11-14T12:10:04.730Z"
   },
   {
    "duration": 1262,
    "start_time": "2021-11-15T05:04:32.180Z"
   },
   {
    "duration": 7,
    "start_time": "2021-11-15T05:04:33.444Z"
   },
   {
    "duration": 15,
    "start_time": "2021-11-15T05:04:33.454Z"
   },
   {
    "duration": 229,
    "start_time": "2021-11-15T05:04:33.472Z"
   },
   {
    "duration": 7,
    "start_time": "2021-11-15T05:04:33.703Z"
   },
   {
    "duration": 6,
    "start_time": "2021-11-15T05:04:33.711Z"
   },
   {
    "duration": 5,
    "start_time": "2021-11-15T05:04:33.719Z"
   },
   {
    "duration": 16,
    "start_time": "2021-11-15T05:04:33.727Z"
   },
   {
    "duration": 3,
    "start_time": "2021-11-15T05:04:33.746Z"
   },
   {
    "duration": 28,
    "start_time": "2021-11-15T05:04:33.763Z"
   },
   {
    "duration": 8,
    "start_time": "2021-11-15T05:04:33.793Z"
   },
   {
    "duration": 8,
    "start_time": "2021-11-15T05:04:33.803Z"
   },
   {
    "duration": 325,
    "start_time": "2021-11-15T05:04:33.813Z"
   },
   {
    "duration": 486,
    "start_time": "2021-11-15T05:04:34.139Z"
   },
   {
    "duration": 6,
    "start_time": "2021-11-15T05:04:34.626Z"
   },
   {
    "duration": 741,
    "start_time": "2021-11-15T05:04:34.634Z"
   },
   {
    "duration": 689,
    "start_time": "2021-11-15T05:04:35.378Z"
   },
   {
    "duration": 6,
    "start_time": "2021-11-15T05:04:36.069Z"
   },
   {
    "duration": 10,
    "start_time": "2021-11-15T05:04:36.076Z"
   },
   {
    "duration": 6,
    "start_time": "2021-11-15T05:04:36.087Z"
   },
   {
    "duration": 8,
    "start_time": "2021-11-15T05:04:36.094Z"
   },
   {
    "duration": 6,
    "start_time": "2021-11-15T05:04:36.104Z"
   },
   {
    "duration": 6,
    "start_time": "2021-11-15T05:04:36.113Z"
   },
   {
    "duration": 13,
    "start_time": "2021-11-15T05:04:36.121Z"
   },
   {
    "duration": 840132,
    "start_time": "2021-11-15T05:04:36.136Z"
   },
   {
    "duration": 10,
    "start_time": "2021-11-15T05:18:36.270Z"
   },
   {
    "duration": 87,
    "start_time": "2021-11-15T05:18:36.282Z"
   },
   {
    "duration": 1233,
    "start_time": "2021-11-15T05:25:33.684Z"
   },
   {
    "duration": 5,
    "start_time": "2021-11-15T05:25:34.919Z"
   },
   {
    "duration": 5,
    "start_time": "2021-11-15T05:25:34.926Z"
   },
   {
    "duration": 241,
    "start_time": "2021-11-15T05:25:34.933Z"
   },
   {
    "duration": 6,
    "start_time": "2021-11-15T05:25:35.176Z"
   },
   {
    "duration": 5,
    "start_time": "2021-11-15T05:25:35.184Z"
   },
   {
    "duration": 6,
    "start_time": "2021-11-15T05:25:35.190Z"
   },
   {
    "duration": 16,
    "start_time": "2021-11-15T05:25:35.198Z"
   },
   {
    "duration": 4,
    "start_time": "2021-11-15T05:25:35.217Z"
   },
   {
    "duration": 52,
    "start_time": "2021-11-15T05:25:35.223Z"
   },
   {
    "duration": 7,
    "start_time": "2021-11-15T05:25:35.276Z"
   },
   {
    "duration": 7,
    "start_time": "2021-11-15T05:25:35.285Z"
   },
   {
    "duration": 322,
    "start_time": "2021-11-15T05:25:35.293Z"
   },
   {
    "duration": 491,
    "start_time": "2021-11-15T05:25:35.617Z"
   },
   {
    "duration": 6,
    "start_time": "2021-11-15T05:25:36.110Z"
   },
   {
    "duration": 720,
    "start_time": "2021-11-15T05:25:36.118Z"
   },
   {
    "duration": 656,
    "start_time": "2021-11-15T05:25:36.840Z"
   },
   {
    "duration": 6,
    "start_time": "2021-11-15T05:25:37.497Z"
   },
   {
    "duration": 9,
    "start_time": "2021-11-15T05:25:37.504Z"
   },
   {
    "duration": 8,
    "start_time": "2021-11-15T05:25:37.514Z"
   },
   {
    "duration": 5,
    "start_time": "2021-11-15T05:25:37.523Z"
   },
   {
    "duration": 8,
    "start_time": "2021-11-15T05:25:37.529Z"
   },
   {
    "duration": 8,
    "start_time": "2021-11-15T05:25:37.539Z"
   },
   {
    "duration": 4,
    "start_time": "2021-11-15T05:25:37.564Z"
   },
   {
    "duration": 895225,
    "start_time": "2021-11-15T05:25:37.570Z"
   },
   {
    "duration": -253,
    "start_time": "2021-11-15T05:40:33.050Z"
   },
   {
    "duration": -253,
    "start_time": "2021-11-15T05:40:33.052Z"
   },
   {
    "duration": 404,
    "start_time": "2021-11-15T05:41:19.210Z"
   },
   {
    "duration": 716,
    "start_time": "2021-11-15T05:46:18.187Z"
   },
   {
    "duration": 4,
    "start_time": "2021-11-15T05:50:56.034Z"
   },
   {
    "duration": 5,
    "start_time": "2021-11-15T05:51:00.333Z"
   },
   {
    "duration": 574,
    "start_time": "2021-11-15T05:52:39.150Z"
   },
   {
    "duration": 4,
    "start_time": "2021-11-15T05:53:37.649Z"
   },
   {
    "duration": 5,
    "start_time": "2021-11-15T05:53:39.054Z"
   },
   {
    "duration": 4,
    "start_time": "2021-11-15T05:53:40.180Z"
   },
   {
    "duration": 4,
    "start_time": "2021-11-15T05:53:41.053Z"
   },
   {
    "duration": 5,
    "start_time": "2021-11-15T05:53:41.813Z"
   },
   {
    "duration": 874618,
    "start_time": "2021-11-15T05:53:42.171Z"
   },
   {
    "duration": 9,
    "start_time": "2021-11-15T06:08:16.792Z"
   },
   {
    "duration": 8,
    "start_time": "2021-11-15T06:08:16.803Z"
   },
   {
    "duration": 318,
    "start_time": "2021-11-15T06:23:16.667Z"
   },
   {
    "duration": 9562,
    "start_time": "2021-11-15T06:23:23.356Z"
   },
   {
    "duration": 347,
    "start_time": "2021-11-15T06:24:13.021Z"
   },
   {
    "duration": 462,
    "start_time": "2021-11-15T06:24:24.703Z"
   },
   {
    "duration": 22,
    "start_time": "2021-11-15T06:24:44.331Z"
   },
   {
    "duration": 2889,
    "start_time": "2021-11-15T06:26:14.085Z"
   },
   {
    "duration": 561,
    "start_time": "2021-11-15T06:26:33.406Z"
   },
   {
    "duration": 878,
    "start_time": "2021-11-15T06:26:45.487Z"
   },
   {
    "duration": 860,
    "start_time": "2021-11-15T06:26:49.577Z"
   },
   {
    "duration": 870,
    "start_time": "2021-11-15T06:27:54.364Z"
   },
   {
    "duration": 982,
    "start_time": "2021-11-15T06:28:02.114Z"
   },
   {
    "duration": 883,
    "start_time": "2021-11-15T06:28:08.647Z"
   },
   {
    "duration": 867,
    "start_time": "2021-11-15T06:28:16.221Z"
   },
   {
    "duration": 1114,
    "start_time": "2021-11-15T06:28:23.132Z"
   },
   {
    "duration": 315,
    "start_time": "2021-11-15T06:29:38.721Z"
   },
   {
    "duration": 306,
    "start_time": "2021-11-15T06:29:57.032Z"
   },
   {
    "duration": 351,
    "start_time": "2021-11-15T06:30:20.535Z"
   },
   {
    "duration": 308,
    "start_time": "2021-11-15T06:30:34.046Z"
   },
   {
    "duration": 527,
    "start_time": "2021-11-15T06:31:30.583Z"
   },
   {
    "duration": 478,
    "start_time": "2021-11-15T06:31:57.013Z"
   },
   {
    "duration": 430,
    "start_time": "2021-11-15T06:33:23.280Z"
   },
   {
    "duration": 431,
    "start_time": "2021-11-15T06:46:20.372Z"
   },
   {
    "duration": 549,
    "start_time": "2021-11-15T06:47:26.455Z"
   },
   {
    "duration": 1044,
    "start_time": "2021-11-15T06:49:48.696Z"
   },
   {
    "duration": 1622,
    "start_time": "2021-11-15T06:51:10.584Z"
   },
   {
    "duration": 1245,
    "start_time": "2021-11-15T06:51:17.620Z"
   },
   {
    "duration": 942,
    "start_time": "2021-11-15T06:51:23.011Z"
   },
   {
    "duration": 5,
    "start_time": "2021-11-15T06:52:40.512Z"
   },
   {
    "duration": 905,
    "start_time": "2021-11-15T06:52:46.589Z"
   },
   {
    "duration": 960,
    "start_time": "2021-11-15T06:55:24.627Z"
   },
   {
    "duration": 1187,
    "start_time": "2021-11-15T06:55:31.024Z"
   },
   {
    "duration": 772,
    "start_time": "2021-11-15T06:56:21.687Z"
   },
   {
    "duration": 794,
    "start_time": "2021-11-15T06:56:26.363Z"
   },
   {
    "duration": 855,
    "start_time": "2021-11-15T06:56:46.425Z"
   },
   {
    "duration": 1081,
    "start_time": "2021-11-15T06:57:03.641Z"
   },
   {
    "duration": 1052,
    "start_time": "2021-11-15T06:57:12.017Z"
   },
   {
    "duration": 1052,
    "start_time": "2021-11-15T06:57:17.677Z"
   },
   {
    "duration": 1075,
    "start_time": "2021-11-15T06:57:44.447Z"
   },
   {
    "duration": 677,
    "start_time": "2021-11-15T06:58:37.110Z"
   },
   {
    "duration": 33,
    "start_time": "2021-11-15T06:58:45.082Z"
   },
   {
    "duration": 5851,
    "start_time": "2021-11-15T06:58:50.737Z"
   },
   {
    "duration": 49,
    "start_time": "2021-11-15T06:59:30.220Z"
   },
   {
    "duration": 22,
    "start_time": "2021-11-15T06:59:34.951Z"
   },
   {
    "duration": 5479,
    "start_time": "2021-11-15T06:59:35.452Z"
   },
   {
    "duration": 5,
    "start_time": "2021-11-15T06:59:56.831Z"
   },
   {
    "duration": 14,
    "start_time": "2021-11-15T06:59:56.838Z"
   },
   {
    "duration": 5,
    "start_time": "2021-11-15T06:59:56.855Z"
   },
   {
    "duration": 223,
    "start_time": "2021-11-15T06:59:56.863Z"
   },
   {
    "duration": 6,
    "start_time": "2021-11-15T06:59:57.088Z"
   },
   {
    "duration": 5,
    "start_time": "2021-11-15T06:59:57.096Z"
   },
   {
    "duration": 5,
    "start_time": "2021-11-15T06:59:57.102Z"
   },
   {
    "duration": 14,
    "start_time": "2021-11-15T06:59:57.109Z"
   },
   {
    "duration": 4,
    "start_time": "2021-11-15T06:59:57.125Z"
   },
   {
    "duration": 146,
    "start_time": "2021-11-15T06:59:57.131Z"
   },
   {
    "duration": 8,
    "start_time": "2021-11-15T06:59:57.279Z"
   },
   {
    "duration": 13,
    "start_time": "2021-11-15T06:59:57.289Z"
   },
   {
    "duration": 1472,
    "start_time": "2021-11-15T06:59:57.304Z"
   },
   {
    "duration": 5,
    "start_time": "2021-11-15T07:00:30.355Z"
   },
   {
    "duration": 9,
    "start_time": "2021-11-15T07:00:30.362Z"
   },
   {
    "duration": 11,
    "start_time": "2021-11-15T07:00:30.373Z"
   },
   {
    "duration": 406,
    "start_time": "2021-11-15T07:00:30.386Z"
   },
   {
    "duration": 8,
    "start_time": "2021-11-15T07:00:30.793Z"
   },
   {
    "duration": 12,
    "start_time": "2021-11-15T07:00:30.803Z"
   },
   {
    "duration": 19,
    "start_time": "2021-11-15T07:00:30.817Z"
   },
   {
    "duration": 22,
    "start_time": "2021-11-15T07:00:30.839Z"
   },
   {
    "duration": 7,
    "start_time": "2021-11-15T07:00:30.863Z"
   },
   {
    "duration": 20,
    "start_time": "2021-11-15T07:00:30.872Z"
   },
   {
    "duration": 8,
    "start_time": "2021-11-15T07:00:30.894Z"
   },
   {
    "duration": 12,
    "start_time": "2021-11-15T07:00:30.904Z"
   },
   {
    "duration": 724,
    "start_time": "2021-11-15T07:00:30.917Z"
   },
   {
    "duration": 5,
    "start_time": "2021-11-15T07:01:21.105Z"
   },
   {
    "duration": 10,
    "start_time": "2021-11-15T07:01:21.112Z"
   },
   {
    "duration": 7,
    "start_time": "2021-11-15T07:01:21.124Z"
   },
   {
    "duration": 258,
    "start_time": "2021-11-15T07:01:21.133Z"
   },
   {
    "duration": 7,
    "start_time": "2021-11-15T07:01:21.393Z"
   },
   {
    "duration": 9,
    "start_time": "2021-11-15T07:01:21.402Z"
   },
   {
    "duration": 8,
    "start_time": "2021-11-15T07:01:21.413Z"
   },
   {
    "duration": 14,
    "start_time": "2021-11-15T07:01:21.423Z"
   },
   {
    "duration": 3,
    "start_time": "2021-11-15T07:01:21.440Z"
   },
   {
    "duration": 28,
    "start_time": "2021-11-15T07:01:21.445Z"
   },
   {
    "duration": 8,
    "start_time": "2021-11-15T07:01:21.475Z"
   },
   {
    "duration": 7,
    "start_time": "2021-11-15T07:01:21.484Z"
   },
   {
    "duration": 768,
    "start_time": "2021-11-15T07:01:21.492Z"
   },
   {
    "duration": 6,
    "start_time": "2021-11-15T07:02:15.571Z"
   },
   {
    "duration": 14,
    "start_time": "2021-11-15T07:02:15.579Z"
   },
   {
    "duration": 7,
    "start_time": "2021-11-15T07:02:15.595Z"
   },
   {
    "duration": 594,
    "start_time": "2021-11-15T07:02:15.604Z"
   },
   {
    "duration": 7,
    "start_time": "2021-11-15T07:02:16.199Z"
   },
   {
    "duration": 6,
    "start_time": "2021-11-15T07:02:16.208Z"
   },
   {
    "duration": 5,
    "start_time": "2021-11-15T07:02:16.216Z"
   },
   {
    "duration": 15,
    "start_time": "2021-11-15T07:02:16.223Z"
   },
   {
    "duration": 4,
    "start_time": "2021-11-15T07:02:16.240Z"
   },
   {
    "duration": 25,
    "start_time": "2021-11-15T07:02:16.246Z"
   },
   {
    "duration": 7,
    "start_time": "2021-11-15T07:02:16.272Z"
   },
   {
    "duration": 10,
    "start_time": "2021-11-15T07:02:16.281Z"
   },
   {
    "duration": 667,
    "start_time": "2021-11-15T07:02:16.292Z"
   },
   {
    "duration": 1239,
    "start_time": "2021-11-15T07:08:58.090Z"
   },
   {
    "duration": 5,
    "start_time": "2021-11-15T07:10:55.272Z"
   },
   {
    "duration": 7,
    "start_time": "2021-11-15T07:10:55.279Z"
   },
   {
    "duration": 13,
    "start_time": "2021-11-15T07:10:55.288Z"
   },
   {
    "duration": 226,
    "start_time": "2021-11-15T07:10:55.303Z"
   },
   {
    "duration": 127,
    "start_time": "2021-11-15T07:10:55.530Z"
   },
   {
    "duration": 6,
    "start_time": "2021-11-15T07:10:55.658Z"
   },
   {
    "duration": 5,
    "start_time": "2021-11-15T07:10:55.666Z"
   },
   {
    "duration": 15,
    "start_time": "2021-11-15T07:10:55.673Z"
   },
   {
    "duration": 3,
    "start_time": "2021-11-15T07:10:55.690Z"
   },
   {
    "duration": 18,
    "start_time": "2021-11-15T07:10:55.695Z"
   },
   {
    "duration": 7,
    "start_time": "2021-11-15T07:10:55.715Z"
   },
   {
    "duration": 8,
    "start_time": "2021-11-15T07:10:55.724Z"
   },
   {
    "duration": 651,
    "start_time": "2021-11-15T07:10:55.734Z"
   },
   {
    "duration": 526,
    "start_time": "2021-11-15T07:10:56.387Z"
   },
   {
    "duration": 550,
    "start_time": "2021-11-15T07:10:56.915Z"
   },
   {
    "duration": 699,
    "start_time": "2021-11-15T07:10:57.468Z"
   },
   {
    "duration": 7,
    "start_time": "2021-11-15T07:10:58.169Z"
   },
   {
    "duration": 1398,
    "start_time": "2021-11-15T07:10:58.178Z"
   },
   {
    "duration": 1368,
    "start_time": "2021-11-15T07:10:59.579Z"
   },
   {
    "duration": 1422,
    "start_time": "2021-11-15T07:11:00.950Z"
   },
   {
    "duration": 1297,
    "start_time": "2021-11-15T07:11:32.425Z"
   },
   {
    "duration": 5,
    "start_time": "2021-11-15T07:11:33.724Z"
   },
   {
    "duration": 9,
    "start_time": "2021-11-15T07:11:33.731Z"
   },
   {
    "duration": 231,
    "start_time": "2021-11-15T07:11:33.742Z"
   },
   {
    "duration": 6,
    "start_time": "2021-11-15T07:11:33.975Z"
   },
   {
    "duration": 4,
    "start_time": "2021-11-15T07:11:33.983Z"
   },
   {
    "duration": 6,
    "start_time": "2021-11-15T07:11:33.989Z"
   },
   {
    "duration": 15,
    "start_time": "2021-11-15T07:11:33.997Z"
   },
   {
    "duration": 4,
    "start_time": "2021-11-15T07:11:34.016Z"
   },
   {
    "duration": 41,
    "start_time": "2021-11-15T07:11:34.022Z"
   },
   {
    "duration": 9,
    "start_time": "2021-11-15T07:11:34.065Z"
   },
   {
    "duration": 7,
    "start_time": "2021-11-15T07:11:34.076Z"
   },
   {
    "duration": 579,
    "start_time": "2021-11-15T07:11:34.084Z"
   },
   {
    "duration": 513,
    "start_time": "2021-11-15T07:11:34.665Z"
   },
   {
    "duration": 636,
    "start_time": "2021-11-15T07:11:35.179Z"
   },
   {
    "duration": 672,
    "start_time": "2021-11-15T07:11:35.816Z"
   },
   {
    "duration": 6,
    "start_time": "2021-11-15T07:11:36.490Z"
   },
   {
    "duration": 1307,
    "start_time": "2021-11-15T07:11:36.498Z"
   },
   {
    "duration": 1236,
    "start_time": "2021-11-15T07:11:37.807Z"
   },
   {
    "duration": 1348,
    "start_time": "2021-11-15T07:11:39.046Z"
   },
   {
    "duration": 1256,
    "start_time": "2021-11-15T07:12:39.472Z"
   },
   {
    "duration": 5,
    "start_time": "2021-11-15T07:12:40.730Z"
   },
   {
    "duration": 8,
    "start_time": "2021-11-15T07:12:40.737Z"
   },
   {
    "duration": 265,
    "start_time": "2021-11-15T07:12:40.747Z"
   },
   {
    "duration": 7,
    "start_time": "2021-11-15T07:12:41.013Z"
   },
   {
    "duration": 11,
    "start_time": "2021-11-15T07:12:41.021Z"
   },
   {
    "duration": 7,
    "start_time": "2021-11-15T07:12:41.034Z"
   },
   {
    "duration": 19,
    "start_time": "2021-11-15T07:12:41.042Z"
   },
   {
    "duration": 3,
    "start_time": "2021-11-15T07:12:41.064Z"
   },
   {
    "duration": 18,
    "start_time": "2021-11-15T07:12:41.069Z"
   },
   {
    "duration": 7,
    "start_time": "2021-11-15T07:12:41.089Z"
   },
   {
    "duration": 8,
    "start_time": "2021-11-15T07:12:41.097Z"
   },
   {
    "duration": 589,
    "start_time": "2021-11-15T07:12:41.106Z"
   },
   {
    "duration": 515,
    "start_time": "2021-11-15T07:12:41.697Z"
   },
   {
    "duration": 634,
    "start_time": "2021-11-15T07:12:42.214Z"
   },
   {
    "duration": 681,
    "start_time": "2021-11-15T07:12:42.849Z"
   },
   {
    "duration": 9,
    "start_time": "2021-11-15T07:12:43.533Z"
   },
   {
    "duration": 1337,
    "start_time": "2021-11-15T07:12:43.544Z"
   },
   {
    "duration": 1240,
    "start_time": "2021-11-15T07:12:44.883Z"
   },
   {
    "duration": 1443,
    "start_time": "2021-11-15T07:12:46.125Z"
   },
   {
    "duration": 1003,
    "start_time": "2021-11-15T07:16:54.886Z"
   },
   {
    "duration": 707,
    "start_time": "2021-11-15T07:17:04.173Z"
   },
   {
    "duration": 547,
    "start_time": "2021-11-15T07:17:12.324Z"
   },
   {
    "duration": 277,
    "start_time": "2021-11-15T07:18:24.090Z"
   },
   {
    "duration": 526,
    "start_time": "2021-11-15T07:19:50.300Z"
   },
   {
    "duration": 615,
    "start_time": "2021-11-15T07:19:59.501Z"
   },
   {
    "duration": 601,
    "start_time": "2021-11-15T07:20:09.865Z"
   },
   {
    "duration": 502,
    "start_time": "2021-11-15T07:20:17.626Z"
   },
   {
    "duration": 520,
    "start_time": "2021-11-15T07:20:29.896Z"
   },
   {
    "duration": 522,
    "start_time": "2021-11-15T07:22:01.095Z"
   },
   {
    "duration": 516,
    "start_time": "2021-11-15T07:22:39.032Z"
   },
   {
    "duration": 524,
    "start_time": "2021-11-15T07:22:53.064Z"
   },
   {
    "duration": 601,
    "start_time": "2021-11-15T07:23:04.256Z"
   },
   {
    "duration": 530,
    "start_time": "2021-11-15T07:24:10.926Z"
   },
   {
    "duration": 609,
    "start_time": "2021-11-15T07:25:46.396Z"
   },
   {
    "duration": 638,
    "start_time": "2021-11-15T07:25:51.489Z"
   },
   {
    "duration": 695,
    "start_time": "2021-11-15T07:25:56.830Z"
   },
   {
    "duration": 688,
    "start_time": "2021-11-15T07:26:02.963Z"
   },
   {
    "duration": 563,
    "start_time": "2021-11-15T07:26:36.075Z"
   },
   {
    "duration": 606,
    "start_time": "2021-11-15T07:26:41.750Z"
   },
   {
    "duration": 534,
    "start_time": "2021-11-15T07:27:01.711Z"
   },
   {
    "duration": 539,
    "start_time": "2021-11-15T07:28:27.383Z"
   },
   {
    "duration": 530,
    "start_time": "2021-11-15T07:28:41.218Z"
   },
   {
    "duration": 780,
    "start_time": "2021-11-15T07:29:08.520Z"
   },
   {
    "duration": 546,
    "start_time": "2021-11-15T07:29:17.883Z"
   },
   {
    "duration": 813,
    "start_time": "2021-11-15T07:29:51.486Z"
   },
   {
    "duration": 1272,
    "start_time": "2021-11-15T07:30:15.957Z"
   },
   {
    "duration": 682,
    "start_time": "2021-11-15T07:31:32.748Z"
   },
   {
    "duration": 671,
    "start_time": "2021-11-15T07:31:49.207Z"
   },
   {
    "duration": 802,
    "start_time": "2021-11-15T07:32:03.537Z"
   },
   {
    "duration": 523,
    "start_time": "2021-11-15T07:32:10.276Z"
   },
   {
    "duration": 577,
    "start_time": "2021-11-15T07:32:14.189Z"
   },
   {
    "duration": 4,
    "start_time": "2021-11-15T07:32:20.893Z"
   },
   {
    "duration": 12,
    "start_time": "2021-11-15T07:32:20.899Z"
   },
   {
    "duration": 9,
    "start_time": "2021-11-15T07:32:20.913Z"
   },
   {
    "duration": 813,
    "start_time": "2021-11-15T07:32:20.924Z"
   },
   {
    "duration": 6,
    "start_time": "2021-11-15T07:32:21.739Z"
   },
   {
    "duration": 6,
    "start_time": "2021-11-15T07:32:21.747Z"
   },
   {
    "duration": 6,
    "start_time": "2021-11-15T07:32:21.754Z"
   },
   {
    "duration": 14,
    "start_time": "2021-11-15T07:32:21.763Z"
   },
   {
    "duration": 3,
    "start_time": "2021-11-15T07:32:21.779Z"
   },
   {
    "duration": 18,
    "start_time": "2021-11-15T07:32:21.784Z"
   },
   {
    "duration": 13,
    "start_time": "2021-11-15T07:32:21.803Z"
   },
   {
    "duration": 7,
    "start_time": "2021-11-15T07:32:21.818Z"
   },
   {
    "duration": 682,
    "start_time": "2021-11-15T07:32:21.827Z"
   },
   {
    "duration": 511,
    "start_time": "2021-11-15T07:32:22.510Z"
   },
   {
    "duration": 546,
    "start_time": "2021-11-15T07:32:23.023Z"
   },
   {
    "duration": 518,
    "start_time": "2021-11-15T07:32:33.950Z"
   },
   {
    "duration": 415,
    "start_time": "2021-11-15T07:33:00.677Z"
   },
   {
    "duration": 1296,
    "start_time": "2021-11-15T07:33:09.303Z"
   },
   {
    "duration": 581,
    "start_time": "2021-11-15T07:33:55.504Z"
   },
   {
    "duration": 997,
    "start_time": "2021-11-15T07:34:19.174Z"
   },
   {
    "duration": 263,
    "start_time": "2021-11-15T07:37:44.395Z"
   },
   {
    "duration": 1276,
    "start_time": "2021-11-15T07:38:06.836Z"
   },
   {
    "duration": 1261,
    "start_time": "2021-11-15T07:38:31.315Z"
   },
   {
    "duration": 1355,
    "start_time": "2021-11-15T07:38:46.200Z"
   },
   {
    "duration": 1271,
    "start_time": "2021-11-15T07:38:56.967Z"
   },
   {
    "duration": 272,
    "start_time": "2021-11-15T07:39:36.747Z"
   },
   {
    "duration": 1369,
    "start_time": "2021-11-15T07:39:51.582Z"
   },
   {
    "duration": 1235,
    "start_time": "2021-11-15T07:40:15.214Z"
   },
   {
    "duration": 1449,
    "start_time": "2021-11-15T07:40:27.303Z"
   },
   {
    "duration": 1504,
    "start_time": "2021-11-15T07:40:30.872Z"
   },
   {
    "duration": 1294,
    "start_time": "2021-11-15T07:40:53.503Z"
   },
   {
    "duration": 1485,
    "start_time": "2021-11-15T07:44:18.135Z"
   },
   {
    "duration": 1363,
    "start_time": "2021-11-15T07:44:37.141Z"
   },
   {
    "duration": 1289,
    "start_time": "2021-11-15T07:44:49.389Z"
   },
   {
    "duration": 1818,
    "start_time": "2021-11-15T07:45:00.284Z"
   },
   {
    "duration": 1735,
    "start_time": "2021-11-15T07:46:08.920Z"
   },
   {
    "duration": 490,
    "start_time": "2021-11-15T07:47:50.117Z"
   },
   {
    "duration": 1677,
    "start_time": "2021-11-15T07:48:08.792Z"
   },
   {
    "duration": 89,
    "start_time": "2021-11-15T07:51:09.130Z"
   },
   {
    "duration": 94,
    "start_time": "2021-11-15T07:51:17.567Z"
   },
   {
    "duration": 900,
    "start_time": "2021-11-15T07:51:31.038Z"
   },
   {
    "duration": 798,
    "start_time": "2021-11-15T07:51:36.171Z"
   },
   {
    "duration": 798,
    "start_time": "2021-11-15T07:51:58.739Z"
   },
   {
    "duration": 804,
    "start_time": "2021-11-15T07:52:18.275Z"
   },
   {
    "duration": 1029,
    "start_time": "2021-11-15T07:52:25.380Z"
   },
   {
    "duration": 1034,
    "start_time": "2021-11-15T07:53:11.384Z"
   },
   {
    "duration": 1155,
    "start_time": "2021-11-15T07:53:21.673Z"
   },
   {
    "duration": 507,
    "start_time": "2021-11-15T07:55:13.362Z"
   },
   {
    "duration": 1620,
    "start_time": "2021-11-15T07:55:25.117Z"
   },
   {
    "duration": 1623,
    "start_time": "2021-11-15T07:56:03.132Z"
   },
   {
    "duration": 1234,
    "start_time": "2021-11-15T07:57:20.403Z"
   },
   {
    "duration": 1010,
    "start_time": "2021-11-15T07:57:44.493Z"
   },
   {
    "duration": 1047,
    "start_time": "2021-11-15T07:57:59.184Z"
   },
   {
    "duration": 1274,
    "start_time": "2021-11-15T07:58:34.241Z"
   },
   {
    "duration": 269,
    "start_time": "2021-11-15T08:00:20.364Z"
   },
   {
    "duration": 1217,
    "start_time": "2021-11-15T08:00:29.454Z"
   },
   {
    "duration": 1138,
    "start_time": "2021-11-15T08:00:38.480Z"
   },
   {
    "duration": 1113,
    "start_time": "2021-11-15T08:02:19.299Z"
   },
   {
    "duration": 1459,
    "start_time": "2021-11-15T08:04:28.569Z"
   },
   {
    "duration": 1259,
    "start_time": "2021-11-15T08:06:37.921Z"
   },
   {
    "duration": 1292,
    "start_time": "2021-11-15T08:06:52.021Z"
   },
   {
    "duration": 918,
    "start_time": "2021-11-15T08:07:41.147Z"
   },
   {
    "duration": 783,
    "start_time": "2021-11-15T08:07:54.975Z"
   },
   {
    "duration": 762,
    "start_time": "2021-11-15T08:08:13.529Z"
   },
   {
    "duration": 743,
    "start_time": "2021-11-15T08:08:31.511Z"
   },
   {
    "duration": 1080,
    "start_time": "2021-11-15T08:09:19.314Z"
   },
   {
    "duration": 968,
    "start_time": "2021-11-15T08:09:37.981Z"
   },
   {
    "duration": 968,
    "start_time": "2021-11-15T08:09:58.444Z"
   },
   {
    "duration": 1128,
    "start_time": "2021-11-15T08:10:47.567Z"
   },
   {
    "duration": 986,
    "start_time": "2021-11-15T08:11:28.326Z"
   },
   {
    "duration": 5,
    "start_time": "2021-11-15T08:15:48.471Z"
   },
   {
    "duration": 1005,
    "start_time": "2021-11-15T08:16:14.109Z"
   },
   {
    "duration": 642,
    "start_time": "2021-11-15T08:17:37.492Z"
   },
   {
    "duration": 825,
    "start_time": "2021-11-15T08:17:42.528Z"
   },
   {
    "duration": 641,
    "start_time": "2021-11-15T08:18:10.808Z"
   },
   {
    "duration": 962,
    "start_time": "2021-11-15T08:18:54.698Z"
   },
   {
    "duration": 562,
    "start_time": "2021-11-15T08:19:07.636Z"
   },
   {
    "duration": 6,
    "start_time": "2021-11-15T08:20:33.215Z"
   },
   {
    "duration": 564,
    "start_time": "2021-11-15T08:20:44.058Z"
   },
   {
    "duration": 505,
    "start_time": "2021-11-15T08:20:52.413Z"
   },
   {
    "duration": 570,
    "start_time": "2021-11-15T08:20:59.970Z"
   },
   {
    "duration": 278,
    "start_time": "2021-11-15T08:21:51.661Z"
   },
   {
    "duration": 259,
    "start_time": "2021-11-15T08:21:55.711Z"
   },
   {
    "duration": 538,
    "start_time": "2021-11-15T08:22:20.136Z"
   },
   {
    "duration": 260,
    "start_time": "2021-11-15T08:25:25.569Z"
   },
   {
    "duration": 16,
    "start_time": "2021-11-15T08:25:34.436Z"
   },
   {
    "duration": 24,
    "start_time": "2021-11-15T08:25:40.253Z"
   },
   {
    "duration": 535,
    "start_time": "2021-11-15T08:26:21.813Z"
   },
   {
    "duration": 530,
    "start_time": "2021-11-15T08:26:31.333Z"
   },
   {
    "duration": 1301,
    "start_time": "2021-11-15T08:26:58.925Z"
   },
   {
    "duration": 6,
    "start_time": "2021-11-15T08:27:00.228Z"
   },
   {
    "duration": 15,
    "start_time": "2021-11-15T08:27:00.236Z"
   },
   {
    "duration": 258,
    "start_time": "2021-11-15T08:27:00.253Z"
   },
   {
    "duration": 7,
    "start_time": "2021-11-15T08:27:00.513Z"
   },
   {
    "duration": 13,
    "start_time": "2021-11-15T08:27:00.522Z"
   },
   {
    "duration": 11,
    "start_time": "2021-11-15T08:27:00.537Z"
   },
   {
    "duration": 20,
    "start_time": "2021-11-15T08:27:00.550Z"
   },
   {
    "duration": 3,
    "start_time": "2021-11-15T08:27:00.573Z"
   },
   {
    "duration": 24,
    "start_time": "2021-11-15T08:27:00.578Z"
   },
   {
    "duration": 13,
    "start_time": "2021-11-15T08:27:00.603Z"
   },
   {
    "duration": 10,
    "start_time": "2021-11-15T08:27:00.618Z"
   },
   {
    "duration": 727,
    "start_time": "2021-11-15T08:27:00.630Z"
   },
   {
    "duration": 539,
    "start_time": "2021-11-15T08:27:01.358Z"
   },
   {
    "duration": 739,
    "start_time": "2021-11-15T08:27:01.899Z"
   },
   {
    "duration": 686,
    "start_time": "2021-11-15T08:27:02.640Z"
   },
   {
    "duration": 5,
    "start_time": "2021-11-15T08:27:03.328Z"
   },
   {
    "duration": 1131,
    "start_time": "2021-11-15T08:27:03.335Z"
   },
   {
    "duration": 964,
    "start_time": "2021-11-15T08:27:04.468Z"
   },
   {
    "duration": 6,
    "start_time": "2021-11-15T08:27:05.434Z"
   },
   {
    "duration": 23,
    "start_time": "2021-11-15T08:27:05.441Z"
   },
   {
    "duration": 17,
    "start_time": "2021-11-15T08:27:05.465Z"
   },
   {
    "duration": 12,
    "start_time": "2021-11-15T08:27:05.484Z"
   },
   {
    "duration": 28,
    "start_time": "2021-11-15T08:27:05.498Z"
   },
   {
    "duration": 14,
    "start_time": "2021-11-15T08:27:05.528Z"
   },
   {
    "duration": 19,
    "start_time": "2021-11-15T08:27:05.544Z"
   },
   {
    "duration": 665,
    "start_time": "2021-11-15T08:27:05.566Z"
   },
   {
    "duration": -231,
    "start_time": "2021-11-15T08:27:06.464Z"
   },
   {
    "duration": -240,
    "start_time": "2021-11-15T08:27:06.474Z"
   },
   {
    "duration": 15,
    "start_time": "2021-11-15T08:33:05.364Z"
   },
   {
    "duration": 545,
    "start_time": "2021-11-15T08:33:24.867Z"
   },
   {
    "duration": 7,
    "start_time": "2021-11-15T08:33:41.130Z"
   },
   {
    "duration": 1271,
    "start_time": "2021-11-15T08:33:50.552Z"
   },
   {
    "duration": 353,
    "start_time": "2021-11-15T08:33:51.825Z"
   },
   {
    "duration": -349,
    "start_time": "2021-11-15T08:33:52.530Z"
   },
   {
    "duration": -366,
    "start_time": "2021-11-15T08:33:52.548Z"
   },
   {
    "duration": -390,
    "start_time": "2021-11-15T08:33:52.573Z"
   },
   {
    "duration": -401,
    "start_time": "2021-11-15T08:33:52.585Z"
   },
   {
    "duration": -438,
    "start_time": "2021-11-15T08:33:52.623Z"
   },
   {
    "duration": -468,
    "start_time": "2021-11-15T08:33:52.653Z"
   },
   {
    "duration": -469,
    "start_time": "2021-11-15T08:33:52.655Z"
   },
   {
    "duration": -471,
    "start_time": "2021-11-15T08:33:52.658Z"
   },
   {
    "duration": -477,
    "start_time": "2021-11-15T08:33:52.665Z"
   },
   {
    "duration": -480,
    "start_time": "2021-11-15T08:33:52.669Z"
   },
   {
    "duration": -483,
    "start_time": "2021-11-15T08:33:52.673Z"
   },
   {
    "duration": -492,
    "start_time": "2021-11-15T08:33:52.682Z"
   },
   {
    "duration": -495,
    "start_time": "2021-11-15T08:33:52.686Z"
   },
   {
    "duration": -497,
    "start_time": "2021-11-15T08:33:52.689Z"
   },
   {
    "duration": -502,
    "start_time": "2021-11-15T08:33:52.695Z"
   },
   {
    "duration": -508,
    "start_time": "2021-11-15T08:33:52.702Z"
   },
   {
    "duration": -511,
    "start_time": "2021-11-15T08:33:52.705Z"
   },
   {
    "duration": -527,
    "start_time": "2021-11-15T08:33:52.722Z"
   },
   {
    "duration": -528,
    "start_time": "2021-11-15T08:33:52.724Z"
   },
   {
    "duration": -530,
    "start_time": "2021-11-15T08:33:52.727Z"
   },
   {
    "duration": -534,
    "start_time": "2021-11-15T08:33:52.731Z"
   },
   {
    "duration": -559,
    "start_time": "2021-11-15T08:33:52.757Z"
   },
   {
    "duration": -561,
    "start_time": "2021-11-15T08:33:52.760Z"
   },
   {
    "duration": -568,
    "start_time": "2021-11-15T08:33:52.768Z"
   },
   {
    "duration": -570,
    "start_time": "2021-11-15T08:33:52.772Z"
   },
   {
    "duration": -572,
    "start_time": "2021-11-15T08:33:52.775Z"
   },
   {
    "duration": -574,
    "start_time": "2021-11-15T08:33:52.778Z"
   },
   {
    "duration": 1269,
    "start_time": "2021-11-15T08:34:15.453Z"
   },
   {
    "duration": 5,
    "start_time": "2021-11-15T08:34:16.724Z"
   },
   {
    "duration": 234,
    "start_time": "2021-11-15T08:34:16.732Z"
   },
   {
    "duration": 6,
    "start_time": "2021-11-15T08:34:16.968Z"
   },
   {
    "duration": 11,
    "start_time": "2021-11-15T08:34:16.975Z"
   },
   {
    "duration": 12,
    "start_time": "2021-11-15T08:34:16.987Z"
   },
   {
    "duration": 23,
    "start_time": "2021-11-15T08:34:17.001Z"
   },
   {
    "duration": 4,
    "start_time": "2021-11-15T08:34:17.027Z"
   },
   {
    "duration": 17,
    "start_time": "2021-11-15T08:34:17.033Z"
   },
   {
    "duration": 14,
    "start_time": "2021-11-15T08:34:17.052Z"
   },
   {
    "duration": 6,
    "start_time": "2021-11-15T08:34:17.068Z"
   },
   {
    "duration": 583,
    "start_time": "2021-11-15T08:34:17.076Z"
   },
   {
    "duration": 501,
    "start_time": "2021-11-15T08:34:17.663Z"
   },
   {
    "duration": 617,
    "start_time": "2021-11-15T08:34:18.166Z"
   },
   {
    "duration": 651,
    "start_time": "2021-11-15T08:34:18.786Z"
   },
   {
    "duration": 8,
    "start_time": "2021-11-15T08:34:19.439Z"
   },
   {
    "duration": 1044,
    "start_time": "2021-11-15T08:34:19.448Z"
   },
   {
    "duration": 932,
    "start_time": "2021-11-15T08:34:20.494Z"
   },
   {
    "duration": 6,
    "start_time": "2021-11-15T08:34:21.427Z"
   },
   {
    "duration": 6,
    "start_time": "2021-11-15T08:34:21.435Z"
   },
   {
    "duration": 19,
    "start_time": "2021-11-15T08:34:21.443Z"
   },
   {
    "duration": 4,
    "start_time": "2021-11-15T08:34:21.464Z"
   },
   {
    "duration": 6,
    "start_time": "2021-11-15T08:34:21.471Z"
   },
   {
    "duration": 7,
    "start_time": "2021-11-15T08:34:21.478Z"
   },
   {
    "duration": 10,
    "start_time": "2021-11-15T08:34:21.487Z"
   },
   {
    "duration": 604244,
    "start_time": "2021-11-15T08:34:21.498Z"
   },
   {
    "duration": 10,
    "start_time": "2021-11-15T08:44:25.744Z"
   },
   {
    "duration": 7,
    "start_time": "2021-11-15T08:44:25.764Z"
   },
   {
    "duration": 12,
    "start_time": "2021-11-15T08:44:25.774Z"
   },
   {
    "duration": 1137,
    "start_time": "2021-11-15T08:44:25.788Z"
   },
   {
    "duration": 1062,
    "start_time": "2021-11-15T08:44:26.927Z"
   },
   {
    "duration": 561,
    "start_time": "2021-11-15T08:48:00.079Z"
   },
   {
    "duration": 1297,
    "start_time": "2021-11-15T08:48:17.478Z"
   },
   {
    "duration": 5,
    "start_time": "2021-11-15T08:48:18.777Z"
   },
   {
    "duration": 235,
    "start_time": "2021-11-15T08:48:18.784Z"
   },
   {
    "duration": 7,
    "start_time": "2021-11-15T08:48:19.021Z"
   },
   {
    "duration": 8,
    "start_time": "2021-11-15T08:48:19.030Z"
   },
   {
    "duration": 7,
    "start_time": "2021-11-15T08:48:19.040Z"
   },
   {
    "duration": 18,
    "start_time": "2021-11-15T08:48:19.049Z"
   },
   {
    "duration": 4,
    "start_time": "2021-11-15T08:48:19.069Z"
   },
   {
    "duration": 24,
    "start_time": "2021-11-15T08:48:19.075Z"
   },
   {
    "duration": 7,
    "start_time": "2021-11-15T08:48:19.101Z"
   },
   {
    "duration": 11,
    "start_time": "2021-11-15T08:48:19.110Z"
   },
   {
    "duration": 640,
    "start_time": "2021-11-15T08:48:19.123Z"
   },
   {
    "duration": 536,
    "start_time": "2021-11-15T08:48:19.765Z"
   },
   {
    "duration": 642,
    "start_time": "2021-11-15T08:48:20.303Z"
   },
   {
    "duration": 685,
    "start_time": "2021-11-15T08:48:20.946Z"
   },
   {
    "duration": 7,
    "start_time": "2021-11-15T08:48:21.633Z"
   },
   {
    "duration": 1048,
    "start_time": "2021-11-15T08:48:21.643Z"
   },
   {
    "duration": 1072,
    "start_time": "2021-11-15T08:48:22.693Z"
   },
   {
    "duration": 7,
    "start_time": "2021-11-15T08:48:23.767Z"
   },
   {
    "duration": 8,
    "start_time": "2021-11-15T08:48:23.777Z"
   },
   {
    "duration": 13,
    "start_time": "2021-11-15T08:48:23.787Z"
   },
   {
    "duration": 7,
    "start_time": "2021-11-15T08:48:23.802Z"
   },
   {
    "duration": 7,
    "start_time": "2021-11-15T08:48:23.813Z"
   },
   {
    "duration": 7,
    "start_time": "2021-11-15T08:48:23.822Z"
   },
   {
    "duration": 11,
    "start_time": "2021-11-15T08:48:23.830Z"
   },
   {
    "duration": 582486,
    "start_time": "2021-11-15T08:48:23.843Z"
   },
   {
    "duration": 10,
    "start_time": "2021-11-15T08:58:06.331Z"
   },
   {
    "duration": 25,
    "start_time": "2021-11-15T08:58:06.343Z"
   },
   {
    "duration": 444,
    "start_time": "2021-11-15T08:58:06.370Z"
   },
   {
    "duration": 1401,
    "start_time": "2021-11-15T08:58:40.169Z"
   },
   {
    "duration": 6,
    "start_time": "2021-11-15T08:58:41.573Z"
   },
   {
    "duration": 243,
    "start_time": "2021-11-15T08:58:41.581Z"
   },
   {
    "duration": 7,
    "start_time": "2021-11-15T08:58:41.827Z"
   },
   {
    "duration": 8,
    "start_time": "2021-11-15T08:58:41.836Z"
   },
   {
    "duration": 8,
    "start_time": "2021-11-15T08:58:41.846Z"
   },
   {
    "duration": 21,
    "start_time": "2021-11-15T08:58:41.855Z"
   },
   {
    "duration": 4,
    "start_time": "2021-11-15T08:58:41.879Z"
   },
   {
    "duration": 20,
    "start_time": "2021-11-15T08:58:41.885Z"
   },
   {
    "duration": 9,
    "start_time": "2021-11-15T08:58:41.907Z"
   },
   {
    "duration": 6,
    "start_time": "2021-11-15T08:58:41.918Z"
   },
   {
    "duration": 479,
    "start_time": "2021-11-15T08:58:41.926Z"
   },
   {
    "duration": 581,
    "start_time": "2021-11-15T08:58:42.407Z"
   },
   {
    "duration": 876,
    "start_time": "2021-11-15T08:58:42.990Z"
   },
   {
    "duration": 8,
    "start_time": "2021-11-15T08:58:43.869Z"
   },
   {
    "duration": 1156,
    "start_time": "2021-11-15T08:58:43.879Z"
   },
   {
    "duration": 1083,
    "start_time": "2021-11-15T08:58:45.038Z"
   },
   {
    "duration": 7,
    "start_time": "2021-11-15T08:58:46.123Z"
   },
   {
    "duration": 11,
    "start_time": "2021-11-15T08:58:46.132Z"
   },
   {
    "duration": 9,
    "start_time": "2021-11-15T08:58:46.145Z"
   },
   {
    "duration": 6,
    "start_time": "2021-11-15T08:58:46.156Z"
   },
   {
    "duration": 10,
    "start_time": "2021-11-15T08:58:46.164Z"
   },
   {
    "duration": 7,
    "start_time": "2021-11-15T08:58:46.177Z"
   },
   {
    "duration": 11,
    "start_time": "2021-11-15T08:58:46.186Z"
   },
   {
    "duration": 586926,
    "start_time": "2021-11-15T08:58:46.200Z"
   },
   {
    "duration": 10,
    "start_time": "2021-11-15T09:08:33.128Z"
   },
   {
    "duration": 28,
    "start_time": "2021-11-15T09:08:33.140Z"
   },
   {
    "duration": 435,
    "start_time": "2021-11-15T09:36:05.614Z"
   },
   {
    "duration": 1222,
    "start_time": "2021-11-15T09:37:36.698Z"
   },
   {
    "duration": 5,
    "start_time": "2021-11-15T09:37:37.923Z"
   },
   {
    "duration": 227,
    "start_time": "2021-11-15T09:37:37.930Z"
   },
   {
    "duration": 7,
    "start_time": "2021-11-15T09:37:38.159Z"
   },
   {
    "duration": 6,
    "start_time": "2021-11-15T09:37:38.168Z"
   },
   {
    "duration": 7,
    "start_time": "2021-11-15T09:37:38.176Z"
   },
   {
    "duration": 17,
    "start_time": "2021-11-15T09:37:38.185Z"
   },
   {
    "duration": 4,
    "start_time": "2021-11-15T09:37:38.205Z"
   },
   {
    "duration": 38,
    "start_time": "2021-11-15T09:37:38.211Z"
   },
   {
    "duration": 7,
    "start_time": "2021-11-15T09:37:38.251Z"
   },
   {
    "duration": 9,
    "start_time": "2021-11-15T09:37:38.263Z"
   },
   {
    "duration": 764,
    "start_time": "2021-11-15T09:37:38.273Z"
   },
   {
    "duration": 541,
    "start_time": "2021-11-15T09:37:39.038Z"
   },
   {
    "duration": 656,
    "start_time": "2021-11-15T09:37:39.581Z"
   },
   {
    "duration": 674,
    "start_time": "2021-11-15T09:37:40.240Z"
   },
   {
    "duration": 6,
    "start_time": "2021-11-15T09:37:40.915Z"
   },
   {
    "duration": 1016,
    "start_time": "2021-11-15T09:37:40.922Z"
   },
   {
    "duration": 926,
    "start_time": "2021-11-15T09:37:41.940Z"
   },
   {
    "duration": 8,
    "start_time": "2021-11-15T09:37:42.868Z"
   },
   {
    "duration": 35,
    "start_time": "2021-11-15T09:37:42.879Z"
   },
   {
    "duration": 27,
    "start_time": "2021-11-15T09:37:42.916Z"
   },
   {
    "duration": 16,
    "start_time": "2021-11-15T09:37:42.945Z"
   },
   {
    "duration": 27,
    "start_time": "2021-11-15T09:37:42.964Z"
   },
   {
    "duration": 18,
    "start_time": "2021-11-15T09:37:42.993Z"
   },
   {
    "duration": 31,
    "start_time": "2021-11-15T09:37:43.013Z"
   },
   {
    "duration": 351767,
    "start_time": "2021-11-15T09:37:43.046Z"
   },
   {
    "duration": -603,
    "start_time": "2021-11-15T09:43:35.420Z"
   },
   {
    "duration": -605,
    "start_time": "2021-11-15T09:43:35.423Z"
   },
   {
    "duration": 167,
    "start_time": "2021-11-15T09:43:40.513Z"
   },
   {
    "duration": 11,
    "start_time": "2021-11-15T09:43:45.656Z"
   },
   {
    "duration": 10,
    "start_time": "2021-11-15T09:43:45.992Z"
   },
   {
    "duration": 5,
    "start_time": "2021-11-15T09:44:00.863Z"
   },
   {
    "duration": 15,
    "start_time": "2021-11-15T09:44:04.035Z"
   },
   {
    "duration": 6,
    "start_time": "2021-11-15T09:44:11.482Z"
   },
   {
    "duration": 578,
    "start_time": "2021-11-15T09:44:15.693Z"
   },
   {
    "duration": 305,
    "start_time": "2021-11-15T09:44:35.165Z"
   },
   {
    "duration": 10,
    "start_time": "2021-11-15T09:44:39.196Z"
   },
   {
    "duration": 8,
    "start_time": "2021-11-15T09:44:39.549Z"
   },
   {
    "duration": 4,
    "start_time": "2021-11-15T09:46:21.154Z"
   },
   {
    "duration": 545,
    "start_time": "2021-11-15T09:46:35.115Z"
   },
   {
    "duration": 283,
    "start_time": "2021-11-15T09:47:19.454Z"
   },
   {
    "duration": 5,
    "start_time": "2021-11-15T09:47:46.340Z"
   },
   {
    "duration": 287,
    "start_time": "2021-11-15T09:48:43.740Z"
   },
   {
    "duration": 5,
    "start_time": "2021-11-15T09:52:25.094Z"
   },
   {
    "duration": 5,
    "start_time": "2021-11-15T09:52:30.811Z"
   },
   {
    "duration": 16,
    "start_time": "2021-11-15T09:52:32.209Z"
   },
   {
    "duration": 6,
    "start_time": "2021-11-15T09:52:33.365Z"
   },
   {
    "duration": 125,
    "start_time": "2021-11-15T09:52:45.826Z"
   },
   {
    "duration": 6,
    "start_time": "2021-11-15T09:53:27.969Z"
   },
   {
    "duration": 528,
    "start_time": "2021-11-15T09:53:27.977Z"
   },
   {
    "duration": 647,
    "start_time": "2021-11-15T09:54:00.616Z"
   },
   {
    "duration": 1358,
    "start_time": "2021-11-15T09:55:15.575Z"
   },
   {
    "duration": 6,
    "start_time": "2021-11-15T09:55:16.935Z"
   },
   {
    "duration": 231,
    "start_time": "2021-11-15T09:55:16.943Z"
   },
   {
    "duration": 6,
    "start_time": "2021-11-15T09:55:17.176Z"
   },
   {
    "duration": 5,
    "start_time": "2021-11-15T09:55:17.184Z"
   },
   {
    "duration": 7,
    "start_time": "2021-11-15T09:55:17.191Z"
   },
   {
    "duration": 16,
    "start_time": "2021-11-15T09:55:17.199Z"
   },
   {
    "duration": 4,
    "start_time": "2021-11-15T09:55:17.217Z"
   },
   {
    "duration": 51,
    "start_time": "2021-11-15T09:55:17.223Z"
   },
   {
    "duration": 7,
    "start_time": "2021-11-15T09:55:17.276Z"
   },
   {
    "duration": 14,
    "start_time": "2021-11-15T09:55:17.285Z"
   },
   {
    "duration": 849,
    "start_time": "2021-11-15T09:55:17.301Z"
   },
   {
    "duration": 361,
    "start_time": "2021-11-15T09:55:55.487Z"
   },
   {
    "duration": 1227,
    "start_time": "2021-11-15T09:56:03.712Z"
   },
   {
    "duration": 5,
    "start_time": "2021-11-15T09:56:04.941Z"
   },
   {
    "duration": 226,
    "start_time": "2021-11-15T09:56:04.948Z"
   },
   {
    "duration": 6,
    "start_time": "2021-11-15T09:56:05.176Z"
   },
   {
    "duration": 5,
    "start_time": "2021-11-15T09:56:05.184Z"
   },
   {
    "duration": 16,
    "start_time": "2021-11-15T09:56:05.191Z"
   },
   {
    "duration": 24,
    "start_time": "2021-11-15T09:56:05.209Z"
   },
   {
    "duration": 4,
    "start_time": "2021-11-15T09:56:05.236Z"
   },
   {
    "duration": 39,
    "start_time": "2021-11-15T09:56:05.242Z"
   },
   {
    "duration": 7,
    "start_time": "2021-11-15T09:56:05.283Z"
   },
   {
    "duration": 10,
    "start_time": "2021-11-15T09:56:05.292Z"
   },
   {
    "duration": 933,
    "start_time": "2021-11-15T09:56:05.305Z"
   },
   {
    "duration": 533,
    "start_time": "2021-11-15T09:56:06.240Z"
   },
   {
    "duration": 647,
    "start_time": "2021-11-15T09:56:06.776Z"
   },
   {
    "duration": 685,
    "start_time": "2021-11-15T09:56:07.426Z"
   },
   {
    "duration": 6,
    "start_time": "2021-11-15T09:56:08.113Z"
   },
   {
    "duration": 1045,
    "start_time": "2021-11-15T09:56:08.121Z"
   },
   {
    "duration": 1020,
    "start_time": "2021-11-15T09:56:09.169Z"
   },
   {
    "duration": 9,
    "start_time": "2021-11-15T09:56:10.192Z"
   },
   {
    "duration": 7,
    "start_time": "2021-11-15T09:56:10.204Z"
   },
   {
    "duration": 8,
    "start_time": "2021-11-15T09:56:10.213Z"
   },
   {
    "duration": 6,
    "start_time": "2021-11-15T09:56:10.223Z"
   },
   {
    "duration": 5,
    "start_time": "2021-11-15T09:56:10.264Z"
   },
   {
    "duration": 11,
    "start_time": "2021-11-15T09:56:10.271Z"
   },
   {
    "duration": 13,
    "start_time": "2021-11-15T09:56:10.284Z"
   },
   {
    "duration": 269,
    "start_time": "2021-11-15T09:56:10.299Z"
   },
   {
    "duration": 101,
    "start_time": "2021-11-15T09:56:10.570Z"
   },
   {
    "duration": 9,
    "start_time": "2021-11-15T09:56:10.673Z"
   },
   {
    "duration": 1266,
    "start_time": "2021-11-15T09:57:01.468Z"
   },
   {
    "duration": 5,
    "start_time": "2021-11-15T09:57:02.736Z"
   },
   {
    "duration": 241,
    "start_time": "2021-11-15T09:57:02.744Z"
   },
   {
    "duration": 6,
    "start_time": "2021-11-15T09:57:02.987Z"
   },
   {
    "duration": 10,
    "start_time": "2021-11-15T09:57:02.995Z"
   },
   {
    "duration": 10,
    "start_time": "2021-11-15T09:57:03.006Z"
   },
   {
    "duration": 21,
    "start_time": "2021-11-15T09:57:03.017Z"
   },
   {
    "duration": 4,
    "start_time": "2021-11-15T09:57:03.042Z"
   },
   {
    "duration": 37,
    "start_time": "2021-11-15T09:57:03.048Z"
   },
   {
    "duration": 8,
    "start_time": "2021-11-15T09:57:03.087Z"
   },
   {
    "duration": 23,
    "start_time": "2021-11-15T09:57:03.096Z"
   },
   {
    "duration": 894,
    "start_time": "2021-11-15T09:57:03.121Z"
   },
   {
    "duration": 549,
    "start_time": "2021-11-15T09:57:04.017Z"
   },
   {
    "duration": 751,
    "start_time": "2021-11-15T09:57:04.567Z"
   },
   {
    "duration": 5,
    "start_time": "2021-11-15T09:57:05.320Z"
   },
   {
    "duration": 1054,
    "start_time": "2021-11-15T09:57:05.327Z"
   },
   {
    "duration": 1019,
    "start_time": "2021-11-15T09:57:06.383Z"
   },
   {
    "duration": 5,
    "start_time": "2021-11-15T09:57:07.404Z"
   },
   {
    "duration": 13,
    "start_time": "2021-11-15T09:57:07.411Z"
   },
   {
    "duration": 15,
    "start_time": "2021-11-15T09:57:07.426Z"
   },
   {
    "duration": 11,
    "start_time": "2021-11-15T09:57:07.443Z"
   },
   {
    "duration": 14,
    "start_time": "2021-11-15T09:57:07.456Z"
   },
   {
    "duration": 6,
    "start_time": "2021-11-15T09:57:07.474Z"
   },
   {
    "duration": 12,
    "start_time": "2021-11-15T09:57:07.482Z"
   },
   {
    "duration": 170,
    "start_time": "2021-11-15T09:57:07.496Z"
   },
   {
    "duration": 10,
    "start_time": "2021-11-15T09:57:07.669Z"
   },
   {
    "duration": 91,
    "start_time": "2021-11-15T09:57:07.682Z"
   },
   {
    "duration": 1332,
    "start_time": "2021-11-15T09:57:27.676Z"
   },
   {
    "duration": 7,
    "start_time": "2021-11-15T09:57:29.010Z"
   },
   {
    "duration": 237,
    "start_time": "2021-11-15T09:57:29.019Z"
   },
   {
    "duration": 8,
    "start_time": "2021-11-15T09:57:29.258Z"
   },
   {
    "duration": 7,
    "start_time": "2021-11-15T09:57:29.268Z"
   },
   {
    "duration": 8,
    "start_time": "2021-11-15T09:57:29.276Z"
   },
   {
    "duration": 17,
    "start_time": "2021-11-15T09:57:29.285Z"
   },
   {
    "duration": 4,
    "start_time": "2021-11-15T09:57:29.305Z"
   },
   {
    "duration": 30,
    "start_time": "2021-11-15T09:57:29.311Z"
   },
   {
    "duration": 22,
    "start_time": "2021-11-15T09:57:29.343Z"
   },
   {
    "duration": 8,
    "start_time": "2021-11-15T09:57:29.367Z"
   },
   {
    "duration": 849,
    "start_time": "2021-11-15T09:57:29.376Z"
   },
   {
    "duration": 554,
    "start_time": "2021-11-15T09:57:30.227Z"
   },
   {
    "duration": 750,
    "start_time": "2021-11-15T09:57:30.783Z"
   },
   {
    "duration": 7,
    "start_time": "2021-11-15T09:57:31.535Z"
   },
   {
    "duration": 1059,
    "start_time": "2021-11-15T09:57:31.544Z"
   },
   {
    "duration": 963,
    "start_time": "2021-11-15T09:57:32.605Z"
   },
   {
    "duration": 5,
    "start_time": "2021-11-15T09:57:33.571Z"
   },
   {
    "duration": 20,
    "start_time": "2021-11-15T09:57:33.578Z"
   },
   {
    "duration": 17,
    "start_time": "2021-11-15T09:57:33.600Z"
   },
   {
    "duration": 11,
    "start_time": "2021-11-15T09:57:33.620Z"
   },
   {
    "duration": 11,
    "start_time": "2021-11-15T09:57:33.633Z"
   },
   {
    "duration": 9,
    "start_time": "2021-11-15T09:57:33.647Z"
   },
   {
    "duration": 9,
    "start_time": "2021-11-15T09:57:33.658Z"
   },
   {
    "duration": 297,
    "start_time": "2021-11-15T09:57:33.668Z"
   },
   {
    "duration": 10,
    "start_time": "2021-11-15T09:57:33.968Z"
   },
   {
    "duration": 89,
    "start_time": "2021-11-15T09:57:33.980Z"
   },
   {
    "duration": 1310,
    "start_time": "2021-11-15T09:58:15.224Z"
   },
   {
    "duration": 7,
    "start_time": "2021-11-15T09:58:16.537Z"
   },
   {
    "duration": 275,
    "start_time": "2021-11-15T09:58:16.546Z"
   },
   {
    "duration": 7,
    "start_time": "2021-11-15T09:58:16.823Z"
   },
   {
    "duration": 7,
    "start_time": "2021-11-15T09:58:16.832Z"
   },
   {
    "duration": 7,
    "start_time": "2021-11-15T09:58:16.841Z"
   },
   {
    "duration": 17,
    "start_time": "2021-11-15T09:58:16.850Z"
   },
   {
    "duration": 4,
    "start_time": "2021-11-15T09:58:16.871Z"
   },
   {
    "duration": 30,
    "start_time": "2021-11-15T09:58:16.878Z"
   },
   {
    "duration": 9,
    "start_time": "2021-11-15T09:58:16.910Z"
   },
   {
    "duration": 10,
    "start_time": "2021-11-15T09:58:16.921Z"
   },
   {
    "duration": 881,
    "start_time": "2021-11-15T09:58:16.933Z"
   },
   {
    "duration": 549,
    "start_time": "2021-11-15T09:58:17.816Z"
   },
   {
    "duration": 760,
    "start_time": "2021-11-15T09:58:18.367Z"
   },
   {
    "duration": 6,
    "start_time": "2021-11-15T09:58:19.129Z"
   },
   {
    "duration": 1060,
    "start_time": "2021-11-15T09:58:19.137Z"
   },
   {
    "duration": 973,
    "start_time": "2021-11-15T09:58:20.199Z"
   },
   {
    "duration": 8,
    "start_time": "2021-11-15T09:58:21.175Z"
   },
   {
    "duration": 22,
    "start_time": "2021-11-15T09:58:21.185Z"
   },
   {
    "duration": 27,
    "start_time": "2021-11-15T09:58:21.209Z"
   },
   {
    "duration": 22,
    "start_time": "2021-11-15T09:58:21.238Z"
   },
   {
    "duration": 18,
    "start_time": "2021-11-15T09:58:21.261Z"
   },
   {
    "duration": 18,
    "start_time": "2021-11-15T09:58:21.282Z"
   },
   {
    "duration": 24,
    "start_time": "2021-11-15T09:58:21.302Z"
   },
   {
    "duration": 241,
    "start_time": "2021-11-15T09:58:21.328Z"
   },
   {
    "duration": 10,
    "start_time": "2021-11-15T09:58:21.571Z"
   },
   {
    "duration": 26,
    "start_time": "2021-11-15T09:58:21.582Z"
   },
   {
    "duration": 1256,
    "start_time": "2021-11-15T09:59:53.575Z"
   },
   {
    "duration": 5,
    "start_time": "2021-11-15T09:59:54.833Z"
   },
   {
    "duration": 218,
    "start_time": "2021-11-15T09:59:54.840Z"
   },
   {
    "duration": 7,
    "start_time": "2021-11-15T09:59:55.060Z"
   },
   {
    "duration": 7,
    "start_time": "2021-11-15T09:59:55.068Z"
   },
   {
    "duration": 10,
    "start_time": "2021-11-15T09:59:55.077Z"
   },
   {
    "duration": 19,
    "start_time": "2021-11-15T09:59:55.088Z"
   },
   {
    "duration": 4,
    "start_time": "2021-11-15T09:59:55.110Z"
   },
   {
    "duration": 31,
    "start_time": "2021-11-15T09:59:55.116Z"
   },
   {
    "duration": 22,
    "start_time": "2021-11-15T09:59:55.149Z"
   },
   {
    "duration": 13,
    "start_time": "2021-11-15T09:59:55.173Z"
   },
   {
    "duration": 841,
    "start_time": "2021-11-15T09:59:55.189Z"
   },
   {
    "duration": 538,
    "start_time": "2021-11-15T09:59:56.031Z"
   },
   {
    "duration": 757,
    "start_time": "2021-11-15T09:59:56.571Z"
   },
   {
    "duration": 8,
    "start_time": "2021-11-15T09:59:57.330Z"
   },
   {
    "duration": 1096,
    "start_time": "2021-11-15T09:59:57.339Z"
   },
   {
    "duration": 966,
    "start_time": "2021-11-15T09:59:58.437Z"
   },
   {
    "duration": 8,
    "start_time": "2021-11-15T09:59:59.405Z"
   },
   {
    "duration": 9,
    "start_time": "2021-11-15T09:59:59.415Z"
   },
   {
    "duration": 11,
    "start_time": "2021-11-15T09:59:59.426Z"
   },
   {
    "duration": 26,
    "start_time": "2021-11-15T09:59:59.439Z"
   },
   {
    "duration": 10,
    "start_time": "2021-11-15T09:59:59.467Z"
   },
   {
    "duration": 8,
    "start_time": "2021-11-15T09:59:59.481Z"
   },
   {
    "duration": 11,
    "start_time": "2021-11-15T09:59:59.491Z"
   },
   {
    "duration": 265,
    "start_time": "2021-11-15T09:59:59.504Z"
   },
   {
    "duration": 99,
    "start_time": "2021-11-15T09:59:59.772Z"
   },
   {
    "duration": 9,
    "start_time": "2021-11-15T09:59:59.873Z"
   },
   {
    "duration": 1247,
    "start_time": "2021-11-15T10:00:23.788Z"
   },
   {
    "duration": 5,
    "start_time": "2021-11-15T10:00:25.037Z"
   },
   {
    "duration": 287,
    "start_time": "2021-11-15T10:00:25.044Z"
   },
   {
    "duration": 8,
    "start_time": "2021-11-15T10:00:25.333Z"
   },
   {
    "duration": 6,
    "start_time": "2021-11-15T10:00:25.342Z"
   },
   {
    "duration": 8,
    "start_time": "2021-11-15T10:00:25.350Z"
   },
   {
    "duration": 20,
    "start_time": "2021-11-15T10:00:25.360Z"
   },
   {
    "duration": 6,
    "start_time": "2021-11-15T10:00:25.383Z"
   },
   {
    "duration": 134,
    "start_time": "2021-11-15T10:00:25.391Z"
   },
   {
    "duration": 8,
    "start_time": "2021-11-15T10:00:25.527Z"
   },
   {
    "duration": 33,
    "start_time": "2021-11-15T10:00:25.537Z"
   },
   {
    "duration": 361,
    "start_time": "2021-11-15T10:00:25.572Z"
   },
   {
    "duration": 550,
    "start_time": "2021-11-15T10:00:25.935Z"
   },
   {
    "duration": 5,
    "start_time": "2021-11-15T10:00:26.487Z"
   },
   {
    "duration": 946,
    "start_time": "2021-11-15T10:00:26.494Z"
   },
   {
    "duration": 946,
    "start_time": "2021-11-15T10:00:27.443Z"
   },
   {
    "duration": 5,
    "start_time": "2021-11-15T10:00:28.391Z"
   },
   {
    "duration": 11,
    "start_time": "2021-11-15T10:00:28.398Z"
   },
   {
    "duration": 10,
    "start_time": "2021-11-15T10:00:28.411Z"
   },
   {
    "duration": 13,
    "start_time": "2021-11-15T10:00:28.422Z"
   },
   {
    "duration": 12,
    "start_time": "2021-11-15T10:00:28.436Z"
   },
   {
    "duration": 13,
    "start_time": "2021-11-15T10:00:28.450Z"
   },
   {
    "duration": 16,
    "start_time": "2021-11-15T10:00:28.467Z"
   },
   {
    "duration": 493,
    "start_time": "2021-11-15T10:00:28.486Z"
   },
   {
    "duration": 10,
    "start_time": "2021-11-15T10:00:28.981Z"
   },
   {
    "duration": 38,
    "start_time": "2021-11-15T10:00:28.993Z"
   },
   {
    "duration": 1498,
    "start_time": "2021-11-15T10:01:12.293Z"
   },
   {
    "duration": 6,
    "start_time": "2021-11-15T10:01:13.793Z"
   },
   {
    "duration": 277,
    "start_time": "2021-11-15T10:01:13.801Z"
   },
   {
    "duration": 16,
    "start_time": "2021-11-15T10:01:14.081Z"
   },
   {
    "duration": 5,
    "start_time": "2021-11-15T10:01:14.099Z"
   },
   {
    "duration": 12,
    "start_time": "2021-11-15T10:01:14.106Z"
   },
   {
    "duration": 21,
    "start_time": "2021-11-15T10:01:14.120Z"
   },
   {
    "duration": 5,
    "start_time": "2021-11-15T10:01:14.165Z"
   },
   {
    "duration": 75,
    "start_time": "2021-11-15T10:01:14.173Z"
   },
   {
    "duration": 19,
    "start_time": "2021-11-15T10:01:14.252Z"
   },
   {
    "duration": 18,
    "start_time": "2021-11-15T10:01:14.273Z"
   },
   {
    "duration": 461,
    "start_time": "2021-11-15T10:01:14.293Z"
   },
   {
    "duration": 703,
    "start_time": "2021-11-15T10:01:14.756Z"
   },
   {
    "duration": 6,
    "start_time": "2021-11-15T10:01:15.463Z"
   },
   {
    "duration": 1030,
    "start_time": "2021-11-15T10:01:15.472Z"
   },
   {
    "duration": 941,
    "start_time": "2021-11-15T10:01:16.504Z"
   },
   {
    "duration": 17,
    "start_time": "2021-11-15T10:01:17.447Z"
   },
   {
    "duration": 13,
    "start_time": "2021-11-15T10:01:17.466Z"
   },
   {
    "duration": 9,
    "start_time": "2021-11-15T10:01:17.482Z"
   },
   {
    "duration": 6,
    "start_time": "2021-11-15T10:01:17.492Z"
   },
   {
    "duration": 10,
    "start_time": "2021-11-15T10:01:17.500Z"
   },
   {
    "duration": 15,
    "start_time": "2021-11-15T10:01:17.511Z"
   },
   {
    "duration": 16,
    "start_time": "2021-11-15T10:01:17.528Z"
   },
   {
    "duration": 327,
    "start_time": "2021-11-15T10:01:17.546Z"
   },
   {
    "duration": 10,
    "start_time": "2021-11-15T10:01:17.875Z"
   },
   {
    "duration": 11,
    "start_time": "2021-11-15T10:01:17.887Z"
   },
   {
    "duration": 1222,
    "start_time": "2021-11-15T10:03:48.212Z"
   },
   {
    "duration": 5,
    "start_time": "2021-11-15T10:03:49.436Z"
   },
   {
    "duration": 223,
    "start_time": "2021-11-15T10:03:49.443Z"
   },
   {
    "duration": 7,
    "start_time": "2021-11-15T10:03:49.668Z"
   },
   {
    "duration": 13,
    "start_time": "2021-11-15T10:03:49.677Z"
   },
   {
    "duration": 10,
    "start_time": "2021-11-15T10:03:49.692Z"
   },
   {
    "duration": 15,
    "start_time": "2021-11-15T10:03:49.704Z"
   },
   {
    "duration": 4,
    "start_time": "2021-11-15T10:03:49.722Z"
   },
   {
    "duration": 34,
    "start_time": "2021-11-15T10:03:49.728Z"
   },
   {
    "duration": 7,
    "start_time": "2021-11-15T10:03:49.764Z"
   },
   {
    "duration": 22,
    "start_time": "2021-11-15T10:03:49.773Z"
   },
   {
    "duration": 342,
    "start_time": "2021-11-15T10:03:49.797Z"
   },
   {
    "duration": 550,
    "start_time": "2021-11-15T10:03:50.142Z"
   },
   {
    "duration": 7,
    "start_time": "2021-11-15T10:03:50.694Z"
   },
   {
    "duration": 936,
    "start_time": "2021-11-15T10:03:50.703Z"
   },
   {
    "duration": 878,
    "start_time": "2021-11-15T10:03:51.641Z"
   },
   {
    "duration": 8,
    "start_time": "2021-11-15T10:03:52.522Z"
   },
   {
    "duration": 11,
    "start_time": "2021-11-15T10:03:52.532Z"
   },
   {
    "duration": 25,
    "start_time": "2021-11-15T10:03:52.545Z"
   },
   {
    "duration": 6,
    "start_time": "2021-11-15T10:03:52.572Z"
   },
   {
    "duration": 17,
    "start_time": "2021-11-15T10:03:52.580Z"
   },
   {
    "duration": 10,
    "start_time": "2021-11-15T10:03:52.599Z"
   },
   {
    "duration": 11,
    "start_time": "2021-11-15T10:03:52.612Z"
   },
   {
    "duration": 48,
    "start_time": "2021-11-15T10:03:52.624Z"
   },
   {
    "duration": 103,
    "start_time": "2021-11-15T10:03:52.765Z"
   },
   {
    "duration": 10,
    "start_time": "2021-11-15T10:03:52.870Z"
   },
   {
    "duration": 1262,
    "start_time": "2021-11-15T10:04:11.467Z"
   },
   {
    "duration": 6,
    "start_time": "2021-11-15T10:04:12.731Z"
   },
   {
    "duration": 236,
    "start_time": "2021-11-15T10:04:12.739Z"
   },
   {
    "duration": 6,
    "start_time": "2021-11-15T10:04:12.977Z"
   },
   {
    "duration": 8,
    "start_time": "2021-11-15T10:04:12.985Z"
   },
   {
    "duration": 7,
    "start_time": "2021-11-15T10:04:12.994Z"
   },
   {
    "duration": 19,
    "start_time": "2021-11-15T10:04:13.003Z"
   },
   {
    "duration": 4,
    "start_time": "2021-11-15T10:04:13.025Z"
   },
   {
    "duration": 42,
    "start_time": "2021-11-15T10:04:13.031Z"
   },
   {
    "duration": 9,
    "start_time": "2021-11-15T10:04:13.075Z"
   },
   {
    "duration": 8,
    "start_time": "2021-11-15T10:04:13.086Z"
   },
   {
    "duration": 384,
    "start_time": "2021-11-15T10:04:13.101Z"
   },
   {
    "duration": 570,
    "start_time": "2021-11-15T10:04:13.488Z"
   },
   {
    "duration": 6,
    "start_time": "2021-11-15T10:04:14.063Z"
   },
   {
    "duration": 1013,
    "start_time": "2021-11-15T10:04:14.071Z"
   },
   {
    "duration": 868,
    "start_time": "2021-11-15T10:04:15.086Z"
   },
   {
    "duration": 10,
    "start_time": "2021-11-15T10:04:15.956Z"
   },
   {
    "duration": 35,
    "start_time": "2021-11-15T10:04:15.968Z"
   },
   {
    "duration": 17,
    "start_time": "2021-11-15T10:04:16.005Z"
   },
   {
    "duration": 5,
    "start_time": "2021-11-15T10:04:16.023Z"
   },
   {
    "duration": 9,
    "start_time": "2021-11-15T10:04:16.030Z"
   },
   {
    "duration": 7,
    "start_time": "2021-11-15T10:04:16.040Z"
   },
   {
    "duration": 9,
    "start_time": "2021-11-15T10:04:16.050Z"
   },
   {
    "duration": 203,
    "start_time": "2021-11-15T10:04:16.060Z"
   },
   {
    "duration": 10,
    "start_time": "2021-11-15T10:04:16.265Z"
   },
   {
    "duration": 9,
    "start_time": "2021-11-15T10:04:16.277Z"
   },
   {
    "duration": 1282,
    "start_time": "2021-11-15T10:04:36.149Z"
   },
   {
    "duration": 7,
    "start_time": "2021-11-15T10:04:37.433Z"
   },
   {
    "duration": 237,
    "start_time": "2021-11-15T10:04:37.442Z"
   },
   {
    "duration": 6,
    "start_time": "2021-11-15T10:04:37.682Z"
   },
   {
    "duration": 11,
    "start_time": "2021-11-15T10:04:37.690Z"
   },
   {
    "duration": 6,
    "start_time": "2021-11-15T10:04:37.702Z"
   },
   {
    "duration": 22,
    "start_time": "2021-11-15T10:04:37.710Z"
   },
   {
    "duration": 4,
    "start_time": "2021-11-15T10:04:37.735Z"
   },
   {
    "duration": 41,
    "start_time": "2021-11-15T10:04:37.741Z"
   },
   {
    "duration": 7,
    "start_time": "2021-11-15T10:04:37.783Z"
   },
   {
    "duration": 7,
    "start_time": "2021-11-15T10:04:37.792Z"
   },
   {
    "duration": 355,
    "start_time": "2021-11-15T10:04:37.801Z"
   },
   {
    "duration": 374,
    "start_time": "2021-11-15T10:04:38.158Z"
   },
   {
    "duration": 565,
    "start_time": "2021-11-15T10:04:38.535Z"
   },
   {
    "duration": 5,
    "start_time": "2021-11-15T10:04:39.101Z"
   },
   {
    "duration": 951,
    "start_time": "2021-11-15T10:04:39.108Z"
   },
   {
    "duration": 890,
    "start_time": "2021-11-15T10:04:40.063Z"
   },
   {
    "duration": 5,
    "start_time": "2021-11-15T10:04:40.963Z"
   },
   {
    "duration": 7,
    "start_time": "2021-11-15T10:04:40.970Z"
   },
   {
    "duration": 10,
    "start_time": "2021-11-15T10:04:40.979Z"
   },
   {
    "duration": 5,
    "start_time": "2021-11-15T10:04:40.991Z"
   },
   {
    "duration": 10,
    "start_time": "2021-11-15T10:04:40.998Z"
   },
   {
    "duration": 7,
    "start_time": "2021-11-15T10:04:41.012Z"
   },
   {
    "duration": 10,
    "start_time": "2021-11-15T10:04:41.021Z"
   },
   {
    "duration": 240,
    "start_time": "2021-11-15T10:04:41.032Z"
   },
   {
    "duration": 10,
    "start_time": "2021-11-15T10:04:41.274Z"
   },
   {
    "duration": 9,
    "start_time": "2021-11-15T10:04:41.286Z"
   },
   {
    "duration": 1430,
    "start_time": "2021-11-15T10:06:13.858Z"
   },
   {
    "duration": 6,
    "start_time": "2021-11-15T10:06:15.290Z"
   },
   {
    "duration": 236,
    "start_time": "2021-11-15T10:06:15.298Z"
   },
   {
    "duration": 6,
    "start_time": "2021-11-15T10:06:15.536Z"
   },
   {
    "duration": 10,
    "start_time": "2021-11-15T10:06:15.545Z"
   },
   {
    "duration": 10,
    "start_time": "2021-11-15T10:06:15.557Z"
   },
   {
    "duration": 22,
    "start_time": "2021-11-15T10:06:15.569Z"
   },
   {
    "duration": 8,
    "start_time": "2021-11-15T10:06:15.593Z"
   },
   {
    "duration": 32,
    "start_time": "2021-11-15T10:06:15.604Z"
   },
   {
    "duration": 8,
    "start_time": "2021-11-15T10:06:15.637Z"
   },
   {
    "duration": 9,
    "start_time": "2021-11-15T10:06:15.647Z"
   },
   {
    "duration": 346,
    "start_time": "2021-11-15T10:06:15.659Z"
   },
   {
    "duration": 726,
    "start_time": "2021-11-15T10:06:16.008Z"
   },
   {
    "duration": 5,
    "start_time": "2021-11-15T10:06:16.735Z"
   },
   {
    "duration": 1089,
    "start_time": "2021-11-15T10:06:16.742Z"
   },
   {
    "duration": 930,
    "start_time": "2021-11-15T10:06:17.833Z"
   },
   {
    "duration": 7,
    "start_time": "2021-11-15T10:06:18.765Z"
   },
   {
    "duration": 9,
    "start_time": "2021-11-15T10:06:18.774Z"
   },
   {
    "duration": 12,
    "start_time": "2021-11-15T10:06:18.785Z"
   },
   {
    "duration": 12,
    "start_time": "2021-11-15T10:06:18.799Z"
   },
   {
    "duration": 9,
    "start_time": "2021-11-15T10:06:18.813Z"
   },
   {
    "duration": 15,
    "start_time": "2021-11-15T10:06:18.824Z"
   },
   {
    "duration": 9,
    "start_time": "2021-11-15T10:06:18.842Z"
   },
   {
    "duration": 211,
    "start_time": "2021-11-15T10:06:18.853Z"
   },
   {
    "duration": 10,
    "start_time": "2021-11-15T10:06:19.066Z"
   },
   {
    "duration": 10,
    "start_time": "2021-11-15T10:06:19.078Z"
   },
   {
    "duration": 5,
    "start_time": "2021-11-15T10:07:02.987Z"
   },
   {
    "duration": 916,
    "start_time": "2021-11-15T10:07:05.226Z"
   },
   {
    "duration": 5,
    "start_time": "2021-11-15T10:07:11.920Z"
   },
   {
    "duration": 960,
    "start_time": "2021-11-15T10:07:12.373Z"
   },
   {
    "duration": 918,
    "start_time": "2021-11-15T10:07:14.657Z"
   },
   {
    "duration": 1304,
    "start_time": "2021-11-15T10:09:19.836Z"
   },
   {
    "duration": 6,
    "start_time": "2021-11-15T10:09:21.142Z"
   },
   {
    "duration": 257,
    "start_time": "2021-11-15T10:09:21.149Z"
   },
   {
    "duration": 6,
    "start_time": "2021-11-15T10:09:21.408Z"
   },
   {
    "duration": 13,
    "start_time": "2021-11-15T10:09:21.416Z"
   },
   {
    "duration": 7,
    "start_time": "2021-11-15T10:09:21.431Z"
   },
   {
    "duration": 16,
    "start_time": "2021-11-15T10:09:21.440Z"
   },
   {
    "duration": 3,
    "start_time": "2021-11-15T10:09:21.459Z"
   },
   {
    "duration": 19,
    "start_time": "2021-11-15T10:09:21.464Z"
   },
   {
    "duration": 7,
    "start_time": "2021-11-15T10:09:21.485Z"
   },
   {
    "duration": 6,
    "start_time": "2021-11-15T10:09:21.493Z"
   },
   {
    "duration": 364,
    "start_time": "2021-11-15T10:09:21.501Z"
   },
   {
    "duration": 553,
    "start_time": "2021-11-15T10:09:21.867Z"
   },
   {
    "duration": 6,
    "start_time": "2021-11-15T10:09:22.421Z"
   },
   {
    "duration": 927,
    "start_time": "2021-11-15T10:09:22.428Z"
   },
   {
    "duration": 891,
    "start_time": "2021-11-15T10:09:23.357Z"
   },
   {
    "duration": 13,
    "start_time": "2021-11-15T10:09:24.250Z"
   },
   {
    "duration": 6,
    "start_time": "2021-11-15T10:09:24.265Z"
   },
   {
    "duration": 12,
    "start_time": "2021-11-15T10:09:24.273Z"
   },
   {
    "duration": 6,
    "start_time": "2021-11-15T10:09:24.287Z"
   },
   {
    "duration": 9,
    "start_time": "2021-11-15T10:09:24.295Z"
   },
   {
    "duration": 11,
    "start_time": "2021-11-15T10:09:24.306Z"
   },
   {
    "duration": 12,
    "start_time": "2021-11-15T10:09:24.319Z"
   },
   {
    "duration": 231,
    "start_time": "2021-11-15T10:09:24.333Z"
   },
   {
    "duration": 10,
    "start_time": "2021-11-15T10:09:24.566Z"
   },
   {
    "duration": 17,
    "start_time": "2021-11-15T10:09:24.578Z"
   },
   {
    "duration": 1276,
    "start_time": "2021-11-15T10:09:57.775Z"
   },
   {
    "duration": 5,
    "start_time": "2021-11-15T10:09:59.053Z"
   },
   {
    "duration": 234,
    "start_time": "2021-11-15T10:09:59.060Z"
   },
   {
    "duration": 6,
    "start_time": "2021-11-15T10:09:59.296Z"
   },
   {
    "duration": 5,
    "start_time": "2021-11-15T10:09:59.304Z"
   },
   {
    "duration": 4,
    "start_time": "2021-11-15T10:09:59.311Z"
   },
   {
    "duration": 15,
    "start_time": "2021-11-15T10:09:59.317Z"
   },
   {
    "duration": 3,
    "start_time": "2021-11-15T10:09:59.335Z"
   },
   {
    "duration": 25,
    "start_time": "2021-11-15T10:09:59.340Z"
   },
   {
    "duration": 7,
    "start_time": "2021-11-15T10:09:59.367Z"
   },
   {
    "duration": 6,
    "start_time": "2021-11-15T10:09:59.376Z"
   },
   {
    "duration": 346,
    "start_time": "2021-11-15T10:09:59.384Z"
   },
   {
    "duration": 551,
    "start_time": "2021-11-15T10:09:59.732Z"
   },
   {
    "duration": 5,
    "start_time": "2021-11-15T10:10:00.285Z"
   },
   {
    "duration": 931,
    "start_time": "2021-11-15T10:10:00.292Z"
   },
   {
    "duration": 862,
    "start_time": "2021-11-15T10:10:01.225Z"
   },
   {
    "duration": 6,
    "start_time": "2021-11-15T10:10:02.089Z"
   },
   {
    "duration": 34,
    "start_time": "2021-11-15T10:10:02.097Z"
   },
   {
    "duration": 36,
    "start_time": "2021-11-15T10:10:02.133Z"
   },
   {
    "duration": 16,
    "start_time": "2021-11-15T10:10:02.171Z"
   },
   {
    "duration": 25,
    "start_time": "2021-11-15T10:10:02.189Z"
   },
   {
    "duration": 17,
    "start_time": "2021-11-15T10:10:02.216Z"
   },
   {
    "duration": 36,
    "start_time": "2021-11-15T10:10:02.237Z"
   },
   {
    "duration": 92,
    "start_time": "2021-11-15T10:10:02.275Z"
   },
   {
    "duration": 108,
    "start_time": "2021-11-15T10:10:02.369Z"
   },
   {
    "duration": 22,
    "start_time": "2021-11-15T10:10:02.479Z"
   },
   {
    "duration": 7,
    "start_time": "2021-11-15T10:11:07.757Z"
   },
   {
    "duration": 77,
    "start_time": "2021-11-15T10:13:02.820Z"
   },
   {
    "duration": 96,
    "start_time": "2021-11-15T10:13:09.270Z"
   },
   {
    "duration": 50,
    "start_time": "2021-11-15T10:13:45.698Z"
   },
   {
    "duration": 60,
    "start_time": "2021-11-15T10:14:14.959Z"
   },
   {
    "duration": 48,
    "start_time": "2021-11-15T10:14:21.685Z"
   },
   {
    "duration": 59,
    "start_time": "2021-11-15T10:14:25.340Z"
   },
   {
    "duration": 79,
    "start_time": "2021-11-15T10:14:50.059Z"
   },
   {
    "duration": 147,
    "start_time": "2021-11-15T10:14:56.068Z"
   },
   {
    "duration": 153,
    "start_time": "2021-11-15T10:15:02.198Z"
   },
   {
    "duration": 152,
    "start_time": "2021-11-15T10:15:07.908Z"
   },
   {
    "duration": 155,
    "start_time": "2021-11-15T10:15:18.028Z"
   },
   {
    "duration": 135,
    "start_time": "2021-11-15T10:17:18.313Z"
   },
   {
    "duration": 116,
    "start_time": "2021-11-15T10:17:50.698Z"
   },
   {
    "duration": 141,
    "start_time": "2021-11-15T10:18:05.457Z"
   },
   {
    "duration": 5,
    "start_time": "2021-11-15T10:19:41.798Z"
   },
   {
    "duration": 11,
    "start_time": "2021-11-15T10:19:43.111Z"
   },
   {
    "duration": 1229,
    "start_time": "2021-11-15T10:19:54.100Z"
   },
   {
    "duration": 5,
    "start_time": "2021-11-15T10:19:55.331Z"
   },
   {
    "duration": 226,
    "start_time": "2021-11-15T10:19:55.338Z"
   },
   {
    "duration": 7,
    "start_time": "2021-11-15T10:19:55.566Z"
   },
   {
    "duration": 5,
    "start_time": "2021-11-15T10:19:55.574Z"
   },
   {
    "duration": 6,
    "start_time": "2021-11-15T10:19:55.580Z"
   },
   {
    "duration": 18,
    "start_time": "2021-11-15T10:19:55.587Z"
   },
   {
    "duration": 160,
    "start_time": "2021-11-15T10:19:55.607Z"
   },
   {
    "duration": 3,
    "start_time": "2021-11-15T10:19:55.769Z"
   },
   {
    "duration": 17,
    "start_time": "2021-11-15T10:19:55.774Z"
   },
   {
    "duration": 8,
    "start_time": "2021-11-15T10:19:55.794Z"
   },
   {
    "duration": 6,
    "start_time": "2021-11-15T10:19:55.803Z"
   },
   {
    "duration": 354,
    "start_time": "2021-11-15T10:19:55.811Z"
   },
   {
    "duration": 584,
    "start_time": "2021-11-15T10:19:56.167Z"
   },
   {
    "duration": 5,
    "start_time": "2021-11-15T10:19:56.753Z"
   },
   {
    "duration": 993,
    "start_time": "2021-11-15T10:19:56.764Z"
   },
   {
    "duration": 913,
    "start_time": "2021-11-15T10:19:57.763Z"
   },
   {
    "duration": 8,
    "start_time": "2021-11-15T10:19:58.678Z"
   },
   {
    "duration": 19,
    "start_time": "2021-11-15T10:19:58.688Z"
   },
   {
    "duration": 13,
    "start_time": "2021-11-15T10:19:58.709Z"
   },
   {
    "duration": 5,
    "start_time": "2021-11-15T10:19:58.724Z"
   },
   {
    "duration": 8,
    "start_time": "2021-11-15T10:19:58.731Z"
   },
   {
    "duration": 9,
    "start_time": "2021-11-15T10:19:58.742Z"
   },
   {
    "duration": 11,
    "start_time": "2021-11-15T10:19:58.753Z"
   },
   {
    "duration": 23,
    "start_time": "2021-11-15T10:19:58.766Z"
   },
   {
    "duration": 80,
    "start_time": "2021-11-15T10:19:58.790Z"
   },
   {
    "duration": 9,
    "start_time": "2021-11-15T10:19:58.963Z"
   },
   {
    "duration": 472,
    "start_time": "2021-11-15T10:22:39.030Z"
   },
   {
    "duration": 174,
    "start_time": "2021-11-15T10:24:18.577Z"
   },
   {
    "duration": 351,
    "start_time": "2021-11-15T10:24:56.145Z"
   },
   {
    "duration": 1291,
    "start_time": "2021-11-15T10:27:10.647Z"
   },
   {
    "duration": 5,
    "start_time": "2021-11-15T10:27:11.940Z"
   },
   {
    "duration": 225,
    "start_time": "2021-11-15T10:27:11.947Z"
   },
   {
    "duration": 7,
    "start_time": "2021-11-15T10:27:12.174Z"
   },
   {
    "duration": 6,
    "start_time": "2021-11-15T10:27:12.183Z"
   },
   {
    "duration": 9,
    "start_time": "2021-11-15T10:27:12.190Z"
   },
   {
    "duration": 16,
    "start_time": "2021-11-15T10:27:12.201Z"
   },
   {
    "duration": 3,
    "start_time": "2021-11-15T10:27:12.220Z"
   },
   {
    "duration": 377,
    "start_time": "2021-11-15T10:27:12.226Z"
   },
   {
    "duration": 13,
    "start_time": "2021-11-15T10:27:12.605Z"
   },
   {
    "duration": 10,
    "start_time": "2021-11-15T10:27:12.620Z"
   },
   {
    "duration": 11,
    "start_time": "2021-11-15T10:27:12.631Z"
   },
   {
    "duration": 477,
    "start_time": "2021-11-15T10:27:12.644Z"
   },
   {
    "duration": 533,
    "start_time": "2021-11-15T10:27:13.123Z"
   },
   {
    "duration": 731,
    "start_time": "2021-11-15T10:27:13.658Z"
   },
   {
    "duration": 6,
    "start_time": "2021-11-15T10:27:14.391Z"
   },
   {
    "duration": 957,
    "start_time": "2021-11-15T10:27:14.398Z"
   },
   {
    "duration": 950,
    "start_time": "2021-11-15T10:27:15.357Z"
   },
   {
    "duration": 6,
    "start_time": "2021-11-15T10:27:16.309Z"
   },
   {
    "duration": 12,
    "start_time": "2021-11-15T10:27:16.317Z"
   },
   {
    "duration": 19,
    "start_time": "2021-11-15T10:27:16.331Z"
   },
   {
    "duration": 7,
    "start_time": "2021-11-15T10:27:16.352Z"
   },
   {
    "duration": 7,
    "start_time": "2021-11-15T10:27:16.362Z"
   },
   {
    "duration": 9,
    "start_time": "2021-11-15T10:27:16.371Z"
   },
   {
    "duration": 11,
    "start_time": "2021-11-15T10:27:16.382Z"
   },
   {
    "duration": 77,
    "start_time": "2021-11-15T10:27:16.395Z"
   },
   {
    "duration": 10,
    "start_time": "2021-11-15T10:27:16.564Z"
   },
   {
    "duration": 351,
    "start_time": "2021-11-15T10:27:16.576Z"
   },
   {
    "duration": 1261,
    "start_time": "2021-11-15T10:28:37.008Z"
   },
   {
    "duration": 5,
    "start_time": "2021-11-15T10:28:38.271Z"
   },
   {
    "duration": 284,
    "start_time": "2021-11-15T10:28:38.279Z"
   },
   {
    "duration": 7,
    "start_time": "2021-11-15T10:28:38.565Z"
   },
   {
    "duration": 17,
    "start_time": "2021-11-15T10:28:38.574Z"
   },
   {
    "duration": 12,
    "start_time": "2021-11-15T10:28:38.593Z"
   },
   {
    "duration": 29,
    "start_time": "2021-11-15T10:28:38.607Z"
   },
   {
    "duration": 3,
    "start_time": "2021-11-15T10:28:38.639Z"
   },
   {
    "duration": 379,
    "start_time": "2021-11-15T10:28:38.644Z"
   },
   {
    "duration": 13,
    "start_time": "2021-11-15T10:28:39.024Z"
   },
   {
    "duration": 24,
    "start_time": "2021-11-15T10:28:39.040Z"
   },
   {
    "duration": 8,
    "start_time": "2021-11-15T10:28:39.065Z"
   },
   {
    "duration": 478,
    "start_time": "2021-11-15T10:28:39.075Z"
   },
   {
    "duration": 559,
    "start_time": "2021-11-15T10:28:39.555Z"
   },
   {
    "duration": 861,
    "start_time": "2021-11-15T10:28:40.115Z"
   },
   {
    "duration": 6,
    "start_time": "2021-11-15T10:28:40.978Z"
   },
   {
    "duration": 1134,
    "start_time": "2021-11-15T10:28:40.985Z"
   },
   {
    "duration": 961,
    "start_time": "2021-11-15T10:28:42.120Z"
   },
   {
    "duration": 6,
    "start_time": "2021-11-15T10:28:43.083Z"
   },
   {
    "duration": 9,
    "start_time": "2021-11-15T10:28:43.100Z"
   },
   {
    "duration": 8,
    "start_time": "2021-11-15T10:28:43.111Z"
   },
   {
    "duration": 7,
    "start_time": "2021-11-15T10:28:43.121Z"
   },
   {
    "duration": 7,
    "start_time": "2021-11-15T10:28:43.131Z"
   },
   {
    "duration": 26,
    "start_time": "2021-11-15T10:28:43.140Z"
   },
   {
    "duration": 11,
    "start_time": "2021-11-15T10:28:43.168Z"
   },
   {
    "duration": 590909,
    "start_time": "2021-11-15T10:28:43.181Z"
   },
   {
    "duration": 9,
    "start_time": "2021-11-15T10:38:34.092Z"
   },
   {
    "duration": 16,
    "start_time": "2021-11-15T10:38:34.103Z"
   },
   {
    "duration": 372,
    "start_time": "2021-11-15T10:46:47.048Z"
   },
   {
    "duration": 254,
    "start_time": "2021-11-15T10:48:29.399Z"
   },
   {
    "duration": 251,
    "start_time": "2021-11-15T10:48:34.719Z"
   },
   {
    "duration": 255,
    "start_time": "2021-11-15T10:48:39.707Z"
   },
   {
    "duration": 256,
    "start_time": "2021-11-15T10:48:47.125Z"
   },
   {
    "duration": 263,
    "start_time": "2021-11-15T10:49:10.800Z"
   },
   {
    "duration": 271,
    "start_time": "2021-11-15T10:50:16.976Z"
   },
   {
    "duration": 255,
    "start_time": "2021-11-15T10:50:25.052Z"
   },
   {
    "duration": 1284,
    "start_time": "2021-11-15T10:52:58.534Z"
   },
   {
    "duration": 6,
    "start_time": "2021-11-15T10:52:59.821Z"
   },
   {
    "duration": 585,
    "start_time": "2021-11-15T10:52:59.829Z"
   },
   {
    "duration": 7,
    "start_time": "2021-11-15T10:53:00.416Z"
   },
   {
    "duration": 7,
    "start_time": "2021-11-15T10:53:00.425Z"
   },
   {
    "duration": 18,
    "start_time": "2021-11-15T10:53:00.433Z"
   },
   {
    "duration": 27,
    "start_time": "2021-11-15T10:53:00.453Z"
   },
   {
    "duration": 7,
    "start_time": "2021-11-15T10:53:00.483Z"
   },
   {
    "duration": 371,
    "start_time": "2021-11-15T10:53:00.493Z"
   },
   {
    "duration": 10,
    "start_time": "2021-11-15T10:53:00.866Z"
   },
   {
    "duration": 19,
    "start_time": "2021-11-15T10:53:00.878Z"
   },
   {
    "duration": 15,
    "start_time": "2021-11-15T10:53:00.898Z"
   },
   {
    "duration": 514,
    "start_time": "2021-11-15T10:53:00.915Z"
   },
   {
    "duration": 532,
    "start_time": "2021-11-15T10:53:01.432Z"
   },
   {
    "duration": 716,
    "start_time": "2021-11-15T10:53:01.966Z"
   },
   {
    "duration": 5,
    "start_time": "2021-11-15T10:53:02.684Z"
   },
   {
    "duration": 992,
    "start_time": "2021-11-15T10:53:02.690Z"
   },
   {
    "duration": 952,
    "start_time": "2021-11-15T10:53:03.684Z"
   },
   {
    "duration": 5,
    "start_time": "2021-11-15T10:53:04.638Z"
   },
   {
    "duration": 18,
    "start_time": "2021-11-15T10:53:04.645Z"
   },
   {
    "duration": 22,
    "start_time": "2021-11-15T10:53:04.665Z"
   },
   {
    "duration": 14,
    "start_time": "2021-11-15T10:53:04.689Z"
   },
   {
    "duration": 37,
    "start_time": "2021-11-15T10:53:04.706Z"
   },
   {
    "duration": 24,
    "start_time": "2021-11-15T10:53:04.745Z"
   },
   {
    "duration": 14,
    "start_time": "2021-11-15T10:53:04.771Z"
   },
   {
    "duration": 715686,
    "start_time": "2021-11-15T10:53:04.787Z"
   },
   {
    "duration": 9,
    "start_time": "2021-11-15T11:05:00.475Z"
   },
   {
    "duration": 35,
    "start_time": "2021-11-15T11:05:00.486Z"
   },
   {
    "duration": 430,
    "start_time": "2021-11-15T11:05:00.523Z"
   },
   {
    "duration": -352,
    "start_time": "2021-11-15T11:05:01.307Z"
   },
   {
    "duration": 9,
    "start_time": "2021-11-15T12:24:28.616Z"
   },
   {
    "duration": 1371,
    "start_time": "2021-11-16T04:49:09.955Z"
   },
   {
    "duration": 5,
    "start_time": "2021-11-16T04:49:11.328Z"
   },
   {
    "duration": 264,
    "start_time": "2021-11-16T04:49:11.335Z"
   },
   {
    "duration": 7,
    "start_time": "2021-11-16T04:49:11.600Z"
   },
   {
    "duration": 5,
    "start_time": "2021-11-16T04:49:11.608Z"
   },
   {
    "duration": 392,
    "start_time": "2021-11-16T04:49:11.615Z"
   },
   {
    "duration": 11,
    "start_time": "2021-11-16T04:49:23.669Z"
   },
   {
    "duration": 4,
    "start_time": "2021-11-16T04:49:27.708Z"
   },
   {
    "duration": 364,
    "start_time": "2021-11-16T04:49:30.331Z"
   },
   {
    "duration": 275,
    "start_time": "2021-11-16T05:51:30.544Z"
   },
   {
    "duration": 7,
    "start_time": "2021-11-16T05:51:36.834Z"
   },
   {
    "duration": 5,
    "start_time": "2021-11-16T05:57:17.930Z"
   },
   {
    "duration": 6,
    "start_time": "2021-11-16T05:57:18.493Z"
   },
   {
    "duration": 993,
    "start_time": "2021-11-16T05:57:20.162Z"
   },
   {
    "duration": 387,
    "start_time": "2021-11-16T05:58:57.726Z"
   },
   {
    "duration": 5,
    "start_time": "2021-11-16T06:00:17.201Z"
   },
   {
    "duration": 11,
    "start_time": "2021-11-16T06:00:17.209Z"
   },
   {
    "duration": 230,
    "start_time": "2021-11-16T06:00:17.223Z"
   },
   {
    "duration": 7,
    "start_time": "2021-11-16T06:00:17.455Z"
   },
   {
    "duration": 19,
    "start_time": "2021-11-16T06:00:17.464Z"
   },
   {
    "duration": 22,
    "start_time": "2021-11-16T06:00:17.484Z"
   },
   {
    "duration": 8,
    "start_time": "2021-11-16T06:00:17.508Z"
   },
   {
    "duration": 352,
    "start_time": "2021-11-16T06:00:17.519Z"
   },
   {
    "duration": 558,
    "start_time": "2021-11-16T06:00:17.873Z"
   },
   {
    "duration": -1595,
    "start_time": "2021-11-16T06:00:20.028Z"
   },
   {
    "duration": -1603,
    "start_time": "2021-11-16T06:00:20.037Z"
   },
   {
    "duration": -1609,
    "start_time": "2021-11-16T06:00:20.044Z"
   },
   {
    "duration": -1616,
    "start_time": "2021-11-16T06:00:20.052Z"
   },
   {
    "duration": -1622,
    "start_time": "2021-11-16T06:00:20.059Z"
   },
   {
    "duration": -1629,
    "start_time": "2021-11-16T06:00:20.067Z"
   },
   {
    "duration": -1634,
    "start_time": "2021-11-16T06:00:20.073Z"
   },
   {
    "duration": 562,
    "start_time": "2021-11-16T06:00:41.386Z"
   },
   {
    "duration": 4,
    "start_time": "2021-11-16T06:02:02.234Z"
   },
   {
    "duration": 528,
    "start_time": "2021-11-16T06:02:06.319Z"
   },
   {
    "duration": 4,
    "start_time": "2021-11-16T06:02:42.990Z"
   },
   {
    "duration": 44,
    "start_time": "2021-11-16T06:02:46.022Z"
   },
   {
    "duration": 40,
    "start_time": "2021-11-16T06:02:53.734Z"
   },
   {
    "duration": 47,
    "start_time": "2021-11-16T06:03:55.230Z"
   },
   {
    "duration": 46,
    "start_time": "2021-11-16T06:04:06.525Z"
   },
   {
    "duration": 104,
    "start_time": "2021-11-16T06:04:23.418Z"
   },
   {
    "duration": 8,
    "start_time": "2021-11-16T06:04:36.020Z"
   },
   {
    "duration": 6,
    "start_time": "2021-11-16T06:04:39.270Z"
   },
   {
    "duration": 552,
    "start_time": "2021-11-16T06:04:41.543Z"
   },
   {
    "duration": 6,
    "start_time": "2021-11-16T06:04:57.952Z"
   },
   {
    "duration": 3,
    "start_time": "2021-11-16T06:07:38.337Z"
   },
   {
    "duration": 16,
    "start_time": "2021-11-16T06:07:41.911Z"
   },
   {
    "duration": 4,
    "start_time": "2021-11-16T06:08:10.971Z"
   },
   {
    "duration": 1249,
    "start_time": "2021-11-16T06:08:13.162Z"
   },
   {
    "duration": 4,
    "start_time": "2021-11-16T06:08:28.428Z"
   },
   {
    "duration": 20,
    "start_time": "2021-11-16T06:08:31.417Z"
   },
   {
    "duration": 9,
    "start_time": "2021-11-16T06:08:47.309Z"
   },
   {
    "duration": 9,
    "start_time": "2021-11-16T06:09:15.851Z"
   },
   {
    "duration": 5,
    "start_time": "2021-11-16T06:12:30.756Z"
   },
   {
    "duration": 5,
    "start_time": "2021-11-16T06:12:30.820Z"
   },
   {
    "duration": 224,
    "start_time": "2021-11-16T06:12:30.827Z"
   },
   {
    "duration": 6,
    "start_time": "2021-11-16T06:12:31.053Z"
   },
   {
    "duration": 18,
    "start_time": "2021-11-16T06:12:31.061Z"
   },
   {
    "duration": 27,
    "start_time": "2021-11-16T06:12:31.081Z"
   },
   {
    "duration": 364,
    "start_time": "2021-11-16T06:12:31.109Z"
   },
   {
    "duration": 4,
    "start_time": "2021-11-16T06:12:31.475Z"
   },
   {
    "duration": 70,
    "start_time": "2021-11-16T06:12:31.481Z"
   },
   {
    "duration": 1250,
    "start_time": "2021-11-16T11:08:58.488Z"
   },
   {
    "duration": 5,
    "start_time": "2021-11-16T11:08:59.739Z"
   },
   {
    "duration": 253,
    "start_time": "2021-11-16T11:08:59.745Z"
   },
   {
    "duration": 6,
    "start_time": "2021-11-16T11:09:00.000Z"
   },
   {
    "duration": 10,
    "start_time": "2021-11-16T11:09:00.007Z"
   },
   {
    "duration": 18,
    "start_time": "2021-11-16T11:09:00.018Z"
   },
   {
    "duration": 336,
    "start_time": "2021-11-16T11:09:00.037Z"
   },
   {
    "duration": 4,
    "start_time": "2021-11-16T11:09:08.793Z"
   },
   {
    "duration": 1127,
    "start_time": "2021-11-16T11:09:12.314Z"
   },
   {
    "duration": 4,
    "start_time": "2021-11-16T11:20:53.685Z"
   },
   {
    "duration": 17,
    "start_time": "2021-11-16T11:20:56.446Z"
   },
   {
    "duration": 4,
    "start_time": "2021-11-16T11:21:38.368Z"
   },
   {
    "duration": 10,
    "start_time": "2021-11-16T11:21:38.374Z"
   },
   {
    "duration": 209,
    "start_time": "2021-11-16T11:21:38.385Z"
   },
   {
    "duration": 5,
    "start_time": "2021-11-16T11:21:38.595Z"
   },
   {
    "duration": 6,
    "start_time": "2021-11-16T11:21:38.601Z"
   },
   {
    "duration": 18,
    "start_time": "2021-11-16T11:21:38.609Z"
   },
   {
    "duration": 322,
    "start_time": "2021-11-16T11:21:38.629Z"
   },
   {
    "duration": 3,
    "start_time": "2021-11-16T11:21:38.953Z"
   },
   {
    "duration": 26,
    "start_time": "2021-11-16T11:21:38.958Z"
   },
   {
    "duration": 3,
    "start_time": "2021-11-16T11:24:03.889Z"
   },
   {
    "duration": 16,
    "start_time": "2021-11-16T11:24:05.482Z"
   },
   {
    "duration": 4,
    "start_time": "2021-11-16T11:24:47.222Z"
   },
   {
    "duration": 5,
    "start_time": "2021-11-16T11:24:47.228Z"
   },
   {
    "duration": 214,
    "start_time": "2021-11-16T11:24:47.235Z"
   },
   {
    "duration": 5,
    "start_time": "2021-11-16T11:24:47.451Z"
   },
   {
    "duration": 6,
    "start_time": "2021-11-16T11:24:47.458Z"
   },
   {
    "duration": 14,
    "start_time": "2021-11-16T11:24:47.466Z"
   },
   {
    "duration": 330,
    "start_time": "2021-11-16T11:24:47.481Z"
   },
   {
    "duration": 12,
    "start_time": "2021-11-16T11:24:47.819Z"
   },
   {
    "duration": 53,
    "start_time": "2021-11-16T11:24:47.834Z"
   },
   {
    "duration": 13,
    "start_time": "2021-11-16T11:24:47.900Z"
   },
   {
    "duration": 12,
    "start_time": "2021-11-16T11:24:47.915Z"
   },
   {
    "duration": 400,
    "start_time": "2021-11-16T11:25:01.007Z"
   },
   {
    "duration": 10,
    "start_time": "2021-11-16T11:25:57.720Z"
   },
   {
    "duration": 88,
    "start_time": "2021-11-16T11:52:32.927Z"
   },
   {
    "duration": 4,
    "start_time": "2021-11-16T12:00:06.400Z"
   },
   {
    "duration": 9,
    "start_time": "2021-11-16T12:00:06.407Z"
   },
   {
    "duration": 225,
    "start_time": "2021-11-16T12:00:06.418Z"
   },
   {
    "duration": 6,
    "start_time": "2021-11-16T12:00:06.645Z"
   },
   {
    "duration": 9,
    "start_time": "2021-11-16T12:00:06.652Z"
   },
   {
    "duration": 15,
    "start_time": "2021-11-16T12:00:06.662Z"
   },
   {
    "duration": 322,
    "start_time": "2021-11-16T12:00:06.679Z"
   },
   {
    "duration": 4,
    "start_time": "2021-11-16T12:00:07.003Z"
   },
   {
    "duration": 37,
    "start_time": "2021-11-16T12:00:07.008Z"
   },
   {
    "duration": 9,
    "start_time": "2021-11-16T12:00:42.508Z"
   },
   {
    "duration": 5,
    "start_time": "2021-11-16T12:00:43.229Z"
   },
   {
    "duration": 12,
    "start_time": "2021-11-16T12:00:53.409Z"
   },
   {
    "duration": 4,
    "start_time": "2021-11-16T12:02:25.319Z"
   },
   {
    "duration": 881,
    "start_time": "2021-11-16T12:02:25.789Z"
   },
   {
    "duration": 744,
    "start_time": "2021-11-16T12:02:56.079Z"
   },
   {
    "duration": 8,
    "start_time": "2021-11-16T12:03:44.999Z"
   },
   {
    "duration": 897,
    "start_time": "2021-11-16T12:03:45.711Z"
   },
   {
    "duration": 928,
    "start_time": "2021-11-16T12:05:18.059Z"
   },
   {
    "duration": 896,
    "start_time": "2021-11-16T12:06:43.839Z"
   },
   {
    "duration": 915,
    "start_time": "2021-11-16T12:06:57.742Z"
   },
   {
    "duration": 4,
    "start_time": "2021-11-16T12:07:46.879Z"
   },
   {
    "duration": 1029,
    "start_time": "2021-11-16T12:07:48.659Z"
   },
   {
    "duration": 885,
    "start_time": "2021-11-16T12:07:53.460Z"
   },
   {
    "duration": 1083,
    "start_time": "2021-11-16T12:08:47.698Z"
   },
   {
    "duration": 4,
    "start_time": "2021-11-16T12:08:48.783Z"
   },
   {
    "duration": 219,
    "start_time": "2021-11-16T12:08:48.789Z"
   },
   {
    "duration": 5,
    "start_time": "2021-11-16T12:08:49.010Z"
   },
   {
    "duration": 3,
    "start_time": "2021-11-16T12:08:49.017Z"
   },
   {
    "duration": 13,
    "start_time": "2021-11-16T12:08:49.022Z"
   },
   {
    "duration": 330,
    "start_time": "2021-11-16T12:08:49.036Z"
   },
   {
    "duration": 4,
    "start_time": "2021-11-16T12:08:49.367Z"
   },
   {
    "duration": 19,
    "start_time": "2021-11-16T12:08:49.373Z"
   },
   {
    "duration": 4,
    "start_time": "2021-11-16T12:08:49.394Z"
   },
   {
    "duration": 409,
    "start_time": "2021-11-16T12:08:49.400Z"
   },
   {
    "duration": 466,
    "start_time": "2021-11-16T12:08:49.811Z"
   },
   {
    "duration": 643,
    "start_time": "2021-11-16T12:08:50.279Z"
   },
   {
    "duration": 6,
    "start_time": "2021-11-16T12:08:50.923Z"
   },
   {
    "duration": 974,
    "start_time": "2021-11-16T12:08:50.930Z"
   },
   {
    "duration": 951,
    "start_time": "2021-11-16T12:08:51.906Z"
   }
  ],
  "kernelspec": {
   "display_name": "Python 3",
   "language": "python",
   "name": "python3"
  },
  "language_info": {
   "codemirror_mode": {
    "name": "ipython",
    "version": 3
   },
   "file_extension": ".py",
   "mimetype": "text/x-python",
   "name": "python",
   "nbconvert_exporter": "python",
   "pygments_lexer": "ipython3",
   "version": "3.8.8"
  },
  "toc": {
   "base_numbering": 1,
   "nav_menu": {},
   "number_sections": true,
   "sideBar": true,
   "skip_h1_title": true,
   "title_cell": "Содержание",
   "title_sidebar": "Contents",
   "toc_cell": true,
   "toc_position": {
    "height": "calc(100% - 180px)",
    "left": "10px",
    "top": "150px",
    "width": "174.389px"
   },
   "toc_section_display": true,
   "toc_window_display": false
  }
 },
 "nbformat": 4,
 "nbformat_minor": 2
}
