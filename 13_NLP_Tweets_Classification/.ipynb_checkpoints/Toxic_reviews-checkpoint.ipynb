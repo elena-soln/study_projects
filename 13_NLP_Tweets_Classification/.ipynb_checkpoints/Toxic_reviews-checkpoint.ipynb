{
 "cells": [
  {
   "cell_type": "markdown",
   "metadata": {
    "toc": true
   },
   "source": [
    "<h1>Содержание<span class=\"tocSkip\"></span></h1>\n",
    "<div class=\"toc\"><ul class=\"toc-item\"><li><span><a href=\"#Подготовка-данных\" data-toc-modified-id=\"Подготовка-данных-1\"><span class=\"toc-item-num\">1&nbsp;&nbsp;</span>Подготовка данных</a></span><ul class=\"toc-item\"><li><span><a href=\"#Замена-символов\" data-toc-modified-id=\"Замена-символов-1.1\"><span class=\"toc-item-num\">1.1&nbsp;&nbsp;</span>Замена символов</a></span></li><li><span><a href=\"#Сокращения-в-полные-слова\" data-toc-modified-id=\"Сокращения-в-полные-слова-1.2\"><span class=\"toc-item-num\">1.2&nbsp;&nbsp;</span>Сокращения в полные слова</a></span></li><li><span><a href=\"#Лемматизация\" data-toc-modified-id=\"Лемматизация-1.3\"><span class=\"toc-item-num\">1.3&nbsp;&nbsp;</span>Лемматизация</a></span></li><li><span><a href=\"#Подготовка-выборок\" data-toc-modified-id=\"Подготовка-выборок-1.4\"><span class=\"toc-item-num\">1.4&nbsp;&nbsp;</span>Подготовка выборок</a></span></li><li><span><a href=\"#Vectorization\" data-toc-modified-id=\"Vectorization-1.5\"><span class=\"toc-item-num\">1.5&nbsp;&nbsp;</span>Vectorization</a></span></li><li><span><a href=\"#Вывод\" data-toc-modified-id=\"Вывод-1.6\"><span class=\"toc-item-num\">1.6&nbsp;&nbsp;</span>Вывод</a></span></li></ul></li><li><span><a href=\"#Модели\" data-toc-modified-id=\"Модели-2\"><span class=\"toc-item-num\">2&nbsp;&nbsp;</span>Модели</a></span><ul class=\"toc-item\"><li><span><a href=\"#Logistic-Regression\" data-toc-modified-id=\"Logistic-Regression-2.1\"><span class=\"toc-item-num\">2.1&nbsp;&nbsp;</span>Logistic Regression</a></span></li><li><span><a href=\"#Random-Forest\" data-toc-modified-id=\"Random-Forest-2.2\"><span class=\"toc-item-num\">2.2&nbsp;&nbsp;</span>Random Forest</a></span></li><li><span><a href=\"#Вывод\" data-toc-modified-id=\"Вывод-2.3\"><span class=\"toc-item-num\">2.3&nbsp;&nbsp;</span>Вывод</a></span></li></ul></li><li><span><a href=\"#Общий-вывод\" data-toc-modified-id=\"Общий-вывод-3\"><span class=\"toc-item-num\">3&nbsp;&nbsp;</span>Общий вывод</a></span></li></ul></div>"
   ]
  },
  {
   "cell_type": "markdown",
   "metadata": {},
   "source": [
    "# Определение токсичности комментариев "
   ]
  },
  {
   "cell_type": "markdown",
   "metadata": {},
   "source": [
    "Интернет-магазин запускает новый сервис. Теперь пользователи могут редактировать и дополнять описания товаров. Клиенты предлагают свои правки и комментируют изменения других. \n",
    "Магазину нужен инструмент, который будет искать токсичные комментарии и отправлять их на модерацию. \n",
    "\n",
    "Необходимо обучить модель классифицировать комментарии на позитивные и негативные. \n",
    "В нашем распоряжении набор данных с разметкой о токсичности правок.\n",
    "\n",
    "Нужна модель со значением метрики качества *F1* не меньше 0.75. \n",
    "\n",
    "**Описание данных**\n",
    "\n",
    "* text — текст комментария;\n",
    "* toxic — целевой признак."
   ]
  },
  {
   "cell_type": "markdown",
   "metadata": {},
   "source": [
    "## Подготовка данных"
   ]
  },
  {
   "cell_type": "markdown",
   "metadata": {
    "collapsed": true
   },
   "source": [
    "!pip install -U transformers\n",
    "!pip install -U spacy\n",
    "import sys  \n",
    "!{sys.executable} -m pip install contractions"
   ]
  },
  {
   "cell_type": "markdown",
   "metadata": {},
   "source": [
    "!pip install torch\n",
    "!pip install transformers\n",
    "!pip install BERT"
   ]
  },
  {
   "cell_type": "code",
   "execution_count": 1,
   "metadata": {},
   "outputs": [],
   "source": [
    "import pandas as pd\n",
    "import numpy as np\n",
    "\n",
    "import matplotlib.pyplot as plt\n",
    "import seaborn as sns\n",
    "\n",
    "# NLP pre-processing\n",
    "import contractions\n",
    "import re\n",
    "from sklearn.feature_extraction.text import TfidfVectorizer\n",
    "import spacy\n",
    "\n",
    "# models\n",
    "from sklearn.model_selection import train_test_split\n",
    "from sklearn.linear_model import LogisticRegression\n",
    "from sklearn.ensemble import RandomForestClassifier\n",
    "from sklearn.model_selection import GridSearchCV\n",
    "from sklearn.pipeline import Pipeline\n",
    "\n",
    "import transformers\n",
    "import torch\n",
    "\n",
    "# metrics\n",
    "from sklearn.metrics import f1_score\n",
    "from sklearn.metrics import confusion_matrix\n",
    "\n",
    "#from tqdm import notebook \n",
    "\n",
    "#import warnings\n",
    "#warnings.filterwarnings(\"ignore\") "
   ]
  },
  {
   "cell_type": "code",
   "execution_count": 2,
   "metadata": {},
   "outputs": [],
   "source": [
    "STATE = 30"
   ]
  },
  {
   "cell_type": "code",
   "execution_count": 3,
   "metadata": {},
   "outputs": [],
   "source": [
    "def first_glance(*args):\n",
    "    '''\n",
    "    Downloads the data; \n",
    "    prints: \n",
    "            info, \n",
    "            5 random rows, \n",
    "            the number of duplicates, \n",
    "            missing values info.\n",
    "    \n",
    "    Parameters\n",
    "    ----------\n",
    "    *args: str\n",
    "        A list of possible csv file directories (only one of them will be used)\n",
    "    \n",
    "    Returns \n",
    "    ----------\n",
    "    DataFrame\n",
    "    \n",
    "    '''\n",
    "    for dir_name in args:\n",
    "        try:\n",
    "            data = pd.read_csv(dir_name)\n",
    "        except:\n",
    "            pass\n",
    "    \n",
    "    display('----------------Summary-----------------')\n",
    "    data.info()\n",
    "    \n",
    "    display('------------5 random rows---------------', \n",
    "            data.sample(5, random_state=STATE))\n",
    "    \n",
    "    display('-------The number of duplicates---------', \n",
    "            data.duplicated().sum())\n",
    "    \n",
    "    if data.isna().sum().sum() != 0:\n",
    "        # create dataframe with the number of nans by columns\n",
    "        na_values = data.isna().sum().to_frame().rename(columns = {0: 'missing_values'})\n",
    "        # add new column with nans percentage by columns\n",
    "        na_values['% of total'] = (na_values['missing_values'] / data.shape[0]).round(2)\n",
    "        # sort dataframe by the number of nans\n",
    "        display('--The number and percentage of NA values--',\n",
    "                na_values.sort_values(by = 'missing_values', ascending = False))\n",
    "        \n",
    "    return data"
   ]
  },
  {
   "cell_type": "code",
   "execution_count": 4,
   "metadata": {
    "scrolled": false
   },
   "outputs": [
    {
     "data": {
      "text/plain": [
       "'----------------Summary-----------------'"
      ]
     },
     "metadata": {},
     "output_type": "display_data"
    },
    {
     "name": "stdout",
     "output_type": "stream",
     "text": [
      "<class 'pandas.core.frame.DataFrame'>\n",
      "RangeIndex: 159571 entries, 0 to 159570\n",
      "Data columns (total 2 columns):\n",
      " #   Column  Non-Null Count   Dtype \n",
      "---  ------  --------------   ----- \n",
      " 0   text    159571 non-null  object\n",
      " 1   toxic   159571 non-null  int64 \n",
      "dtypes: int64(1), object(1)\n",
      "memory usage: 2.4+ MB\n"
     ]
    },
    {
     "data": {
      "text/plain": [
       "'------------5 random rows---------------'"
      ]
     },
     "metadata": {},
     "output_type": "display_data"
    },
    {
     "data": {
      "text/html": [
       "<div>\n",
       "<style scoped>\n",
       "    .dataframe tbody tr th:only-of-type {\n",
       "        vertical-align: middle;\n",
       "    }\n",
       "\n",
       "    .dataframe tbody tr th {\n",
       "        vertical-align: top;\n",
       "    }\n",
       "\n",
       "    .dataframe thead th {\n",
       "        text-align: right;\n",
       "    }\n",
       "</style>\n",
       "<table border=\"1\" class=\"dataframe\">\n",
       "  <thead>\n",
       "    <tr style=\"text-align: right;\">\n",
       "      <th></th>\n",
       "      <th>text</th>\n",
       "      <th>toxic</th>\n",
       "    </tr>\n",
       "  </thead>\n",
       "  <tbody>\n",
       "    <tr>\n",
       "      <th>135769</th>\n",
       "      <td>\"\\nThe Syrian army is now advancing on Aleppo ...</td>\n",
       "      <td>0</td>\n",
       "    </tr>\n",
       "    <tr>\n",
       "      <th>61266</th>\n",
       "      <td>Oppose there is zero benefit to readers, parti...</td>\n",
       "      <td>0</td>\n",
       "    </tr>\n",
       "    <tr>\n",
       "      <th>10599</th>\n",
       "      <td>File:Skin of Our Teeth Handbill.jpg.\\nYou have...</td>\n",
       "      <td>0</td>\n",
       "    </tr>\n",
       "    <tr>\n",
       "      <th>59039</th>\n",
       "      <td>Read before you speak.</td>\n",
       "      <td>0</td>\n",
       "    </tr>\n",
       "    <tr>\n",
       "      <th>117929</th>\n",
       "      <td>meatpuppets \\nHi I know you dont like me editi...</td>\n",
       "      <td>0</td>\n",
       "    </tr>\n",
       "  </tbody>\n",
       "</table>\n",
       "</div>"
      ],
      "text/plain": [
       "                                                     text  toxic\n",
       "135769  \"\\nThe Syrian army is now advancing on Aleppo ...      0\n",
       "61266   Oppose there is zero benefit to readers, parti...      0\n",
       "10599   File:Skin of Our Teeth Handbill.jpg.\\nYou have...      0\n",
       "59039                              Read before you speak.      0\n",
       "117929  meatpuppets \\nHi I know you dont like me editi...      0"
      ]
     },
     "metadata": {},
     "output_type": "display_data"
    },
    {
     "data": {
      "text/plain": [
       "'-------The number of duplicates---------'"
      ]
     },
     "metadata": {},
     "output_type": "display_data"
    },
    {
     "data": {
      "text/plain": [
       "0"
      ]
     },
     "metadata": {},
     "output_type": "display_data"
    }
   ],
   "source": [
    "data = first_glance('/datasets/toxic_comments.csv', 'toxic_comments.csv')\n",
    "display()"
   ]
  },
  {
   "cell_type": "code",
   "execution_count": 5,
   "metadata": {},
   "outputs": [
    {
     "name": "stdout",
     "output_type": "stream",
     "text": [
      "0    143346\n",
      "1     16225\n",
      "Name: toxic, dtype: int64\n"
     ]
    },
    {
     "data": {
      "image/png": "[encoded data removed]",
      "text/plain": [
       "<Figure size 432x288 with 1 Axes>"
      ]
     },
     "metadata": {
      "needs_background": "light"
     },
     "output_type": "display_data"
    }
   ],
   "source": [
    "class_frequency = data['toxic'].value_counts(normalize=False) \n",
    "print(class_frequency)\n",
    "class_frequency.plot(kind='bar')\n",
    "plt.show()"
   ]
  },
  {
   "cell_type": "code",
   "execution_count": 6,
   "metadata": {},
   "outputs": [],
   "source": [
    "df = data.copy()"
   ]
  },
  {
   "cell_type": "markdown",
   "metadata": {},
   "source": [
    "### Замена символов"
   ]
  },
  {
   "cell_type": "code",
   "execution_count": 7,
   "metadata": {
    "scrolled": false
   },
   "outputs": [
    {
     "data": {
      "text/html": [
       "<div>\n",
       "<style scoped>\n",
       "    .dataframe tbody tr th:only-of-type {\n",
       "        vertical-align: middle;\n",
       "    }\n",
       "\n",
       "    .dataframe tbody tr th {\n",
       "        vertical-align: top;\n",
       "    }\n",
       "\n",
       "    .dataframe thead th {\n",
       "        text-align: right;\n",
       "    }\n",
       "</style>\n",
       "<table border=\"1\" class=\"dataframe\">\n",
       "  <thead>\n",
       "    <tr style=\"text-align: right;\">\n",
       "      <th></th>\n",
       "      <th>text</th>\n",
       "      <th>toxic</th>\n",
       "      <th>clean</th>\n",
       "    </tr>\n",
       "  </thead>\n",
       "  <tbody>\n",
       "    <tr>\n",
       "      <th>0</th>\n",
       "      <td>Explanation\\nWhy the edits made under my usern...</td>\n",
       "      <td>0</td>\n",
       "      <td>explanation why the edits made under my userna...</td>\n",
       "    </tr>\n",
       "    <tr>\n",
       "      <th>1</th>\n",
       "      <td>D'aww! He matches this background colour I'm s...</td>\n",
       "      <td>0</td>\n",
       "      <td>d'aww  he matches this background colour i'm s...</td>\n",
       "    </tr>\n",
       "    <tr>\n",
       "      <th>2</th>\n",
       "      <td>Hey man, I'm really not trying to edit war. It...</td>\n",
       "      <td>0</td>\n",
       "      <td>hey man, i'm really not trying to edit war  it...</td>\n",
       "    </tr>\n",
       "    <tr>\n",
       "      <th>3</th>\n",
       "      <td>\"\\nMore\\nI can't make any real suggestions on ...</td>\n",
       "      <td>0</td>\n",
       "      <td>\" more i can't make any real suggestions on im...</td>\n",
       "    </tr>\n",
       "    <tr>\n",
       "      <th>4</th>\n",
       "      <td>You, sir, are my hero. Any chance you remember...</td>\n",
       "      <td>0</td>\n",
       "      <td>you, sir, are my hero  any chance you remember...</td>\n",
       "    </tr>\n",
       "  </tbody>\n",
       "</table>\n",
       "</div>"
      ],
      "text/plain": [
       "                                                text  toxic  \\\n",
       "0  Explanation\\nWhy the edits made under my usern...      0   \n",
       "1  D'aww! He matches this background colour I'm s...      0   \n",
       "2  Hey man, I'm really not trying to edit war. It...      0   \n",
       "3  \"\\nMore\\nI can't make any real suggestions on ...      0   \n",
       "4  You, sir, are my hero. Any chance you remember...      0   \n",
       "\n",
       "                                               clean  \n",
       "0  explanation why the edits made under my userna...  \n",
       "1  d'aww  he matches this background colour i'm s...  \n",
       "2  hey man, i'm really not trying to edit war  it...  \n",
       "3  \" more i can't make any real suggestions on im...  \n",
       "4  you, sir, are my hero  any chance you remember...  "
      ]
     },
     "execution_count": 7,
     "metadata": {},
     "output_type": "execute_result"
    }
   ],
   "source": [
    "def replace_text(df, column, new_column):\n",
    "    df[new_column] = df[column].str.replace(r\"http\\S+\", \"\", regex=True)\n",
    "    df[new_column] = df[new_column].str.replace(r\"http\", \"\")\n",
    "    df[new_column] = df[new_column].str.replace(r\"@\\S+\", \"\", regex=True)\n",
    "    df[new_column] = df[new_column].str.replace(r\"[^A-Za-z,\\'\\\"]\", \" \", regex=True)\n",
    "    df[new_column] = df[new_column].str.lower()\n",
    "    \n",
    "    return df\n",
    "\n",
    "replace_text(df, \"text\", \"clean\")\n",
    "df.head()"
   ]
  },
  {
   "cell_type": "markdown",
   "metadata": {},
   "source": [
    "### Сокращения в полные слова"
   ]
  },
  {
   "cell_type": "code",
   "execution_count": 8,
   "metadata": {},
   "outputs": [],
   "source": [
    "expanded = []\n",
    "for row in df['clean']:\n",
    "    expanded_row = []\n",
    "\n",
    "    for word in row.split():\n",
    "        expanded_row.append(contractions.fix(word))\n",
    "        \n",
    "    expanded.append(' '.join(expanded_row))"
   ]
  },
  {
   "cell_type": "code",
   "execution_count": 9,
   "metadata": {},
   "outputs": [
    {
     "data": {
      "text/html": [
       "<div>\n",
       "<style scoped>\n",
       "    .dataframe tbody tr th:only-of-type {\n",
       "        vertical-align: middle;\n",
       "    }\n",
       "\n",
       "    .dataframe tbody tr th {\n",
       "        vertical-align: top;\n",
       "    }\n",
       "\n",
       "    .dataframe thead th {\n",
       "        text-align: right;\n",
       "    }\n",
       "</style>\n",
       "<table border=\"1\" class=\"dataframe\">\n",
       "  <thead>\n",
       "    <tr style=\"text-align: right;\">\n",
       "      <th></th>\n",
       "      <th>text</th>\n",
       "      <th>toxic</th>\n",
       "      <th>clean</th>\n",
       "    </tr>\n",
       "  </thead>\n",
       "  <tbody>\n",
       "    <tr>\n",
       "      <th>0</th>\n",
       "      <td>Explanation\\nWhy the edits made under my usern...</td>\n",
       "      <td>0</td>\n",
       "      <td>explanation why the edits made under my userna...</td>\n",
       "    </tr>\n",
       "    <tr>\n",
       "      <th>1</th>\n",
       "      <td>D'aww! He matches this background colour I'm s...</td>\n",
       "      <td>0</td>\n",
       "      <td>d'aww he matches this background colour I am s...</td>\n",
       "    </tr>\n",
       "    <tr>\n",
       "      <th>2</th>\n",
       "      <td>Hey man, I'm really not trying to edit war. It...</td>\n",
       "      <td>0</td>\n",
       "      <td>hey man, I am really not trying to edit war it...</td>\n",
       "    </tr>\n",
       "    <tr>\n",
       "      <th>3</th>\n",
       "      <td>\"\\nMore\\nI can't make any real suggestions on ...</td>\n",
       "      <td>0</td>\n",
       "      <td>\" more i cannot make any real suggestions on i...</td>\n",
       "    </tr>\n",
       "    <tr>\n",
       "      <th>4</th>\n",
       "      <td>You, sir, are my hero. Any chance you remember...</td>\n",
       "      <td>0</td>\n",
       "      <td>you, sir, are my hero any chance you remember ...</td>\n",
       "    </tr>\n",
       "  </tbody>\n",
       "</table>\n",
       "</div>"
      ],
      "text/plain": [
       "                                                text  toxic  \\\n",
       "0  Explanation\\nWhy the edits made under my usern...      0   \n",
       "1  D'aww! He matches this background colour I'm s...      0   \n",
       "2  Hey man, I'm really not trying to edit war. It...      0   \n",
       "3  \"\\nMore\\nI can't make any real suggestions on ...      0   \n",
       "4  You, sir, are my hero. Any chance you remember...      0   \n",
       "\n",
       "                                               clean  \n",
       "0  explanation why the edits made under my userna...  \n",
       "1  d'aww he matches this background colour I am s...  \n",
       "2  hey man, I am really not trying to edit war it...  \n",
       "3  \" more i cannot make any real suggestions on i...  \n",
       "4  you, sir, are my hero any chance you remember ...  "
      ]
     },
     "execution_count": 9,
     "metadata": {},
     "output_type": "execute_result"
    }
   ],
   "source": [
    "df['clean'] = pd.Series(expanded, index=df.index)\n",
    "df.head()"
   ]
  },
  {
   "cell_type": "markdown",
   "metadata": {},
   "source": [
    "### Лемматизация"
   ]
  },
  {
   "cell_type": "code",
   "execution_count": 10,
   "metadata": {
    "scrolled": false
   },
   "outputs": [],
   "source": [
    "nlp = spacy.load('en_core_web_sm')"
   ]
  },
  {
   "cell_type": "code",
   "execution_count": 11,
   "metadata": {},
   "outputs": [],
   "source": [
    "def pipe_lemmas(rows):\n",
    "    clean_rows = []\n",
    "    for row in nlp.pipe(rows, batch_size=32, n_process=4):\n",
    "        # removing stop words and getting lemmas\n",
    "        clean_rows.append([token.lemma_ for token in row if not token.is_stop and not token.is_punct])\n",
    "    \n",
    "    return clean_rows"
   ]
  },
  {
   "cell_type": "code",
   "execution_count": 12,
   "metadata": {
    "scrolled": true
   },
   "outputs": [
    {
     "data": {
      "text/html": [
       "<div>\n",
       "<style scoped>\n",
       "    .dataframe tbody tr th:only-of-type {\n",
       "        vertical-align: middle;\n",
       "    }\n",
       "\n",
       "    .dataframe tbody tr th {\n",
       "        vertical-align: top;\n",
       "    }\n",
       "\n",
       "    .dataframe thead th {\n",
       "        text-align: right;\n",
       "    }\n",
       "</style>\n",
       "<table border=\"1\" class=\"dataframe\">\n",
       "  <thead>\n",
       "    <tr style=\"text-align: right;\">\n",
       "      <th></th>\n",
       "      <th>text</th>\n",
       "      <th>toxic</th>\n",
       "      <th>clean</th>\n",
       "    </tr>\n",
       "  </thead>\n",
       "  <tbody>\n",
       "    <tr>\n",
       "      <th>0</th>\n",
       "      <td>Explanation\\nWhy the edits made under my usern...</td>\n",
       "      <td>0</td>\n",
       "      <td>[explanation, edit, username, hardcore, metall...</td>\n",
       "    </tr>\n",
       "    <tr>\n",
       "      <th>1</th>\n",
       "      <td>D'aww! He matches this background colour I'm s...</td>\n",
       "      <td>0</td>\n",
       "      <td>[d'aww, match, background, colour, seemingly, ...</td>\n",
       "    </tr>\n",
       "    <tr>\n",
       "      <th>2</th>\n",
       "      <td>Hey man, I'm really not trying to edit war. It...</td>\n",
       "      <td>0</td>\n",
       "      <td>[hey, man, try, edit, war, guy, constantly, re...</td>\n",
       "    </tr>\n",
       "    <tr>\n",
       "      <th>3</th>\n",
       "      <td>\"\\nMore\\nI can't make any real suggestions on ...</td>\n",
       "      <td>0</td>\n",
       "      <td>[real, suggestion, improvement, wonder, sectio...</td>\n",
       "    </tr>\n",
       "    <tr>\n",
       "      <th>4</th>\n",
       "      <td>You, sir, are my hero. Any chance you remember...</td>\n",
       "      <td>0</td>\n",
       "      <td>[sir, hero, chance, remember, page]</td>\n",
       "    </tr>\n",
       "  </tbody>\n",
       "</table>\n",
       "</div>"
      ],
      "text/plain": [
       "                                                text  toxic  \\\n",
       "0  Explanation\\nWhy the edits made under my usern...      0   \n",
       "1  D'aww! He matches this background colour I'm s...      0   \n",
       "2  Hey man, I'm really not trying to edit war. It...      0   \n",
       "3  \"\\nMore\\nI can't make any real suggestions on ...      0   \n",
       "4  You, sir, are my hero. Any chance you remember...      0   \n",
       "\n",
       "                                               clean  \n",
       "0  [explanation, edit, username, hardcore, metall...  \n",
       "1  [d'aww, match, background, colour, seemingly, ...  \n",
       "2  [hey, man, try, edit, war, guy, constantly, re...  \n",
       "3  [real, suggestion, improvement, wonder, sectio...  \n",
       "4                [sir, hero, chance, remember, page]  "
      ]
     },
     "execution_count": 12,
     "metadata": {},
     "output_type": "execute_result"
    }
   ],
   "source": [
    "df['clean'] = pipe_lemmas(df['clean'])\n",
    "df.head()"
   ]
  },
  {
   "cell_type": "markdown",
   "metadata": {},
   "source": [
    "### Подготовка выборок"
   ]
  },
  {
   "cell_type": "code",
   "execution_count": 13,
   "metadata": {},
   "outputs": [
    {
     "name": "stdout",
     "output_type": "stream",
     "text": [
      "4816194 words total, with a vocabulary size of 147235\n",
      "Max sentence length is 1250\n"
     ]
    }
   ],
   "source": [
    "all_words = [word for row in df['clean'] for word in row]\n",
    "sentence_lengths = [len(row) for row in df['clean']]\n",
    "vocabulary = sorted(list(set(all_words)))\n",
    "print(f\"{len(all_words)} words total, with a vocabulary size of {len(vocabulary)}\")\n",
    "print(f\"Max sentence length is {max(sentence_lengths)}\")"
   ]
  },
  {
   "cell_type": "code",
   "execution_count": 14,
   "metadata": {
    "scrolled": false
   },
   "outputs": [
    {
     "data": {
      "image/png": "[encoded data removed]",
      "text/plain": [
       "<Figure size 720x432 with 1 Axes>"
      ]
     },
     "metadata": {
      "needs_background": "light"
     },
     "output_type": "display_data"
    }
   ],
   "source": [
    "fig = plt.figure(figsize=(10, 6))\n",
    "plt.xlabel('Sentence length')\n",
    "plt.ylabel('Number of sentences')\n",
    "sns.histplot(sentence_lengths, kde=False)\n",
    "plt.axis([0, 150, 0, 7500])\n",
    "plt.show()"
   ]
  },
  {
   "cell_type": "code",
   "execution_count": 15,
   "metadata": {},
   "outputs": [],
   "source": [
    "features = df['clean']\n",
    "features = features.str.join(' ')"
   ]
  },
  {
   "cell_type": "code",
   "execution_count": 16,
   "metadata": {
    "scrolled": true
   },
   "outputs": [
    {
     "name": "stdout",
     "output_type": "stream",
     "text": [
      "(111699,)\n",
      "(47872,)\n"
     ]
    }
   ],
   "source": [
    "features_train, features_test, target_train, target_test = train_test_split(\n",
    "                                features, df['toxic'],\n",
    "                                test_size=.3, random_state=STATE)\n",
    "\n",
    "print(features_train.shape)\n",
    "print(features_test.shape)"
   ]
  },
  {
   "cell_type": "code",
   "execution_count": 17,
   "metadata": {},
   "outputs": [
    {
     "data": {
      "text/plain": [
       "(111699,)"
      ]
     },
     "execution_count": 17,
     "metadata": {},
     "output_type": "execute_result"
    }
   ],
   "source": [
    "target_train.shape"
   ]
  },
  {
   "cell_type": "markdown",
   "metadata": {},
   "source": [
    "### Vectorization"
   ]
  },
  {
   "cell_type": "code",
   "execution_count": 18,
   "metadata": {},
   "outputs": [
    {
     "data": {
      "text/plain": [
       "TfidfVectorizer(ngram_range=(1, 3))"
      ]
     },
     "execution_count": 18,
     "metadata": {},
     "output_type": "execute_result"
    }
   ],
   "source": [
    "tfidf_vec = TfidfVectorizer(ngram_range=(1, 3))\n",
    "tfidf_vec.fit(features)"
   ]
  },
  {
   "cell_type": "code",
   "execution_count": 19,
   "metadata": {},
   "outputs": [
    {
     "name": "stdout",
     "output_type": "stream",
     "text": [
      "(111699, 5922621)\n",
      "(47872, 5922621)\n"
     ]
    }
   ],
   "source": [
    "features_train_tfidf = tfidf_vec.transform(features_train)\n",
    "features_test_tfidf = tfidf_vec.transform(features_test)\n",
    "\n",
    "print(features_train_tfidf.shape)\n",
    "print(features_test_tfidf.shape)"
   ]
  },
  {
   "cell_type": "markdown",
   "metadata": {},
   "source": [
    "### Вывод"
   ]
  },
  {
   "cell_type": "markdown",
   "metadata": {},
   "source": [
    "Имеется файл с данными, которых содержит 159571 объектов и два столбца: исходный текст комментария и целевой признак. Пропуски отсутствуют. \n",
    "\n",
    "Целевой признак несбалансирован - одно из значений почти в 9 раз меньше другого.\n",
    "\n",
    "Проведена предобработка данных:\n",
    "\n",
    "* удалены лишние символы и буквосочетания;\n",
    "* развернуты сокращения;\n",
    "* проведена лемматизация с удалением стоп-слов;\n",
    "* исследована длина комментариев и общее количество слов (159571 и 8750 соответственно);\n",
    "* выделен целевой признак;\n",
    "* данные разделены на обучающую и тестовую выборки;\n",
    "* данные преобразованы в векторы с использованием TF-IDF метода, который позволяет учесть частоту слов в корпусе и тексте."
   ]
  },
  {
   "cell_type": "markdown",
   "metadata": {},
   "source": [
    "## Модели"
   ]
  },
  {
   "cell_type": "markdown",
   "metadata": {},
   "source": [
    "### Logistic Regression"
   ]
  },
  {
   "cell_type": "code",
   "execution_count": 20,
   "metadata": {},
   "outputs": [
    {
     "name": "stdout",
     "output_type": "stream",
     "text": [
      "Fitting 5 folds for each of 40 candidates, totalling 200 fits\n",
      "best parameters {'classifier': LogisticRegression(C=4.281332398719396, penalty='l1', solver='liblinear'), 'classifier__C': 4.281332398719396, 'classifier__penalty': 'l1', 'classifier__solver': 'liblinear'}\n"
     ]
    }
   ],
   "source": [
    "pipe = Pipeline([(\"vectorizer\", TfidfVectorizer()),\n",
    "                 ('classifier' , LogisticRegression(class_weight='balanced', \n",
    "                                                    n_jobs=-1, \n",
    "                                                    random_state=STATE))])\n",
    "\n",
    "param_grid = [\n",
    "              {'classifier' : [LogisticRegression()],\n",
    "               'classifier__penalty' : ['l1', 'l2'],\n",
    "               'classifier__C' : np.logspace(-4, 4, 20),\n",
    "               'classifier__solver' : ['liblinear']}\n",
    "             ]\n",
    "\n",
    "clf = GridSearchCV(pipe, param_grid=param_grid, \n",
    "                   cv = 5, scoring='f1',\n",
    "                   verbose=True, n_jobs=-1)\n",
    "\n",
    "best_log_reg = clf.fit(features_train, target_train)\n",
    "print('best parameters', best_log_reg.best_params_)"
   ]
  },
  {
   "cell_type": "code",
   "execution_count": 21,
   "metadata": {},
   "outputs": [
    {
     "name": "stdout",
     "output_type": "stream",
     "text": [
      "f1_test 0.7943833678023294\n",
      "f1_train 0.8949668687438319\n",
      "best parameters {'classifier': LogisticRegression(C=4.281332398719396, penalty='l1', solver='liblinear'), 'classifier__C': 4.281332398719396, 'classifier__penalty': 'l1', 'classifier__solver': 'liblinear'}\n"
     ]
    }
   ],
   "source": [
    "predicted_test_log = best_log_reg.predict(features_test)\n",
    "f1_test_log = f1_score(target_test, predicted_test_log)\n",
    "print('f1_test', f1_test_log)\n",
    "\n",
    "predicted_train_log = best_log_reg.predict(features_train)\n",
    "f1_train_log = f1_score(target_train, predicted_train_log)\n",
    "print('f1_train', f1_train_log)\n",
    "\n",
    "print('best parameters', best_log_reg.best_params_)"
   ]
  },
  {
   "cell_type": "code",
   "execution_count": 22,
   "metadata": {},
   "outputs": [],
   "source": [
    "def plot_confusion_matrix(cm, classes,\n",
    "                          normalize=False,\n",
    "                          title='Confusion matrix',\n",
    "                          cmap=plt.cm.winter):\n",
    "    \n",
    "    cm_df = pd.DataFrame(cm, columns=classes, index = classes)\n",
    "    cm_df.index.name = 'Actual'\n",
    "    cm_df.columns.name = 'Predicted'\n",
    "    plt.figure(figsize = (9, 6))\n",
    "    sns.set(font_scale=1.4) # label size\n",
    "    ax =sns.heatmap(cm_df, cmap=cmap, annot=True, \n",
    "                    annot_kws={\"size\": 16},fmt=\"d\") # font size\n",
    "    plt.title(title)\n",
    "    bottom, top = ax.get_ylim()\n",
    "    plt.show()"
   ]
  },
  {
   "cell_type": "code",
   "execution_count": 23,
   "metadata": {},
   "outputs": [
    {
     "data": {
      "image/png": "[encoded data removed]",
      "text/plain": [
       "<Figure size 648x432 with 2 Axes>"
      ]
     },
     "metadata": {
      "needs_background": "light"
     },
     "output_type": "display_data"
    }
   ],
   "source": [
    "cm = confusion_matrix(target_test, predicted_test_log)\n",
    "plot_confusion_matrix(cm, classes=['Non-toxic','Toxic'], normalize=False, \n",
    "                      title='Confusion matrix')"
   ]
  },
  {
   "cell_type": "markdown",
   "metadata": {},
   "source": [
    "### Random Forest"
   ]
  },
  {
   "cell_type": "code",
   "execution_count": 24,
   "metadata": {},
   "outputs": [
    {
     "name": "stdout",
     "output_type": "stream",
     "text": [
      "best parameters {'classifier': RandomForestClassifier(max_depth=1, n_estimators=50), 'classifier__max_depth': 1, 'classifier__n_estimators': 50}\n"
     ]
    }
   ],
   "source": [
    "forest_pipe=Pipeline(\n",
    "                [(\"vectorizer\", TfidfVectorizer(ngram_range=(1, 3))),\n",
    "                (\"classifier\", RandomForestClassifier(random_state=STATE, \n",
    "                             class_weight='balanced'))]\n",
    "                    )\n",
    "\n",
    "parameters = [\n",
    "             {'classifier' : [RandomForestClassifier()],\n",
    "              'classifier__n_estimators': range (50, 150, 20),\n",
    "              'classifier__max_depth': range (1, 13, 2)}\n",
    "             ]\n",
    "\n",
    "clf = GridSearchCV(forest_pipe, param_grid=parameters, \n",
    "                           scoring='f1', \n",
    "                           cv=5, n_jobs=-1)\n",
    "\n",
    "best_forest = clf.fit(features_train, target_train)\n",
    "print('best parameters', clf.best_params_)"
   ]
  },
  {
   "cell_type": "code",
   "execution_count": 25,
   "metadata": {},
   "outputs": [
    {
     "name": "stdout",
     "output_type": "stream",
     "text": [
      "f1_test 0.2071984863818366\n",
      "f1_train 0.20062275901113416\n"
     ]
    }
   ],
   "source": [
    "forest_clf = RandomForestClassifier(n_estimators=50, \n",
    "                                   max_depth=1,\n",
    "                                   n_jobs=-1,\n",
    "                                   class_weight='balanced',\n",
    "                                   random_state=STATE)\n",
    "\n",
    "forest_clf.fit(features_train_tfidf, target_train)\n",
    "\n",
    "predicted_test_forest = forest_clf.predict(features_test_tfidf)\n",
    "f1_test_forest = f1_score(target_test, predicted_test_forest)\n",
    "print('f1_test', f1_test_forest)\n",
    "\n",
    "predicted_train_forest = forest_clf.predict(features_train_tfidf)\n",
    "f1_train_forest = f1_score(target_train, predicted_train_forest)\n",
    "print('f1_train', f1_train_forest)"
   ]
  },
  {
   "cell_type": "code",
   "execution_count": 26,
   "metadata": {},
   "outputs": [
    {
     "data": {
      "image/png": "[encoded data removed]",
      "text/plain": [
       "<Figure size 648x432 with 2 Axes>"
      ]
     },
     "metadata": {},
     "output_type": "display_data"
    }
   ],
   "source": [
    "cm2 = confusion_matrix(target_test, predicted_test_forest)\n",
    "plot_confusion_matrix(cm2, classes=['Non-toxic','Toxic'], normalize=False, \n",
    "                      title='Confusion matrix')"
   ]
  },
  {
   "cell_type": "markdown",
   "metadata": {},
   "source": [
    "### Вывод"
   ]
  },
  {
   "cell_type": "markdown",
   "metadata": {},
   "source": [
    "Обучены и протестированы две модели - логистическая регрессия и случайный лес с использованием гиперпараметра баланса целевого класса.\n",
    "Построены матрицы ошибок для каждой модели."
   ]
  },
  {
   "cell_type": "markdown",
   "metadata": {},
   "source": [
    "## Общий вывод"
   ]
  },
  {
   "cell_type": "code",
   "execution_count": 27,
   "metadata": {
    "scrolled": true
   },
   "outputs": [
    {
     "data": {
      "text/html": [
       "<div>\n",
       "<style scoped>\n",
       "    .dataframe tbody tr th:only-of-type {\n",
       "        vertical-align: middle;\n",
       "    }\n",
       "\n",
       "    .dataframe tbody tr th {\n",
       "        vertical-align: top;\n",
       "    }\n",
       "\n",
       "    .dataframe thead th {\n",
       "        text-align: right;\n",
       "    }\n",
       "</style>\n",
       "<table border=\"1\" class=\"dataframe\">\n",
       "  <thead>\n",
       "    <tr style=\"text-align: right;\">\n",
       "      <th></th>\n",
       "      <th>F1 train</th>\n",
       "      <th>F1 test</th>\n",
       "    </tr>\n",
       "  </thead>\n",
       "  <tbody>\n",
       "    <tr>\n",
       "      <th>Logistic_Regression</th>\n",
       "      <td>0.894967</td>\n",
       "      <td>0.794383</td>\n",
       "    </tr>\n",
       "    <tr>\n",
       "      <th>Random_Forest</th>\n",
       "      <td>0.200623</td>\n",
       "      <td>0.207198</td>\n",
       "    </tr>\n",
       "  </tbody>\n",
       "</table>\n",
       "</div>"
      ],
      "text/plain": [
       "                     F1 train   F1 test\n",
       "Logistic_Regression  0.894967  0.794383\n",
       "Random_Forest        0.200623  0.207198"
      ]
     },
     "execution_count": 27,
     "metadata": {},
     "output_type": "execute_result"
    }
   ],
   "source": [
    "pd.DataFrame(data=[[f1_train_log,\n",
    "                   f1_test_log],\n",
    "                   [f1_train_forest,\n",
    "                   f1_test_forest]],\n",
    "            columns=['F1 train', 'F1 test'],\n",
    "            index=['Logistic_Regression',\n",
    "                  'Random_Forest'])"
   ]
  },
  {
   "cell_type": "markdown",
   "metadata": {},
   "source": [
    "Построены модели предсказаний целевых признаков. В качестве основной метрики была использована метрика f1 (среднее гармоническое полноты и точности).\n",
    "\n",
    "По итогам тестирования выбрана модель логистической регрессии, т.к. она дала лучший показатель метрики f1 - 0.79 на тестовой выборке.\n",
    "\n",
    "Модель классифицирует комментарии на негативные (\"toxic\") и нейтральные, что позволит эффективно модерировать описания к товарам онлайн магазина и поможет покупателям быстрее определиться с покупкой в комфортной среде."
   ]
  }
 ],
 "metadata": {
  "ExecuteTimeLog": [
   {
    "duration": 2181,
    "start_time": "2021-11-19T08:33:27.768Z"
   },
   {
    "duration": -568,
    "start_time": "2021-11-19T08:33:30.520Z"
   },
   {
    "duration": -570,
    "start_time": "2021-11-19T08:33:30.523Z"
   },
   {
    "duration": -606,
    "start_time": "2021-11-19T08:33:30.559Z"
   },
   {
    "duration": 66,
    "start_time": "2021-11-19T08:33:50.952Z"
   },
   {
    "duration": 3,
    "start_time": "2021-11-19T08:33:51.635Z"
   },
   {
    "duration": 5,
    "start_time": "2021-11-19T08:33:52.278Z"
   },
   {
    "duration": 3900,
    "start_time": "2021-11-19T08:33:52.924Z"
   },
   {
    "duration": 106,
    "start_time": "2021-11-30T12:30:55.026Z"
   }
  ],
  "kernelspec": {
   "display_name": "Python 3",
   "language": "python",
   "name": "python3"
  },
  "language_info": {
   "codemirror_mode": {
    "name": "ipython",
    "version": 3
   },
   "file_extension": ".py",
   "mimetype": "text/x-python",
   "name": "python",
   "nbconvert_exporter": "python",
   "pygments_lexer": "ipython3",
   "version": "3.8.8"
  },
  "toc": {
   "base_numbering": 1,
   "nav_menu": {},
   "number_sections": true,
   "sideBar": true,
   "skip_h1_title": true,
   "title_cell": "Содержание",
   "title_sidebar": "Contents",
   "toc_cell": true,
   "toc_position": {
    "height": "calc(100% - 180px)",
    "left": "10px",
    "top": "150px",
    "width": "302.388px"
   },
   "toc_section_display": true,
   "toc_window_display": false
  }
 },
 "nbformat": 4,
 "nbformat_minor": 2
}
